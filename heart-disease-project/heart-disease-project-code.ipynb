{
 "cells": [
  {
   "cell_type": "markdown",
   "metadata": {},
   "source": [
    "# About Dataset heart_disease_data.csv"
   ]
  },
  {
   "cell_type": "markdown",
   "metadata": {},
   "source": [
    "The dataset is in .csv (Comma Seperated Values) format and contains 200 rows with 14 features as explained below:\n",
    "    1. Age: age of the patient (in years).\n",
    "    2. sex: gender of the patient (1-Male, 0-Female).\n",
    "    3. cp: chest pain type (1: typical angina, 2: atypical angina, 3: non-anginal pain, 4: asymptomatic).\n",
    "    4. trestbps: resting blood pressure (in mm Hg on admission to the hospital).\n",
    "    5. chol: serum cholestoral in mg/dl.\n",
    "    6. fbs: (fasting blood sugar > 120 mg/dl) (1 = true; 0 = false).\n",
    "    7. restecg: resting electrocardiographic results (0: normal, 1: having ST-T wave abnormality, 2: showing probable or definite left ventricular hypertrophy by Estes' criteria).\n",
    "    8. thalach: maximum heart rate achieved.\n",
    "    9. exang: exercise induced angina (1 = yes; 0 = no).\n",
    "    10. oldpeak: ST depression induced by exercise relative to rest.\n",
    "    11. slope: the slope of the peak exercise ST segment (1: upsloping, 2: flat, 3: downsloping)\n",
    "    12. ca: number of major vessels (0-3) colored by flourosopy.\n",
    "    12. thal: 3 = normal; 6 = fixed defect; 7 = reversable defect\n",
    "    14. num: status of cancer in patient (presence value 1 to 4 and 0 for no cancer)\n",
    "Since the target feature num is of categorical type, therefore, it is a classification problem."
   ]
  },
  {
   "cell_type": "markdown",
   "metadata": {},
   "source": [
    "# Loading Dataset"
   ]
  },
  {
   "cell_type": "code",
   "execution_count": 1,
   "metadata": {},
   "outputs": [
    {
     "data": {
      "text/html": [
       "<div>\n",
       "<style scoped>\n",
       "    .dataframe tbody tr th:only-of-type {\n",
       "        vertical-align: middle;\n",
       "    }\n",
       "\n",
       "    .dataframe tbody tr th {\n",
       "        vertical-align: top;\n",
       "    }\n",
       "\n",
       "    .dataframe thead th {\n",
       "        text-align: right;\n",
       "    }\n",
       "</style>\n",
       "<table border=\"1\" class=\"dataframe\">\n",
       "  <thead>\n",
       "    <tr style=\"text-align: right;\">\n",
       "      <th></th>\n",
       "      <th>age</th>\n",
       "      <th>sex</th>\n",
       "      <th>cp</th>\n",
       "      <th>trestbps</th>\n",
       "      <th>chol</th>\n",
       "      <th>fbs</th>\n",
       "      <th>restecg</th>\n",
       "      <th>thalach</th>\n",
       "      <th>exang</th>\n",
       "      <th>oldpeak</th>\n",
       "      <th>slope</th>\n",
       "      <th>ca</th>\n",
       "      <th>thal</th>\n",
       "      <th>num</th>\n",
       "    </tr>\n",
       "  </thead>\n",
       "  <tbody>\n",
       "    <tr>\n",
       "      <th>0</th>\n",
       "      <td>63</td>\n",
       "      <td>1</td>\n",
       "      <td>4</td>\n",
       "      <td>140</td>\n",
       "      <td>260</td>\n",
       "      <td>0</td>\n",
       "      <td>1</td>\n",
       "      <td>112</td>\n",
       "      <td>1</td>\n",
       "      <td>3</td>\n",
       "      <td>2</td>\n",
       "      <td>?</td>\n",
       "      <td>?</td>\n",
       "      <td>2</td>\n",
       "    </tr>\n",
       "    <tr>\n",
       "      <th>1</th>\n",
       "      <td>44</td>\n",
       "      <td>1</td>\n",
       "      <td>4</td>\n",
       "      <td>130</td>\n",
       "      <td>209</td>\n",
       "      <td>0</td>\n",
       "      <td>1</td>\n",
       "      <td>127</td>\n",
       "      <td>0</td>\n",
       "      <td>0</td>\n",
       "      <td>?</td>\n",
       "      <td>?</td>\n",
       "      <td>?</td>\n",
       "      <td>0</td>\n",
       "    </tr>\n",
       "    <tr>\n",
       "      <th>2</th>\n",
       "      <td>60</td>\n",
       "      <td>1</td>\n",
       "      <td>4</td>\n",
       "      <td>132</td>\n",
       "      <td>218</td>\n",
       "      <td>0</td>\n",
       "      <td>1</td>\n",
       "      <td>140</td>\n",
       "      <td>1</td>\n",
       "      <td>1.5</td>\n",
       "      <td>3</td>\n",
       "      <td>?</td>\n",
       "      <td>?</td>\n",
       "      <td>2</td>\n",
       "    </tr>\n",
       "    <tr>\n",
       "      <th>3</th>\n",
       "      <td>55</td>\n",
       "      <td>1</td>\n",
       "      <td>4</td>\n",
       "      <td>142</td>\n",
       "      <td>228</td>\n",
       "      <td>0</td>\n",
       "      <td>1</td>\n",
       "      <td>149</td>\n",
       "      <td>1</td>\n",
       "      <td>2.5</td>\n",
       "      <td>1</td>\n",
       "      <td>?</td>\n",
       "      <td>?</td>\n",
       "      <td>1</td>\n",
       "    </tr>\n",
       "    <tr>\n",
       "      <th>4</th>\n",
       "      <td>66</td>\n",
       "      <td>1</td>\n",
       "      <td>3</td>\n",
       "      <td>110</td>\n",
       "      <td>213</td>\n",
       "      <td>1</td>\n",
       "      <td>2</td>\n",
       "      <td>99</td>\n",
       "      <td>1</td>\n",
       "      <td>1.3</td>\n",
       "      <td>2</td>\n",
       "      <td>?</td>\n",
       "      <td>?</td>\n",
       "      <td>0</td>\n",
       "    </tr>\n",
       "    <tr>\n",
       "      <th>...</th>\n",
       "      <td>...</td>\n",
       "      <td>...</td>\n",
       "      <td>...</td>\n",
       "      <td>...</td>\n",
       "      <td>...</td>\n",
       "      <td>...</td>\n",
       "      <td>...</td>\n",
       "      <td>...</td>\n",
       "      <td>...</td>\n",
       "      <td>...</td>\n",
       "      <td>...</td>\n",
       "      <td>...</td>\n",
       "      <td>...</td>\n",
       "      <td>...</td>\n",
       "    </tr>\n",
       "    <tr>\n",
       "      <th>195</th>\n",
       "      <td>54</td>\n",
       "      <td>0</td>\n",
       "      <td>4</td>\n",
       "      <td>127</td>\n",
       "      <td>333</td>\n",
       "      <td>1</td>\n",
       "      <td>1</td>\n",
       "      <td>154</td>\n",
       "      <td>0</td>\n",
       "      <td>0</td>\n",
       "      <td>?</td>\n",
       "      <td>?</td>\n",
       "      <td>?</td>\n",
       "      <td>1</td>\n",
       "    </tr>\n",
       "    <tr>\n",
       "      <th>196</th>\n",
       "      <td>62</td>\n",
       "      <td>1</td>\n",
       "      <td>1</td>\n",
       "      <td>?</td>\n",
       "      <td>139</td>\n",
       "      <td>0</td>\n",
       "      <td>1</td>\n",
       "      <td>?</td>\n",
       "      <td>?</td>\n",
       "      <td>?</td>\n",
       "      <td>?</td>\n",
       "      <td>?</td>\n",
       "      <td>?</td>\n",
       "      <td>0</td>\n",
       "    </tr>\n",
       "    <tr>\n",
       "      <th>197</th>\n",
       "      <td>55</td>\n",
       "      <td>1</td>\n",
       "      <td>4</td>\n",
       "      <td>122</td>\n",
       "      <td>223</td>\n",
       "      <td>1</td>\n",
       "      <td>1</td>\n",
       "      <td>100</td>\n",
       "      <td>0</td>\n",
       "      <td>0</td>\n",
       "      <td>?</td>\n",
       "      <td>?</td>\n",
       "      <td>6</td>\n",
       "      <td>2</td>\n",
       "    </tr>\n",
       "    <tr>\n",
       "      <th>198</th>\n",
       "      <td>58</td>\n",
       "      <td>1</td>\n",
       "      <td>4</td>\n",
       "      <td>?</td>\n",
       "      <td>385</td>\n",
       "      <td>1</td>\n",
       "      <td>2</td>\n",
       "      <td>?</td>\n",
       "      <td>?</td>\n",
       "      <td>?</td>\n",
       "      <td>?</td>\n",
       "      <td>?</td>\n",
       "      <td>?</td>\n",
       "      <td>0</td>\n",
       "    </tr>\n",
       "    <tr>\n",
       "      <th>199</th>\n",
       "      <td>62</td>\n",
       "      <td>1</td>\n",
       "      <td>2</td>\n",
       "      <td>120</td>\n",
       "      <td>254</td>\n",
       "      <td>0</td>\n",
       "      <td>2</td>\n",
       "      <td>93</td>\n",
       "      <td>1</td>\n",
       "      <td>0</td>\n",
       "      <td>?</td>\n",
       "      <td>?</td>\n",
       "      <td>?</td>\n",
       "      <td>1</td>\n",
       "    </tr>\n",
       "  </tbody>\n",
       "</table>\n",
       "<p>200 rows × 14 columns</p>\n",
       "</div>"
      ],
      "text/plain": [
       "     age  sex  cp trestbps chol fbs  restecg thalach exang oldpeak slope ca  \\\n",
       "0     63    1   4      140  260   0        1     112     1       3     2  ?   \n",
       "1     44    1   4      130  209   0        1     127     0       0     ?  ?   \n",
       "2     60    1   4      132  218   0        1     140     1     1.5     3  ?   \n",
       "3     55    1   4      142  228   0        1     149     1     2.5     1  ?   \n",
       "4     66    1   3      110  213   1        2      99     1     1.3     2  ?   \n",
       "..   ...  ...  ..      ...  ...  ..      ...     ...   ...     ...   ... ..   \n",
       "195   54    0   4      127  333   1        1     154     0       0     ?  ?   \n",
       "196   62    1   1        ?  139   0        1       ?     ?       ?     ?  ?   \n",
       "197   55    1   4      122  223   1        1     100     0       0     ?  ?   \n",
       "198   58    1   4        ?  385   1        2       ?     ?       ?     ?  ?   \n",
       "199   62    1   2      120  254   0        2      93     1       0     ?  ?   \n",
       "\n",
       "    thal  num  \n",
       "0      ?    2  \n",
       "1      ?    0  \n",
       "2      ?    2  \n",
       "3      ?    1  \n",
       "4      ?    0  \n",
       "..   ...  ...  \n",
       "195    ?    1  \n",
       "196    ?    0  \n",
       "197    6    2  \n",
       "198    ?    0  \n",
       "199    ?    1  \n",
       "\n",
       "[200 rows x 14 columns]"
      ]
     },
     "execution_count": 1,
     "metadata": {},
     "output_type": "execute_result"
    }
   ],
   "source": [
    "import pandas as pd\n",
    "#Creating list of column names.\n",
    "d_head = ['age','sex','cp','trestbps','chol','fbs','restecg','thalach','exang','oldpeak','slope','ca','thal','num']\n",
    "\n",
    "#Creating Dataframe of dataset\n",
    "df_hd = pd.read_csv('heart_disease_data.csv',names=d_head)\n",
    "\n",
    "#Displaying dataset\n",
    "df_hd"
   ]
  },
  {
   "cell_type": "markdown",
   "metadata": {},
   "source": [
    "Remarks:\n",
    "    \n",
    "    -There are 200 rows and 14 features in this dataset.\n",
    "    -Some of features contains value as '?' which needs to be treated accordingly."
   ]
  },
  {
   "cell_type": "markdown",
   "metadata": {},
   "source": [
    "# Preparing Dataset"
   ]
  },
  {
   "cell_type": "code",
   "execution_count": 2,
   "metadata": {},
   "outputs": [
    {
     "data": {
      "text/html": [
       "<div>\n",
       "<style scoped>\n",
       "    .dataframe tbody tr th:only-of-type {\n",
       "        vertical-align: middle;\n",
       "    }\n",
       "\n",
       "    .dataframe tbody tr th {\n",
       "        vertical-align: top;\n",
       "    }\n",
       "\n",
       "    .dataframe thead th {\n",
       "        text-align: right;\n",
       "    }\n",
       "</style>\n",
       "<table border=\"1\" class=\"dataframe\">\n",
       "  <thead>\n",
       "    <tr style=\"text-align: right;\">\n",
       "      <th></th>\n",
       "      <th>age</th>\n",
       "      <th>sex</th>\n",
       "      <th>cp</th>\n",
       "      <th>trestbps</th>\n",
       "      <th>chol</th>\n",
       "      <th>fbs</th>\n",
       "      <th>restecg</th>\n",
       "      <th>thalach</th>\n",
       "      <th>exang</th>\n",
       "      <th>oldpeak</th>\n",
       "      <th>slope</th>\n",
       "      <th>ca</th>\n",
       "      <th>thal</th>\n",
       "      <th>num</th>\n",
       "    </tr>\n",
       "  </thead>\n",
       "  <tbody>\n",
       "    <tr>\n",
       "      <th>0</th>\n",
       "      <td>63</td>\n",
       "      <td>1</td>\n",
       "      <td>4</td>\n",
       "      <td>140</td>\n",
       "      <td>260</td>\n",
       "      <td>0</td>\n",
       "      <td>1</td>\n",
       "      <td>112</td>\n",
       "      <td>1</td>\n",
       "      <td>3</td>\n",
       "      <td>2</td>\n",
       "      <td>NaN</td>\n",
       "      <td>NaN</td>\n",
       "      <td>2</td>\n",
       "    </tr>\n",
       "    <tr>\n",
       "      <th>1</th>\n",
       "      <td>44</td>\n",
       "      <td>1</td>\n",
       "      <td>4</td>\n",
       "      <td>130</td>\n",
       "      <td>209</td>\n",
       "      <td>0</td>\n",
       "      <td>1</td>\n",
       "      <td>127</td>\n",
       "      <td>0</td>\n",
       "      <td>0</td>\n",
       "      <td>NaN</td>\n",
       "      <td>NaN</td>\n",
       "      <td>NaN</td>\n",
       "      <td>0</td>\n",
       "    </tr>\n",
       "    <tr>\n",
       "      <th>2</th>\n",
       "      <td>60</td>\n",
       "      <td>1</td>\n",
       "      <td>4</td>\n",
       "      <td>132</td>\n",
       "      <td>218</td>\n",
       "      <td>0</td>\n",
       "      <td>1</td>\n",
       "      <td>140</td>\n",
       "      <td>1</td>\n",
       "      <td>1.5</td>\n",
       "      <td>3</td>\n",
       "      <td>NaN</td>\n",
       "      <td>NaN</td>\n",
       "      <td>2</td>\n",
       "    </tr>\n",
       "    <tr>\n",
       "      <th>3</th>\n",
       "      <td>55</td>\n",
       "      <td>1</td>\n",
       "      <td>4</td>\n",
       "      <td>142</td>\n",
       "      <td>228</td>\n",
       "      <td>0</td>\n",
       "      <td>1</td>\n",
       "      <td>149</td>\n",
       "      <td>1</td>\n",
       "      <td>2.5</td>\n",
       "      <td>1</td>\n",
       "      <td>NaN</td>\n",
       "      <td>NaN</td>\n",
       "      <td>1</td>\n",
       "    </tr>\n",
       "    <tr>\n",
       "      <th>4</th>\n",
       "      <td>66</td>\n",
       "      <td>1</td>\n",
       "      <td>3</td>\n",
       "      <td>110</td>\n",
       "      <td>213</td>\n",
       "      <td>1</td>\n",
       "      <td>2</td>\n",
       "      <td>99</td>\n",
       "      <td>1</td>\n",
       "      <td>1.3</td>\n",
       "      <td>2</td>\n",
       "      <td>NaN</td>\n",
       "      <td>NaN</td>\n",
       "      <td>0</td>\n",
       "    </tr>\n",
       "    <tr>\n",
       "      <th>...</th>\n",
       "      <td>...</td>\n",
       "      <td>...</td>\n",
       "      <td>...</td>\n",
       "      <td>...</td>\n",
       "      <td>...</td>\n",
       "      <td>...</td>\n",
       "      <td>...</td>\n",
       "      <td>...</td>\n",
       "      <td>...</td>\n",
       "      <td>...</td>\n",
       "      <td>...</td>\n",
       "      <td>...</td>\n",
       "      <td>...</td>\n",
       "      <td>...</td>\n",
       "    </tr>\n",
       "    <tr>\n",
       "      <th>195</th>\n",
       "      <td>54</td>\n",
       "      <td>0</td>\n",
       "      <td>4</td>\n",
       "      <td>127</td>\n",
       "      <td>333</td>\n",
       "      <td>1</td>\n",
       "      <td>1</td>\n",
       "      <td>154</td>\n",
       "      <td>0</td>\n",
       "      <td>0</td>\n",
       "      <td>NaN</td>\n",
       "      <td>NaN</td>\n",
       "      <td>NaN</td>\n",
       "      <td>1</td>\n",
       "    </tr>\n",
       "    <tr>\n",
       "      <th>196</th>\n",
       "      <td>62</td>\n",
       "      <td>1</td>\n",
       "      <td>1</td>\n",
       "      <td>NaN</td>\n",
       "      <td>139</td>\n",
       "      <td>0</td>\n",
       "      <td>1</td>\n",
       "      <td>NaN</td>\n",
       "      <td>NaN</td>\n",
       "      <td>NaN</td>\n",
       "      <td>NaN</td>\n",
       "      <td>NaN</td>\n",
       "      <td>NaN</td>\n",
       "      <td>0</td>\n",
       "    </tr>\n",
       "    <tr>\n",
       "      <th>197</th>\n",
       "      <td>55</td>\n",
       "      <td>1</td>\n",
       "      <td>4</td>\n",
       "      <td>122</td>\n",
       "      <td>223</td>\n",
       "      <td>1</td>\n",
       "      <td>1</td>\n",
       "      <td>100</td>\n",
       "      <td>0</td>\n",
       "      <td>0</td>\n",
       "      <td>NaN</td>\n",
       "      <td>NaN</td>\n",
       "      <td>6</td>\n",
       "      <td>2</td>\n",
       "    </tr>\n",
       "    <tr>\n",
       "      <th>198</th>\n",
       "      <td>58</td>\n",
       "      <td>1</td>\n",
       "      <td>4</td>\n",
       "      <td>NaN</td>\n",
       "      <td>385</td>\n",
       "      <td>1</td>\n",
       "      <td>2</td>\n",
       "      <td>NaN</td>\n",
       "      <td>NaN</td>\n",
       "      <td>NaN</td>\n",
       "      <td>NaN</td>\n",
       "      <td>NaN</td>\n",
       "      <td>NaN</td>\n",
       "      <td>0</td>\n",
       "    </tr>\n",
       "    <tr>\n",
       "      <th>199</th>\n",
       "      <td>62</td>\n",
       "      <td>1</td>\n",
       "      <td>2</td>\n",
       "      <td>120</td>\n",
       "      <td>254</td>\n",
       "      <td>0</td>\n",
       "      <td>2</td>\n",
       "      <td>93</td>\n",
       "      <td>1</td>\n",
       "      <td>0</td>\n",
       "      <td>NaN</td>\n",
       "      <td>NaN</td>\n",
       "      <td>NaN</td>\n",
       "      <td>1</td>\n",
       "    </tr>\n",
       "  </tbody>\n",
       "</table>\n",
       "<p>200 rows × 14 columns</p>\n",
       "</div>"
      ],
      "text/plain": [
       "     age  sex  cp trestbps chol fbs  restecg thalach exang oldpeak slope   ca  \\\n",
       "0     63    1   4      140  260   0        1     112     1       3     2  NaN   \n",
       "1     44    1   4      130  209   0        1     127     0       0   NaN  NaN   \n",
       "2     60    1   4      132  218   0        1     140     1     1.5     3  NaN   \n",
       "3     55    1   4      142  228   0        1     149     1     2.5     1  NaN   \n",
       "4     66    1   3      110  213   1        2      99     1     1.3     2  NaN   \n",
       "..   ...  ...  ..      ...  ...  ..      ...     ...   ...     ...   ...  ...   \n",
       "195   54    0   4      127  333   1        1     154     0       0   NaN  NaN   \n",
       "196   62    1   1      NaN  139   0        1     NaN   NaN     NaN   NaN  NaN   \n",
       "197   55    1   4      122  223   1        1     100     0       0   NaN  NaN   \n",
       "198   58    1   4      NaN  385   1        2     NaN   NaN     NaN   NaN  NaN   \n",
       "199   62    1   2      120  254   0        2      93     1       0   NaN  NaN   \n",
       "\n",
       "    thal  num  \n",
       "0    NaN    2  \n",
       "1    NaN    0  \n",
       "2    NaN    2  \n",
       "3    NaN    1  \n",
       "4    NaN    0  \n",
       "..   ...  ...  \n",
       "195  NaN    1  \n",
       "196  NaN    0  \n",
       "197    6    2  \n",
       "198  NaN    0  \n",
       "199  NaN    1  \n",
       "\n",
       "[200 rows x 14 columns]"
      ]
     },
     "execution_count": 2,
     "metadata": {},
     "output_type": "execute_result"
    }
   ],
   "source": [
    "#Replacing value '?' with null value and storing it into another variable.\n",
    "import numpy as np\n",
    "df=df_hd.copy()\n",
    "\n",
    "df.replace('?',np.nan,inplace=True)\n",
    "\n",
    "#Displaying dataset\n",
    "df"
   ]
  },
  {
   "cell_type": "code",
   "execution_count": 3,
   "metadata": {},
   "outputs": [
    {
     "name": "stdout",
     "output_type": "stream",
     "text": [
      "<class 'pandas.core.frame.DataFrame'>\n",
      "RangeIndex: 200 entries, 0 to 199\n",
      "Data columns (total 14 columns):\n",
      " #   Column    Non-Null Count  Dtype \n",
      "---  ------    --------------  ----- \n",
      " 0   age       200 non-null    int64 \n",
      " 1   sex       200 non-null    int64 \n",
      " 2   cp        200 non-null    int64 \n",
      " 3   trestbps  144 non-null    object\n",
      " 4   chol      193 non-null    object\n",
      " 5   fbs       193 non-null    object\n",
      " 6   restecg   200 non-null    int64 \n",
      " 7   thalach   147 non-null    object\n",
      " 8   exang     147 non-null    object\n",
      " 9   oldpeak   144 non-null    object\n",
      " 10  slope     98 non-null     object\n",
      " 11  ca        2 non-null      object\n",
      " 12  thal      34 non-null     object\n",
      " 13  num       200 non-null    int64 \n",
      "dtypes: int64(5), object(9)\n",
      "memory usage: 22.0+ KB\n"
     ]
    }
   ],
   "source": [
    "#Checking data types and null values\n",
    "df.info()"
   ]
  },
  {
   "cell_type": "markdown",
   "metadata": {},
   "source": [
    "Remarks:\n",
    "    \n",
    "    -There are 5 int type features and 9 object type features.\n",
    "    -Object type features needs to be treated accordingly.\n",
    "    -Null values are present in features:\n",
    "        trestbps, chol, fbs, restecg, thalach, exang, oldpeak, slope, ca, thal\n",
    "     and needs to be treated accordingly."
   ]
  },
  {
   "cell_type": "code",
   "execution_count": 4,
   "metadata": {},
   "outputs": [
    {
     "name": "stdout",
     "output_type": "stream",
     "text": [
      "age         \t null_count:    0\t (%):   0.00\n",
      "sex         \t null_count:    0\t (%):   0.00\n",
      "cp          \t null_count:    0\t (%):   0.00\n",
      "trestbps    \t null_count:   56\t (%):  28.00\n",
      "chol        \t null_count:    7\t (%):   3.50\n",
      "fbs         \t null_count:    7\t (%):   3.50\n",
      "restecg     \t null_count:    0\t (%):   0.00\n",
      "thalach     \t null_count:   53\t (%):  26.50\n",
      "exang       \t null_count:   53\t (%):  26.50\n",
      "oldpeak     \t null_count:   56\t (%):  28.00\n",
      "slope       \t null_count:  102\t (%):  51.00\n",
      "ca          \t null_count:  198\t (%):  99.00\n",
      "thal        \t null_count:  166\t (%):  83.00\n",
      "num         \t null_count:    0\t (%):   0.00\n"
     ]
    }
   ],
   "source": [
    "#Checking null values and displaying it's percentage w.r.t. total observation of feature\n",
    "null_val = df.isnull().sum()\n",
    "for i in null_val.keys():\n",
    "    print(\"%-12s\\t null_count: %4d\\t (%%): %6.2f\"%(i,null_val[i],(null_val[i]*100/len(df))))"
   ]
  },
  {
   "cell_type": "markdown",
   "metadata": {},
   "source": [
    "Remarks:\n",
    "    \n",
    "    -Feature slope, ca, thal have more than 30% of null values, therefore dropping these features from dataset\n",
    "     as treating them will be of no use.\n",
    "    -Feature trestbps, chol, fbs, thalach, exang, oldpeak contains less than 30% of null values and can be treated\n",
    "     according to their feature type."
   ]
  },
  {
   "cell_type": "code",
   "execution_count": 5,
   "metadata": {},
   "outputs": [
    {
     "data": {
      "text/plain": [
       "(200, 11)"
      ]
     },
     "execution_count": 5,
     "metadata": {},
     "output_type": "execute_result"
    }
   ],
   "source": [
    "#Dropping features slope, ca, thal from dataset\n",
    "df_new=df.drop(columns=['slope','ca','thal'])\n",
    "df_new.shape"
   ]
  },
  {
   "cell_type": "code",
   "execution_count": 6,
   "metadata": {},
   "outputs": [
    {
     "data": {
      "text/plain": [
       "age           int64\n",
       "sex           int64\n",
       "cp            int64\n",
       "trestbps      Int64\n",
       "chol          Int64\n",
       "fbs           Int64\n",
       "restecg       int64\n",
       "thalach       Int64\n",
       "exang         Int64\n",
       "oldpeak     float64\n",
       "num           int64\n",
       "dtype: object"
      ]
     },
     "execution_count": 6,
     "metadata": {},
     "output_type": "execute_result"
    }
   ],
   "source": [
    "#Converting wrong data types i.e., object to numeric (feature oldpeak to float and all other to int)\n",
    "for i in df_new.columns[df_new.dtypes == object]:\n",
    "    df_new[i] = pd.to_numeric(df_new[i],errors='coerce')\n",
    "    if i == 'oldpeak':\n",
    "        continue\n",
    "    df_new[i] = df_new[i].astype('Int64')\n",
    "#Showing data types after conversion\n",
    "df_new.dtypes"
   ]
  },
  {
   "cell_type": "code",
   "execution_count": 7,
   "metadata": {},
   "outputs": [
    {
     "data": {
      "text/plain": [
       "age         0\n",
       "sex         0\n",
       "cp          0\n",
       "trestbps    0\n",
       "chol        0\n",
       "fbs         0\n",
       "restecg     0\n",
       "thalach     0\n",
       "exang       0\n",
       "oldpeak     0\n",
       "num         0\n",
       "dtype: int64"
      ]
     },
     "execution_count": 7,
     "metadata": {},
     "output_type": "execute_result"
    }
   ],
   "source": [
    "#Replacing null values of features with median of the feature as\n",
    "#median is less effected by the presence of outliers as compared to mean\n",
    "null_val = df_new.isnull().sum()\n",
    "for i in null_val.keys():\n",
    "    if null_val[i]>0:\n",
    "        df_new[i].replace(np.nan,df_new[i].median(),inplace=True)\n",
    "        \n",
    "#Rechecking null values\n",
    "df_new.isnull().sum()"
   ]
  },
  {
   "cell_type": "markdown",
   "metadata": {},
   "source": [
    "Remarks:\n",
    "    \n",
    "    -No null values are present"
   ]
  },
  {
   "cell_type": "markdown",
   "metadata": {},
   "source": [
    "# Statistical Summary"
   ]
  },
  {
   "cell_type": "code",
   "execution_count": 8,
   "metadata": {},
   "outputs": [
    {
     "data": {
      "text/html": [
       "<div>\n",
       "<style scoped>\n",
       "    .dataframe tbody tr th:only-of-type {\n",
       "        vertical-align: middle;\n",
       "    }\n",
       "\n",
       "    .dataframe tbody tr th {\n",
       "        vertical-align: top;\n",
       "    }\n",
       "\n",
       "    .dataframe thead th {\n",
       "        text-align: right;\n",
       "    }\n",
       "</style>\n",
       "<table border=\"1\" class=\"dataframe\">\n",
       "  <thead>\n",
       "    <tr style=\"text-align: right;\">\n",
       "      <th></th>\n",
       "      <th>age</th>\n",
       "      <th>sex</th>\n",
       "      <th>cp</th>\n",
       "      <th>trestbps</th>\n",
       "      <th>chol</th>\n",
       "      <th>fbs</th>\n",
       "      <th>restecg</th>\n",
       "      <th>thalach</th>\n",
       "      <th>exang</th>\n",
       "      <th>oldpeak</th>\n",
       "      <th>num</th>\n",
       "    </tr>\n",
       "  </thead>\n",
       "  <tbody>\n",
       "    <tr>\n",
       "      <th>count</th>\n",
       "      <td>200.000000</td>\n",
       "      <td>200.000000</td>\n",
       "      <td>200.000000</td>\n",
       "      <td>200.000000</td>\n",
       "      <td>200.000000</td>\n",
       "      <td>200.000000</td>\n",
       "      <td>200.000000</td>\n",
       "      <td>200.000000</td>\n",
       "      <td>200.000000</td>\n",
       "      <td>200.000000</td>\n",
       "      <td>200.000000</td>\n",
       "    </tr>\n",
       "    <tr>\n",
       "      <th>mean</th>\n",
       "      <td>59.350000</td>\n",
       "      <td>0.970000</td>\n",
       "      <td>3.505000</td>\n",
       "      <td>132.710000</td>\n",
       "      <td>180.050000</td>\n",
       "      <td>0.340000</td>\n",
       "      <td>0.735000</td>\n",
       "      <td>122.055000</td>\n",
       "      <td>0.740000</td>\n",
       "      <td>1.371000</td>\n",
       "      <td>1.520000</td>\n",
       "    </tr>\n",
       "    <tr>\n",
       "      <th>std</th>\n",
       "      <td>7.811697</td>\n",
       "      <td>0.171015</td>\n",
       "      <td>0.795701</td>\n",
       "      <td>18.335947</td>\n",
       "      <td>112.221727</td>\n",
       "      <td>0.474898</td>\n",
       "      <td>0.683455</td>\n",
       "      <td>18.876269</td>\n",
       "      <td>0.439735</td>\n",
       "      <td>0.941216</td>\n",
       "      <td>1.219441</td>\n",
       "    </tr>\n",
       "    <tr>\n",
       "      <th>min</th>\n",
       "      <td>35.000000</td>\n",
       "      <td>0.000000</td>\n",
       "      <td>1.000000</td>\n",
       "      <td>0.000000</td>\n",
       "      <td>0.000000</td>\n",
       "      <td>0.000000</td>\n",
       "      <td>0.000000</td>\n",
       "      <td>69.000000</td>\n",
       "      <td>0.000000</td>\n",
       "      <td>-0.500000</td>\n",
       "      <td>0.000000</td>\n",
       "    </tr>\n",
       "    <tr>\n",
       "      <th>25%</th>\n",
       "      <td>55.000000</td>\n",
       "      <td>1.000000</td>\n",
       "      <td>3.000000</td>\n",
       "      <td>125.750000</td>\n",
       "      <td>129.250000</td>\n",
       "      <td>0.000000</td>\n",
       "      <td>0.000000</td>\n",
       "      <td>112.000000</td>\n",
       "      <td>0.000000</td>\n",
       "      <td>1.000000</td>\n",
       "      <td>0.000000</td>\n",
       "    </tr>\n",
       "    <tr>\n",
       "      <th>50%</th>\n",
       "      <td>60.000000</td>\n",
       "      <td>1.000000</td>\n",
       "      <td>4.000000</td>\n",
       "      <td>130.000000</td>\n",
       "      <td>216.000000</td>\n",
       "      <td>0.000000</td>\n",
       "      <td>1.000000</td>\n",
       "      <td>120.000000</td>\n",
       "      <td>1.000000</td>\n",
       "      <td>1.500000</td>\n",
       "      <td>1.000000</td>\n",
       "    </tr>\n",
       "    <tr>\n",
       "      <th>75%</th>\n",
       "      <td>64.000000</td>\n",
       "      <td>1.000000</td>\n",
       "      <td>4.000000</td>\n",
       "      <td>140.000000</td>\n",
       "      <td>254.500000</td>\n",
       "      <td>1.000000</td>\n",
       "      <td>1.000000</td>\n",
       "      <td>130.000000</td>\n",
       "      <td>1.000000</td>\n",
       "      <td>2.000000</td>\n",
       "      <td>3.000000</td>\n",
       "    </tr>\n",
       "    <tr>\n",
       "      <th>max</th>\n",
       "      <td>77.000000</td>\n",
       "      <td>1.000000</td>\n",
       "      <td>4.000000</td>\n",
       "      <td>190.000000</td>\n",
       "      <td>458.000000</td>\n",
       "      <td>1.000000</td>\n",
       "      <td>2.000000</td>\n",
       "      <td>180.000000</td>\n",
       "      <td>1.000000</td>\n",
       "      <td>4.000000</td>\n",
       "      <td>4.000000</td>\n",
       "    </tr>\n",
       "  </tbody>\n",
       "</table>\n",
       "</div>"
      ],
      "text/plain": [
       "              age         sex          cp    trestbps        chol         fbs  \\\n",
       "count  200.000000  200.000000  200.000000  200.000000  200.000000  200.000000   \n",
       "mean    59.350000    0.970000    3.505000  132.710000  180.050000    0.340000   \n",
       "std      7.811697    0.171015    0.795701   18.335947  112.221727    0.474898   \n",
       "min     35.000000    0.000000    1.000000    0.000000    0.000000    0.000000   \n",
       "25%     55.000000    1.000000    3.000000  125.750000  129.250000    0.000000   \n",
       "50%     60.000000    1.000000    4.000000  130.000000  216.000000    0.000000   \n",
       "75%     64.000000    1.000000    4.000000  140.000000  254.500000    1.000000   \n",
       "max     77.000000    1.000000    4.000000  190.000000  458.000000    1.000000   \n",
       "\n",
       "          restecg     thalach       exang     oldpeak         num  \n",
       "count  200.000000  200.000000  200.000000  200.000000  200.000000  \n",
       "mean     0.735000  122.055000    0.740000    1.371000    1.520000  \n",
       "std      0.683455   18.876269    0.439735    0.941216    1.219441  \n",
       "min      0.000000   69.000000    0.000000   -0.500000    0.000000  \n",
       "25%      0.000000  112.000000    0.000000    1.000000    0.000000  \n",
       "50%      1.000000  120.000000    1.000000    1.500000    1.000000  \n",
       "75%      1.000000  130.000000    1.000000    2.000000    3.000000  \n",
       "max      2.000000  180.000000    1.000000    4.000000    4.000000  "
      ]
     },
     "execution_count": 8,
     "metadata": {},
     "output_type": "execute_result"
    }
   ],
   "source": [
    "#Checking statistical summary of dataset\n",
    "df_new.describe()"
   ]
  },
  {
   "cell_type": "markdown",
   "metadata": {},
   "source": [
    "Remarks:\n",
    "    \n",
    "    -Count is similer for all features which indicates no null values are present.\n",
    "    -Mean is less than median in chol which indicates presence of skewness in it.\n",
    "    -Standard Deviation is higher in chol which indicates data is spreaded in it.\n",
    "    -The difference between 75th percentile and max is there in chol which indicates presence of outliers in it."
   ]
  },
  {
   "cell_type": "markdown",
   "metadata": {},
   "source": [
    "# Exploratory Data Analysis (EDA)"
   ]
  },
  {
   "cell_type": "code",
   "execution_count": 9,
   "metadata": {},
   "outputs": [],
   "source": [
    "import matplotlib.pyplot as plt\n",
    "import seaborn as sns"
   ]
  },
  {
   "cell_type": "markdown",
   "metadata": {},
   "source": [
    "# Univariate Analysis"
   ]
  },
  {
   "cell_type": "code",
   "execution_count": 10,
   "metadata": {},
   "outputs": [
    {
     "data": {
      "image/png": "[encoded data removed]",
      "text/plain": [
       "<Figure size 432x288 with 1 Axes>"
      ]
     },
     "metadata": {
      "needs_background": "light"
     },
     "output_type": "display_data"
    }
   ],
   "source": [
    "#Checking target feature num using count plot\n",
    "x='num'\n",
    "ax=sns.countplot(df_new[x])\n",
    "k=0\n",
    "for i in ax.patches:\n",
    "    h = i.get_height()\n",
    "    ax.text(k,h/2,h,ha='center',fontsize=14)\n",
    "    k += 1\n",
    "plt.title(f\"Count Plot: {x}\")\n",
    "plt.show()"
   ]
  },
  {
   "cell_type": "markdown",
   "metadata": {},
   "source": [
    "Remarks:\n",
    "\n",
    "    -Maximum number of observations are for num 1 and for 4 is minimum.\n",
    "    -Majority of observations are between 0 to 3 of num."
   ]
  },
  {
   "cell_type": "code",
   "execution_count": 11,
   "metadata": {},
   "outputs": [
    {
     "data": {
      "image/png": "[encoded data removed]",
      "text/plain": [
       "<Figure size 432x288 with 1 Axes>"
      ]
     },
     "metadata": {
      "needs_background": "light"
     },
     "output_type": "display_data"
    },
    {
     "name": "stdout",
     "output_type": "stream",
     "text": [
      "Feature Statistics:\n",
      "\tMean: 59.35\tMedian: 60.0\tSTD: 7.811697194933158\tSkew: -0.40409057876389015\n"
     ]
    }
   ],
   "source": [
    "#Checking feature age using distribution plot.\n",
    "x='age'\n",
    "sns.distplot(df_new[x])\n",
    "plt.title(f\"Distribution Plot: {x}\")\n",
    "plt.show()\n",
    "print(\"Feature Statistics:\")\n",
    "print(f\"\\tMean: {df_new[x].mean()}\\tMedian: {df_new[x].median()}\\tSTD: {df_new[x].std()}\\tSkew: {df_new[x].skew()}\")"
   ]
  },
  {
   "cell_type": "markdown",
   "metadata": {},
   "source": [
    "Remarks:\n",
    "\n",
    "    -Data is somewhat normally distributed but not in bell curve.\n",
    "    -Negligiable amount of skewness is there in data.\n",
    "    -Observations are of patients between age of 30 to 80."
   ]
  },
  {
   "cell_type": "code",
   "execution_count": 12,
   "metadata": {},
   "outputs": [
    {
     "data": {
      "image/png": "[encoded data removed]",
      "text/plain": [
       "<Figure size 432x288 with 1 Axes>"
      ]
     },
     "metadata": {
      "needs_background": "light"
     },
     "output_type": "display_data"
    }
   ],
   "source": [
    "#Checking feature sex using count plot.\n",
    "x='sex'\n",
    "ax=sns.countplot(df_new[x])\n",
    "k=0\n",
    "for i in ax.patches:\n",
    "    h = i.get_height()\n",
    "    ax.text(k,h/2,h,ha='center',fontsize=14)\n",
    "    k += 1\n",
    "plt.title(f\"Count Plot: {x}\")\n",
    "plt.show()"
   ]
  },
  {
   "cell_type": "markdown",
   "metadata": {},
   "source": [
    "Remarks:\n",
    "    \n",
    "    -Most of the observations are of Male patients."
   ]
  },
  {
   "cell_type": "code",
   "execution_count": 13,
   "metadata": {},
   "outputs": [
    {
     "data": {
      "image/png": "[encoded data removed]",
      "text/plain": [
       "<Figure size 432x288 with 1 Axes>"
      ]
     },
     "metadata": {
      "needs_background": "light"
     },
     "output_type": "display_data"
    }
   ],
   "source": [
    "#Checking feature cp using count plot.\n",
    "x='cp'\n",
    "ax=sns.countplot(df_new[x])\n",
    "k=0\n",
    "for i in ax.patches:\n",
    "    h = i.get_height()\n",
    "    ax.text(k,h/2,h,ha='center',fontsize=14)\n",
    "    k += 1\n",
    "plt.title(f\"Count Plot: {x}\")\n",
    "plt.show()"
   ]
  },
  {
   "cell_type": "markdown",
   "metadata": {},
   "source": [
    "Remarks:\n",
    "\n",
    "    -Maximum number of observations are for cp 4.\n",
    "    -Minimum number of observations are for cp 1."
   ]
  },
  {
   "cell_type": "code",
   "execution_count": 14,
   "metadata": {},
   "outputs": [
    {
     "data": {
      "image/png": "[encoded data removed]",
      "text/plain": [
       "<Figure size 1080x360 with 1 Axes>"
      ]
     },
     "metadata": {
      "needs_background": "light"
     },
     "output_type": "display_data"
    },
    {
     "name": "stdout",
     "output_type": "stream",
     "text": [
      "Feature Statistics:\n",
      "\tMean: 132.71\tMedian: 130.0\tSTD: 18.33594651697498\tSkew: -1.320143958663686\n"
     ]
    }
   ],
   "source": [
    "#Checking feature trestbps using distribution plot.\n",
    "x='trestbps'\n",
    "plt.figure(figsize=(15,5))\n",
    "sns.distplot(df_new[x])\n",
    "plt.title(f\"Distribution Plot: {x}\")\n",
    "plt.show()\n",
    "print(\"Feature Statistics:\")\n",
    "print(f\"\\tMean: {df_new[x].mean()}\\tMedian: {df_new[x].median()}\\tSTD: {df_new[x].std()}\\tSkew: {df_new[x].skew()}\")"
   ]
  },
  {
   "cell_type": "markdown",
   "metadata": {},
   "source": [
    "Remarks:\n",
    "    \n",
    "    -Data is not distributed normally.\n",
    "    -Maximum number of observations are from patients having trestbps 130.\n",
    "    -Majority of observations are from 120 to 150 of trestbps."
   ]
  },
  {
   "cell_type": "code",
   "execution_count": 15,
   "metadata": {},
   "outputs": [
    {
     "data": {
      "image/png": "[encoded data removed]",
      "text/plain": [
       "<Figure size 1080x360 with 1 Axes>"
      ]
     },
     "metadata": {
      "needs_background": "light"
     },
     "output_type": "display_data"
    },
    {
     "name": "stdout",
     "output_type": "stream",
     "text": [
      "Feature Statistics:\n",
      "\tMean: 180.05\tMedian: 216.0\tSTD: 112.22172730983074\tSkew: -0.6025838825294734\n"
     ]
    }
   ],
   "source": [
    "#Checking feature chol using distribution plot.\n",
    "x='chol'\n",
    "plt.figure(figsize=(15,5))\n",
    "sns.distplot(df_new[x])\n",
    "plt.title(f\"Distribution Plot: {x}\")\n",
    "plt.show()\n",
    "print(\"Feature Statistics:\")\n",
    "print(f\"\\tMean: {df_new[x].mean()}\\tMedian: {df_new[x].median()}\\tSTD: {df_new[x].std()}\\tSkew: {df_new[x].skew()}\")"
   ]
  },
  {
   "cell_type": "markdown",
   "metadata": {},
   "source": [
    "Remarks:\n",
    "    \n",
    "    -Data is somewhat distributed normally but not in bell curve.\n",
    "    -Most of the observations are between 170 to 320 of chol."
   ]
  },
  {
   "cell_type": "code",
   "execution_count": 16,
   "metadata": {},
   "outputs": [
    {
     "data": {
      "image/png": "[encoded data removed]",
      "text/plain": [
       "<Figure size 432x288 with 1 Axes>"
      ]
     },
     "metadata": {
      "needs_background": "light"
     },
     "output_type": "display_data"
    }
   ],
   "source": [
    "#Checking feature fbs using count plot.\n",
    "x='fbs'\n",
    "ax=sns.countplot(df_new[x])\n",
    "k=0\n",
    "for i in ax.patches:\n",
    "    h = i.get_height()\n",
    "    ax.text(k,h/2,h,ha='center',fontsize=14)\n",
    "    k += 1\n",
    "plt.title(f\"Count Plot: {x}\")\n",
    "plt.show()"
   ]
  },
  {
   "cell_type": "markdown",
   "metadata": {},
   "source": [
    "Remarks:\n",
    "    \n",
    "    -Most of the observations are for fbs 0."
   ]
  },
  {
   "cell_type": "code",
   "execution_count": 17,
   "metadata": {},
   "outputs": [
    {
     "data": {
      "image/png": "[encoded data removed]",
      "text/plain": [
       "<Figure size 432x288 with 1 Axes>"
      ]
     },
     "metadata": {
      "needs_background": "light"
     },
     "output_type": "display_data"
    }
   ],
   "source": [
    "#Checking feature restecg using count plot.\n",
    "x='restecg'\n",
    "ax=sns.countplot(df_new[x])\n",
    "k=0\n",
    "for i in ax.patches:\n",
    "    h = i.get_height()\n",
    "    ax.text(k,h/2,h,ha='center',fontsize=14)\n",
    "    k += 1\n",
    "plt.title(f\"Count Plot: {x}\")\n",
    "plt.show()"
   ]
  },
  {
   "cell_type": "markdown",
   "metadata": {},
   "source": [
    "Remarks:\n",
    "    \n",
    "    -Maximum number of observations are for restecg 1.\n",
    "    -Minimum number of observations are for restecg 2.\n",
    "    -Majority of observations are for restecg 0 and 1."
   ]
  },
  {
   "cell_type": "code",
   "execution_count": 18,
   "metadata": {},
   "outputs": [
    {
     "data": {
      "image/png": "[encoded data removed]",
      "text/plain": [
       "<Figure size 432x288 with 1 Axes>"
      ]
     },
     "metadata": {
      "needs_background": "light"
     },
     "output_type": "display_data"
    },
    {
     "name": "stdout",
     "output_type": "stream",
     "text": [
      "Feature Statistics:\n",
      "\tMean: 122.055\tMedian: 120.0\tSTD: 18.87626930072698\tSkew: 0.26568941922059836\n"
     ]
    }
   ],
   "source": [
    "#Checking feature thalach using distribution plot.\n",
    "x='thalach'\n",
    "sns.distplot(df_new[x])\n",
    "plt.title(f\"Distribution Plot: {x}\")\n",
    "plt.show()\n",
    "print(\"Feature Statistics:\")\n",
    "print(f\"\\tMean: {df_new[x].mean()}\\tMedian: {df_new[x].median()}\\tSTD: {df_new[x].std()}\\tSkew: {df_new[x].skew()}\")"
   ]
  },
  {
   "cell_type": "markdown",
   "metadata": {},
   "source": [
    "Remarks:\n",
    "    \n",
    "    -Data is somewhat distributed normally but not in bell curve.\n",
    "    -Maximum number of observations are for thalach 120.\n",
    "    -Majority of observations are between 100 to 150 of thalach."
   ]
  },
  {
   "cell_type": "code",
   "execution_count": 19,
   "metadata": {},
   "outputs": [
    {
     "data": {
      "image/png": "[encoded data removed]",
      "text/plain": [
       "<Figure size 432x288 with 1 Axes>"
      ]
     },
     "metadata": {
      "needs_background": "light"
     },
     "output_type": "display_data"
    }
   ],
   "source": [
    "#Checking feature exang using count plot.\n",
    "x='exang'\n",
    "ax=sns.countplot(df_new[x])\n",
    "k=0\n",
    "for i in ax.patches:\n",
    "    h = i.get_height()\n",
    "    ax.text(k,h/2,h,ha='center',fontsize=14)\n",
    "    k += 1\n",
    "plt.title(f\"Count Plot: {x}\")\n",
    "plt.show()"
   ]
  },
  {
   "cell_type": "markdown",
   "metadata": {},
   "source": [
    "Remarks:\n",
    "    \n",
    "    -Majority of observations are for exang 1."
   ]
  },
  {
   "cell_type": "code",
   "execution_count": 20,
   "metadata": {},
   "outputs": [
    {
     "data": {
      "image/png": "[encoded data removed]",
      "text/plain": [
       "<Figure size 432x288 with 1 Axes>"
      ]
     },
     "metadata": {
      "needs_background": "light"
     },
     "output_type": "display_data"
    },
    {
     "name": "stdout",
     "output_type": "stream",
     "text": [
      "Feature Statistics:\n",
      "\tMean: 1.371\tMedian: 1.5\tSTD: 0.9412164693687927\tSkew: 0.2590515905226455\n"
     ]
    }
   ],
   "source": [
    "#Checking feature oldpeak using violin plot.\n",
    "x='oldpeak'\n",
    "sns.violinplot(df_new[x])\n",
    "plt.title(f\"Violin Plot: {x}\")\n",
    "plt.show()\n",
    "print(\"Feature Statistics:\")\n",
    "print(f\"\\tMean: {df_new[x].mean()}\\tMedian: {df_new[x].median()}\\tSTD: {df_new[x].std()}\\tSkew: {df_new[x].skew()}\")"
   ]
  },
  {
   "cell_type": "markdown",
   "metadata": {},
   "source": [
    "Remarks:\n",
    "    \n",
    "    -Most of the observations are between 1 and 2 of oldpeak."
   ]
  },
  {
   "cell_type": "code",
   "execution_count": 21,
   "metadata": {},
   "outputs": [
    {
     "data": {
      "image/png": "[encoded data removed]",
      "text/plain": [
       "<Figure size 1440x720 with 11 Axes>"
      ]
     },
     "metadata": {
      "needs_background": "light"
     },
     "output_type": "display_data"
    }
   ],
   "source": [
    "#Checking features with boxplot\n",
    "cols = 4\n",
    "rows = len(df_new.columns)//cols\n",
    "if rows % cols != 0:\n",
    "    rows += 1\n",
    " \n",
    "fig = plt.figure(figsize=(20,10))\n",
    "plt.subplots_adjust(hspace=0.5)\n",
    "k=1\n",
    "for x in df_new.columns:\n",
    "    ax = fig.add_subplot(rows,cols,k)\n",
    "    sns.boxplot(df_new[x],ax=ax)\n",
    "    ax.set_title(f\"BoxPlot for {x}\")\n",
    "    \n",
    "    k += 1\n",
    "    \n",
    "plt.show()"
   ]
  },
  {
   "cell_type": "markdown",
   "metadata": {},
   "source": [
    "Remarks:\n",
    "\n",
    "    -Box plot shows presence of outliers in features:\n",
    "        age, trestbps, chol, thalach, oldpeak\n",
    "     and needs to be treated accordingly."
   ]
  },
  {
   "cell_type": "markdown",
   "metadata": {},
   "source": [
    "# Bi-Variate Analysis"
   ]
  },
  {
   "cell_type": "code",
   "execution_count": 22,
   "metadata": {},
   "outputs": [
    {
     "data": {
      "image/png": "[encoded data removed]",
      "text/plain": [
       "<Figure size 1080x360 with 2 Axes>"
      ]
     },
     "metadata": {
      "needs_background": "light"
     },
     "output_type": "display_data"
    }
   ],
   "source": [
    "#Checking feature age with target num\n",
    "x='age'\n",
    "y='num'\n",
    "fig, (ax1,ax2) = plt.subplots(1,2,figsize=(15,5))\n",
    "sns.set_style('whitegrid')\n",
    "#using lineplot\n",
    "sns.lineplot(x,y,data=df_new,ax=ax1)\n",
    "ax1.set_title(f\"LinePlot: {x} vs {y}\")\n",
    "\n",
    "#using scatterplot\n",
    "sns.scatterplot(x,y,data=df_new,ax=ax2)\n",
    "ax2.set_title(f\"ScatterPlot: {x} vs {y}\")\n",
    "\n",
    "plt.show()"
   ]
  },
  {
   "cell_type": "markdown",
   "metadata": {},
   "source": [
    "Remarks:\n",
    "    \n",
    "    -With the increase in age, num also increases.\n",
    "    -For num 0, majority of age lies between 53 to 67.\n",
    "    -For num 1, majority of age lies between 53 to 67.\n",
    "    -For num 2, majority of age lies between 55 to 65.\n",
    "    -For num 3, majority of age lies between 53 to 66.\n",
    "    -For num 4, majority of age lies between 61 to 65."
   ]
  },
  {
   "cell_type": "code",
   "execution_count": 23,
   "metadata": {},
   "outputs": [
    {
     "data": {
      "image/png": "[encoded data removed]",
      "text/plain": [
       "<Figure size 432x288 with 1 Axes>"
      ]
     },
     "metadata": {},
     "output_type": "display_data"
    },
    {
     "data": {
      "text/html": [
       "<div>\n",
       "<style scoped>\n",
       "    .dataframe tbody tr th:only-of-type {\n",
       "        vertical-align: middle;\n",
       "    }\n",
       "\n",
       "    .dataframe tbody tr th {\n",
       "        vertical-align: top;\n",
       "    }\n",
       "\n",
       "    .dataframe thead th {\n",
       "        text-align: right;\n",
       "    }\n",
       "</style>\n",
       "<table border=\"1\" class=\"dataframe\">\n",
       "  <thead>\n",
       "    <tr style=\"text-align: right;\">\n",
       "      <th>num</th>\n",
       "      <th>0</th>\n",
       "      <th>1</th>\n",
       "      <th>2</th>\n",
       "      <th>3</th>\n",
       "      <th>4</th>\n",
       "    </tr>\n",
       "    <tr>\n",
       "      <th>sex</th>\n",
       "      <th></th>\n",
       "      <th></th>\n",
       "      <th></th>\n",
       "      <th></th>\n",
       "      <th></th>\n",
       "    </tr>\n",
       "  </thead>\n",
       "  <tbody>\n",
       "    <tr>\n",
       "      <th>0</th>\n",
       "      <td>3</td>\n",
       "      <td>3</td>\n",
       "      <td>0</td>\n",
       "      <td>0</td>\n",
       "      <td>0</td>\n",
       "    </tr>\n",
       "    <tr>\n",
       "      <th>1</th>\n",
       "      <td>48</td>\n",
       "      <td>53</td>\n",
       "      <td>41</td>\n",
       "      <td>42</td>\n",
       "      <td>10</td>\n",
       "    </tr>\n",
       "  </tbody>\n",
       "</table>\n",
       "</div>"
      ],
      "text/plain": [
       "num   0   1   2   3   4\n",
       "sex                    \n",
       "0     3   3   0   0   0\n",
       "1    48  53  41  42  10"
      ]
     },
     "execution_count": 23,
     "metadata": {},
     "output_type": "execute_result"
    }
   ],
   "source": [
    "#Checking feature sex with target num\n",
    "x='sex'\n",
    "y='num'\n",
    "\n",
    "#using violinplot\n",
    "sns.violinplot(x,y,data=df_new)\n",
    "plt.title(f\"ViolinPlot: {x} vs {y}\")\n",
    "plt.show()\n",
    "\n",
    "#using crosstab\n",
    "cnc = pd.crosstab(df_new[x],df_new[y])\n",
    "cnc"
   ]
  },
  {
   "cell_type": "markdown",
   "metadata": {},
   "source": [
    "Remarks:\n",
    "    \n",
    "    -In sex 0, only num 0 and 1 are present.\n",
    "    -In sex 1, 0 to 4 num are present.\n",
    "    -In sex 1, majority of num are between 1 to 3."
   ]
  },
  {
   "cell_type": "code",
   "execution_count": 24,
   "metadata": {},
   "outputs": [
    {
     "data": {
      "image/png": "[encoded data removed]",
      "text/plain": [
       "<Figure size 432x288 with 1 Axes>"
      ]
     },
     "metadata": {},
     "output_type": "display_data"
    },
    {
     "data": {
      "text/html": [
       "<div>\n",
       "<style scoped>\n",
       "    .dataframe tbody tr th:only-of-type {\n",
       "        vertical-align: middle;\n",
       "    }\n",
       "\n",
       "    .dataframe tbody tr th {\n",
       "        vertical-align: top;\n",
       "    }\n",
       "\n",
       "    .dataframe thead th {\n",
       "        text-align: right;\n",
       "    }\n",
       "</style>\n",
       "<table border=\"1\" class=\"dataframe\">\n",
       "  <thead>\n",
       "    <tr style=\"text-align: right;\">\n",
       "      <th>num</th>\n",
       "      <th>0</th>\n",
       "      <th>1</th>\n",
       "      <th>2</th>\n",
       "      <th>3</th>\n",
       "      <th>4</th>\n",
       "    </tr>\n",
       "    <tr>\n",
       "      <th>cp</th>\n",
       "      <th></th>\n",
       "      <th></th>\n",
       "      <th></th>\n",
       "      <th></th>\n",
       "      <th></th>\n",
       "    </tr>\n",
       "  </thead>\n",
       "  <tbody>\n",
       "    <tr>\n",
       "      <th>1</th>\n",
       "      <td>3</td>\n",
       "      <td>1</td>\n",
       "      <td>1</td>\n",
       "      <td>3</td>\n",
       "      <td>0</td>\n",
       "    </tr>\n",
       "    <tr>\n",
       "      <th>2</th>\n",
       "      <td>9</td>\n",
       "      <td>4</td>\n",
       "      <td>1</td>\n",
       "      <td>0</td>\n",
       "      <td>0</td>\n",
       "    </tr>\n",
       "    <tr>\n",
       "      <th>3</th>\n",
       "      <td>16</td>\n",
       "      <td>9</td>\n",
       "      <td>8</td>\n",
       "      <td>11</td>\n",
       "      <td>3</td>\n",
       "    </tr>\n",
       "    <tr>\n",
       "      <th>4</th>\n",
       "      <td>23</td>\n",
       "      <td>42</td>\n",
       "      <td>31</td>\n",
       "      <td>28</td>\n",
       "      <td>7</td>\n",
       "    </tr>\n",
       "  </tbody>\n",
       "</table>\n",
       "</div>"
      ],
      "text/plain": [
       "num   0   1   2   3  4\n",
       "cp                    \n",
       "1     3   1   1   3  0\n",
       "2     9   4   1   0  0\n",
       "3    16   9   8  11  3\n",
       "4    23  42  31  28  7"
      ]
     },
     "execution_count": 24,
     "metadata": {},
     "output_type": "execute_result"
    }
   ],
   "source": [
    "#Checking feature cp with target num\n",
    "x='cp'\n",
    "y='num'\n",
    "\n",
    "#using countplot\n",
    "sns.countplot(x,hue=y,data=df_new)\n",
    "plt.title(f\"CountPlot: {x} vs {y}\")\n",
    "plt.show()\n",
    "\n",
    "#using crosstab\n",
    "cnc = pd.crosstab(df_new[x],df_new[y])\n",
    "cnc"
   ]
  },
  {
   "cell_type": "markdown",
   "metadata": {},
   "source": [
    "Remarks:\n",
    "    \n",
    "    -Maximum number of patient with cp 1 are of num 0 and 3.\n",
    "    -Maximum number of patient with cp 2 are of num 0.\n",
    "    -Maximum number of patient with cp 3 are of num 0.\n",
    "    -Maximum number of patient with cp 4 are of num 1.\n",
    "    \n",
    "    -Minimum number of patient with cp 1 are of num 4.\n",
    "    -Minimum number of patient with cp 2 are of num 3 and 4.\n",
    "    -Minimum number of patient with cp 3 are of num 4.\n",
    "    -Minimum number of patient with cp 4 are of num 4."
   ]
  },
  {
   "cell_type": "code",
   "execution_count": 25,
   "metadata": {},
   "outputs": [
    {
     "data": {
      "image/png": "[encoded data removed]",
      "text/plain": [
       "<Figure size 432x288 with 1 Axes>"
      ]
     },
     "metadata": {},
     "output_type": "display_data"
    }
   ],
   "source": [
    "#Checking trestbps with target num using scatterplot\n",
    "x='trestbps'\n",
    "y='num'\n",
    "sns.scatterplot(x,y,data=df_new)\n",
    "plt.title(f\"ScatterPlot: {x} vs {y}\")\n",
    "plt.show()"
   ]
  },
  {
   "cell_type": "markdown",
   "metadata": {},
   "source": [
    "Remarks:\n",
    "    \n",
    "    -Most of num 0 lies between 100 to 130 trestbps.\n",
    "    -Most of num 1 lies between 120 to 145 trestbps.\n",
    "    -Most of num 2 lies between 125 to 155 trestbps.\n",
    "    -Most of num 3 lies between 120 to 160 trestbps.\n",
    "    -Most of num 4 lies between 130 to 140 trestbps."
   ]
  },
  {
   "cell_type": "code",
   "execution_count": 26,
   "metadata": {},
   "outputs": [
    {
     "data": {
      "image/png": "[encoded data removed]",
      "text/plain": [
       "<Figure size 432x288 with 1 Axes>"
      ]
     },
     "metadata": {},
     "output_type": "display_data"
    }
   ],
   "source": [
    "#Checking chol with target num using scatterplot\n",
    "x='chol'\n",
    "y='num'\n",
    "sns.scatterplot(x,y,data=df_new)\n",
    "plt.title(f\"ScatterPlot: {x} vs {y}\")\n",
    "plt.show()"
   ]
  },
  {
   "cell_type": "markdown",
   "metadata": {},
   "source": [
    "Remarks:\n",
    "    \n",
    "    -Most of num 0 lies between 160 to 280 chol.\n",
    "    -Most of num 1 lies between 180 to 290 chol.\n",
    "    -Most of num 2 lies between 210 to 260 chol.\n",
    "    -Most of num 3 lies between 200 to 240 and 280 to 320 chol.\n",
    "    -Most of num 4 ranges between 170 to 290 chol."
   ]
  },
  {
   "cell_type": "code",
   "execution_count": 27,
   "metadata": {},
   "outputs": [
    {
     "data": {
      "image/png": "[encoded data removed]",
      "text/plain": [
       "<Figure size 432x288 with 1 Axes>"
      ]
     },
     "metadata": {},
     "output_type": "display_data"
    },
    {
     "data": {
      "text/html": [
       "<div>\n",
       "<style scoped>\n",
       "    .dataframe tbody tr th:only-of-type {\n",
       "        vertical-align: middle;\n",
       "    }\n",
       "\n",
       "    .dataframe tbody tr th {\n",
       "        vertical-align: top;\n",
       "    }\n",
       "\n",
       "    .dataframe thead th {\n",
       "        text-align: right;\n",
       "    }\n",
       "</style>\n",
       "<table border=\"1\" class=\"dataframe\">\n",
       "  <thead>\n",
       "    <tr style=\"text-align: right;\">\n",
       "      <th>num</th>\n",
       "      <th>0</th>\n",
       "      <th>1</th>\n",
       "      <th>2</th>\n",
       "      <th>3</th>\n",
       "      <th>4</th>\n",
       "    </tr>\n",
       "    <tr>\n",
       "      <th>fbs</th>\n",
       "      <th></th>\n",
       "      <th></th>\n",
       "      <th></th>\n",
       "      <th></th>\n",
       "      <th></th>\n",
       "    </tr>\n",
       "  </thead>\n",
       "  <tbody>\n",
       "    <tr>\n",
       "      <th>0</th>\n",
       "      <td>37</td>\n",
       "      <td>34</td>\n",
       "      <td>28</td>\n",
       "      <td>27</td>\n",
       "      <td>6</td>\n",
       "    </tr>\n",
       "    <tr>\n",
       "      <th>1</th>\n",
       "      <td>14</td>\n",
       "      <td>22</td>\n",
       "      <td>13</td>\n",
       "      <td>15</td>\n",
       "      <td>4</td>\n",
       "    </tr>\n",
       "  </tbody>\n",
       "</table>\n",
       "</div>"
      ],
      "text/plain": [
       "num   0   1   2   3  4\n",
       "fbs                   \n",
       "0    37  34  28  27  6\n",
       "1    14  22  13  15  4"
      ]
     },
     "execution_count": 27,
     "metadata": {},
     "output_type": "execute_result"
    }
   ],
   "source": [
    "#Checking feature fbs with target num\n",
    "x='fbs'\n",
    "y='num'\n",
    "\n",
    "#using countplot\n",
    "sns.countplot(x,hue=y,data=df_new)\n",
    "plt.title(f\"CountPlot: {x} vs {y}\")\n",
    "plt.show()\n",
    "\n",
    "#using crosstab\n",
    "cnc = pd.crosstab(df_new[x],df_new[y])\n",
    "cnc"
   ]
  },
  {
   "cell_type": "markdown",
   "metadata": {},
   "source": [
    "Remarks:\n",
    "    \n",
    "    -Majority of patients are with fbs 0.\n",
    "    -In fbs 0, maximum number of patient are of num 0 and minimum are of num 4.\n",
    "    -In fbs 1, maximum number of patient are of num 1 and minimum are of num 4."
   ]
  },
  {
   "cell_type": "code",
   "execution_count": 28,
   "metadata": {},
   "outputs": [
    {
     "data": {
      "image/png": "[encoded data removed]",
      "text/plain": [
       "<Figure size 432x288 with 1 Axes>"
      ]
     },
     "metadata": {},
     "output_type": "display_data"
    },
    {
     "data": {
      "text/html": [
       "<div>\n",
       "<style scoped>\n",
       "    .dataframe tbody tr th:only-of-type {\n",
       "        vertical-align: middle;\n",
       "    }\n",
       "\n",
       "    .dataframe tbody tr th {\n",
       "        vertical-align: top;\n",
       "    }\n",
       "\n",
       "    .dataframe thead th {\n",
       "        text-align: right;\n",
       "    }\n",
       "</style>\n",
       "<table border=\"1\" class=\"dataframe\">\n",
       "  <thead>\n",
       "    <tr style=\"text-align: right;\">\n",
       "      <th>num</th>\n",
       "      <th>0</th>\n",
       "      <th>1</th>\n",
       "      <th>2</th>\n",
       "      <th>3</th>\n",
       "      <th>4</th>\n",
       "    </tr>\n",
       "    <tr>\n",
       "      <th>restecg</th>\n",
       "      <th></th>\n",
       "      <th></th>\n",
       "      <th></th>\n",
       "      <th></th>\n",
       "      <th></th>\n",
       "    </tr>\n",
       "  </thead>\n",
       "  <tbody>\n",
       "    <tr>\n",
       "      <th>0</th>\n",
       "      <td>18</td>\n",
       "      <td>26</td>\n",
       "      <td>14</td>\n",
       "      <td>19</td>\n",
       "      <td>3</td>\n",
       "    </tr>\n",
       "    <tr>\n",
       "      <th>1</th>\n",
       "      <td>25</td>\n",
       "      <td>20</td>\n",
       "      <td>24</td>\n",
       "      <td>20</td>\n",
       "      <td>4</td>\n",
       "    </tr>\n",
       "    <tr>\n",
       "      <th>2</th>\n",
       "      <td>8</td>\n",
       "      <td>10</td>\n",
       "      <td>3</td>\n",
       "      <td>3</td>\n",
       "      <td>3</td>\n",
       "    </tr>\n",
       "  </tbody>\n",
       "</table>\n",
       "</div>"
      ],
      "text/plain": [
       "num       0   1   2   3  4\n",
       "restecg                   \n",
       "0        18  26  14  19  3\n",
       "1        25  20  24  20  4\n",
       "2         8  10   3   3  3"
      ]
     },
     "execution_count": 28,
     "metadata": {},
     "output_type": "execute_result"
    }
   ],
   "source": [
    "#Checking feature restecg with target num\n",
    "x='restecg'\n",
    "y='num'\n",
    "\n",
    "#using countplot\n",
    "sns.countplot(x,hue=y,data=df_new)\n",
    "plt.title(f\"CountPlot: {x} vs {y}\")\n",
    "plt.show()\n",
    "\n",
    "#using crosstab\n",
    "cnc = pd.crosstab(df_new[x],df_new[y])\n",
    "cnc"
   ]
  },
  {
   "cell_type": "markdown",
   "metadata": {},
   "source": [
    "Remarks:\n",
    "\n",
    "    -Majority of patients are of restecg 0 and 1.\n",
    "    -For restecg 0, maximum number of patients are of num 1 and minimum are of num 4.\n",
    "    -For restecg 1, maximum number of patients are of num 0 and minimum are of num 4.\n",
    "    -For restecg 2, maximum number of patients are of num 1 and minimum are of num 2,3,4."
   ]
  },
  {
   "cell_type": "code",
   "execution_count": 29,
   "metadata": {},
   "outputs": [
    {
     "data": {
      "image/png": "[encoded data removed]",
      "text/plain": [
       "<Figure size 432x288 with 1 Axes>"
      ]
     },
     "metadata": {},
     "output_type": "display_data"
    }
   ],
   "source": [
    "#Checking thalach with target num using scatterplot\n",
    "x='thalach'\n",
    "y='num'\n",
    "sns.scatterplot(x,y,data=df_new)\n",
    "plt.title(f\"ScatterPlot: {x} vs {y}\")\n",
    "plt.show()"
   ]
  },
  {
   "cell_type": "markdown",
   "metadata": {},
   "source": [
    "Remarks:\n",
    "    \n",
    "    -For num 0, thalach mostly ranges from 80 to 165.\n",
    "    -For num 1, thalach mostly ranges from 92 to 165.\n",
    "    -For num 2, thalach mostly ranges from 98 to 148.\n",
    "    -For num 3, thalach mostly ranges from 80 to 160.\n",
    "    -For num 4, thalach mostly ranges from 83 to 150."
   ]
  },
  {
   "cell_type": "code",
   "execution_count": 30,
   "metadata": {},
   "outputs": [
    {
     "data": {
      "image/png": "[encoded data removed]",
      "text/plain": [
       "<Figure size 432x288 with 1 Axes>"
      ]
     },
     "metadata": {},
     "output_type": "display_data"
    },
    {
     "data": {
      "text/html": [
       "<div>\n",
       "<style scoped>\n",
       "    .dataframe tbody tr th:only-of-type {\n",
       "        vertical-align: middle;\n",
       "    }\n",
       "\n",
       "    .dataframe tbody tr th {\n",
       "        vertical-align: top;\n",
       "    }\n",
       "\n",
       "    .dataframe thead th {\n",
       "        text-align: right;\n",
       "    }\n",
       "</style>\n",
       "<table border=\"1\" class=\"dataframe\">\n",
       "  <thead>\n",
       "    <tr style=\"text-align: right;\">\n",
       "      <th>num</th>\n",
       "      <th>0</th>\n",
       "      <th>1</th>\n",
       "      <th>2</th>\n",
       "      <th>3</th>\n",
       "      <th>4</th>\n",
       "    </tr>\n",
       "    <tr>\n",
       "      <th>exang</th>\n",
       "      <th></th>\n",
       "      <th></th>\n",
       "      <th></th>\n",
       "      <th></th>\n",
       "      <th></th>\n",
       "    </tr>\n",
       "  </thead>\n",
       "  <tbody>\n",
       "    <tr>\n",
       "      <th>0</th>\n",
       "      <td>20</td>\n",
       "      <td>15</td>\n",
       "      <td>10</td>\n",
       "      <td>6</td>\n",
       "      <td>1</td>\n",
       "    </tr>\n",
       "    <tr>\n",
       "      <th>1</th>\n",
       "      <td>31</td>\n",
       "      <td>41</td>\n",
       "      <td>31</td>\n",
       "      <td>36</td>\n",
       "      <td>9</td>\n",
       "    </tr>\n",
       "  </tbody>\n",
       "</table>\n",
       "</div>"
      ],
      "text/plain": [
       "num     0   1   2   3  4\n",
       "exang                   \n",
       "0      20  15  10   6  1\n",
       "1      31  41  31  36  9"
      ]
     },
     "execution_count": 30,
     "metadata": {},
     "output_type": "execute_result"
    }
   ],
   "source": [
    "#Checking feature exang with target num\n",
    "x='exang'\n",
    "y='num'\n",
    "\n",
    "#using countplot\n",
    "sns.countplot(x,hue=y,data=df_new)\n",
    "plt.title(f\"CountPlot: {x} vs {y}\")\n",
    "plt.show()\n",
    "\n",
    "#using crosstab\n",
    "cnc = pd.crosstab(df_new[x],df_new[y])\n",
    "cnc"
   ]
  },
  {
   "cell_type": "markdown",
   "metadata": {},
   "source": [
    "Remarks:\n",
    "    \n",
    "    -Majority of patients are of exang 1.\n",
    "    -For exang 0, maximum number of patients are of num 0 and minimum are of num 4.\n",
    "    -For exang 1, maximum number of patients are of num 1 and minimum are of num 4."
   ]
  },
  {
   "cell_type": "code",
   "execution_count": 31,
   "metadata": {},
   "outputs": [
    {
     "data": {
      "image/png": "[encoded data removed]",
      "text/plain": [
       "<Figure size 432x288 with 1 Axes>"
      ]
     },
     "metadata": {},
     "output_type": "display_data"
    }
   ],
   "source": [
    "#Checking oldpeak with target num using scatterplot\n",
    "x='oldpeak'\n",
    "y='num'\n",
    "sns.scatterplot(x,y,data=df_new)\n",
    "plt.title(f\"ScatterPlot: {x} vs {y}\")\n",
    "plt.show()"
   ]
  },
  {
   "cell_type": "markdown",
   "metadata": {},
   "source": [
    "Remarks:\n",
    "    \n",
    "    -For num 0, oldpeak ranges from -0.8 to 3.\n",
    "    -For num 1, oldpeak ranges from 0 to 3.\n",
    "    -For num 2, oldpeak ranges from 0 to 3.\n",
    "    -For num 3, oldpeak ranges from 0 to 4.\n",
    "    -For num 4, oldpeak ranges from 1.5 to 4."
   ]
  },
  {
   "cell_type": "markdown",
   "metadata": {},
   "source": [
    "# Multi-Variate Analysis"
   ]
  },
  {
   "cell_type": "code",
   "execution_count": 32,
   "metadata": {},
   "outputs": [
    {
     "data": {
      "image/png": "[encoded data removed]",
      "text/plain": [
       "<Figure size 864x576 with 2 Axes>"
      ]
     },
     "metadata": {},
     "output_type": "display_data"
    }
   ],
   "source": [
    "#Checking correlation of features\n",
    "df_corr = df_new.corr()\n",
    "\n",
    "#Displaying correlation using heatmap\n",
    "plt.figure(figsize=(12,8))\n",
    "sns.heatmap(df_corr,annot=True,fmt='.0%',annot_kws={\"size\":12})\n",
    "plt.title(\"Correlation of Features\")\n",
    "plt.show()"
   ]
  },
  {
   "cell_type": "markdown",
   "metadata": {},
   "source": [
    "Remarks:\n",
    "    \n",
    "    -Feature age, sex, cp, testbps, exang and oldpeak shows strong correlation with target feature num while other feature\n",
    "    shows weak correlation with target."
   ]
  },
  {
   "cell_type": "code",
   "execution_count": 33,
   "metadata": {},
   "outputs": [
    {
     "data": {
      "image/png": "[encoded data removed]",
      "text/plain": [
       "<Figure size 1080x360 with 1 Axes>"
      ]
     },
     "metadata": {},
     "output_type": "display_data"
    }
   ],
   "source": [
    "#Ploting correlation of features w.r.t. target num using bar plot.\n",
    "plt.figure(figsize=(15,5))\n",
    "df_corr['num'].sort_values(ascending=False).drop('num').plot.bar()\n",
    "plt.title('Correlation of Features w.r.t. num',fontsize=16)\n",
    "plt.ylabel('Correlation Value',fontsize=12)\n",
    "plt.xlabel('Features',fontsize=12)\n",
    "plt.xticks(fontsize=12)\n",
    "plt.show()"
   ]
  },
  {
   "cell_type": "markdown",
   "metadata": {},
   "source": [
    "Remarks:\n",
    "    \n",
    "    -From feature oldpeak to fbs (left to right), there is a positive correlation.\n",
    "    -Feature restecg and thalach shows negative correlation."
   ]
  },
  {
   "cell_type": "markdown",
   "metadata": {},
   "source": [
    "# Preparing Data for Model Training"
   ]
  },
  {
   "cell_type": "markdown",
   "metadata": {},
   "source": [
    "# 1. Removing Outliers"
   ]
  },
  {
   "cell_type": "code",
   "execution_count": 34,
   "metadata": {},
   "outputs": [
    {
     "name": "stdout",
     "output_type": "stream",
     "text": [
      "Original Shape: (200, 11)\n",
      "New Shape: (181, 11)\n",
      "% Loss: 9.5\n"
     ]
    }
   ],
   "source": [
    "#Checking and removing outliers using zscore (threshold value -3 to +3)\n",
    "from scipy.stats import zscore\n",
    "z = np.abs(zscore(np.array(df_new,dtype=np.float64)))\n",
    "\n",
    "#Removing outliers\n",
    "df_wo = df_new[(z<=3).all(axis=1)]\n",
    "\n",
    "print(f\"Original Shape: {df_new.shape}\")\n",
    "print(f\"New Shape: {df_wo.shape}\")\n",
    "print(f\"% Loss: {(len(df_new)-len(df_wo))*100/len(df_new)}\")"
   ]
  },
  {
   "cell_type": "markdown",
   "metadata": {},
   "source": [
    "Remarks:\n",
    "    \n",
    "    -Since % Loss of data is more than 5, therefore discarding the outlier removal and proceeding with original data."
   ]
  },
  {
   "cell_type": "markdown",
   "metadata": {},
   "source": [
    "# 2. Seperating Input and Output/Target Variable"
   ]
  },
  {
   "cell_type": "code",
   "execution_count": 36,
   "metadata": {},
   "outputs": [
    {
     "name": "stdout",
     "output_type": "stream",
     "text": [
      "(200, 10)\n",
      "(200,)\n"
     ]
    }
   ],
   "source": [
    "x = df_new.drop(columns=['num']) #Input variable\n",
    "y = df_new['num'] #Target variable\n",
    "\n",
    "print(x.shape)\n",
    "print(y.shape)"
   ]
  },
  {
   "cell_type": "markdown",
   "metadata": {},
   "source": [
    "# 3. Skewness"
   ]
  },
  {
   "cell_type": "code",
   "execution_count": 37,
   "metadata": {},
   "outputs": [
    {
     "data": {
      "text/plain": [
       "age        -0.404091\n",
       "sex        -5.552105\n",
       "cp         -1.648734\n",
       "trestbps   -1.320144\n",
       "chol       -0.602584\n",
       "fbs         0.680636\n",
       "restecg     0.391463\n",
       "thalach     0.265689\n",
       "exang      -1.102593\n",
       "oldpeak     0.259052\n",
       "dtype: float64"
      ]
     },
     "execution_count": 37,
     "metadata": {},
     "output_type": "execute_result"
    }
   ],
   "source": [
    "#Checking skewness of data\n",
    "x.skew()"
   ]
  },
  {
   "cell_type": "markdown",
   "metadata": {},
   "source": [
    "Remarks:\n",
    "    \n",
    "    -Feature sex, cp, chol, exang has skewness and needs to be treated."
   ]
  },
  {
   "cell_type": "code",
   "execution_count": 38,
   "metadata": {},
   "outputs": [],
   "source": [
    "#Treating skewness\n",
    "from sklearn.preprocessing import power_transform\n",
    "x_t = power_transform(x)"
   ]
  },
  {
   "cell_type": "markdown",
   "metadata": {},
   "source": [
    "# 4. Scaling Data for Model Training"
   ]
  },
  {
   "cell_type": "code",
   "execution_count": 39,
   "metadata": {},
   "outputs": [],
   "source": [
    "#Scaling contineous data for model training\n",
    "from sklearn.preprocessing import StandardScaler\n",
    "sc = StandardScaler()\n",
    "\n",
    "scaled_x = sc.fit_transform(x_t)"
   ]
  },
  {
   "cell_type": "markdown",
   "metadata": {},
   "source": [
    "# Finding Best Model"
   ]
  },
  {
   "cell_type": "code",
   "execution_count": 40,
   "metadata": {},
   "outputs": [],
   "source": [
    "from sklearn.model_selection import train_test_split, GridSearchCV, cross_val_score\n",
    "from sklearn.metrics import accuracy_score,classification_report,confusion_matrix\n",
    "import warnings\n",
    "\n",
    "warnings.simplefilter('ignore')"
   ]
  },
  {
   "cell_type": "code",
   "execution_count": 46,
   "metadata": {},
   "outputs": [],
   "source": [
    "#Defining function for best random state\n",
    "def get_best_rstate(r,model,x,y,test_size=0.25):\n",
    "    best_rState = 0\n",
    "    best_mScore = 0\n",
    "    for i in r:\n",
    "        x_train,x_test,y_train,y_test = train_test_split(x,y,test_size=test_size,random_state=i)\n",
    "        \n",
    "        model.fit(x_train,y_train)\n",
    "        predict_y = model.predict(x_test)\n",
    "        \n",
    "        temp_aScore = accuracy_score(y_test,predict_y)\n",
    "        if temp_aScore>best_mScore:\n",
    "            best_mScore = temp_aScore\n",
    "            best_rState = i\n",
    "                \n",
    "    return best_rState,best_mScore\n",
    "\n",
    "\n",
    "#Defining function for best CV\n",
    "def get_best_cv(model,parameters,x_train,y_train,r=range(2,20)):\n",
    "    best_cv = 0\n",
    "    best_cvScore = 0\n",
    "    for i in r:\n",
    "        gscv = GridSearchCV(model,parameters)\n",
    "        gscv.fit(x_train,y_train)\n",
    "        \n",
    "        temp_cvScore = cross_val_score(gscv.best_estimator_,x_train,y_train,cv=i).mean()\n",
    "        if temp_cvScore>best_cvScore:\n",
    "            best_cvScore = temp_cvScore\n",
    "            best_cv = i\n",
    "            \n",
    "    return best_cv,best_cvScore\n",
    "\n",
    "#Defining function for building models\n",
    "def build_model(models,x,y,r_range=range(100),t_size=0.25,cv_range=range(2,20)):\n",
    "    for i in models:\n",
    "        print(f\"Processing {i}...\")\n",
    "        #Finding the best random_state for train test split\n",
    "        best_rState, best_mScore = get_best_rstate(r_range,models[i][\"name\"],x,y)\n",
    "        \n",
    "        #Splitting train test data with best random_state\n",
    "        x_train,x_test,y_train,y_test = train_test_split(x,y,test_size=t_size,random_state=best_rState)\n",
    "        \n",
    "        #Hypertuning Parameters\n",
    "        #Finding best CV\n",
    "        best_cv, best_cvScore = get_best_cv(models[i][\"name\"],models[i][\"parameters\"],x_train,y_train,cv_range)\n",
    "        \n",
    "        #Building final model with hypertuned parameters\n",
    "        gscv = GridSearchCV(models[i][\"name\"],models[i][\"parameters\"],cv=best_cv)\n",
    "        gscv.fit(x_train,y_train)\n",
    "        \n",
    "        #Checking Final Performance of the model\n",
    "        predict_y = gscv.best_estimator_.predict(x_test)\n",
    "        \n",
    "        aScore = accuracy_score(y_test,predict_y)\n",
    "        cMatrix = confusion_matrix(y_test,predict_y)\n",
    "        cReport = classification_report(y_test,predict_y)\n",
    "        \n",
    "        #Storing metrics\n",
    "        models[i]['initial_accuracy_score'] = best_mScore\n",
    "        models[i]['accuracy_score'] = aScore\n",
    "        models[i]['confusion_matrix'] = cMatrix\n",
    "        models[i]['classification_report'] = cReport\n",
    "        \n",
    "        #Storing model specs.\n",
    "        models[i][\"random_state\"] = best_rState\n",
    "        models[i][\"x_train\"] = x_train\n",
    "        models[i][\"x_test\"] = x_test\n",
    "        models[i][\"y_train\"] = y_train\n",
    "        models[i][\"y_test\"] = y_test\n",
    "        models[i][\"cv\"] = best_cv\n",
    "        models[i][\"cross_val_score\"] = best_cvScore\n",
    "        models[i][\"gscv\"] = gscv\n",
    "        models[i][\"predict_y\"] = predict_y\n",
    "        \n",
    "        print(f\"\\tCompleted...\\n\")\n",
    "    return models;"
   ]
  },
  {
   "cell_type": "code",
   "execution_count": 48,
   "metadata": {},
   "outputs": [
    {
     "name": "stdout",
     "output_type": "stream",
     "text": [
      "Processing GaussianNB...\n",
      "\tCompleted...\n",
      "\n",
      "Processing DecisionTreeClassifier...\n",
      "\tCompleted...\n",
      "\n",
      "Processing RandomForestClassifier...\n",
      "\tCompleted...\n",
      "\n",
      "Processing AdaBoostClassifier...\n",
      "\tCompleted...\n",
      "\n"
     ]
    }
   ],
   "source": [
    "#Preparing List of Models and Testing them to get best model.\n",
    "from sklearn.naive_bayes import GaussianNB\n",
    "from sklearn.tree import DecisionTreeClassifier\n",
    "from sklearn.ensemble import AdaBoostClassifier, RandomForestClassifier\n",
    "\n",
    "#List of models with parameters\n",
    "models = {\n",
    "    \"GaussianNB\":{\n",
    "        \"name\": GaussianNB(),\n",
    "        \"parameters\": {\n",
    "            \"var_smoothing\": [1e-9,1e-8]\n",
    "        }\n",
    "    },\n",
    "    \"DecisionTreeClassifier\":{\n",
    "        \"name\": DecisionTreeClassifier(),\n",
    "        \"parameters\":{\n",
    "            \"criterion\": ['gini','entropy'],\n",
    "            \"splitter\": ['best','random']            \n",
    "        }\n",
    "    },\n",
    "    \"RandomForestClassifier\":{\n",
    "        \"name\": RandomForestClassifier(),\n",
    "        \"parameters\":{\n",
    "            \"criterion\": ['gini','entropy'],\n",
    "            \"max_features\": ['auto','sqrt','log2']\n",
    "        }\n",
    "    },\n",
    "    \"AdaBoostClassifier\":{\n",
    "        \"name\": AdaBoostClassifier(),\n",
    "        \"parameters\":{\n",
    "            \"n_estimators\": [50,100],\n",
    "            \"algorithm\": ['SAMME','SAMME.R']\n",
    "        }\n",
    "    }\n",
    "}\n",
    "\n",
    "#Testing models and storing results\n",
    "build_models = build_model(models,scaled_x,y)"
   ]
  },
  {
   "cell_type": "code",
   "execution_count": 49,
   "metadata": {
    "scrolled": false
   },
   "outputs": [
    {
     "name": "stdout",
     "output_type": "stream",
     "text": [
      "START: GaussianNB\n",
      "\n",
      "\tBest random_state: 82 with best accuracy_score: 0.4\n",
      "\n",
      "\tBest CV: 5 with best cross_val_score: 0.16666666666666669\n",
      "\n",
      "\tBest Parameters: {'var_smoothing': 1e-09}\n",
      "\n",
      "\n",
      "----Final Performance----\n",
      "Accuracy Score: 40.0%\n",
      "\n",
      "Confusion Matix:\n",
      "[[ 0  0  7  4  1]\n",
      " [ 0  0  8  2  0]\n",
      " [ 0  0 11  1  0]\n",
      " [ 0  0  4  8  1]\n",
      " [ 0  0  0  2  1]]\n",
      "\n",
      "Classification Report:\n",
      "              precision    recall  f1-score   support\n",
      "\n",
      "           0       0.00      0.00      0.00        12\n",
      "           1       0.00      0.00      0.00        10\n",
      "           2       0.37      0.92      0.52        12\n",
      "           3       0.47      0.62      0.53        13\n",
      "           4       0.33      0.33      0.33         3\n",
      "\n",
      "    accuracy                           0.40        50\n",
      "   macro avg       0.23      0.37      0.28        50\n",
      "weighted avg       0.23      0.40      0.28        50\n",
      "\n",
      "\n",
      "END: GaussianNB\n",
      "\n",
      "\n",
      "\n",
      "START: DecisionTreeClassifier\n",
      "\n",
      "\tBest random_state: 95 with best accuracy_score: 0.46\n",
      "\n",
      "\tBest CV: 4 with best cross_val_score: 0.3399715504978663\n",
      "\n",
      "\tBest Parameters: {'criterion': 'gini', 'splitter': 'random'}\n",
      "\n",
      "\n",
      "----Final Performance----\n",
      "Accuracy Score: 42.0%\n",
      "\n",
      "Confusion Matix:\n",
      "[[9 1 1 4 0]\n",
      " [3 2 3 2 0]\n",
      " [2 1 4 0 1]\n",
      " [3 2 4 5 0]\n",
      " [1 1 0 0 1]]\n",
      "\n",
      "Classification Report:\n",
      "              precision    recall  f1-score   support\n",
      "\n",
      "           0       0.50      0.60      0.55        15\n",
      "           1       0.29      0.20      0.24        10\n",
      "           2       0.33      0.50      0.40         8\n",
      "           3       0.45      0.36      0.40        14\n",
      "           4       0.50      0.33      0.40         3\n",
      "\n",
      "    accuracy                           0.42        50\n",
      "   macro avg       0.41      0.40      0.40        50\n",
      "weighted avg       0.42      0.42      0.41        50\n",
      "\n",
      "\n",
      "END: DecisionTreeClassifier\n",
      "\n",
      "\n",
      "\n",
      "START: RandomForestClassifier\n",
      "\n",
      "\tBest random_state: 99 with best accuracy_score: 0.48\n",
      "\n",
      "\tBest CV: 2 with best cross_val_score: 0.32666666666666666\n",
      "\n",
      "\tBest Parameters: {'criterion': 'gini', 'max_features': 'log2'}\n",
      "\n",
      "\n",
      "----Final Performance----\n",
      "Accuracy Score: 42.0%\n",
      "\n",
      "Confusion Matix:\n",
      "[[8 4 0 1 0]\n",
      " [2 9 2 2 0]\n",
      " [3 2 3 2 0]\n",
      " [1 3 3 1 0]\n",
      " [0 0 2 2 0]]\n",
      "\n",
      "Classification Report:\n",
      "              precision    recall  f1-score   support\n",
      "\n",
      "           0       0.57      0.62      0.59        13\n",
      "           1       0.50      0.60      0.55        15\n",
      "           2       0.30      0.30      0.30        10\n",
      "           3       0.12      0.12      0.12         8\n",
      "           4       0.00      0.00      0.00         4\n",
      "\n",
      "    accuracy                           0.42        50\n",
      "   macro avg       0.30      0.33      0.31        50\n",
      "weighted avg       0.38      0.42      0.40        50\n",
      "\n",
      "\n",
      "END: RandomForestClassifier\n",
      "\n",
      "\n",
      "\n",
      "START: AdaBoostClassifier\n",
      "\n",
      "\tBest random_state: 41 with best accuracy_score: 0.44\n",
      "\n",
      "\tBest CV: 7 with best cross_val_score: 0.32065553494124927\n",
      "\n",
      "\tBest Parameters: {'algorithm': 'SAMME', 'n_estimators': 100}\n",
      "\n",
      "\n",
      "----Final Performance----\n",
      "Accuracy Score: 38.0%\n",
      "\n",
      "Confusion Matix:\n",
      "[[5 3 0 4 0]\n",
      " [5 8 4 2 1]\n",
      " [1 2 2 1 0]\n",
      " [3 1 3 4 0]\n",
      " [0 0 1 0 0]]\n",
      "\n",
      "Classification Report:\n",
      "              precision    recall  f1-score   support\n",
      "\n",
      "           0       0.36      0.42      0.38        12\n",
      "           1       0.57      0.40      0.47        20\n",
      "           2       0.20      0.33      0.25         6\n",
      "           3       0.36      0.36      0.36        11\n",
      "           4       0.00      0.00      0.00         1\n",
      "\n",
      "    accuracy                           0.38        50\n",
      "   macro avg       0.30      0.30      0.29        50\n",
      "weighted avg       0.42      0.38      0.39        50\n",
      "\n",
      "\n",
      "END: AdaBoostClassifier\n",
      "\n",
      "\n",
      "\n"
     ]
    },
    {
     "data": {
      "text/html": [
       "<div>\n",
       "<style scoped>\n",
       "    .dataframe tbody tr th:only-of-type {\n",
       "        vertical-align: middle;\n",
       "    }\n",
       "\n",
       "    .dataframe tbody tr th {\n",
       "        vertical-align: top;\n",
       "    }\n",
       "\n",
       "    .dataframe thead th {\n",
       "        text-align: right;\n",
       "    }\n",
       "</style>\n",
       "<table border=\"1\" class=\"dataframe\">\n",
       "  <thead>\n",
       "    <tr style=\"text-align: right;\">\n",
       "      <th></th>\n",
       "      <th>Name</th>\n",
       "      <th>accuracy_score</th>\n",
       "      <th>cross_val_score</th>\n",
       "      <th>Difference</th>\n",
       "    </tr>\n",
       "  </thead>\n",
       "  <tbody>\n",
       "    <tr>\n",
       "      <th>0</th>\n",
       "      <td>GaussianNB</td>\n",
       "      <td>0.40</td>\n",
       "      <td>0.166667</td>\n",
       "      <td>0.233333</td>\n",
       "    </tr>\n",
       "    <tr>\n",
       "      <th>1</th>\n",
       "      <td>DecisionTreeClassifier</td>\n",
       "      <td>0.42</td>\n",
       "      <td>0.339972</td>\n",
       "      <td>0.080028</td>\n",
       "    </tr>\n",
       "    <tr>\n",
       "      <th>2</th>\n",
       "      <td>RandomForestClassifier</td>\n",
       "      <td>0.42</td>\n",
       "      <td>0.326667</td>\n",
       "      <td>0.093333</td>\n",
       "    </tr>\n",
       "    <tr>\n",
       "      <th>3</th>\n",
       "      <td>AdaBoostClassifier</td>\n",
       "      <td>0.38</td>\n",
       "      <td>0.320656</td>\n",
       "      <td>0.059344</td>\n",
       "    </tr>\n",
       "  </tbody>\n",
       "</table>\n",
       "</div>"
      ],
      "text/plain": [
       "                     Name  accuracy_score  cross_val_score  Difference\n",
       "0              GaussianNB            0.40         0.166667    0.233333\n",
       "1  DecisionTreeClassifier            0.42         0.339972    0.080028\n",
       "2  RandomForestClassifier            0.42         0.326667    0.093333\n",
       "3      AdaBoostClassifier            0.38         0.320656    0.059344"
      ]
     },
     "execution_count": 49,
     "metadata": {},
     "output_type": "execute_result"
    }
   ],
   "source": [
    "#Displaying model performance and comparing it to select best model.\n",
    "model_names = []\n",
    "model_aScores = []\n",
    "model_cvScores = []\n",
    "for i in build_models:\n",
    "    model = build_models[i]\n",
    "    print(f\"START: {i}\\n\")\n",
    "    print(f\"\\tBest random_state: {model['random_state']} with best accuracy_score: {model['initial_accuracy_score']}\\n\")\n",
    "    print(f\"\\tBest CV: {model['cv']} with best cross_val_score: {model['cross_val_score']}\\n\")\n",
    "    print(f\"\\tBest Parameters: {model['gscv'].best_params_}\\n\\n\")\n",
    "    print(f\"----Final Performance----\")\n",
    "    print(f\"Accuracy Score: {round(model['accuracy_score']*100,2)}%\\n\")\n",
    "    print(f\"Confusion Matix:\\n{model['confusion_matrix']}\\n\")\n",
    "    print(f\"Classification Report:\\n{model['classification_report']}\\n\")\n",
    "    print(f\"END: {i}\\n\\n\\n\")\n",
    "    \n",
    "    model_names.append(i)\n",
    "    model_aScores.append(model['accuracy_score'])\n",
    "    model_cvScores.append(model['cross_val_score'])\n",
    "    \n",
    "df_cmp = pd.DataFrame({\"Name\":model_names,\"accuracy_score\":model_aScores,\"cross_val_score\":model_cvScores})\n",
    "df_cmp['Difference'] = df_cmp['accuracy_score']-df_cmp['cross_val_score']\n",
    "df_cmp"
   ]
  },
  {
   "cell_type": "markdown",
   "metadata": {},
   "source": [
    "Remarks:\n",
    "    -From all the tested models, DicisionTreeClassifier performs better with small difference between\n",
    " accuracy_score of 42.00% and cross_val_score of 33.99%, therefore proceeding with DicisionTreeClassifier."
   ]
  },
  {
   "cell_type": "markdown",
   "metadata": {},
   "source": [
    "# Model Saving or Serialization"
   ]
  },
  {
   "cell_type": "code",
   "execution_count": 51,
   "metadata": {},
   "outputs": [],
   "source": [
    "import joblib\n",
    "filename = \"heart_disease_project.pkl\"\n",
    "final_model = build_models['DecisionTreeClassifier']\n",
    "joblib.dump(final_model['gscv'].best_estimator_,open(filename,'wb'))"
   ]
  },
  {
   "cell_type": "markdown",
   "metadata": {},
   "source": [
    "# Conclusion"
   ]
  },
  {
   "cell_type": "code",
   "execution_count": 53,
   "metadata": {},
   "outputs": [
    {
     "data": {
      "text/html": [
       "<div>\n",
       "<style scoped>\n",
       "    .dataframe tbody tr th:only-of-type {\n",
       "        vertical-align: middle;\n",
       "    }\n",
       "\n",
       "    .dataframe tbody tr th {\n",
       "        vertical-align: top;\n",
       "    }\n",
       "\n",
       "    .dataframe thead th {\n",
       "        text-align: right;\n",
       "    }\n",
       "</style>\n",
       "<table border=\"1\" class=\"dataframe\">\n",
       "  <thead>\n",
       "    <tr style=\"text-align: right;\">\n",
       "      <th></th>\n",
       "      <th>Original</th>\n",
       "      <th>Predicted</th>\n",
       "    </tr>\n",
       "  </thead>\n",
       "  <tbody>\n",
       "    <tr>\n",
       "      <th>0</th>\n",
       "      <td>1</td>\n",
       "      <td>2</td>\n",
       "    </tr>\n",
       "    <tr>\n",
       "      <th>1</th>\n",
       "      <td>3</td>\n",
       "      <td>0</td>\n",
       "    </tr>\n",
       "    <tr>\n",
       "      <th>2</th>\n",
       "      <td>3</td>\n",
       "      <td>3</td>\n",
       "    </tr>\n",
       "    <tr>\n",
       "      <th>3</th>\n",
       "      <td>0</td>\n",
       "      <td>0</td>\n",
       "    </tr>\n",
       "    <tr>\n",
       "      <th>4</th>\n",
       "      <td>4</td>\n",
       "      <td>1</td>\n",
       "    </tr>\n",
       "    <tr>\n",
       "      <th>5</th>\n",
       "      <td>3</td>\n",
       "      <td>3</td>\n",
       "    </tr>\n",
       "    <tr>\n",
       "      <th>6</th>\n",
       "      <td>1</td>\n",
       "      <td>0</td>\n",
       "    </tr>\n",
       "    <tr>\n",
       "      <th>7</th>\n",
       "      <td>3</td>\n",
       "      <td>1</td>\n",
       "    </tr>\n",
       "    <tr>\n",
       "      <th>8</th>\n",
       "      <td>1</td>\n",
       "      <td>3</td>\n",
       "    </tr>\n",
       "    <tr>\n",
       "      <th>9</th>\n",
       "      <td>2</td>\n",
       "      <td>2</td>\n",
       "    </tr>\n",
       "    <tr>\n",
       "      <th>10</th>\n",
       "      <td>2</td>\n",
       "      <td>2</td>\n",
       "    </tr>\n",
       "    <tr>\n",
       "      <th>11</th>\n",
       "      <td>1</td>\n",
       "      <td>0</td>\n",
       "    </tr>\n",
       "    <tr>\n",
       "      <th>12</th>\n",
       "      <td>0</td>\n",
       "      <td>0</td>\n",
       "    </tr>\n",
       "    <tr>\n",
       "      <th>13</th>\n",
       "      <td>0</td>\n",
       "      <td>0</td>\n",
       "    </tr>\n",
       "    <tr>\n",
       "      <th>14</th>\n",
       "      <td>3</td>\n",
       "      <td>2</td>\n",
       "    </tr>\n",
       "    <tr>\n",
       "      <th>15</th>\n",
       "      <td>0</td>\n",
       "      <td>3</td>\n",
       "    </tr>\n",
       "    <tr>\n",
       "      <th>16</th>\n",
       "      <td>1</td>\n",
       "      <td>2</td>\n",
       "    </tr>\n",
       "    <tr>\n",
       "      <th>17</th>\n",
       "      <td>0</td>\n",
       "      <td>0</td>\n",
       "    </tr>\n",
       "    <tr>\n",
       "      <th>18</th>\n",
       "      <td>4</td>\n",
       "      <td>4</td>\n",
       "    </tr>\n",
       "    <tr>\n",
       "      <th>19</th>\n",
       "      <td>0</td>\n",
       "      <td>0</td>\n",
       "    </tr>\n",
       "    <tr>\n",
       "      <th>20</th>\n",
       "      <td>0</td>\n",
       "      <td>1</td>\n",
       "    </tr>\n",
       "    <tr>\n",
       "      <th>21</th>\n",
       "      <td>0</td>\n",
       "      <td>2</td>\n",
       "    </tr>\n",
       "    <tr>\n",
       "      <th>22</th>\n",
       "      <td>0</td>\n",
       "      <td>3</td>\n",
       "    </tr>\n",
       "    <tr>\n",
       "      <th>23</th>\n",
       "      <td>2</td>\n",
       "      <td>0</td>\n",
       "    </tr>\n",
       "    <tr>\n",
       "      <th>24</th>\n",
       "      <td>1</td>\n",
       "      <td>1</td>\n",
       "    </tr>\n",
       "    <tr>\n",
       "      <th>25</th>\n",
       "      <td>2</td>\n",
       "      <td>1</td>\n",
       "    </tr>\n",
       "    <tr>\n",
       "      <th>26</th>\n",
       "      <td>0</td>\n",
       "      <td>0</td>\n",
       "    </tr>\n",
       "    <tr>\n",
       "      <th>27</th>\n",
       "      <td>0</td>\n",
       "      <td>3</td>\n",
       "    </tr>\n",
       "    <tr>\n",
       "      <th>28</th>\n",
       "      <td>0</td>\n",
       "      <td>0</td>\n",
       "    </tr>\n",
       "    <tr>\n",
       "      <th>29</th>\n",
       "      <td>0</td>\n",
       "      <td>3</td>\n",
       "    </tr>\n",
       "    <tr>\n",
       "      <th>30</th>\n",
       "      <td>1</td>\n",
       "      <td>0</td>\n",
       "    </tr>\n",
       "    <tr>\n",
       "      <th>31</th>\n",
       "      <td>3</td>\n",
       "      <td>2</td>\n",
       "    </tr>\n",
       "    <tr>\n",
       "      <th>32</th>\n",
       "      <td>2</td>\n",
       "      <td>2</td>\n",
       "    </tr>\n",
       "    <tr>\n",
       "      <th>33</th>\n",
       "      <td>3</td>\n",
       "      <td>3</td>\n",
       "    </tr>\n",
       "    <tr>\n",
       "      <th>34</th>\n",
       "      <td>1</td>\n",
       "      <td>3</td>\n",
       "    </tr>\n",
       "    <tr>\n",
       "      <th>35</th>\n",
       "      <td>0</td>\n",
       "      <td>0</td>\n",
       "    </tr>\n",
       "    <tr>\n",
       "      <th>36</th>\n",
       "      <td>3</td>\n",
       "      <td>1</td>\n",
       "    </tr>\n",
       "    <tr>\n",
       "      <th>37</th>\n",
       "      <td>3</td>\n",
       "      <td>3</td>\n",
       "    </tr>\n",
       "    <tr>\n",
       "      <th>38</th>\n",
       "      <td>2</td>\n",
       "      <td>2</td>\n",
       "    </tr>\n",
       "    <tr>\n",
       "      <th>39</th>\n",
       "      <td>3</td>\n",
       "      <td>3</td>\n",
       "    </tr>\n",
       "    <tr>\n",
       "      <th>40</th>\n",
       "      <td>3</td>\n",
       "      <td>2</td>\n",
       "    </tr>\n",
       "    <tr>\n",
       "      <th>41</th>\n",
       "      <td>0</td>\n",
       "      <td>0</td>\n",
       "    </tr>\n",
       "    <tr>\n",
       "      <th>42</th>\n",
       "      <td>2</td>\n",
       "      <td>4</td>\n",
       "    </tr>\n",
       "    <tr>\n",
       "      <th>43</th>\n",
       "      <td>2</td>\n",
       "      <td>0</td>\n",
       "    </tr>\n",
       "    <tr>\n",
       "      <th>44</th>\n",
       "      <td>3</td>\n",
       "      <td>2</td>\n",
       "    </tr>\n",
       "    <tr>\n",
       "      <th>45</th>\n",
       "      <td>1</td>\n",
       "      <td>2</td>\n",
       "    </tr>\n",
       "    <tr>\n",
       "      <th>46</th>\n",
       "      <td>3</td>\n",
       "      <td>0</td>\n",
       "    </tr>\n",
       "    <tr>\n",
       "      <th>47</th>\n",
       "      <td>3</td>\n",
       "      <td>0</td>\n",
       "    </tr>\n",
       "    <tr>\n",
       "      <th>48</th>\n",
       "      <td>1</td>\n",
       "      <td>1</td>\n",
       "    </tr>\n",
       "    <tr>\n",
       "      <th>49</th>\n",
       "      <td>4</td>\n",
       "      <td>0</td>\n",
       "    </tr>\n",
       "  </tbody>\n",
       "</table>\n",
       "</div>"
      ],
      "text/plain": [
       "    Original  Predicted\n",
       "0          1          2\n",
       "1          3          0\n",
       "2          3          3\n",
       "3          0          0\n",
       "4          4          1\n",
       "5          3          3\n",
       "6          1          0\n",
       "7          3          1\n",
       "8          1          3\n",
       "9          2          2\n",
       "10         2          2\n",
       "11         1          0\n",
       "12         0          0\n",
       "13         0          0\n",
       "14         3          2\n",
       "15         0          3\n",
       "16         1          2\n",
       "17         0          0\n",
       "18         4          4\n",
       "19         0          0\n",
       "20         0          1\n",
       "21         0          2\n",
       "22         0          3\n",
       "23         2          0\n",
       "24         1          1\n",
       "25         2          1\n",
       "26         0          0\n",
       "27         0          3\n",
       "28         0          0\n",
       "29         0          3\n",
       "30         1          0\n",
       "31         3          2\n",
       "32         2          2\n",
       "33         3          3\n",
       "34         1          3\n",
       "35         0          0\n",
       "36         3          1\n",
       "37         3          3\n",
       "38         2          2\n",
       "39         3          3\n",
       "40         3          2\n",
       "41         0          0\n",
       "42         2          4\n",
       "43         2          0\n",
       "44         3          2\n",
       "45         1          2\n",
       "46         3          0\n",
       "47         3          0\n",
       "48         1          1\n",
       "49         4          0"
      ]
     },
     "execution_count": 53,
     "metadata": {},
     "output_type": "execute_result"
    }
   ],
   "source": [
    "#Comparing Original data with Predicted data\n",
    "cmp = pd.DataFrame({\"Original\":np.array(final_model['y_test']),\"Predicted\":np.array(final_model['predict_y'])})\n",
    "cmp"
   ]
  },
  {
   "cell_type": "markdown",
   "metadata": {},
   "source": [
    "# Final Remarks:\n",
    "    DecisionTreeClassifier performs below average with an accuracy of 42.00% and can be further increased by training with more specific data."
   ]
  }
 ],
 "metadata": {
  "kernelspec": {
   "display_name": "Python 3",
   "language": "python",
   "name": "python3"
  },
  "language_info": {
   "codemirror_mode": {
    "name": "ipython",
    "version": 3
   },
   "file_extension": ".py",
   "mimetype": "text/x-python",
   "name": "python",
   "nbconvert_exporter": "python",
   "pygments_lexer": "ipython3",
   "version": "3.8.3"
  }
 },
 "nbformat": 4,
 "nbformat_minor": 4
}
