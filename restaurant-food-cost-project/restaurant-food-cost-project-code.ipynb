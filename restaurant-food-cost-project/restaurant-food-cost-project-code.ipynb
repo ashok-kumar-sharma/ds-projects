{
 "cells": [
  {
   "cell_type": "markdown",
   "metadata": {},
   "source": [
    "# About Dataset\n",
    "The dataset is in .xlsx (Microsoft Excel) format and consists of ```12,690 rows with 9 features``` as explained below:\n",
    "- TITLE: The feature of the restaurant which can help identify what and for whom it is suitable for.\n",
    "- RESTAURANT_ID: A unique ID for each restaurant.\n",
    "- CUISINES: The variety of cuisines that the restaurant offers.\n",
    "- TIME: The open hours of the restaurant.\n",
    "- CITY: The city in which the restaurant is located.\n",
    "- LOCALITY: The locality of the restaurant.\n",
    "- RATING: The average rating of the restaurant by customers.\n",
    "- VOTES: The overall votes received by the restaurant.\n",
    "- COST: The average cost of a two-person meal.\n",
    "\n",
    "Since, the target COST is of contineous type, therefore, it is a Regression Problem."
   ]
  },
  {
   "cell_type": "markdown",
   "metadata": {},
   "source": [
    "# Loading Dataset"
   ]
  },
  {
   "cell_type": "code",
   "execution_count": 1,
   "metadata": {},
   "outputs": [
    {
     "data": {
      "text/html": [
       "<div>\n",
       "<style scoped>\n",
       "    .dataframe tbody tr th:only-of-type {\n",
       "        vertical-align: middle;\n",
       "    }\n",
       "\n",
       "    .dataframe tbody tr th {\n",
       "        vertical-align: top;\n",
       "    }\n",
       "\n",
       "    .dataframe thead th {\n",
       "        text-align: right;\n",
       "    }\n",
       "</style>\n",
       "<table border=\"1\" class=\"dataframe\">\n",
       "  <thead>\n",
       "    <tr style=\"text-align: right;\">\n",
       "      <th></th>\n",
       "      <th>TITLE</th>\n",
       "      <th>RESTAURANT_ID</th>\n",
       "      <th>CUISINES</th>\n",
       "      <th>TIME</th>\n",
       "      <th>CITY</th>\n",
       "      <th>LOCALITY</th>\n",
       "      <th>RATING</th>\n",
       "      <th>VOTES</th>\n",
       "      <th>COST</th>\n",
       "    </tr>\n",
       "  </thead>\n",
       "  <tbody>\n",
       "    <tr>\n",
       "      <th>0</th>\n",
       "      <td>CASUAL DINING</td>\n",
       "      <td>9438</td>\n",
       "      <td>Malwani, Goan, North Indian</td>\n",
       "      <td>11am – 4pm, 7:30pm – 11:30pm (Mon-Sun)</td>\n",
       "      <td>Thane</td>\n",
       "      <td>Dombivali East</td>\n",
       "      <td>3.6</td>\n",
       "      <td>49 votes</td>\n",
       "      <td>1200</td>\n",
       "    </tr>\n",
       "    <tr>\n",
       "      <th>1</th>\n",
       "      <td>CASUAL DINING,BAR</td>\n",
       "      <td>13198</td>\n",
       "      <td>Asian, Modern Indian, Japanese</td>\n",
       "      <td>6pm – 11pm (Mon-Sun)</td>\n",
       "      <td>Chennai</td>\n",
       "      <td>Ramapuram</td>\n",
       "      <td>4.2</td>\n",
       "      <td>30 votes</td>\n",
       "      <td>1500</td>\n",
       "    </tr>\n",
       "    <tr>\n",
       "      <th>2</th>\n",
       "      <td>CASUAL DINING</td>\n",
       "      <td>10915</td>\n",
       "      <td>North Indian, Chinese, Biryani, Hyderabadi</td>\n",
       "      <td>11am – 3:30pm, 7pm – 11pm (Mon-Sun)</td>\n",
       "      <td>Chennai</td>\n",
       "      <td>Saligramam</td>\n",
       "      <td>3.8</td>\n",
       "      <td>221 votes</td>\n",
       "      <td>800</td>\n",
       "    </tr>\n",
       "    <tr>\n",
       "      <th>3</th>\n",
       "      <td>QUICK BITES</td>\n",
       "      <td>6346</td>\n",
       "      <td>Tibetan, Chinese</td>\n",
       "      <td>11:30am – 1am (Mon-Sun)</td>\n",
       "      <td>Mumbai</td>\n",
       "      <td>Bandra West</td>\n",
       "      <td>4.1</td>\n",
       "      <td>24 votes</td>\n",
       "      <td>800</td>\n",
       "    </tr>\n",
       "    <tr>\n",
       "      <th>4</th>\n",
       "      <td>DESSERT PARLOR</td>\n",
       "      <td>15387</td>\n",
       "      <td>Desserts</td>\n",
       "      <td>11am – 1am (Mon-Sun)</td>\n",
       "      <td>Mumbai</td>\n",
       "      <td>Lower Parel</td>\n",
       "      <td>3.8</td>\n",
       "      <td>165 votes</td>\n",
       "      <td>300</td>\n",
       "    </tr>\n",
       "    <tr>\n",
       "      <th>...</th>\n",
       "      <td>...</td>\n",
       "      <td>...</td>\n",
       "      <td>...</td>\n",
       "      <td>...</td>\n",
       "      <td>...</td>\n",
       "      <td>...</td>\n",
       "      <td>...</td>\n",
       "      <td>...</td>\n",
       "      <td>...</td>\n",
       "    </tr>\n",
       "    <tr>\n",
       "      <th>12685</th>\n",
       "      <td>QUICK BITES</td>\n",
       "      <td>13228</td>\n",
       "      <td>North Indian, Burger, Kebab</td>\n",
       "      <td>12noon – 12midnight (Mon, Tue, Wed, Thu, Sun)...</td>\n",
       "      <td>Hyderabad</td>\n",
       "      <td>Gachibowli</td>\n",
       "      <td>3.8</td>\n",
       "      <td>546 votes</td>\n",
       "      <td>500</td>\n",
       "    </tr>\n",
       "    <tr>\n",
       "      <th>12686</th>\n",
       "      <td>CASUAL DINING,BAR</td>\n",
       "      <td>9686</td>\n",
       "      <td>Goan, Continental</td>\n",
       "      <td>12noon – 1am (Mon-Fri),11am – 5pm, 7pm – 1am...</td>\n",
       "      <td>Mumbai</td>\n",
       "      <td>Bandra Kurla Complex</td>\n",
       "      <td>4.3</td>\n",
       "      <td>1214 votes</td>\n",
       "      <td>1800</td>\n",
       "    </tr>\n",
       "    <tr>\n",
       "      <th>12687</th>\n",
       "      <td>LOUNGE</td>\n",
       "      <td>11133</td>\n",
       "      <td>Finger Food, Continental, Asian, Chinese</td>\n",
       "      <td>12noon – 12:30AM (Mon-Sun)</td>\n",
       "      <td>Navi Mumbai</td>\n",
       "      <td>Vashi</td>\n",
       "      <td>4.0</td>\n",
       "      <td>608 votes</td>\n",
       "      <td>1300</td>\n",
       "    </tr>\n",
       "    <tr>\n",
       "      <th>12688</th>\n",
       "      <td>CASUAL DINING</td>\n",
       "      <td>6134</td>\n",
       "      <td>North Indian, South Indian, Chinese, Street Food</td>\n",
       "      <td>6am – 10:45pm (Mon-Sun)</td>\n",
       "      <td>Chennai</td>\n",
       "      <td>Maduravoyal</td>\n",
       "      <td>3.5</td>\n",
       "      <td>32 votes</td>\n",
       "      <td>400</td>\n",
       "    </tr>\n",
       "    <tr>\n",
       "      <th>12689</th>\n",
       "      <td>CASUAL DINING</td>\n",
       "      <td>6430</td>\n",
       "      <td>North Indian, Chinese</td>\n",
       "      <td>12:30pm – 11pm (Mon-Sun)</td>\n",
       "      <td>Hyderabad</td>\n",
       "      <td>Vanasthalipuram</td>\n",
       "      <td>3.4</td>\n",
       "      <td>677 votes</td>\n",
       "      <td>600</td>\n",
       "    </tr>\n",
       "  </tbody>\n",
       "</table>\n",
       "<p>12690 rows × 9 columns</p>\n",
       "</div>"
      ],
      "text/plain": [
       "                   TITLE  RESTAURANT_ID  \\\n",
       "0          CASUAL DINING           9438   \n",
       "1      CASUAL DINING,BAR          13198   \n",
       "2          CASUAL DINING          10915   \n",
       "3            QUICK BITES           6346   \n",
       "4         DESSERT PARLOR          15387   \n",
       "...                  ...            ...   \n",
       "12685        QUICK BITES          13228   \n",
       "12686  CASUAL DINING,BAR           9686   \n",
       "12687             LOUNGE          11133   \n",
       "12688      CASUAL DINING           6134   \n",
       "12689      CASUAL DINING           6430   \n",
       "\n",
       "                                               CUISINES  \\\n",
       "0                           Malwani, Goan, North Indian   \n",
       "1                        Asian, Modern Indian, Japanese   \n",
       "2            North Indian, Chinese, Biryani, Hyderabadi   \n",
       "3                                      Tibetan, Chinese   \n",
       "4                                              Desserts   \n",
       "...                                                 ...   \n",
       "12685                       North Indian, Burger, Kebab   \n",
       "12686                                 Goan, Continental   \n",
       "12687          Finger Food, Continental, Asian, Chinese   \n",
       "12688  North Indian, South Indian, Chinese, Street Food   \n",
       "12689                             North Indian, Chinese   \n",
       "\n",
       "                                                   TIME         CITY  \\\n",
       "0                11am – 4pm, 7:30pm – 11:30pm (Mon-Sun)        Thane   \n",
       "1                                  6pm – 11pm (Mon-Sun)      Chennai   \n",
       "2                   11am – 3:30pm, 7pm – 11pm (Mon-Sun)      Chennai   \n",
       "3                               11:30am – 1am (Mon-Sun)       Mumbai   \n",
       "4                                  11am – 1am (Mon-Sun)       Mumbai   \n",
       "...                                                 ...          ...   \n",
       "12685  12noon – 12midnight (Mon, Tue, Wed, Thu, Sun)...    Hyderabad   \n",
       "12686   12noon – 1am (Mon-Fri),11am – 5pm, 7pm – 1am...       Mumbai   \n",
       "12687                        12noon – 12:30AM (Mon-Sun)  Navi Mumbai   \n",
       "12688                           6am – 10:45pm (Mon-Sun)      Chennai   \n",
       "12689                          12:30pm – 11pm (Mon-Sun)    Hyderabad   \n",
       "\n",
       "                   LOCALITY RATING       VOTES  COST  \n",
       "0            Dombivali East    3.6    49 votes  1200  \n",
       "1                 Ramapuram    4.2    30 votes  1500  \n",
       "2                Saligramam    3.8   221 votes   800  \n",
       "3               Bandra West    4.1    24 votes   800  \n",
       "4               Lower Parel    3.8   165 votes   300  \n",
       "...                     ...    ...         ...   ...  \n",
       "12685            Gachibowli    3.8   546 votes   500  \n",
       "12686  Bandra Kurla Complex    4.3  1214 votes  1800  \n",
       "12687                 Vashi    4.0   608 votes  1300  \n",
       "12688           Maduravoyal    3.5    32 votes   400  \n",
       "12689       Vanasthalipuram    3.4   677 votes   600  \n",
       "\n",
       "[12690 rows x 9 columns]"
      ]
     },
     "execution_count": 1,
     "metadata": {},
     "output_type": "execute_result"
    }
   ],
   "source": [
    "import pandas as pd\n",
    "import re\n",
    "df_rfc = pd.read_excel('Data_Train.xlsx',sheet_name='Sheet1')\n",
    "\n",
    "#Interpreting dataset\n",
    "df_rfc"
   ]
  },
  {
   "cell_type": "markdown",
   "metadata": {},
   "source": [
    "### Remarks:\n",
    "- There are 12690 rows and 9 columns."
   ]
  },
  {
   "cell_type": "code",
   "execution_count": 2,
   "metadata": {},
   "outputs": [
    {
     "name": "stdout",
     "output_type": "stream",
     "text": [
      "<class 'pandas.core.frame.DataFrame'>\n",
      "RangeIndex: 12690 entries, 0 to 12689\n",
      "Data columns (total 9 columns):\n",
      " #   Column         Non-Null Count  Dtype \n",
      "---  ------         --------------  ----- \n",
      " 0   TITLE          12690 non-null  object\n",
      " 1   RESTAURANT_ID  12690 non-null  int64 \n",
      " 2   CUISINES       12690 non-null  object\n",
      " 3   TIME           12690 non-null  object\n",
      " 4   CITY           12578 non-null  object\n",
      " 5   LOCALITY       12592 non-null  object\n",
      " 6   RATING         12688 non-null  object\n",
      " 7   VOTES          11486 non-null  object\n",
      " 8   COST           12690 non-null  int64 \n",
      "dtypes: int64(2), object(7)\n",
      "memory usage: 892.4+ KB\n"
     ]
    }
   ],
   "source": [
    "#Checking general information of dataset\n",
    "df_rfc.info()"
   ]
  },
  {
   "cell_type": "markdown",
   "metadata": {},
   "source": [
    "### Remarks:\n",
    "- Feature ```RESTAURANT_ID and  COST``` are of contineous type while others are of descrete type which needs to be handled accordingly.\n",
    "- Feature ```CITY, LOCALITY, RATING and VOTES``` has null values and needs to be treated accordingly."
   ]
  },
  {
   "cell_type": "markdown",
   "metadata": {},
   "source": [
    "# Preparing Dataset"
   ]
  },
  {
   "cell_type": "code",
   "execution_count": 75,
   "metadata": {},
   "outputs": [],
   "source": [
    "import numpy as np\n",
    "#copying dataset into new dataframe object\n",
    "df = df_rfc.copy()"
   ]
  },
  {
   "cell_type": "markdown",
   "metadata": {},
   "source": [
    "### ```checking feature TITLE```"
   ]
  },
  {
   "cell_type": "code",
   "execution_count": 4,
   "metadata": {},
   "outputs": [
    {
     "data": {
      "text/plain": [
       "array(['CASUAL DINING', 'CASUAL DINING,BAR', 'QUICK BITES',\n",
       "       'DESSERT PARLOR', 'CAFÉ', 'MICROBREWERY',\n",
       "       'QUICK BITES,BEVERAGE SHOP', 'CASUAL DINING,IRANI CAFE',\n",
       "       'BAKERY,QUICK BITES', 'None', 'BAR,CASUAL DINING', 'BAR', 'PUB',\n",
       "       'BEVERAGE SHOP', 'FINE DINING', 'CAFÉ,QUICK BITES',\n",
       "       'BEVERAGE SHOP,DESSERT PARLOR', 'SWEET SHOP,QUICK BITES',\n",
       "       'DESSERT PARLOR,SWEET SHOP', 'BAKERY', 'BAKERY,DESSERT PARLOR',\n",
       "       'BAR,LOUNGE', 'FOOD COURT', 'LOUNGE',\n",
       "       'DESSERT PARLOR,BEVERAGE SHOP', 'LOUNGE,CASUAL DINING',\n",
       "       'FOOD TRUCK', 'QUICK BITES,FOOD COURT', 'SWEET SHOP',\n",
       "       'BEVERAGE SHOP,FOOD COURT', 'PUB,CASUAL DINING', 'MESS',\n",
       "       'MICROBREWERY,CASUAL DINING', 'CASUAL DINING,SWEET SHOP', 'KIOSK',\n",
       "       'QUICK BITES,KIOSK', 'CLUB', 'FINE DINING,BAR',\n",
       "       'DESSERT PARLOR,QUICK BITES', 'FOOD COURT,QUICK BITES',\n",
       "       'LOUNGE,CAFÉ', 'BAKERY,CONFECTIONERY', 'CASUAL DINING,CAFÉ',\n",
       "       'DHABA', 'CAFÉ,DESSERT PARLOR', 'QUICK BITES,DESSERT PARLOR',\n",
       "       'PUB,MICROBREWERY', 'LOUNGE,BAR', 'DESSERT PARLOR,CAFÉ',\n",
       "       'CAFÉ,BAR', 'SWEET SHOP,CONFECTIONERY', 'CASUAL DINING,PUB',\n",
       "       'MICROBREWERY,BAR', 'DESSERT PARLOR,BAKERY',\n",
       "       'QUICK BITES,SWEET SHOP', 'BEVERAGE SHOP,QUICK BITES',\n",
       "       'CASUAL DINING,LOUNGE', 'CASUAL DINING,CLUB', 'QUICK BITES,CAFÉ',\n",
       "       'BAR,CAFÉ', 'CAFÉ,CASUAL DINING', 'QUICK BITES,CASUAL DINING',\n",
       "       'CASUAL DINING,MICROBREWERY', 'CASUAL DINING,BAKERY',\n",
       "       'CAFÉ,BAKERY', 'MEAT SHOP', 'QUICK BITES,BAKERY',\n",
       "       'BAR,FINE DINING', 'SWEET SHOP,CASUAL DINING',\n",
       "       'MEAT SHOP,QUICK BITES', 'PUB,LOUNGE', 'BAKERY,CAFÉ',\n",
       "       'COCKTAIL BAR', 'FINE DINING,LOUNGE', 'CONFECTIONERY',\n",
       "       'QUICK BITES,BAR', 'BAKERY,FOOD COURT', 'PUB,BAR',\n",
       "       'DESSERT PARLOR,FOOD COURT', 'QUICK BITES,FOOD TRUCK',\n",
       "       'BAKERY,BEVERAGE SHOP', 'CLUB,BAR', 'BAKERY,SWEET SHOP',\n",
       "       'SWEET SHOP,BAKERY', 'CASUAL DINING,FOOD COURT', 'PAAN SHOP',\n",
       "       'BEVERAGE SHOP,CAFÉ', 'FOOD COURT,DESSERT PARLOR',\n",
       "       'CLUB,MICROBREWERY', 'CAFÉ,BEVERAGE SHOP',\n",
       "       'DESSERT PARLOR,PAAN SHOP', 'MICROBREWERY,LOUNGE', 'LOUNGE,CLUB',\n",
       "       'SWEET SHOP,DESSERT PARLOR', 'BAR,PUB',\n",
       "       'CONFECTIONERY,QUICK BITES', 'DESSERT PARLOR,KIOSK', 'LOUNGE,PUB',\n",
       "       'SWEET SHOP,BEVERAGE SHOP', 'FINE DINING,CAFÉ',\n",
       "       'BEVERAGE SHOP,CASUAL DINING', 'KIOSK,QUICK BITES',\n",
       "       'CASUAL DINING,DESSERT PARLOR', 'LOUNGE,FINE DINING', 'PUB,CAFÉ',\n",
       "       'CAFÉ,LOUNGE', 'BAR,CLUB', 'COCKTAIL BAR,CASUAL DINING',\n",
       "       'MICROBREWERY,PUB', 'CAFÉ,FINE DINING', 'KIOSK,FOOD COURT',\n",
       "       'LOUNGE,MICROBREWERY', 'BAR,MICROBREWERY'], dtype=object)"
      ]
     },
     "execution_count": 4,
     "metadata": {},
     "output_type": "execute_result"
    }
   ],
   "source": [
    "x = 'TITLE'\n",
    "#checking for unique values\n",
    "df[x].unique()"
   ]
  },
  {
   "cell_type": "markdown",
   "metadata": {},
   "source": [
    "### Remarks:\n",
    "- values are stored in comma seperated form, therefore, splitting these values into different columns and extracting the unique values."
   ]
  },
  {
   "cell_type": "code",
   "execution_count": 5,
   "metadata": {
    "scrolled": true
   },
   "outputs": [
    {
     "name": "stdout",
     "output_type": "stream",
     "text": [
      "['CASUAL DINING' 'QUICK BITES' 'DESSERT PARLOR' 'CAFÉ' 'MICROBREWERY'\n",
      " 'BAKERY' 'BAR' 'PUB' 'BEVERAGE SHOP' 'FINE DINING' 'SWEET SHOP'\n",
      " 'FOOD COURT' 'LOUNGE' 'FOOD TRUCK' 'MESS' 'KIOSK' 'CLUB' 'DHABA'\n",
      " 'MEAT SHOP' 'COCKTAIL BAR' 'CONFECTIONERY' 'PAAN SHOP' 'IRANI CAFE']\n"
     ]
    },
    {
     "data": {
      "text/html": [
       "<div>\n",
       "<style scoped>\n",
       "    .dataframe tbody tr th:only-of-type {\n",
       "        vertical-align: middle;\n",
       "    }\n",
       "\n",
       "    .dataframe tbody tr th {\n",
       "        vertical-align: top;\n",
       "    }\n",
       "\n",
       "    .dataframe thead th {\n",
       "        text-align: right;\n",
       "    }\n",
       "</style>\n",
       "<table border=\"1\" class=\"dataframe\">\n",
       "  <thead>\n",
       "    <tr style=\"text-align: right;\">\n",
       "      <th></th>\n",
       "      <th>TITLE</th>\n",
       "      <th>RESTAURANT_ID</th>\n",
       "      <th>CUISINES</th>\n",
       "      <th>TIME</th>\n",
       "      <th>CITY</th>\n",
       "      <th>LOCALITY</th>\n",
       "      <th>RATING</th>\n",
       "      <th>VOTES</th>\n",
       "      <th>COST</th>\n",
       "      <th>is CASUAL DINING</th>\n",
       "      <th>...</th>\n",
       "      <th>is FOOD TRUCK</th>\n",
       "      <th>is MESS</th>\n",
       "      <th>is KIOSK</th>\n",
       "      <th>is CLUB</th>\n",
       "      <th>is DHABA</th>\n",
       "      <th>is MEAT SHOP</th>\n",
       "      <th>is COCKTAIL BAR</th>\n",
       "      <th>is CONFECTIONERY</th>\n",
       "      <th>is PAAN SHOP</th>\n",
       "      <th>is IRANI CAFE</th>\n",
       "    </tr>\n",
       "  </thead>\n",
       "  <tbody>\n",
       "    <tr>\n",
       "      <th>0</th>\n",
       "      <td>CASUAL DINING</td>\n",
       "      <td>9438</td>\n",
       "      <td>Malwani, Goan, North Indian</td>\n",
       "      <td>11am – 4pm, 7:30pm – 11:30pm (Mon-Sun)</td>\n",
       "      <td>Thane</td>\n",
       "      <td>Dombivali East</td>\n",
       "      <td>3.6</td>\n",
       "      <td>49 votes</td>\n",
       "      <td>1200</td>\n",
       "      <td>Yes</td>\n",
       "      <td>...</td>\n",
       "      <td>No</td>\n",
       "      <td>No</td>\n",
       "      <td>No</td>\n",
       "      <td>No</td>\n",
       "      <td>No</td>\n",
       "      <td>No</td>\n",
       "      <td>No</td>\n",
       "      <td>No</td>\n",
       "      <td>No</td>\n",
       "      <td>No</td>\n",
       "    </tr>\n",
       "    <tr>\n",
       "      <th>1</th>\n",
       "      <td>CASUAL DINING,BAR</td>\n",
       "      <td>13198</td>\n",
       "      <td>Asian, Modern Indian, Japanese</td>\n",
       "      <td>6pm – 11pm (Mon-Sun)</td>\n",
       "      <td>Chennai</td>\n",
       "      <td>Ramapuram</td>\n",
       "      <td>4.2</td>\n",
       "      <td>30 votes</td>\n",
       "      <td>1500</td>\n",
       "      <td>Yes</td>\n",
       "      <td>...</td>\n",
       "      <td>No</td>\n",
       "      <td>No</td>\n",
       "      <td>No</td>\n",
       "      <td>No</td>\n",
       "      <td>No</td>\n",
       "      <td>No</td>\n",
       "      <td>No</td>\n",
       "      <td>No</td>\n",
       "      <td>No</td>\n",
       "      <td>No</td>\n",
       "    </tr>\n",
       "    <tr>\n",
       "      <th>2</th>\n",
       "      <td>CASUAL DINING</td>\n",
       "      <td>10915</td>\n",
       "      <td>North Indian, Chinese, Biryani, Hyderabadi</td>\n",
       "      <td>11am – 3:30pm, 7pm – 11pm (Mon-Sun)</td>\n",
       "      <td>Chennai</td>\n",
       "      <td>Saligramam</td>\n",
       "      <td>3.8</td>\n",
       "      <td>221 votes</td>\n",
       "      <td>800</td>\n",
       "      <td>Yes</td>\n",
       "      <td>...</td>\n",
       "      <td>No</td>\n",
       "      <td>No</td>\n",
       "      <td>No</td>\n",
       "      <td>No</td>\n",
       "      <td>No</td>\n",
       "      <td>No</td>\n",
       "      <td>No</td>\n",
       "      <td>No</td>\n",
       "      <td>No</td>\n",
       "      <td>No</td>\n",
       "    </tr>\n",
       "    <tr>\n",
       "      <th>3</th>\n",
       "      <td>QUICK BITES</td>\n",
       "      <td>6346</td>\n",
       "      <td>Tibetan, Chinese</td>\n",
       "      <td>11:30am – 1am (Mon-Sun)</td>\n",
       "      <td>Mumbai</td>\n",
       "      <td>Bandra West</td>\n",
       "      <td>4.1</td>\n",
       "      <td>24 votes</td>\n",
       "      <td>800</td>\n",
       "      <td>No</td>\n",
       "      <td>...</td>\n",
       "      <td>No</td>\n",
       "      <td>No</td>\n",
       "      <td>No</td>\n",
       "      <td>No</td>\n",
       "      <td>No</td>\n",
       "      <td>No</td>\n",
       "      <td>No</td>\n",
       "      <td>No</td>\n",
       "      <td>No</td>\n",
       "      <td>No</td>\n",
       "    </tr>\n",
       "    <tr>\n",
       "      <th>4</th>\n",
       "      <td>DESSERT PARLOR</td>\n",
       "      <td>15387</td>\n",
       "      <td>Desserts</td>\n",
       "      <td>11am – 1am (Mon-Sun)</td>\n",
       "      <td>Mumbai</td>\n",
       "      <td>Lower Parel</td>\n",
       "      <td>3.8</td>\n",
       "      <td>165 votes</td>\n",
       "      <td>300</td>\n",
       "      <td>No</td>\n",
       "      <td>...</td>\n",
       "      <td>No</td>\n",
       "      <td>No</td>\n",
       "      <td>No</td>\n",
       "      <td>No</td>\n",
       "      <td>No</td>\n",
       "      <td>No</td>\n",
       "      <td>No</td>\n",
       "      <td>No</td>\n",
       "      <td>No</td>\n",
       "      <td>No</td>\n",
       "    </tr>\n",
       "  </tbody>\n",
       "</table>\n",
       "<p>5 rows × 32 columns</p>\n",
       "</div>"
      ],
      "text/plain": [
       "               TITLE  RESTAURANT_ID  \\\n",
       "0      CASUAL DINING           9438   \n",
       "1  CASUAL DINING,BAR          13198   \n",
       "2      CASUAL DINING          10915   \n",
       "3        QUICK BITES           6346   \n",
       "4     DESSERT PARLOR          15387   \n",
       "\n",
       "                                     CUISINES  \\\n",
       "0                 Malwani, Goan, North Indian   \n",
       "1              Asian, Modern Indian, Japanese   \n",
       "2  North Indian, Chinese, Biryani, Hyderabadi   \n",
       "3                            Tibetan, Chinese   \n",
       "4                                    Desserts   \n",
       "\n",
       "                                     TIME     CITY        LOCALITY RATING  \\\n",
       "0  11am – 4pm, 7:30pm – 11:30pm (Mon-Sun)    Thane  Dombivali East    3.6   \n",
       "1                    6pm – 11pm (Mon-Sun)  Chennai       Ramapuram    4.2   \n",
       "2     11am – 3:30pm, 7pm – 11pm (Mon-Sun)  Chennai      Saligramam    3.8   \n",
       "3                 11:30am – 1am (Mon-Sun)   Mumbai     Bandra West    4.1   \n",
       "4                    11am – 1am (Mon-Sun)   Mumbai     Lower Parel    3.8   \n",
       "\n",
       "       VOTES  COST is CASUAL DINING  ... is FOOD TRUCK is MESS is KIOSK  \\\n",
       "0   49 votes  1200              Yes  ...            No      No       No   \n",
       "1   30 votes  1500              Yes  ...            No      No       No   \n",
       "2  221 votes   800              Yes  ...            No      No       No   \n",
       "3   24 votes   800               No  ...            No      No       No   \n",
       "4  165 votes   300               No  ...            No      No       No   \n",
       "\n",
       "  is CLUB is DHABA is MEAT SHOP is COCKTAIL BAR is CONFECTIONERY is PAAN SHOP  \\\n",
       "0      No       No           No              No               No           No   \n",
       "1      No       No           No              No               No           No   \n",
       "2      No       No           No              No               No           No   \n",
       "3      No       No           No              No               No           No   \n",
       "4      No       No           No              No               No           No   \n",
       "\n",
       "  is IRANI CAFE  \n",
       "0            No  \n",
       "1            No  \n",
       "2            No  \n",
       "3            No  \n",
       "4            No  \n",
       "\n",
       "[5 rows x 32 columns]"
      ]
     },
     "execution_count": 5,
     "metadata": {},
     "output_type": "execute_result"
    }
   ],
   "source": [
    "#Splitting feature TITLE\n",
    "x = 'TITLE'\n",
    "temp_df = df[x].str.split(',',expand=True)\n",
    "unique_values = []\n",
    "for i in temp_df.columns:\n",
    "    unique_values = np.append(unique_values,temp_df[i].str.strip().unique())\n",
    "\n",
    "unique_title = pd.unique(unique_values)\n",
    "unique_title = unique_title[(unique_title != 'None')&(unique_title != None)&(unique_title !='')]\n",
    "print(unique_title)\n",
    "\n",
    "#Seperating unique values into different columns\n",
    "for i in unique_title:\n",
    "    col = \"is \"+i\n",
    "    df[col] = df[x].apply(lambda y: 'Yes' if i in y else 'No')\n",
    "    \n",
    "#Interpreting first 5 rows after extraction\n",
    "df.head(5)"
   ]
  },
  {
   "cell_type": "markdown",
   "metadata": {},
   "source": [
    "### ```checking feature CUISINES```"
   ]
  },
  {
   "cell_type": "code",
   "execution_count": 6,
   "metadata": {},
   "outputs": [
    {
     "data": {
      "text/plain": [
       "array(['Malwani, Goan, North Indian', 'Asian, Modern Indian, Japanese',\n",
       "       'North Indian, Chinese, Biryani, Hyderabadi', ...,\n",
       "       'North Indian, Burger, Kebab', 'Goan, Continental',\n",
       "       'Finger Food, Continental, Asian, Chinese'], dtype=object)"
      ]
     },
     "execution_count": 6,
     "metadata": {},
     "output_type": "execute_result"
    }
   ],
   "source": [
    "x = 'CUISINES'\n",
    "#checking for unique values\n",
    "df[x].unique()"
   ]
  },
  {
   "cell_type": "markdown",
   "metadata": {},
   "source": [
    "### Remarks:\n",
    "- values are stored in comma seperated form, so, splitting them to different columns would give more information."
   ]
  },
  {
   "cell_type": "code",
   "execution_count": 7,
   "metadata": {
    "scrolled": true
   },
   "outputs": [
    {
     "name": "stdout",
     "output_type": "stream",
     "text": [
      "['Malwani' 'Asian' 'North Indian' 'Tibetan' 'Desserts' 'Cafe' 'Bar Food'\n",
      " 'South Indian' 'Fast Food' 'Arabian' 'Maharashtrian' 'Parsi' 'Chinese'\n",
      " 'Bakery' 'Continental' 'Andhra' 'Biryani' 'Italian' 'Finger Food'\n",
      " 'Beverages' 'American' 'European' 'Ice Cream' 'Kerala' 'Seafood' 'Pizza'\n",
      " 'Mithai' 'Rolls' 'Thai' 'Juices' 'Burger' 'Hyderabadi' 'Mediterranean'\n",
      " 'Gujarati' 'Mexican' 'Healthy Food' 'Sandwich' 'Indian' 'Coffee'\n",
      " 'Indonesian' 'BBQ' 'Bihari' 'Lebanese' 'Bengali' 'Chettinad' 'Mughlai'\n",
      " 'Street Food' 'Rajasthani' 'Portuguese' 'Oriya' 'Japanese' 'Ethiopian'\n",
      " 'Modern Indian' 'Spanish' 'Russian' 'Mangalorean' 'Turkish' 'Steak'\n",
      " 'Kebab' 'Wraps' 'Momos' 'Naga' 'Burmese' 'Malaysian' 'Korean' 'Tea'\n",
      " 'Sindhi' 'Vietnamese' 'Goan' 'French' 'Raw Meats' 'Salad'\n",
      " 'Middle Eastern' 'Kashmiri' 'North Eastern' 'Sri Lankan' 'Sushi'\n",
      " 'Tex-Mex' 'Afghan' 'Konkan' 'Bubble Tea' 'African' 'German' 'Drinks Only'\n",
      " 'Paan' 'Assamese' 'Nepalese' 'Hot dogs' 'Cafe Food' 'Awadhi' 'British'\n",
      " 'Bohri' 'Armenian' 'South American' 'Iranian' 'Lucknowi'\n",
      " 'Charcoal Chicken' 'Tamil' 'Pakistani' 'Irish' 'Multi Cuisine'\n",
      " 'Roast Chicken' 'Singaporean' 'Egyptian' 'Cantonese' 'Belgian' 'Panini'\n",
      " 'Greek' 'Pan Asian' 'Oriental' 'Grill' 'Hot Pot' 'Moroccan' 'Fusion'\n",
      " 'Peruvian' 'Mongolian' 'Modern Australian' 'Coffee and Tea' 'Poké'\n",
      " 'Cuisine Varies' 'Jewish' 'Satay' 'Vegan' 'Dumplings']\n"
     ]
    },
    {
     "data": {
      "text/html": [
       "<div>\n",
       "<style scoped>\n",
       "    .dataframe tbody tr th:only-of-type {\n",
       "        vertical-align: middle;\n",
       "    }\n",
       "\n",
       "    .dataframe tbody tr th {\n",
       "        vertical-align: top;\n",
       "    }\n",
       "\n",
       "    .dataframe thead th {\n",
       "        text-align: right;\n",
       "    }\n",
       "</style>\n",
       "<table border=\"1\" class=\"dataframe\">\n",
       "  <thead>\n",
       "    <tr style=\"text-align: right;\">\n",
       "      <th></th>\n",
       "      <th>TITLE</th>\n",
       "      <th>RESTAURANT_ID</th>\n",
       "      <th>CUISINES</th>\n",
       "      <th>TIME</th>\n",
       "      <th>CITY</th>\n",
       "      <th>LOCALITY</th>\n",
       "      <th>RATING</th>\n",
       "      <th>VOTES</th>\n",
       "      <th>COST</th>\n",
       "      <th>is CASUAL DINING</th>\n",
       "      <th>...</th>\n",
       "      <th>is Peruvian</th>\n",
       "      <th>is Mongolian</th>\n",
       "      <th>is Modern Australian</th>\n",
       "      <th>is Coffee and Tea</th>\n",
       "      <th>is Poké</th>\n",
       "      <th>is Cuisine Varies</th>\n",
       "      <th>is Jewish</th>\n",
       "      <th>is Satay</th>\n",
       "      <th>is Vegan</th>\n",
       "      <th>is Dumplings</th>\n",
       "    </tr>\n",
       "  </thead>\n",
       "  <tbody>\n",
       "    <tr>\n",
       "      <th>0</th>\n",
       "      <td>CASUAL DINING</td>\n",
       "      <td>9438</td>\n",
       "      <td>Malwani, Goan, North Indian</td>\n",
       "      <td>11am – 4pm, 7:30pm – 11:30pm (Mon-Sun)</td>\n",
       "      <td>Thane</td>\n",
       "      <td>Dombivali East</td>\n",
       "      <td>3.6</td>\n",
       "      <td>49 votes</td>\n",
       "      <td>1200</td>\n",
       "      <td>Yes</td>\n",
       "      <td>...</td>\n",
       "      <td>No</td>\n",
       "      <td>No</td>\n",
       "      <td>No</td>\n",
       "      <td>No</td>\n",
       "      <td>No</td>\n",
       "      <td>No</td>\n",
       "      <td>No</td>\n",
       "      <td>No</td>\n",
       "      <td>No</td>\n",
       "      <td>No</td>\n",
       "    </tr>\n",
       "    <tr>\n",
       "      <th>1</th>\n",
       "      <td>CASUAL DINING,BAR</td>\n",
       "      <td>13198</td>\n",
       "      <td>Asian, Modern Indian, Japanese</td>\n",
       "      <td>6pm – 11pm (Mon-Sun)</td>\n",
       "      <td>Chennai</td>\n",
       "      <td>Ramapuram</td>\n",
       "      <td>4.2</td>\n",
       "      <td>30 votes</td>\n",
       "      <td>1500</td>\n",
       "      <td>Yes</td>\n",
       "      <td>...</td>\n",
       "      <td>No</td>\n",
       "      <td>No</td>\n",
       "      <td>No</td>\n",
       "      <td>No</td>\n",
       "      <td>No</td>\n",
       "      <td>No</td>\n",
       "      <td>No</td>\n",
       "      <td>No</td>\n",
       "      <td>No</td>\n",
       "      <td>No</td>\n",
       "    </tr>\n",
       "    <tr>\n",
       "      <th>2</th>\n",
       "      <td>CASUAL DINING</td>\n",
       "      <td>10915</td>\n",
       "      <td>North Indian, Chinese, Biryani, Hyderabadi</td>\n",
       "      <td>11am – 3:30pm, 7pm – 11pm (Mon-Sun)</td>\n",
       "      <td>Chennai</td>\n",
       "      <td>Saligramam</td>\n",
       "      <td>3.8</td>\n",
       "      <td>221 votes</td>\n",
       "      <td>800</td>\n",
       "      <td>Yes</td>\n",
       "      <td>...</td>\n",
       "      <td>No</td>\n",
       "      <td>No</td>\n",
       "      <td>No</td>\n",
       "      <td>No</td>\n",
       "      <td>No</td>\n",
       "      <td>No</td>\n",
       "      <td>No</td>\n",
       "      <td>No</td>\n",
       "      <td>No</td>\n",
       "      <td>No</td>\n",
       "    </tr>\n",
       "    <tr>\n",
       "      <th>3</th>\n",
       "      <td>QUICK BITES</td>\n",
       "      <td>6346</td>\n",
       "      <td>Tibetan, Chinese</td>\n",
       "      <td>11:30am – 1am (Mon-Sun)</td>\n",
       "      <td>Mumbai</td>\n",
       "      <td>Bandra West</td>\n",
       "      <td>4.1</td>\n",
       "      <td>24 votes</td>\n",
       "      <td>800</td>\n",
       "      <td>No</td>\n",
       "      <td>...</td>\n",
       "      <td>No</td>\n",
       "      <td>No</td>\n",
       "      <td>No</td>\n",
       "      <td>No</td>\n",
       "      <td>No</td>\n",
       "      <td>No</td>\n",
       "      <td>No</td>\n",
       "      <td>No</td>\n",
       "      <td>No</td>\n",
       "      <td>No</td>\n",
       "    </tr>\n",
       "    <tr>\n",
       "      <th>4</th>\n",
       "      <td>DESSERT PARLOR</td>\n",
       "      <td>15387</td>\n",
       "      <td>Desserts</td>\n",
       "      <td>11am – 1am (Mon-Sun)</td>\n",
       "      <td>Mumbai</td>\n",
       "      <td>Lower Parel</td>\n",
       "      <td>3.8</td>\n",
       "      <td>165 votes</td>\n",
       "      <td>300</td>\n",
       "      <td>No</td>\n",
       "      <td>...</td>\n",
       "      <td>No</td>\n",
       "      <td>No</td>\n",
       "      <td>No</td>\n",
       "      <td>No</td>\n",
       "      <td>No</td>\n",
       "      <td>No</td>\n",
       "      <td>No</td>\n",
       "      <td>No</td>\n",
       "      <td>No</td>\n",
       "      <td>No</td>\n",
       "    </tr>\n",
       "  </tbody>\n",
       "</table>\n",
       "<p>5 rows × 156 columns</p>\n",
       "</div>"
      ],
      "text/plain": [
       "               TITLE  RESTAURANT_ID  \\\n",
       "0      CASUAL DINING           9438   \n",
       "1  CASUAL DINING,BAR          13198   \n",
       "2      CASUAL DINING          10915   \n",
       "3        QUICK BITES           6346   \n",
       "4     DESSERT PARLOR          15387   \n",
       "\n",
       "                                     CUISINES  \\\n",
       "0                 Malwani, Goan, North Indian   \n",
       "1              Asian, Modern Indian, Japanese   \n",
       "2  North Indian, Chinese, Biryani, Hyderabadi   \n",
       "3                            Tibetan, Chinese   \n",
       "4                                    Desserts   \n",
       "\n",
       "                                     TIME     CITY        LOCALITY RATING  \\\n",
       "0  11am – 4pm, 7:30pm – 11:30pm (Mon-Sun)    Thane  Dombivali East    3.6   \n",
       "1                    6pm – 11pm (Mon-Sun)  Chennai       Ramapuram    4.2   \n",
       "2     11am – 3:30pm, 7pm – 11pm (Mon-Sun)  Chennai      Saligramam    3.8   \n",
       "3                 11:30am – 1am (Mon-Sun)   Mumbai     Bandra West    4.1   \n",
       "4                    11am – 1am (Mon-Sun)   Mumbai     Lower Parel    3.8   \n",
       "\n",
       "       VOTES  COST is CASUAL DINING  ... is Peruvian is Mongolian  \\\n",
       "0   49 votes  1200              Yes  ...          No           No   \n",
       "1   30 votes  1500              Yes  ...          No           No   \n",
       "2  221 votes   800              Yes  ...          No           No   \n",
       "3   24 votes   800               No  ...          No           No   \n",
       "4  165 votes   300               No  ...          No           No   \n",
       "\n",
       "  is Modern Australian is Coffee and Tea is Poké is Cuisine Varies is Jewish  \\\n",
       "0                   No                No      No                No        No   \n",
       "1                   No                No      No                No        No   \n",
       "2                   No                No      No                No        No   \n",
       "3                   No                No      No                No        No   \n",
       "4                   No                No      No                No        No   \n",
       "\n",
       "  is Satay is Vegan is Dumplings  \n",
       "0       No       No           No  \n",
       "1       No       No           No  \n",
       "2       No       No           No  \n",
       "3       No       No           No  \n",
       "4       No       No           No  \n",
       "\n",
       "[5 rows x 156 columns]"
      ]
     },
     "execution_count": 7,
     "metadata": {},
     "output_type": "execute_result"
    }
   ],
   "source": [
    "#Splitting feature CUISINES\n",
    "x = 'CUISINES'\n",
    "temp_df = df[x].str.split(',',expand=True)\n",
    "unique_values = []\n",
    "for i in temp_df.columns:\n",
    "    unique_values = np.append(unique_values,temp_df[i].str.strip().unique())\n",
    "\n",
    "unique_cuisines = pd.unique(unique_values)\n",
    "unique_cuisines = unique_cuisines[(unique_cuisines != 'None')&(unique_cuisines != None)&(unique_cuisines !='')]\n",
    "print(unique_cuisines)\n",
    "\n",
    "#Seperating unique values into different columns\n",
    "for i in unique_cuisines:\n",
    "    col = \"is \"+i\n",
    "    df[col] = df[x].apply(lambda y: 'Yes' if i in y else 'No')\n",
    "    \n",
    "#Interpreting first 5 rows after extraction\n",
    "df.head(5)"
   ]
  },
  {
   "cell_type": "markdown",
   "metadata": {},
   "source": [
    "### ```checking feature TIME```"
   ]
  },
  {
   "cell_type": "code",
   "execution_count": 8,
   "metadata": {},
   "outputs": [
    {
     "data": {
      "text/plain": [
       "11am – 11pm (Mon-Sun)                                   1415\n",
       "12noon – 12midnight (Mon-Sun)                            469\n",
       "12noon – 11pm (Mon-Sun)                                  407\n",
       "11am – 12midnight (Mon-Sun)                              310\n",
       "10am – 10pm (Mon-Sun)                                    221\n",
       "                                                        ... \n",
       "11:45am – 1am (Mon-Sun)                                    1\n",
       "Closed (Mon, Sat), 6am – 10pm (Tue, Wed, Thu, Fri...       1\n",
       "11:45am – 12:45AM (Mon-Sun)                                1\n",
       "6am – 8:30pm (Mon-Sat),6am – 12noon (Sun)                  1\n",
       "1:30pm – 4pm, 6pm – 11:30pm (Mon, Wed, Thu, Fri...         1\n",
       "Name: TIME, Length: 2689, dtype: int64"
      ]
     },
     "execution_count": 8,
     "metadata": {},
     "output_type": "execute_result"
    }
   ],
   "source": [
    "#Checking feature TIME for unique values\n",
    "x = 'TIME'\n",
    "df[x].value_counts()\n"
   ]
  },
  {
   "cell_type": "markdown",
   "metadata": {},
   "source": [
    "### Remarks:\n",
    "- This feature is quite complex as it contains **2689 unique values**. So, dropping this feature from dataset."
   ]
  },
  {
   "cell_type": "markdown",
   "metadata": {},
   "source": [
    "### ```checking feature CITY```"
   ]
  },
  {
   "cell_type": "code",
   "execution_count": 9,
   "metadata": {},
   "outputs": [
    {
     "data": {
      "text/plain": [
       "Chennai             2174\n",
       "Bangalore           2149\n",
       "Hyderabad           1819\n",
       "Mumbai              1722\n",
       "New Delhi           1321\n",
       "                    ... \n",
       "Karol Bagh             1\n",
       "Karnataka 560102       1\n",
       "Chembur.               1\n",
       "New Delhi-110024       1\n",
       "chennai                1\n",
       "Name: CITY, Length: 359, dtype: int64"
      ]
     },
     "execution_count": 9,
     "metadata": {},
     "output_type": "execute_result"
    }
   ],
   "source": [
    "#checking for unique values\n",
    "x = 'CITY'\n",
    "df[x].value_counts()"
   ]
  },
  {
   "cell_type": "code",
   "execution_count": 10,
   "metadata": {},
   "outputs": [
    {
     "name": "stdout",
     "output_type": "stream",
     "text": [
      "['Thane' 'Chennai' 'Mumbai' 'Bangalore' 'Gurgaon' 'Hyderabad' 'Kochi'\n",
      " 'Andheri' 'Unkown' 'Malad' 'Bangalor' 'Navi' 'Bandra' 'Delhi' 'Noida'\n",
      " 'Secunderabad' 'India' 'Madhuranagar' 'Faridabad' 'Maharashtra'\n",
      " 'Telagana' 'Ghaziabad' 'Karnataka' 'Kerala' 'Edappally' 'Kadavanthra'\n",
      " 'Ernakulam' 'Bengalore' 'Near' 'Kilpauk' 'Bengaluru' 'Kothaguda'\n",
      " 'Goregaon' 'Banglore' 'Tamil' 'Kakkanad' 'Outer' 'Mulund' 'Telangana'\n",
      " 'Ponnuruni' 'Gachibowli' 'Semmancheri' 'Powai' 'Dombivali' 'Kandivali'\n",
      " 'Dewan' 'Gurugram' 'Sector' 'Kaloor' 'Besant' 'Arumbakkam' 'Adjacent'\n",
      " 'Dwarka' 'Kalyan' 'Avadi' 'Kondapur' 'Mehdipatnam' 'Gandipet' 'Velachery'\n",
      " 'Pallavaram' 'Vijaya' 'Metro' 'Madhapur' 'Sarjapur' 'Whitefield' 'Rohini'\n",
      " 'Karol' 'Perungudi' 'Thykoodam' 'Greater' 'Khairatabad' 'Chullickal'\n",
      " 'Grant' 'Hitech' 'West' 'Chander' 'Nedumbassery' 'Naya' 'Pitampura'\n",
      " 'Lower' 'Rajiv' 'Medavakkam' 'Sathya' 'Behind' 'Palarivattom' 'Brigade'\n",
      " 'Virar' 'Aluva' 'Marine' 'Nallathambi' 'Citypark' 'Bhayandar'\n",
      " 'Thammenahalli' 'Khar' 'Road' 'Kukatpally' 'Faridabd' 'Dilsukhnagar'\n",
      " 'Potheri' 'Mahim' 'Lingampally' 'Vasai' 'Banaswadi' 'Ward' 'Perumbavoor'\n",
      " 'Mira' 'Pokhran' 'Uttar' 'Naharpar' 'Hosur' 'Sriram' 'Vyttila' 'Banjara'\n",
      " 'Malapallipuram' 'Panampilly' 'Borivali' 'Ecil' 'Jubilee' 'Amrit'\n",
      " 'Telengana' 'Rajanpada' 'Mahabalipuram' 'Gurgoan' 'Elamakkara' 'Kolathur'\n",
      " 'Rodeo' 'Pallimukku' 'Champapet' 'Andavar' 'Nungambakkam' 'Jogeshwari'\n",
      " 'Kukatapally' 'Navallur' 'Beside' 'Begumpet' 'Maharaja' 'Ashok'\n",
      " 'Trivandrum' 'Narayanguda' 'Thevera' 'Palm' 'East' 'Ramapuram' 'Nandanam'\n",
      " 'Saket' 'Indiranagar' 'Thiruvanmiyur' 'Ambattur' 'Banglaore' 'Anna'\n",
      " 'Kanakapura' 'Serilingampally' 'Himayath' 'Nallala' 'Wagle' 'First'\n",
      " 'Chenn' 'Perambur' 'Vaishali' 'Thanisandra' 'Block' 'Opposite'\n",
      " 'Vadapalani' 'Badlapur' 'Kalamassery' 'Palavakkam' 'Mahadevpura'\n",
      " 'Veliaveetil' 'Sholinganallur' 'Tripunithura' 'Mogappair' 'Marathahalli'\n",
      " 'Haridwar' 'Indirapuram' 'Manikonda' 'Rajarajeshwari' 'Fort' 'Lahari'\n",
      " 'Ramanthapur' 'Phase' 'Uppal' 'Nizampet' 'Ulsoo' 'Chromepet' 'Janakpuri'\n",
      " 'Tambaram' 'Malleshwaram' 'Kadubesanahalli' 'Haryana' 'Golf' 'Masab'\n",
      " 'Lokhandwala' 'Teynampet' 'Gurudwara' 'Land' 'Circle' 'Reliance' 'Nadu'\n",
      " 'Elamkulam' 'Ring' 'Main' 'Rama' 'Nagar' 'Layout' 'Pillar' 'Neerus'\n",
      " 'Bagh' 'City' 'Maredpally' 'Padur' 'Parel' 'Gandhi' 'Ramalayam' 'Stage'\n",
      " 'Kovalam' 'Bank' 'Drive' 'Galleria' 'Village' 'Palya' 'Shangrilla'\n",
      " 'Munrshwara' 'Thuraipakkam' 'Karapakkam' 'Thousand' 'Santosh' 'Kailash'\n",
      " 'Koramangala' 'Neelankarai' 'Raod' 'Pradesh' 'Bharat' 'Hills' 'Kaur'\n",
      " 'Ravipuram' 'Street' 'Chakala' 'Mukteshwar' 'Guda' 'Excellency' 'Hotel'\n",
      " 'Vihar' 'Beach' 'Coast' 'Chrompet' 'Railway' 'Ramlila' 'Salai' 'Estate'\n",
      " 'International' 'Tavarekere' 'Barathi' 'Synergy' 'House' 'Apartments'\n",
      " 'This' 'Avenue' 'Plaza' 'Center' 'Housing' 'Course' 'Jyothinivas' 'Tank'\n",
      " 'Shakurpur' 'Fresh' 'Teachers' 'Commercial' 'Vacs' 'Temple' 'Kamala'\n",
      " 'Vasanth' 'Lights' 'Harlur' 'Market' 'Have' 'Ashram' 'Gardens' 'Ground'\n",
      " 'Airport' 'Park' 'Vivekananda' 'Mark' 'Cinema' 'Society' 'College'\n",
      " 'Colony' 'Pastries' 'Stop' 'Indian' 'Thrissur' 'Gardania' 'Landmark'\n",
      " 'Company' 'Above' 'Building' 'Signal' 'Mettuguda' 'Stand' 'Mahaveer'\n",
      " 'Delivery' 'Connaught' 'Nmrec' 'Subhash' 'Hard' 'Place' 'Loyola' 'Ware'\n",
      " 'Ozone' 'Station' 'Restaurant' 'Ever' 'Paharganj' 'Degree' 'Green'\n",
      " 'Apartment']\n"
     ]
    },
    {
     "data": {
      "text/html": [
       "<div>\n",
       "<style scoped>\n",
       "    .dataframe tbody tr th:only-of-type {\n",
       "        vertical-align: middle;\n",
       "    }\n",
       "\n",
       "    .dataframe tbody tr th {\n",
       "        vertical-align: top;\n",
       "    }\n",
       "\n",
       "    .dataframe thead th {\n",
       "        text-align: right;\n",
       "    }\n",
       "</style>\n",
       "<table border=\"1\" class=\"dataframe\">\n",
       "  <thead>\n",
       "    <tr style=\"text-align: right;\">\n",
       "      <th></th>\n",
       "      <th>TITLE</th>\n",
       "      <th>RESTAURANT_ID</th>\n",
       "      <th>CUISINES</th>\n",
       "      <th>TIME</th>\n",
       "      <th>CITY</th>\n",
       "      <th>LOCALITY</th>\n",
       "      <th>RATING</th>\n",
       "      <th>VOTES</th>\n",
       "      <th>COST</th>\n",
       "      <th>is CASUAL DINING</th>\n",
       "      <th>...</th>\n",
       "      <th>in Loyola</th>\n",
       "      <th>in Ware</th>\n",
       "      <th>in Ozone</th>\n",
       "      <th>in Station</th>\n",
       "      <th>in Restaurant</th>\n",
       "      <th>in Ever</th>\n",
       "      <th>in Paharganj</th>\n",
       "      <th>in Degree</th>\n",
       "      <th>in Green</th>\n",
       "      <th>in Apartment</th>\n",
       "    </tr>\n",
       "  </thead>\n",
       "  <tbody>\n",
       "    <tr>\n",
       "      <th>0</th>\n",
       "      <td>CASUAL DINING</td>\n",
       "      <td>9438</td>\n",
       "      <td>Malwani, Goan, North Indian</td>\n",
       "      <td>11am – 4pm, 7:30pm – 11:30pm (Mon-Sun)</td>\n",
       "      <td>Thane</td>\n",
       "      <td>Dombivali East</td>\n",
       "      <td>3.6</td>\n",
       "      <td>49 votes</td>\n",
       "      <td>1200</td>\n",
       "      <td>Yes</td>\n",
       "      <td>...</td>\n",
       "      <td>No</td>\n",
       "      <td>No</td>\n",
       "      <td>No</td>\n",
       "      <td>No</td>\n",
       "      <td>No</td>\n",
       "      <td>No</td>\n",
       "      <td>No</td>\n",
       "      <td>No</td>\n",
       "      <td>No</td>\n",
       "      <td>No</td>\n",
       "    </tr>\n",
       "    <tr>\n",
       "      <th>1</th>\n",
       "      <td>CASUAL DINING,BAR</td>\n",
       "      <td>13198</td>\n",
       "      <td>Asian, Modern Indian, Japanese</td>\n",
       "      <td>6pm – 11pm (Mon-Sun)</td>\n",
       "      <td>Chennai</td>\n",
       "      <td>Ramapuram</td>\n",
       "      <td>4.2</td>\n",
       "      <td>30 votes</td>\n",
       "      <td>1500</td>\n",
       "      <td>Yes</td>\n",
       "      <td>...</td>\n",
       "      <td>No</td>\n",
       "      <td>No</td>\n",
       "      <td>No</td>\n",
       "      <td>No</td>\n",
       "      <td>No</td>\n",
       "      <td>No</td>\n",
       "      <td>No</td>\n",
       "      <td>No</td>\n",
       "      <td>No</td>\n",
       "      <td>No</td>\n",
       "    </tr>\n",
       "    <tr>\n",
       "      <th>2</th>\n",
       "      <td>CASUAL DINING</td>\n",
       "      <td>10915</td>\n",
       "      <td>North Indian, Chinese, Biryani, Hyderabadi</td>\n",
       "      <td>11am – 3:30pm, 7pm – 11pm (Mon-Sun)</td>\n",
       "      <td>Chennai</td>\n",
       "      <td>Saligramam</td>\n",
       "      <td>3.8</td>\n",
       "      <td>221 votes</td>\n",
       "      <td>800</td>\n",
       "      <td>Yes</td>\n",
       "      <td>...</td>\n",
       "      <td>No</td>\n",
       "      <td>No</td>\n",
       "      <td>No</td>\n",
       "      <td>No</td>\n",
       "      <td>No</td>\n",
       "      <td>No</td>\n",
       "      <td>No</td>\n",
       "      <td>No</td>\n",
       "      <td>No</td>\n",
       "      <td>No</td>\n",
       "    </tr>\n",
       "    <tr>\n",
       "      <th>3</th>\n",
       "      <td>QUICK BITES</td>\n",
       "      <td>6346</td>\n",
       "      <td>Tibetan, Chinese</td>\n",
       "      <td>11:30am – 1am (Mon-Sun)</td>\n",
       "      <td>Mumbai</td>\n",
       "      <td>Bandra West</td>\n",
       "      <td>4.1</td>\n",
       "      <td>24 votes</td>\n",
       "      <td>800</td>\n",
       "      <td>No</td>\n",
       "      <td>...</td>\n",
       "      <td>No</td>\n",
       "      <td>No</td>\n",
       "      <td>No</td>\n",
       "      <td>No</td>\n",
       "      <td>No</td>\n",
       "      <td>No</td>\n",
       "      <td>No</td>\n",
       "      <td>No</td>\n",
       "      <td>No</td>\n",
       "      <td>No</td>\n",
       "    </tr>\n",
       "    <tr>\n",
       "      <th>4</th>\n",
       "      <td>DESSERT PARLOR</td>\n",
       "      <td>15387</td>\n",
       "      <td>Desserts</td>\n",
       "      <td>11am – 1am (Mon-Sun)</td>\n",
       "      <td>Mumbai</td>\n",
       "      <td>Lower Parel</td>\n",
       "      <td>3.8</td>\n",
       "      <td>165 votes</td>\n",
       "      <td>300</td>\n",
       "      <td>No</td>\n",
       "      <td>...</td>\n",
       "      <td>No</td>\n",
       "      <td>No</td>\n",
       "      <td>No</td>\n",
       "      <td>No</td>\n",
       "      <td>No</td>\n",
       "      <td>No</td>\n",
       "      <td>No</td>\n",
       "      <td>No</td>\n",
       "      <td>No</td>\n",
       "      <td>No</td>\n",
       "    </tr>\n",
       "  </tbody>\n",
       "</table>\n",
       "<p>5 rows × 471 columns</p>\n",
       "</div>"
      ],
      "text/plain": [
       "               TITLE  RESTAURANT_ID  \\\n",
       "0      CASUAL DINING           9438   \n",
       "1  CASUAL DINING,BAR          13198   \n",
       "2      CASUAL DINING          10915   \n",
       "3        QUICK BITES           6346   \n",
       "4     DESSERT PARLOR          15387   \n",
       "\n",
       "                                     CUISINES  \\\n",
       "0                 Malwani, Goan, North Indian   \n",
       "1              Asian, Modern Indian, Japanese   \n",
       "2  North Indian, Chinese, Biryani, Hyderabadi   \n",
       "3                            Tibetan, Chinese   \n",
       "4                                    Desserts   \n",
       "\n",
       "                                     TIME     CITY        LOCALITY RATING  \\\n",
       "0  11am – 4pm, 7:30pm – 11:30pm (Mon-Sun)    Thane  Dombivali East    3.6   \n",
       "1                    6pm – 11pm (Mon-Sun)  Chennai       Ramapuram    4.2   \n",
       "2     11am – 3:30pm, 7pm – 11pm (Mon-Sun)  Chennai      Saligramam    3.8   \n",
       "3                 11:30am – 1am (Mon-Sun)   Mumbai     Bandra West    4.1   \n",
       "4                    11am – 1am (Mon-Sun)   Mumbai     Lower Parel    3.8   \n",
       "\n",
       "       VOTES  COST is CASUAL DINING  ... in Loyola in Ware in Ozone  \\\n",
       "0   49 votes  1200              Yes  ...        No      No       No   \n",
       "1   30 votes  1500              Yes  ...        No      No       No   \n",
       "2  221 votes   800              Yes  ...        No      No       No   \n",
       "3   24 votes   800               No  ...        No      No       No   \n",
       "4  165 votes   300               No  ...        No      No       No   \n",
       "\n",
       "  in Station in Restaurant in Ever in Paharganj in Degree in Green  \\\n",
       "0         No            No      No           No        No       No   \n",
       "1         No            No      No           No        No       No   \n",
       "2         No            No      No           No        No       No   \n",
       "3         No            No      No           No        No       No   \n",
       "4         No            No      No           No        No       No   \n",
       "\n",
       "  in Apartment  \n",
       "0           No  \n",
       "1           No  \n",
       "2           No  \n",
       "3           No  \n",
       "4           No  \n",
       "\n",
       "[5 rows x 471 columns]"
      ]
     },
     "execution_count": 10,
     "metadata": {},
     "output_type": "execute_result"
    }
   ],
   "source": [
    "#Splitting feature CITY into different columns by space\n",
    "x = 'CITY'\n",
    "temp_df = df[x].str.split(' ',expand=True)\n",
    "temp_df.replace(np.nan,'Unkown',inplace=True)\n",
    "\n",
    "for i in temp_df.columns:\n",
    "    temp_df[i]=temp_df[i].apply(lambda y: y.title() if len(y)>3 and y.isalpha() else 'Unkown')\n",
    "    \n",
    "unique_values = []\n",
    "for i in temp_df.columns:\n",
    "    unique_values = np.append(unique_values,pd.unique(temp_df[i]))\n",
    "\n",
    "unique_city = pd.unique(unique_values)\n",
    "print(unique_city)\n",
    "\n",
    "#Seperating unique values into different columns\n",
    "df[x].replace(np.nan,'Unkown',inplace=True)\n",
    "for i in unique_city:\n",
    "    col = \"in \"+i\n",
    "    df[col] = df[x].apply(lambda y: 'Yes' if i in y.title() else 'No')\n",
    "    \n",
    "#Interpreting first 5 rows after extraction\n",
    "df.head(5)"
   ]
  },
  {
   "cell_type": "markdown",
   "metadata": {},
   "source": [
    "### ```checking feature LOCALITY```"
   ]
  },
  {
   "cell_type": "code",
   "execution_count": 76,
   "metadata": {
    "scrolled": true
   },
   "outputs": [
    {
     "data": {
      "text/plain": [
       "Gachibowli                           166\n",
       "Indiranagar                          138\n",
       "Edappally                            122\n",
       "Kakkanad                             121\n",
       "HSR                                  120\n",
       "                                    ... \n",
       "Manjapetty Aluva Perumbavoor Road      1\n",
       "Tambaram Senatorium                    1\n",
       "South Extension Part-2                 1\n",
       "Near City Centre Metro                 1\n",
       "Chettipunyam                           1\n",
       "Name: LOCALITY, Length: 1416, dtype: int64"
      ]
     },
     "execution_count": 76,
     "metadata": {},
     "output_type": "execute_result"
    }
   ],
   "source": [
    "#Checking feature LOCALITY for unique values\n",
    "x = 'LOCALITY'\n",
    "u_locality = df[x].value_counts()\n",
    "u_locality"
   ]
  },
  {
   "cell_type": "markdown",
   "metadata": {},
   "source": [
    "### Remarks:\n",
    "- There are 1416 unique values."
   ]
  },
  {
   "cell_type": "code",
   "execution_count": 77,
   "metadata": {},
   "outputs": [
    {
     "data": {
      "text/plain": [
       "98"
      ]
     },
     "execution_count": 77,
     "metadata": {},
     "output_type": "execute_result"
    }
   ],
   "source": [
    "#Checking null values\n",
    "x='LOCALITY'\n",
    "df[x].isnull().sum()"
   ]
  },
  {
   "cell_type": "code",
   "execution_count": 78,
   "metadata": {},
   "outputs": [],
   "source": [
    "#Replacing null values with 'Other'\n",
    "x='LOCALITY'\n",
    "df[x].replace(np.nan,'Other',inplace=True)"
   ]
  },
  {
   "cell_type": "code",
   "execution_count": 79,
   "metadata": {},
   "outputs": [
    {
     "data": {
      "text/plain": [
       "Index(['Other', 'Gachibowli', 'Indiranagar', 'Edappally', 'Kakkanad', 'HSR',\n",
       "       'Madhapur', 'Kukatpally', 'Marathahalli', 'Jubilee Hills',\n",
       "       ...\n",
       "       'Muttukadu', '4 Bunglows', 'Bolgatty', 'Sector 55', 'Sahakar Nagar',\n",
       "       'Ejipura', 'Vazhakkala', 'Rajendra Place', 'Okhla Phase 2',\n",
       "       'Punjabi Bagh West'],\n",
       "      dtype='object', length=715)"
      ]
     },
     "execution_count": 79,
     "metadata": {},
     "output_type": "execute_result"
    }
   ],
   "source": [
    "#Replacing all unique values which occurs less than 2 times with 'Other' and storing it into another variable\n",
    "x = 'LOCALITY'\n",
    "df[x]=df[x].apply(lambda y: y if y != 'Other' and u_locality[y]>1 else 'Other')\n",
    "unique_locality = df[x].value_counts()\n",
    "unique_locality.index"
   ]
  },
  {
   "cell_type": "code",
   "execution_count": 15,
   "metadata": {},
   "outputs": [
    {
     "data": {
      "text/html": [
       "<div>\n",
       "<style scoped>\n",
       "    .dataframe tbody tr th:only-of-type {\n",
       "        vertical-align: middle;\n",
       "    }\n",
       "\n",
       "    .dataframe tbody tr th {\n",
       "        vertical-align: top;\n",
       "    }\n",
       "\n",
       "    .dataframe thead th {\n",
       "        text-align: right;\n",
       "    }\n",
       "</style>\n",
       "<table border=\"1\" class=\"dataframe\">\n",
       "  <thead>\n",
       "    <tr style=\"text-align: right;\">\n",
       "      <th></th>\n",
       "      <th>TITLE</th>\n",
       "      <th>RESTAURANT_ID</th>\n",
       "      <th>CUISINES</th>\n",
       "      <th>TIME</th>\n",
       "      <th>CITY</th>\n",
       "      <th>LOCALITY</th>\n",
       "      <th>RATING</th>\n",
       "      <th>VOTES</th>\n",
       "      <th>COST</th>\n",
       "      <th>is CASUAL DINING</th>\n",
       "      <th>...</th>\n",
       "      <th>in Muttukadu</th>\n",
       "      <th>in 4 Bunglows</th>\n",
       "      <th>in Bolgatty</th>\n",
       "      <th>in Sector 55</th>\n",
       "      <th>in Sahakar Nagar</th>\n",
       "      <th>in Ejipura</th>\n",
       "      <th>in Vazhakkala</th>\n",
       "      <th>in Rajendra Place</th>\n",
       "      <th>in Okhla Phase 2</th>\n",
       "      <th>in Punjabi Bagh West</th>\n",
       "    </tr>\n",
       "  </thead>\n",
       "  <tbody>\n",
       "    <tr>\n",
       "      <th>0</th>\n",
       "      <td>CASUAL DINING</td>\n",
       "      <td>9438</td>\n",
       "      <td>Malwani, Goan, North Indian</td>\n",
       "      <td>11am – 4pm, 7:30pm – 11:30pm (Mon-Sun)</td>\n",
       "      <td>Thane</td>\n",
       "      <td>Dombivali East</td>\n",
       "      <td>3.6</td>\n",
       "      <td>49 votes</td>\n",
       "      <td>1200</td>\n",
       "      <td>Yes</td>\n",
       "      <td>...</td>\n",
       "      <td>No</td>\n",
       "      <td>No</td>\n",
       "      <td>No</td>\n",
       "      <td>No</td>\n",
       "      <td>No</td>\n",
       "      <td>No</td>\n",
       "      <td>No</td>\n",
       "      <td>No</td>\n",
       "      <td>No</td>\n",
       "      <td>No</td>\n",
       "    </tr>\n",
       "    <tr>\n",
       "      <th>1</th>\n",
       "      <td>CASUAL DINING,BAR</td>\n",
       "      <td>13198</td>\n",
       "      <td>Asian, Modern Indian, Japanese</td>\n",
       "      <td>6pm – 11pm (Mon-Sun)</td>\n",
       "      <td>Chennai</td>\n",
       "      <td>Ramapuram</td>\n",
       "      <td>4.2</td>\n",
       "      <td>30 votes</td>\n",
       "      <td>1500</td>\n",
       "      <td>Yes</td>\n",
       "      <td>...</td>\n",
       "      <td>No</td>\n",
       "      <td>No</td>\n",
       "      <td>No</td>\n",
       "      <td>No</td>\n",
       "      <td>No</td>\n",
       "      <td>No</td>\n",
       "      <td>No</td>\n",
       "      <td>No</td>\n",
       "      <td>No</td>\n",
       "      <td>No</td>\n",
       "    </tr>\n",
       "    <tr>\n",
       "      <th>2</th>\n",
       "      <td>CASUAL DINING</td>\n",
       "      <td>10915</td>\n",
       "      <td>North Indian, Chinese, Biryani, Hyderabadi</td>\n",
       "      <td>11am – 3:30pm, 7pm – 11pm (Mon-Sun)</td>\n",
       "      <td>Chennai</td>\n",
       "      <td>Saligramam</td>\n",
       "      <td>3.8</td>\n",
       "      <td>221 votes</td>\n",
       "      <td>800</td>\n",
       "      <td>Yes</td>\n",
       "      <td>...</td>\n",
       "      <td>No</td>\n",
       "      <td>No</td>\n",
       "      <td>No</td>\n",
       "      <td>No</td>\n",
       "      <td>No</td>\n",
       "      <td>No</td>\n",
       "      <td>No</td>\n",
       "      <td>No</td>\n",
       "      <td>No</td>\n",
       "      <td>No</td>\n",
       "    </tr>\n",
       "    <tr>\n",
       "      <th>3</th>\n",
       "      <td>QUICK BITES</td>\n",
       "      <td>6346</td>\n",
       "      <td>Tibetan, Chinese</td>\n",
       "      <td>11:30am – 1am (Mon-Sun)</td>\n",
       "      <td>Mumbai</td>\n",
       "      <td>Bandra West</td>\n",
       "      <td>4.1</td>\n",
       "      <td>24 votes</td>\n",
       "      <td>800</td>\n",
       "      <td>No</td>\n",
       "      <td>...</td>\n",
       "      <td>No</td>\n",
       "      <td>No</td>\n",
       "      <td>No</td>\n",
       "      <td>No</td>\n",
       "      <td>No</td>\n",
       "      <td>No</td>\n",
       "      <td>No</td>\n",
       "      <td>No</td>\n",
       "      <td>No</td>\n",
       "      <td>No</td>\n",
       "    </tr>\n",
       "    <tr>\n",
       "      <th>4</th>\n",
       "      <td>DESSERT PARLOR</td>\n",
       "      <td>15387</td>\n",
       "      <td>Desserts</td>\n",
       "      <td>11am – 1am (Mon-Sun)</td>\n",
       "      <td>Mumbai</td>\n",
       "      <td>Lower Parel</td>\n",
       "      <td>3.8</td>\n",
       "      <td>165 votes</td>\n",
       "      <td>300</td>\n",
       "      <td>No</td>\n",
       "      <td>...</td>\n",
       "      <td>No</td>\n",
       "      <td>No</td>\n",
       "      <td>No</td>\n",
       "      <td>No</td>\n",
       "      <td>No</td>\n",
       "      <td>No</td>\n",
       "      <td>No</td>\n",
       "      <td>No</td>\n",
       "      <td>No</td>\n",
       "      <td>No</td>\n",
       "    </tr>\n",
       "  </tbody>\n",
       "</table>\n",
       "<p>5 rows × 1087 columns</p>\n",
       "</div>"
      ],
      "text/plain": [
       "               TITLE  RESTAURANT_ID  \\\n",
       "0      CASUAL DINING           9438   \n",
       "1  CASUAL DINING,BAR          13198   \n",
       "2      CASUAL DINING          10915   \n",
       "3        QUICK BITES           6346   \n",
       "4     DESSERT PARLOR          15387   \n",
       "\n",
       "                                     CUISINES  \\\n",
       "0                 Malwani, Goan, North Indian   \n",
       "1              Asian, Modern Indian, Japanese   \n",
       "2  North Indian, Chinese, Biryani, Hyderabadi   \n",
       "3                            Tibetan, Chinese   \n",
       "4                                    Desserts   \n",
       "\n",
       "                                     TIME     CITY        LOCALITY RATING  \\\n",
       "0  11am – 4pm, 7:30pm – 11:30pm (Mon-Sun)    Thane  Dombivali East    3.6   \n",
       "1                    6pm – 11pm (Mon-Sun)  Chennai       Ramapuram    4.2   \n",
       "2     11am – 3:30pm, 7pm – 11pm (Mon-Sun)  Chennai      Saligramam    3.8   \n",
       "3                 11:30am – 1am (Mon-Sun)   Mumbai     Bandra West    4.1   \n",
       "4                    11am – 1am (Mon-Sun)   Mumbai     Lower Parel    3.8   \n",
       "\n",
       "       VOTES  COST is CASUAL DINING  ... in Muttukadu in 4 Bunglows  \\\n",
       "0   49 votes  1200              Yes  ...           No            No   \n",
       "1   30 votes  1500              Yes  ...           No            No   \n",
       "2  221 votes   800              Yes  ...           No            No   \n",
       "3   24 votes   800               No  ...           No            No   \n",
       "4  165 votes   300               No  ...           No            No   \n",
       "\n",
       "  in Bolgatty in Sector 55 in Sahakar Nagar in Ejipura in Vazhakkala  \\\n",
       "0          No           No               No         No            No   \n",
       "1          No           No               No         No            No   \n",
       "2          No           No               No         No            No   \n",
       "3          No           No               No         No            No   \n",
       "4          No           No               No         No            No   \n",
       "\n",
       "  in Rajendra Place in Okhla Phase 2 in Punjabi Bagh West  \n",
       "0                No               No                   No  \n",
       "1                No               No                   No  \n",
       "2                No               No                   No  \n",
       "3                No               No                   No  \n",
       "4                No               No                   No  \n",
       "\n",
       "[5 rows x 1087 columns]"
      ]
     },
     "execution_count": 15,
     "metadata": {},
     "output_type": "execute_result"
    }
   ],
   "source": [
    "#Seperating unique values into different columns with Yes or No values\n",
    "x = 'LOCALITY'\n",
    "for i in unique_locality.index:\n",
    "    col = \"in \"+i\n",
    "    df[col] = df[x].apply(lambda y: 'Yes' if i in y else 'No')\n",
    "    \n",
    "#Interpreting first 5 rows after splitting LOCALITY\n",
    "df.head()"
   ]
  },
  {
   "cell_type": "markdown",
   "metadata": {},
   "source": [
    "### ```checking feature RATING```"
   ]
  },
  {
   "cell_type": "code",
   "execution_count": 16,
   "metadata": {},
   "outputs": [
    {
     "data": {
      "text/plain": [
       "array(['3.6', '4.2', '3.8', '4.1', '4.0', '4.3', '3.9', '3.3', '3.4', '-',\n",
       "       '4.5', '3.5', '4.4', '2.7', '3.7', '4.7', 'NEW', '3.1', '2.5',\n",
       "       '4.6', '2.8', nan, '3.0', '3.2', '2.6', '2.9', '4.9', '4.8', '2.4',\n",
       "       '2.3', '2.0', '2.1', '2.2'], dtype=object)"
      ]
     },
     "execution_count": 16,
     "metadata": {},
     "output_type": "execute_result"
    }
   ],
   "source": [
    "#Checking for unique values\n",
    "x = 'RATING'\n",
    "df[x].unique()"
   ]
  },
  {
   "cell_type": "markdown",
   "metadata": {},
   "source": [
    "### Remarks:\n",
    "- this feature contains numeric as well as alphabetic values, therefore, proper conversion is required."
   ]
  },
  {
   "cell_type": "code",
   "execution_count": 17,
   "metadata": {},
   "outputs": [
    {
     "data": {
      "text/html": [
       "<div>\n",
       "<style scoped>\n",
       "    .dataframe tbody tr th:only-of-type {\n",
       "        vertical-align: middle;\n",
       "    }\n",
       "\n",
       "    .dataframe tbody tr th {\n",
       "        vertical-align: top;\n",
       "    }\n",
       "\n",
       "    .dataframe thead th {\n",
       "        text-align: right;\n",
       "    }\n",
       "</style>\n",
       "<table border=\"1\" class=\"dataframe\">\n",
       "  <thead>\n",
       "    <tr style=\"text-align: right;\">\n",
       "      <th></th>\n",
       "      <th>0</th>\n",
       "    </tr>\n",
       "  </thead>\n",
       "  <tbody>\n",
       "    <tr>\n",
       "      <th>0</th>\n",
       "      <td>3.6</td>\n",
       "    </tr>\n",
       "    <tr>\n",
       "      <th>1</th>\n",
       "      <td>4.2</td>\n",
       "    </tr>\n",
       "    <tr>\n",
       "      <th>2</th>\n",
       "      <td>3.8</td>\n",
       "    </tr>\n",
       "    <tr>\n",
       "      <th>3</th>\n",
       "      <td>4.1</td>\n",
       "    </tr>\n",
       "    <tr>\n",
       "      <th>4</th>\n",
       "      <td>3.8</td>\n",
       "    </tr>\n",
       "    <tr>\n",
       "      <th>...</th>\n",
       "      <td>...</td>\n",
       "    </tr>\n",
       "    <tr>\n",
       "      <th>12685</th>\n",
       "      <td>3.8</td>\n",
       "    </tr>\n",
       "    <tr>\n",
       "      <th>12686</th>\n",
       "      <td>4.3</td>\n",
       "    </tr>\n",
       "    <tr>\n",
       "      <th>12687</th>\n",
       "      <td>4.0</td>\n",
       "    </tr>\n",
       "    <tr>\n",
       "      <th>12688</th>\n",
       "      <td>3.5</td>\n",
       "    </tr>\n",
       "    <tr>\n",
       "      <th>12689</th>\n",
       "      <td>3.4</td>\n",
       "    </tr>\n",
       "  </tbody>\n",
       "</table>\n",
       "<p>12690 rows × 1 columns</p>\n",
       "</div>"
      ],
      "text/plain": [
       "         0\n",
       "0      3.6\n",
       "1      4.2\n",
       "2      3.8\n",
       "3      4.1\n",
       "4      3.8\n",
       "...    ...\n",
       "12685  3.8\n",
       "12686  4.3\n",
       "12687  4.0\n",
       "12688  3.5\n",
       "12689  3.4\n",
       "\n",
       "[12690 rows x 1 columns]"
      ]
     },
     "execution_count": 17,
     "metadata": {},
     "output_type": "execute_result"
    }
   ],
   "source": [
    "#Extracting rating and storing as float\n",
    "x = 'RATING'\n",
    "rating=df[x].str.extract(r'([-+]?\\d*\\.\\d+|d+)').astype('float64')\n",
    "rating"
   ]
  },
  {
   "cell_type": "code",
   "execution_count": 18,
   "metadata": {},
   "outputs": [
    {
     "name": "stdout",
     "output_type": "stream",
     "text": [
      "Null Values:  1204\n",
      "Null Values after Replacement:  0\n"
     ]
    }
   ],
   "source": [
    "#Checking for null values and replacing them with mean value as the rating lies in a specific range.\n",
    "print(\"Null Values: \",rating[0].isnull().sum())\n",
    "rating[0].replace(np.nan,rating[0].mean(),inplace=True)\n",
    "#Replacing feature RATING with rating[0]\n",
    "df[x] = rating[0]\n",
    "\n",
    "print(\"Null Values after Replacement: \",df[x].isnull().sum())"
   ]
  },
  {
   "cell_type": "markdown",
   "metadata": {},
   "source": [
    "### Remarks:\n",
    "   - null values were present and has been replaced with mean of the value."
   ]
  },
  {
   "cell_type": "markdown",
   "metadata": {},
   "source": [
    "### ```checking feature VOTES```"
   ]
  },
  {
   "cell_type": "code",
   "execution_count": 19,
   "metadata": {
    "scrolled": true
   },
   "outputs": [
    {
     "data": {
      "text/plain": [
       "44 votes      71\n",
       "29 votes      66\n",
       "28 votes      66\n",
       "38 votes      65\n",
       "35 votes      64\n",
       "              ..\n",
       "2310 votes     1\n",
       "3765 votes     1\n",
       "3048 votes     1\n",
       "2795 votes     1\n",
       "6508 votes     1\n",
       "Name: VOTES, Length: 1847, dtype: int64"
      ]
     },
     "execution_count": 19,
     "metadata": {},
     "output_type": "execute_result"
    }
   ],
   "source": [
    "#checking for unique values\n",
    "x = 'VOTES'\n",
    "df[x].value_counts()"
   ]
  },
  {
   "cell_type": "markdown",
   "metadata": {},
   "source": [
    "### Remarks:\n",
    "- values are stored in (xx votes) pattern, therefore, extracting the xx would give more information."
   ]
  },
  {
   "cell_type": "code",
   "execution_count": 20,
   "metadata": {},
   "outputs": [
    {
     "data": {
      "text/html": [
       "<div>\n",
       "<style scoped>\n",
       "    .dataframe tbody tr th:only-of-type {\n",
       "        vertical-align: middle;\n",
       "    }\n",
       "\n",
       "    .dataframe tbody tr th {\n",
       "        vertical-align: top;\n",
       "    }\n",
       "\n",
       "    .dataframe thead th {\n",
       "        text-align: right;\n",
       "    }\n",
       "</style>\n",
       "<table border=\"1\" class=\"dataframe\">\n",
       "  <thead>\n",
       "    <tr style=\"text-align: right;\">\n",
       "      <th></th>\n",
       "      <th>0</th>\n",
       "    </tr>\n",
       "  </thead>\n",
       "  <tbody>\n",
       "    <tr>\n",
       "      <th>0</th>\n",
       "      <td>49.0</td>\n",
       "    </tr>\n",
       "    <tr>\n",
       "      <th>1</th>\n",
       "      <td>30.0</td>\n",
       "    </tr>\n",
       "    <tr>\n",
       "      <th>2</th>\n",
       "      <td>221.0</td>\n",
       "    </tr>\n",
       "    <tr>\n",
       "      <th>3</th>\n",
       "      <td>24.0</td>\n",
       "    </tr>\n",
       "    <tr>\n",
       "      <th>4</th>\n",
       "      <td>165.0</td>\n",
       "    </tr>\n",
       "    <tr>\n",
       "      <th>...</th>\n",
       "      <td>...</td>\n",
       "    </tr>\n",
       "    <tr>\n",
       "      <th>12685</th>\n",
       "      <td>546.0</td>\n",
       "    </tr>\n",
       "    <tr>\n",
       "      <th>12686</th>\n",
       "      <td>1214.0</td>\n",
       "    </tr>\n",
       "    <tr>\n",
       "      <th>12687</th>\n",
       "      <td>608.0</td>\n",
       "    </tr>\n",
       "    <tr>\n",
       "      <th>12688</th>\n",
       "      <td>32.0</td>\n",
       "    </tr>\n",
       "    <tr>\n",
       "      <th>12689</th>\n",
       "      <td>677.0</td>\n",
       "    </tr>\n",
       "  </tbody>\n",
       "</table>\n",
       "<p>12690 rows × 1 columns</p>\n",
       "</div>"
      ],
      "text/plain": [
       "            0\n",
       "0        49.0\n",
       "1        30.0\n",
       "2       221.0\n",
       "3        24.0\n",
       "4       165.0\n",
       "...       ...\n",
       "12685   546.0\n",
       "12686  1214.0\n",
       "12687   608.0\n",
       "12688    32.0\n",
       "12689   677.0\n",
       "\n",
       "[12690 rows x 1 columns]"
      ]
     },
     "execution_count": 20,
     "metadata": {},
     "output_type": "execute_result"
    }
   ],
   "source": [
    "#Extracting VOTES and storing as float\n",
    "x = 'VOTES'\n",
    "votes=df[x].str.extract(r'(\\d+)').astype('float64')\n",
    "votes"
   ]
  },
  {
   "cell_type": "code",
   "execution_count": 21,
   "metadata": {},
   "outputs": [
    {
     "name": "stdout",
     "output_type": "stream",
     "text": [
      "Null Values:  1204\n",
      "Null Values after Replacement:  0\n"
     ]
    }
   ],
   "source": [
    "#Checking for null values and replacing them with mean value as the votes lies in a specific range.\n",
    "print(\"Null Values: \",votes[0].isnull().sum())\n",
    "votes[0].replace(np.nan,votes[0].mean(),inplace=True)\n",
    "#Replacing feature VOTES with votes[0]\n",
    "df[x] = votes[0]\n",
    "\n",
    "print(\"Null Values after Replacement: \",df[x].isnull().sum())"
   ]
  },
  {
   "cell_type": "markdown",
   "metadata": {},
   "source": [
    "### Remarks:\n",
    "- null values were present and has been replaced with mean of the value."
   ]
  },
  {
   "cell_type": "markdown",
   "metadata": {},
   "source": [
    "### ```checking feature COST```"
   ]
  },
  {
   "cell_type": "code",
   "execution_count": 22,
   "metadata": {},
   "outputs": [
    {
     "name": "stdout",
     "output_type": "stream",
     "text": [
      "Null Values:  0\n"
     ]
    }
   ],
   "source": [
    "#Checking for null values\n",
    "x = 'COST'\n",
    "print(\"Null Values: \",df[x].isnull().sum())"
   ]
  },
  {
   "cell_type": "markdown",
   "metadata": {},
   "source": [
    "### Remarks:\n",
    "- No null values are present."
   ]
  },
  {
   "cell_type": "markdown",
   "metadata": {},
   "source": [
    "### ```checking final shape of dataset```"
   ]
  },
  {
   "cell_type": "code",
   "execution_count": 23,
   "metadata": {},
   "outputs": [
    {
     "data": {
      "text/plain": [
       "(12690, 1087)"
      ]
     },
     "execution_count": 23,
     "metadata": {},
     "output_type": "execute_result"
    }
   ],
   "source": [
    "df.shape"
   ]
  },
  {
   "cell_type": "markdown",
   "metadata": {},
   "source": [
    "### Remarks:\n",
    "- There are 12690 rows and 1087 columns present in dataset.\n",
    "- Dropping features ```TITLE, RESTAURANT_ID, CUISINES, TIME, CITY, LOCALITY``` as these were splitted into different columns."
   ]
  },
  {
   "cell_type": "code",
   "execution_count": 24,
   "metadata": {
    "scrolled": true
   },
   "outputs": [
    {
     "data": {
      "text/html": [
       "<div>\n",
       "<style scoped>\n",
       "    .dataframe tbody tr th:only-of-type {\n",
       "        vertical-align: middle;\n",
       "    }\n",
       "\n",
       "    .dataframe tbody tr th {\n",
       "        vertical-align: top;\n",
       "    }\n",
       "\n",
       "    .dataframe thead th {\n",
       "        text-align: right;\n",
       "    }\n",
       "</style>\n",
       "<table border=\"1\" class=\"dataframe\">\n",
       "  <thead>\n",
       "    <tr style=\"text-align: right;\">\n",
       "      <th></th>\n",
       "      <th>RATING</th>\n",
       "      <th>VOTES</th>\n",
       "      <th>COST</th>\n",
       "      <th>is CASUAL DINING</th>\n",
       "      <th>is QUICK BITES</th>\n",
       "      <th>is DESSERT PARLOR</th>\n",
       "      <th>is CAFÉ</th>\n",
       "      <th>is MICROBREWERY</th>\n",
       "      <th>is BAKERY</th>\n",
       "      <th>is BAR</th>\n",
       "      <th>...</th>\n",
       "      <th>in Muttukadu</th>\n",
       "      <th>in 4 Bunglows</th>\n",
       "      <th>in Bolgatty</th>\n",
       "      <th>in Sector 55</th>\n",
       "      <th>in Sahakar Nagar</th>\n",
       "      <th>in Ejipura</th>\n",
       "      <th>in Vazhakkala</th>\n",
       "      <th>in Rajendra Place</th>\n",
       "      <th>in Okhla Phase 2</th>\n",
       "      <th>in Punjabi Bagh West</th>\n",
       "    </tr>\n",
       "  </thead>\n",
       "  <tbody>\n",
       "    <tr>\n",
       "      <th>0</th>\n",
       "      <td>3.6</td>\n",
       "      <td>49.0</td>\n",
       "      <td>1200</td>\n",
       "      <td>Yes</td>\n",
       "      <td>No</td>\n",
       "      <td>No</td>\n",
       "      <td>No</td>\n",
       "      <td>No</td>\n",
       "      <td>No</td>\n",
       "      <td>No</td>\n",
       "      <td>...</td>\n",
       "      <td>No</td>\n",
       "      <td>No</td>\n",
       "      <td>No</td>\n",
       "      <td>No</td>\n",
       "      <td>No</td>\n",
       "      <td>No</td>\n",
       "      <td>No</td>\n",
       "      <td>No</td>\n",
       "      <td>No</td>\n",
       "      <td>No</td>\n",
       "    </tr>\n",
       "    <tr>\n",
       "      <th>1</th>\n",
       "      <td>4.2</td>\n",
       "      <td>30.0</td>\n",
       "      <td>1500</td>\n",
       "      <td>Yes</td>\n",
       "      <td>No</td>\n",
       "      <td>No</td>\n",
       "      <td>No</td>\n",
       "      <td>No</td>\n",
       "      <td>No</td>\n",
       "      <td>Yes</td>\n",
       "      <td>...</td>\n",
       "      <td>No</td>\n",
       "      <td>No</td>\n",
       "      <td>No</td>\n",
       "      <td>No</td>\n",
       "      <td>No</td>\n",
       "      <td>No</td>\n",
       "      <td>No</td>\n",
       "      <td>No</td>\n",
       "      <td>No</td>\n",
       "      <td>No</td>\n",
       "    </tr>\n",
       "    <tr>\n",
       "      <th>2</th>\n",
       "      <td>3.8</td>\n",
       "      <td>221.0</td>\n",
       "      <td>800</td>\n",
       "      <td>Yes</td>\n",
       "      <td>No</td>\n",
       "      <td>No</td>\n",
       "      <td>No</td>\n",
       "      <td>No</td>\n",
       "      <td>No</td>\n",
       "      <td>No</td>\n",
       "      <td>...</td>\n",
       "      <td>No</td>\n",
       "      <td>No</td>\n",
       "      <td>No</td>\n",
       "      <td>No</td>\n",
       "      <td>No</td>\n",
       "      <td>No</td>\n",
       "      <td>No</td>\n",
       "      <td>No</td>\n",
       "      <td>No</td>\n",
       "      <td>No</td>\n",
       "    </tr>\n",
       "    <tr>\n",
       "      <th>3</th>\n",
       "      <td>4.1</td>\n",
       "      <td>24.0</td>\n",
       "      <td>800</td>\n",
       "      <td>No</td>\n",
       "      <td>Yes</td>\n",
       "      <td>No</td>\n",
       "      <td>No</td>\n",
       "      <td>No</td>\n",
       "      <td>No</td>\n",
       "      <td>No</td>\n",
       "      <td>...</td>\n",
       "      <td>No</td>\n",
       "      <td>No</td>\n",
       "      <td>No</td>\n",
       "      <td>No</td>\n",
       "      <td>No</td>\n",
       "      <td>No</td>\n",
       "      <td>No</td>\n",
       "      <td>No</td>\n",
       "      <td>No</td>\n",
       "      <td>No</td>\n",
       "    </tr>\n",
       "    <tr>\n",
       "      <th>4</th>\n",
       "      <td>3.8</td>\n",
       "      <td>165.0</td>\n",
       "      <td>300</td>\n",
       "      <td>No</td>\n",
       "      <td>No</td>\n",
       "      <td>Yes</td>\n",
       "      <td>No</td>\n",
       "      <td>No</td>\n",
       "      <td>No</td>\n",
       "      <td>No</td>\n",
       "      <td>...</td>\n",
       "      <td>No</td>\n",
       "      <td>No</td>\n",
       "      <td>No</td>\n",
       "      <td>No</td>\n",
       "      <td>No</td>\n",
       "      <td>No</td>\n",
       "      <td>No</td>\n",
       "      <td>No</td>\n",
       "      <td>No</td>\n",
       "      <td>No</td>\n",
       "    </tr>\n",
       "  </tbody>\n",
       "</table>\n",
       "<p>5 rows × 1081 columns</p>\n",
       "</div>"
      ],
      "text/plain": [
       "   RATING  VOTES  COST is CASUAL DINING is QUICK BITES is DESSERT PARLOR  \\\n",
       "0     3.6   49.0  1200              Yes             No                No   \n",
       "1     4.2   30.0  1500              Yes             No                No   \n",
       "2     3.8  221.0   800              Yes             No                No   \n",
       "3     4.1   24.0   800               No            Yes                No   \n",
       "4     3.8  165.0   300               No             No               Yes   \n",
       "\n",
       "  is CAFÉ is MICROBREWERY is BAKERY is BAR  ... in Muttukadu in 4 Bunglows  \\\n",
       "0      No              No        No     No  ...           No            No   \n",
       "1      No              No        No    Yes  ...           No            No   \n",
       "2      No              No        No     No  ...           No            No   \n",
       "3      No              No        No     No  ...           No            No   \n",
       "4      No              No        No     No  ...           No            No   \n",
       "\n",
       "  in Bolgatty in Sector 55 in Sahakar Nagar in Ejipura in Vazhakkala  \\\n",
       "0          No           No               No         No            No   \n",
       "1          No           No               No         No            No   \n",
       "2          No           No               No         No            No   \n",
       "3          No           No               No         No            No   \n",
       "4          No           No               No         No            No   \n",
       "\n",
       "  in Rajendra Place in Okhla Phase 2 in Punjabi Bagh West  \n",
       "0                No               No                   No  \n",
       "1                No               No                   No  \n",
       "2                No               No                   No  \n",
       "3                No               No                   No  \n",
       "4                No               No                   No  \n",
       "\n",
       "[5 rows x 1081 columns]"
      ]
     },
     "execution_count": 24,
     "metadata": {},
     "output_type": "execute_result"
    }
   ],
   "source": [
    "#Dropping features\n",
    "drop_feature = ['TITLE','RESTAURANT_ID','CUISINES','TIME','CITY','LOCALITY']\n",
    "df_new = df.drop(columns=drop_feature)\n",
    "df_new.head()"
   ]
  },
  {
   "cell_type": "markdown",
   "metadata": {},
   "source": [
    "# Exploratory Data Analysis (EDA)"
   ]
  },
  {
   "cell_type": "code",
   "execution_count": 25,
   "metadata": {},
   "outputs": [],
   "source": [
    "import matplotlib.pyplot as plt\n",
    "import seaborn as sns"
   ]
  },
  {
   "cell_type": "markdown",
   "metadata": {},
   "source": [
    "## Univariate Analysis"
   ]
  },
  {
   "cell_type": "code",
   "execution_count": 26,
   "metadata": {},
   "outputs": [
    {
     "data": {
      "image/png": "[encoded data removed]",
      "text/plain": [
       "<Figure size 1152x576 with 3 Axes>"
      ]
     },
     "metadata": {
      "needs_background": "light"
     },
     "output_type": "display_data"
    }
   ],
   "source": [
    "#Checking data distribution in contineous feature\n",
    "cont_feature = df_new.columns[df_new.dtypes != object]\n",
    "cols = 2\n",
    "rows = len(cont_feature)//cols\n",
    "if rows % cols != 0:\n",
    "    rows += 1\n",
    "\n",
    "fig = plt.figure(figsize=(16,8))\n",
    "plt.subplots_adjust(hspace=0.8)\n",
    "k=1\n",
    "for i in cont_feature:\n",
    "    axes = plt.subplot(rows,cols,k)\n",
    "    sns.distplot(df_new[i],ax=axes)\n",
    "    axes.set_title(f\"Distribution Plot: {i}\")\n",
    "    me = round(df[i].mean(),2)\n",
    "    mn = round(df[i].min(),2)\n",
    "    mx = round(df[i].max(),2)\n",
    "    st = round(df[i].std(),2)\n",
    "    sk = round(df[i].skew(),2)\n",
    "    axes.set_xlabel(f\"{i}\\n\\nMean: {me} | Min: {mn} | Max: {mx} | std: {st} | Skew: {sk}\")\n",
    "    k += 1\n",
    "    \n",
    "plt.show()"
   ]
  },
  {
   "cell_type": "markdown",
   "metadata": {},
   "source": [
    "### Remarks:\n",
    "**```for feature RATING:```**\n",
    "- Data is somewhat distributed normally but not in bell curve.\n",
    "- Average rating is: 3.79\n",
    "- Minimum rating is: 2.0\n",
    "- Maximum rating is: 4.9\n",
    "- Standard deviation is lower (0.4) which indicates data is not spreaded.\n",
    "- Skewness (-0.54) indicates, data is negatively skewed but is in negligible range.\n",
    "\n",
    "**```for feature VOTES:```**\n",
    "- Data is not distributed normally or not in bell curve.\n",
    "- Average votes are: 415\n",
    "- Minimum votes are: 4\n",
    "- Maximum votes are: 41186\n",
    "- Standard deviation is normal (801.75) which indicates data is not much spreaded.\n",
    "- Skewness (14.89) indicates, data is right skewed and needs to be treated accordingly.\n",
    "\n",
    "**```for feature COST:```**\n",
    "- Data is somewhat distributed normally but not in bell curve.\n",
    "- Average cost is: 655.25\n",
    "- Minimum cost is: 20\n",
    "- Maximum cost is: 14000\n",
    "- Standard deviation is normal (627) which indicates data is not much spreaded.\n",
    "- Skewness (3.98) indicates, data is positively skewed but is in negligible range."
   ]
  },
  {
   "cell_type": "code",
   "execution_count": 27,
   "metadata": {},
   "outputs": [
    {
     "data": {
      "image/png": "[encoded data removed]",
      "text/plain": [
       "<Figure size 1152x576 with 3 Axes>"
      ]
     },
     "metadata": {
      "needs_background": "light"
     },
     "output_type": "display_data"
    }
   ],
   "source": [
    "#Checking contineous features with box-plot\n",
    "cont_feature = df_new.columns[df_new.dtypes != object]\n",
    "cols = 2\n",
    "rows = len(cont_feature)//cols\n",
    "if rows % cols != 0:\n",
    "    rows += 1\n",
    "\n",
    "fig = plt.figure(figsize=(16,8))\n",
    "plt.subplots_adjust(hspace=0.8)\n",
    "k=1\n",
    "for i in cont_feature:\n",
    "    axes = plt.subplot(rows,cols,k)\n",
    "    sns.boxplot(df_new[i],ax=axes)\n",
    "    axes.set_title(f\"Box Plot: {i}\")\n",
    "    \n",
    "    k += 1\n",
    "    \n",
    "plt.show()"
   ]
  },
  {
   "cell_type": "markdown",
   "metadata": {},
   "source": [
    "### Remarks:\n",
    "- Box plots shows presence of outliers in all contineous features and needs to be treated accordingly."
   ]
  },
  {
   "cell_type": "markdown",
   "metadata": {},
   "source": [
    "## BiVariate Analysis"
   ]
  },
  {
   "cell_type": "code",
   "execution_count": 28,
   "metadata": {},
   "outputs": [
    {
     "data": {
      "image/png": "[encoded data removed]",
      "text/plain": [
       "<Figure size 432x288 with 1 Axes>"
      ]
     },
     "metadata": {
      "needs_background": "light"
     },
     "output_type": "display_data"
    }
   ],
   "source": [
    "#Checking relationship between rating and cost.\n",
    "x = 'RATING'\n",
    "y = 'COST'\n",
    "sns.scatterplot(x,y,data=df_new)\n",
    "plt.title(f\"Scatterplot: {x} vs {y}\")\n",
    "plt.show()"
   ]
  },
  {
   "cell_type": "markdown",
   "metadata": {},
   "source": [
    "### Remarks:\n",
    "- As rating increase upto 4.5, cost also increases and then starts decreases towards rating upto 5."
   ]
  },
  {
   "cell_type": "code",
   "execution_count": 29,
   "metadata": {},
   "outputs": [
    {
     "data": {
      "image/png": "[encoded data removed]",
      "text/plain": [
       "<Figure size 432x288 with 1 Axes>"
      ]
     },
     "metadata": {
      "needs_background": "light"
     },
     "output_type": "display_data"
    }
   ],
   "source": [
    "#Checking relationship between votes and cost.\n",
    "x = 'VOTES'\n",
    "y = 'COST'\n",
    "sns.scatterplot(x,y,data=df_new)\n",
    "plt.title(f\"Scatterplot: {x} vs {y}\")\n",
    "plt.show()"
   ]
  },
  {
   "cell_type": "markdown",
   "metadata": {},
   "source": [
    "### Remarks:\n",
    "- cost tends to decrease as the votes increases."
   ]
  },
  {
   "cell_type": "markdown",
   "metadata": {},
   "source": [
    "## Multi-Variate Analysis"
   ]
  },
  {
   "cell_type": "code",
   "execution_count": 30,
   "metadata": {},
   "outputs": [
    {
     "data": {
      "image/png": "[encoded data removed]",
      "text/plain": [
       "<Figure size 432x288 with 2 Axes>"
      ]
     },
     "metadata": {
      "needs_background": "light"
     },
     "output_type": "display_data"
    }
   ],
   "source": [
    "#Checking correlation of contineous features and interpreting using heatmap\n",
    "df_corr = df_new.corr()\n",
    "sns.heatmap(df_corr,annot=True,fmt=\".2f\")\n",
    "plt.title(\"Correlation of continueous features\")\n",
    "plt.show()"
   ]
  },
  {
   "cell_type": "markdown",
   "metadata": {},
   "source": [
    "### Remarks:\n",
    "- All the contineous features have positively good correlation with each other."
   ]
  },
  {
   "cell_type": "code",
   "execution_count": 31,
   "metadata": {},
   "outputs": [
    {
     "data": {
      "image/png": "[encoded data removed]",
      "text/plain": [
       "<Figure size 432x288 with 1 Axes>"
      ]
     },
     "metadata": {
      "needs_background": "light"
     },
     "output_type": "display_data"
    }
   ],
   "source": [
    "#Checking correlation w.r.t cost using bar plot\n",
    "df_corr['COST'].sort_values(ascending=False).drop('COST').plot.bar()\n",
    "plt.title(\"Correlation of contineous features w.r.t COST\")\n",
    "plt.ylabel(\"Correlation Value\")\n",
    "plt.show()"
   ]
  },
  {
   "cell_type": "markdown",
   "metadata": {},
   "source": [
    "### Remarks:\n",
    "- Feature RATING and VOTES are positively good correlated with COST."
   ]
  },
  {
   "cell_type": "markdown",
   "metadata": {},
   "source": [
    "# Preparing Data for Model"
   ]
  },
  {
   "cell_type": "code",
   "execution_count": 32,
   "metadata": {},
   "outputs": [],
   "source": [
    "from sklearn.preprocessing import OrdinalEncoder, StandardScaler, power_transform\n",
    "from scipy.stats import zscore"
   ]
  },
  {
   "cell_type": "markdown",
   "metadata": {},
   "source": [
    "## 1. Label Encoding"
   ]
  },
  {
   "cell_type": "code",
   "execution_count": 33,
   "metadata": {
    "scrolled": true
   },
   "outputs": [
    {
     "data": {
      "text/html": [
       "<div>\n",
       "<style scoped>\n",
       "    .dataframe tbody tr th:only-of-type {\n",
       "        vertical-align: middle;\n",
       "    }\n",
       "\n",
       "    .dataframe tbody tr th {\n",
       "        vertical-align: top;\n",
       "    }\n",
       "\n",
       "    .dataframe thead th {\n",
       "        text-align: right;\n",
       "    }\n",
       "</style>\n",
       "<table border=\"1\" class=\"dataframe\">\n",
       "  <thead>\n",
       "    <tr style=\"text-align: right;\">\n",
       "      <th></th>\n",
       "      <th>RATING</th>\n",
       "      <th>VOTES</th>\n",
       "      <th>COST</th>\n",
       "      <th>is CASUAL DINING</th>\n",
       "      <th>is QUICK BITES</th>\n",
       "      <th>is DESSERT PARLOR</th>\n",
       "      <th>is CAFÉ</th>\n",
       "      <th>is MICROBREWERY</th>\n",
       "      <th>is BAKERY</th>\n",
       "      <th>is BAR</th>\n",
       "      <th>...</th>\n",
       "      <th>in Muttukadu</th>\n",
       "      <th>in 4 Bunglows</th>\n",
       "      <th>in Bolgatty</th>\n",
       "      <th>in Sector 55</th>\n",
       "      <th>in Sahakar Nagar</th>\n",
       "      <th>in Ejipura</th>\n",
       "      <th>in Vazhakkala</th>\n",
       "      <th>in Rajendra Place</th>\n",
       "      <th>in Okhla Phase 2</th>\n",
       "      <th>in Punjabi Bagh West</th>\n",
       "    </tr>\n",
       "  </thead>\n",
       "  <tbody>\n",
       "    <tr>\n",
       "      <th>0</th>\n",
       "      <td>3.6</td>\n",
       "      <td>49.0</td>\n",
       "      <td>1200</td>\n",
       "      <td>1.0</td>\n",
       "      <td>0.0</td>\n",
       "      <td>0.0</td>\n",
       "      <td>0.0</td>\n",
       "      <td>0.0</td>\n",
       "      <td>0.0</td>\n",
       "      <td>0.0</td>\n",
       "      <td>...</td>\n",
       "      <td>0.0</td>\n",
       "      <td>0.0</td>\n",
       "      <td>0.0</td>\n",
       "      <td>0.0</td>\n",
       "      <td>0.0</td>\n",
       "      <td>0.0</td>\n",
       "      <td>0.0</td>\n",
       "      <td>0.0</td>\n",
       "      <td>0.0</td>\n",
       "      <td>0.0</td>\n",
       "    </tr>\n",
       "    <tr>\n",
       "      <th>1</th>\n",
       "      <td>4.2</td>\n",
       "      <td>30.0</td>\n",
       "      <td>1500</td>\n",
       "      <td>1.0</td>\n",
       "      <td>0.0</td>\n",
       "      <td>0.0</td>\n",
       "      <td>0.0</td>\n",
       "      <td>0.0</td>\n",
       "      <td>0.0</td>\n",
       "      <td>1.0</td>\n",
       "      <td>...</td>\n",
       "      <td>0.0</td>\n",
       "      <td>0.0</td>\n",
       "      <td>0.0</td>\n",
       "      <td>0.0</td>\n",
       "      <td>0.0</td>\n",
       "      <td>0.0</td>\n",
       "      <td>0.0</td>\n",
       "      <td>0.0</td>\n",
       "      <td>0.0</td>\n",
       "      <td>0.0</td>\n",
       "    </tr>\n",
       "    <tr>\n",
       "      <th>2</th>\n",
       "      <td>3.8</td>\n",
       "      <td>221.0</td>\n",
       "      <td>800</td>\n",
       "      <td>1.0</td>\n",
       "      <td>0.0</td>\n",
       "      <td>0.0</td>\n",
       "      <td>0.0</td>\n",
       "      <td>0.0</td>\n",
       "      <td>0.0</td>\n",
       "      <td>0.0</td>\n",
       "      <td>...</td>\n",
       "      <td>0.0</td>\n",
       "      <td>0.0</td>\n",
       "      <td>0.0</td>\n",
       "      <td>0.0</td>\n",
       "      <td>0.0</td>\n",
       "      <td>0.0</td>\n",
       "      <td>0.0</td>\n",
       "      <td>0.0</td>\n",
       "      <td>0.0</td>\n",
       "      <td>0.0</td>\n",
       "    </tr>\n",
       "    <tr>\n",
       "      <th>3</th>\n",
       "      <td>4.1</td>\n",
       "      <td>24.0</td>\n",
       "      <td>800</td>\n",
       "      <td>0.0</td>\n",
       "      <td>1.0</td>\n",
       "      <td>0.0</td>\n",
       "      <td>0.0</td>\n",
       "      <td>0.0</td>\n",
       "      <td>0.0</td>\n",
       "      <td>0.0</td>\n",
       "      <td>...</td>\n",
       "      <td>0.0</td>\n",
       "      <td>0.0</td>\n",
       "      <td>0.0</td>\n",
       "      <td>0.0</td>\n",
       "      <td>0.0</td>\n",
       "      <td>0.0</td>\n",
       "      <td>0.0</td>\n",
       "      <td>0.0</td>\n",
       "      <td>0.0</td>\n",
       "      <td>0.0</td>\n",
       "    </tr>\n",
       "    <tr>\n",
       "      <th>4</th>\n",
       "      <td>3.8</td>\n",
       "      <td>165.0</td>\n",
       "      <td>300</td>\n",
       "      <td>0.0</td>\n",
       "      <td>0.0</td>\n",
       "      <td>1.0</td>\n",
       "      <td>0.0</td>\n",
       "      <td>0.0</td>\n",
       "      <td>0.0</td>\n",
       "      <td>0.0</td>\n",
       "      <td>...</td>\n",
       "      <td>0.0</td>\n",
       "      <td>0.0</td>\n",
       "      <td>0.0</td>\n",
       "      <td>0.0</td>\n",
       "      <td>0.0</td>\n",
       "      <td>0.0</td>\n",
       "      <td>0.0</td>\n",
       "      <td>0.0</td>\n",
       "      <td>0.0</td>\n",
       "      <td>0.0</td>\n",
       "    </tr>\n",
       "  </tbody>\n",
       "</table>\n",
       "<p>5 rows × 1081 columns</p>\n",
       "</div>"
      ],
      "text/plain": [
       "   RATING  VOTES  COST  is CASUAL DINING  is QUICK BITES  is DESSERT PARLOR  \\\n",
       "0     3.6   49.0  1200               1.0             0.0                0.0   \n",
       "1     4.2   30.0  1500               1.0             0.0                0.0   \n",
       "2     3.8  221.0   800               1.0             0.0                0.0   \n",
       "3     4.1   24.0   800               0.0             1.0                0.0   \n",
       "4     3.8  165.0   300               0.0             0.0                1.0   \n",
       "\n",
       "   is CAFÉ  is MICROBREWERY  is BAKERY  is BAR  ...  in Muttukadu  \\\n",
       "0      0.0              0.0        0.0     0.0  ...           0.0   \n",
       "1      0.0              0.0        0.0     1.0  ...           0.0   \n",
       "2      0.0              0.0        0.0     0.0  ...           0.0   \n",
       "3      0.0              0.0        0.0     0.0  ...           0.0   \n",
       "4      0.0              0.0        0.0     0.0  ...           0.0   \n",
       "\n",
       "   in 4 Bunglows  in Bolgatty  in Sector 55  in Sahakar Nagar  in Ejipura  \\\n",
       "0            0.0          0.0           0.0               0.0         0.0   \n",
       "1            0.0          0.0           0.0               0.0         0.0   \n",
       "2            0.0          0.0           0.0               0.0         0.0   \n",
       "3            0.0          0.0           0.0               0.0         0.0   \n",
       "4            0.0          0.0           0.0               0.0         0.0   \n",
       "\n",
       "   in Vazhakkala  in Rajendra Place  in Okhla Phase 2  in Punjabi Bagh West  \n",
       "0            0.0                0.0               0.0                   0.0  \n",
       "1            0.0                0.0               0.0                   0.0  \n",
       "2            0.0                0.0               0.0                   0.0  \n",
       "3            0.0                0.0               0.0                   0.0  \n",
       "4            0.0                0.0               0.0                   0.0  \n",
       "\n",
       "[5 rows x 1081 columns]"
      ]
     },
     "execution_count": 33,
     "metadata": {},
     "output_type": "execute_result"
    }
   ],
   "source": [
    "#Encoding all categorical features using OrdinalEncoder\n",
    "cat_feature = df_new.columns[df_new.dtypes == object]\n",
    "df_enc = df_new.copy()\n",
    "ec = OrdinalEncoder()\n",
    "for i in cat_feature:\n",
    "    df_enc[i] = ec.fit_transform(np.array(df_new[i]).reshape(-1,1))\n",
    "    \n",
    "#Interpreting dataset after encoding\n",
    "df_enc.head()"
   ]
  },
  {
   "cell_type": "markdown",
   "metadata": {},
   "source": [
    "## 2. Removing Outliers"
   ]
  },
  {
   "cell_type": "code",
   "execution_count": 34,
   "metadata": {},
   "outputs": [
    {
     "data": {
      "text/plain": [
       "(array([    0,     0,     0, ..., 12688, 12688, 12689], dtype=int64),\n",
       " array([ 26,  94, 542, ...,  72, 674, 610], dtype=int64))"
      ]
     },
     "execution_count": 34,
     "metadata": {},
     "output_type": "execute_result"
    }
   ],
   "source": [
    "#Checking and removing outliers using zscore (threshold value -3 to +3)\n",
    "z = np.abs(zscore(df_enc))\n",
    "\n",
    "#printing location of outliers\n",
    "np.where(z>3)"
   ]
  },
  {
   "cell_type": "code",
   "execution_count": 35,
   "metadata": {},
   "outputs": [
    {
     "name": "stdout",
     "output_type": "stream",
     "text": [
      "Original Shape: (12690, 1081)\n",
      "New Shape: (0, 1081)\n",
      "% Loss: 100.0%\n"
     ]
    }
   ],
   "source": [
    "#Removing outliers\n",
    "df_wo = df_enc[(z<=3).all(axis=1)]\n",
    "\n",
    "print(f\"Original Shape: {df_enc.shape}\")\n",
    "print(f\"New Shape: {df_wo.shape}\")\n",
    "print(f\"% Loss: {(len(df_enc)-len(df_wo))*100/len(df_enc)}%\")"
   ]
  },
  {
   "cell_type": "markdown",
   "metadata": {},
   "source": [
    "### Remarks:\n",
    "- Since, % loss of data is greater than 5, therefore, discarding data without outliers and proceeding with original data."
   ]
  },
  {
   "cell_type": "markdown",
   "metadata": {},
   "source": [
    "## 3. Seperating Input and Output/Target Variables"
   ]
  },
  {
   "cell_type": "code",
   "execution_count": 36,
   "metadata": {},
   "outputs": [
    {
     "name": "stdout",
     "output_type": "stream",
     "text": [
      "(12690, 1080)\n",
      "(12690,)\n"
     ]
    }
   ],
   "source": [
    "X = df_enc.drop(columns=['COST']) #Input variables\n",
    "Y = df_enc['COST'] #Output/Target Variables\n",
    "\n",
    "print(X.shape)\n",
    "print(Y.shape)"
   ]
  },
  {
   "cell_type": "markdown",
   "metadata": {},
   "source": [
    "## 4. Skewness"
   ]
  },
  {
   "cell_type": "code",
   "execution_count": 37,
   "metadata": {},
   "outputs": [
    {
     "data": {
      "text/plain": [
       "RATING    -0.537352\n",
       "VOTES     14.890494\n",
       "dtype: float64"
      ]
     },
     "execution_count": 37,
     "metadata": {},
     "output_type": "execute_result"
    }
   ],
   "source": [
    "#Checking and treating skewness in contineous features (optimum value -0.5 to +0.5)\n",
    "cont_f = ['RATING','VOTES']\n",
    "#Skewness\n",
    "X[cont_f].skew()"
   ]
  },
  {
   "cell_type": "markdown",
   "metadata": {},
   "source": [
    "### Remarks:\n",
    "- Feature RATING and VOTES has skewed data and needs to be treated."
   ]
  },
  {
   "cell_type": "code",
   "execution_count": 38,
   "metadata": {},
   "outputs": [
    {
     "data": {
      "text/plain": [
       "RATING    0.028430\n",
       "VOTES    -0.007247\n",
       "dtype: float64"
      ]
     },
     "execution_count": 38,
     "metadata": {},
     "output_type": "execute_result"
    }
   ],
   "source": [
    "for i in cont_f:\n",
    "    if np.abs(X[i].skew()) > 0.5:\n",
    "        X[i] = power_transform(np.array(X[i]).reshape(-1,1))\n",
    "        \n",
    "#Re-Checking after treatment\n",
    "X[cont_f].skew()"
   ]
  },
  {
   "cell_type": "markdown",
   "metadata": {},
   "source": [
    "## 5. Scaling Data"
   ]
  },
  {
   "cell_type": "code",
   "execution_count": 39,
   "metadata": {},
   "outputs": [],
   "source": [
    "#scaling contineous features\n",
    "sc = StandardScaler()\n",
    "for i in cont_f:\n",
    "    X[i] = sc.fit_transform(np.array(X[i]).reshape(-1,1))\n",
    "    "
   ]
  },
  {
   "cell_type": "markdown",
   "metadata": {},
   "source": [
    "# Finding Best Model"
   ]
  },
  {
   "cell_type": "code",
   "execution_count": 40,
   "metadata": {},
   "outputs": [],
   "source": [
    "from sklearn.model_selection import train_test_split, GridSearchCV, cross_val_score\n",
    "from sklearn.metrics import r2_score, mean_squared_error, mean_absolute_error"
   ]
  },
  {
   "cell_type": "code",
   "execution_count": 41,
   "metadata": {},
   "outputs": [],
   "source": [
    "import timeit\n",
    "#Defining function for best random state\n",
    "def get_best_rstate(r,model,x,y,test_size=0.25):\n",
    "    best_rState = 0\n",
    "    best_mScore = 0\n",
    "    for i in r:\n",
    "        x_train,x_test,y_train,y_test = train_test_split(x,y,test_size=test_size,random_state=i)\n",
    "        \n",
    "        model.fit(x_train,y_train)\n",
    "        predict_y = model.predict(x_test)\n",
    "        \n",
    "        temp_r2Score = r2_score(y_test,predict_y)\n",
    "        if temp_r2Score>best_mScore:\n",
    "            best_mScore = temp_r2Score\n",
    "            best_rState = i\n",
    "            \n",
    "    return best_rState,best_mScore\n",
    "\n",
    "\n",
    "#Defining function for best CV\n",
    "def get_best_cv(model,parameters,x_train,y_train,r=range(2,20)):\n",
    "    best_cv = 0\n",
    "    best_cvScore = 0\n",
    "    for i in r:\n",
    "        gscv = GridSearchCV(model,parameters)\n",
    "        gscv.fit(x_train,y_train)\n",
    "        \n",
    "        temp_cvScore = cross_val_score(gscv.best_estimator_,x_train,y_train,cv=i).mean()\n",
    "        \n",
    "        if i == 2:\n",
    "            best_cvScore = temp_cvScore\n",
    "            best_cv = i\n",
    "            \n",
    "        if temp_cvScore>best_cvScore:\n",
    "            best_cvScore = temp_cvScore\n",
    "            best_cv = i\n",
    "          \n",
    "    return best_cv,best_cvScore\n",
    "\n",
    "#Defining function for building models\n",
    "def build_model(models,x,y,r_range=range(100),t_size=0.25,cv_range=range(2,20)):\n",
    "    for i in models:\n",
    "        print(f\"Processing {i}...\")\n",
    "        \n",
    "        #Start time\n",
    "        start_time = timeit.default_timer()\n",
    "        \n",
    "        #Finding the best random_state for train test split\n",
    "        best_rState, best_mScore = get_best_rstate(r_range,models[i][\"name\"],x,y)\n",
    "        \n",
    "        #Splitting train test data with best random_state\n",
    "        x_train,x_test,y_train,y_test = train_test_split(x,y,test_size=t_size,random_state=best_rState)\n",
    "        \n",
    "        #Hypertuning Parameters\n",
    "        #Finding best CV\n",
    "        best_cv, best_cvScore = get_best_cv(models[i][\"name\"],models[i][\"parameters\"],x_train,y_train,cv_range)\n",
    "        \n",
    "        #Building final model with hypertuned parameters\n",
    "        gscv = GridSearchCV(models[i][\"name\"],models[i][\"parameters\"],cv=best_cv)\n",
    "        gscv.fit(x_train,y_train)\n",
    "        \n",
    "        #End time\n",
    "        end_time = timeit.default_timer()\n",
    "        \n",
    "        #Checking Final Performance of the model\n",
    "        predict_y = gscv.best_estimator_.predict(x_test)\n",
    "        \n",
    "        r2Score = r2_score(y_test,predict_y)\n",
    "        mse = mean_squared_error(y_test,predict_y)\n",
    "        mae = mean_absolute_error(y_test,predict_y)\n",
    "        \n",
    "        #Storing metrics\n",
    "        models[i]['initial_r2_score'] = best_mScore\n",
    "        models[i]['r2_score'] = r2Score\n",
    "        models[i]['mse'] = mse\n",
    "        models[i]['mae'] = mae\n",
    "        models[i]['rmse'] = np.sqrt(mse)\n",
    "        \n",
    "        #Storing model specs.\n",
    "        models[i][\"random_state\"] = best_rState\n",
    "        models[i][\"x_train\"] = x_train\n",
    "        models[i][\"x_test\"] = x_test\n",
    "        models[i][\"y_train\"] = y_train\n",
    "        models[i][\"y_test\"] = y_test\n",
    "        models[i][\"cv\"] = best_cv\n",
    "        models[i][\"cross_val_score\"] = best_cvScore\n",
    "        models[i][\"gscv\"] = gscv\n",
    "        models[i][\"predict_y\"] = predict_y\n",
    "        models[i][\"build_time\"] = end_time - start_time\n",
    "        \n",
    "        print(f\"\\tCompleted: [in {end_time-start_time}s]\\n\")\n",
    "    return models.copy();\n",
    "\n",
    "#Function Displaying model performance and comparing it to select the best model.\n",
    "def model_performance(build_models):\n",
    "    model_names = []\n",
    "    model_r2Scores = []\n",
    "    model_cvScores = []\n",
    "    model_buildTimes = []\n",
    "    for i in build_models:\n",
    "        model = build_models[i]\n",
    "        print(f\"START: {i}\\n\")\n",
    "        print(f\"\\tBest random_state: {model['random_state']} with best r2_score: {model['initial_r2_score']}\\n\")\n",
    "        print(f\"\\tBest CV: {model['cv']} with best cross_val_score: {model['cross_val_score']}\\n\")\n",
    "        print(f\"\\tBest Parameters: {model['gscv'].best_params_}\\n\\n\")\n",
    "        print(f\"----Final Performance----\")\n",
    "        print(f\"R2 Score: {round(model['r2_score']*100,2)}%\\n\")\n",
    "        print(f\"MSE: {model['mse']}\\n\")\n",
    "        print(f\"RMSE:{model['rmse']}\\n\")\n",
    "        print(f\"MAE: {model['mae']}\\n\")\n",
    "        print(f\"BuildTime: {model['build_time']}\\n\")\n",
    "        print(f\"END: {i}\\n\\n\\n\")\n",
    "\n",
    "        model_names.append(i)\n",
    "        model_r2Scores.append(model['r2_score'])\n",
    "        model_cvScores.append(model['cross_val_score'])\n",
    "        model_buildTimes.append(model['build_time'])\n",
    "\n",
    "    d_cmp = pd.DataFrame({\"Name\":model_names,\"r2_score\":model_r2Scores,\"cross_val_score\":model_cvScores,\"build_time(sec)\":model_buildTimes})\n",
    "    d_cmp['Difference'] = d_cmp['r2_score']-d_cmp['cross_val_score']\n",
    "    print(d_cmp)"
   ]
  },
  {
   "cell_type": "markdown",
   "metadata": {},
   "source": [
    "## Preparing Model List and Testing to get Best Model"
   ]
  },
  {
   "cell_type": "code",
   "execution_count": 56,
   "metadata": {},
   "outputs": [],
   "source": [
    "import warnings\n",
    "warnings.simplefilter('ignore')\n",
    "from sklearn.linear_model import LinearRegression, Lasso\n",
    "\n",
    "#Preparing List of Models with parameters\n",
    "models = {\n",
    "    \"LinearRegression\":{\n",
    "        \"name\": LinearRegression(),\n",
    "        \"parameters\":{\n",
    "            \"fit_intercept\": [True,False],\n",
    "            \"normalize\": [True,False]\n",
    "        }\n",
    "    },\n",
    "}"
   ]
  },
  {
   "cell_type": "code",
   "execution_count": 43,
   "metadata": {},
   "outputs": [
    {
     "name": "stdout",
     "output_type": "stream",
     "text": [
      "Processing LinearRegression...\n",
      "\tCompleted: [in 4269.2861654s]\n",
      "\n"
     ]
    }
   ],
   "source": [
    "#Building and Testing models\n",
    "build_models = build_model(models,X,Y)"
   ]
  },
  {
   "cell_type": "code",
   "execution_count": 44,
   "metadata": {},
   "outputs": [
    {
     "name": "stdout",
     "output_type": "stream",
     "text": [
      "START: LinearRegression\n",
      "\n",
      "\tBest random_state: 5 with best r2_score: 0.732308057697959\n",
      "\n",
      "\tBest CV: 17 with best cross_val_score: -3.4166731841123533e+19\n",
      "\n",
      "\tBest Parameters: {'fit_intercept': False, 'normalize': True}\n",
      "\n",
      "\n",
      "----Final Performance----\n",
      "R2 Score: 72.96%\n",
      "\n",
      "MSE: 102645.63390161823\n",
      "\n",
      "RMSE:320.38357308329375\n",
      "\n",
      "MAE: 202.08756511112045\n",
      "\n",
      "BuildTime: 4269.2861654\n",
      "\n",
      "END: LinearRegression\n",
      "\n",
      "\n",
      "\n",
      "               Name  r2_score  cross_val_score  build_time(sec)    Difference\n",
      "0  LinearRegression  0.729639    -3.416673e+19      4269.286165  3.416673e+19\n"
     ]
    }
   ],
   "source": [
    "#Displaying model performance\n",
    "model_performance(build_models)"
   ]
  },
  {
   "cell_type": "markdown",
   "metadata": {},
   "source": [
    "## Using PCA (Principle Component Analysis)"
   ]
  },
  {
   "cell_type": "code",
   "execution_count": 45,
   "metadata": {},
   "outputs": [],
   "source": [
    "from sklearn.decomposition import PCA"
   ]
  },
  {
   "cell_type": "code",
   "execution_count": 46,
   "metadata": {},
   "outputs": [
    {
     "name": "stdout",
     "output_type": "stream",
     "text": [
      "Processing LinearRegression...\n",
      "\tCompleted: [in 10.011553600000298s]\n",
      "\n",
      "For n_components: 10======\n",
      "START: LinearRegression\n",
      "\n",
      "\tBest random_state: 0 with best r2_score: 0.3306018471234975\n",
      "\n",
      "\tBest CV: 18 with best cross_val_score: 0.29106731204130765\n",
      "\n",
      "\tBest Parameters: {'fit_intercept': True, 'normalize': False}\n",
      "\n",
      "\n",
      "----Final Performance----\n",
      "R2 Score: 33.06%\n",
      "\n",
      "MSE: 232370.328896443\n",
      "\n",
      "RMSE:482.0480566255226\n",
      "\n",
      "MAE: 284.07733106540513\n",
      "\n",
      "BuildTime: 10.011553600000298\n",
      "\n",
      "END: LinearRegression\n",
      "\n",
      "\n",
      "\n",
      "               Name  r2_score  cross_val_score  build_time(sec)  Difference\n",
      "0  LinearRegression  0.330602         0.291067        10.011554    0.039535\n",
      "Processing LinearRegression...\n",
      "\tCompleted: [in 37.53752160000022s]\n",
      "\n",
      "For n_components: 50======\n",
      "START: LinearRegression\n",
      "\n",
      "\tBest random_state: 42 with best r2_score: 0.7041918109431684\n",
      "\n",
      "\tBest CV: 14 with best cross_val_score: 0.6619850694706325\n",
      "\n",
      "\tBest Parameters: {'fit_intercept': True, 'normalize': True}\n",
      "\n",
      "\n",
      "----Final Performance----\n",
      "R2 Score: 70.42%\n",
      "\n",
      "MSE: 104584.92390948448\n",
      "\n",
      "RMSE:323.395924386014\n",
      "\n",
      "MAE: 207.20342243856118\n",
      "\n",
      "BuildTime: 37.53752160000022\n",
      "\n",
      "END: LinearRegression\n",
      "\n",
      "\n",
      "\n",
      "               Name  r2_score  cross_val_score  build_time(sec)  Difference\n",
      "0  LinearRegression  0.704192         0.661985        37.537522    0.042207\n",
      "Processing LinearRegression...\n",
      "\tCompleted: [in 89.46722809999937s]\n",
      "\n",
      "For n_components: 100======\n",
      "START: LinearRegression\n",
      "\n",
      "\tBest random_state: 59 with best r2_score: 0.7321118661610824\n",
      "\n",
      "\tBest CV: 18 with best cross_val_score: 0.6772494272348752\n",
      "\n",
      "\tBest Parameters: {'fit_intercept': True, 'normalize': False}\n",
      "\n",
      "\n",
      "----Final Performance----\n",
      "R2 Score: 73.21%\n",
      "\n",
      "MSE: 92649.96038316516\n",
      "\n",
      "RMSE:304.38456002755\n",
      "\n",
      "MAE: 193.1555890748179\n",
      "\n",
      "BuildTime: 89.46722809999937\n",
      "\n",
      "END: LinearRegression\n",
      "\n",
      "\n",
      "\n",
      "               Name  r2_score  cross_val_score  build_time(sec)  Difference\n",
      "0  LinearRegression  0.732112         0.677249        89.467228    0.054862\n",
      "Processing LinearRegression...\n",
      "\tCompleted: [in 162.98078270000042s]\n",
      "\n",
      "For n_components: 150======\n",
      "START: LinearRegression\n",
      "\n",
      "\tBest random_state: 59 with best r2_score: 0.7356603426897884\n",
      "\n",
      "\tBest CV: 18 with best cross_val_score: 0.6821127123280722\n",
      "\n",
      "\tBest Parameters: {'fit_intercept': True, 'normalize': False}\n",
      "\n",
      "\n",
      "----Final Performance----\n",
      "R2 Score: 73.57%\n",
      "\n",
      "MSE: 91422.70852585482\n",
      "\n",
      "RMSE:302.3618833878616\n",
      "\n",
      "MAE: 192.24991035448735\n",
      "\n",
      "BuildTime: 162.98078270000042\n",
      "\n",
      "END: LinearRegression\n",
      "\n",
      "\n",
      "\n",
      "               Name  r2_score  cross_val_score  build_time(sec)  Difference\n",
      "0  LinearRegression   0.73566         0.682113       162.980783    0.053548\n",
      "Processing LinearRegression...\n",
      "\tCompleted: [in 228.24133789999996s]\n",
      "\n",
      "For n_components: 200======\n",
      "START: LinearRegression\n",
      "\n",
      "\tBest random_state: 59 with best r2_score: 0.7345639589687407\n",
      "\n",
      "\tBest CV: 18 with best cross_val_score: 0.6902169300424117\n",
      "\n",
      "\tBest Parameters: {'fit_intercept': True, 'normalize': False}\n",
      "\n",
      "\n",
      "----Final Performance----\n",
      "R2 Score: 73.46%\n",
      "\n",
      "MSE: 91801.89631168226\n",
      "\n",
      "RMSE:302.9882775152898\n",
      "\n",
      "MAE: 194.190459038754\n",
      "\n",
      "BuildTime: 228.24133789999996\n",
      "\n",
      "END: LinearRegression\n",
      "\n",
      "\n",
      "\n",
      "               Name  r2_score  cross_val_score  build_time(sec)  Difference\n",
      "0  LinearRegression  0.734564         0.690217       228.241338    0.044347\n"
     ]
    }
   ],
   "source": [
    "#Decomposing Input Variable X with different n_components and testing model for best performance\n",
    "n = [10,50,100,150,200]\n",
    "for i in n:\n",
    "    pca = PCA(n_components=i)\n",
    "    pca_X = pca.fit_transform(X)\n",
    "    build_pca = build_model(models,pca_X,Y)\n",
    "    print(f\"For n_components: {i}======\")\n",
    "    model_performance(build_pca)"
   ]
  },
  {
   "cell_type": "markdown",
   "metadata": {},
   "source": [
    "### Remarks:\n",
    "- **Model score with decomposition is optimum at *n_components=100* with r2_score: 73.21% which almost equivalent to model score with original input.**\n",
    "- **```Continuing with PCA(n_components=100)```**"
   ]
  },
  {
   "cell_type": "markdown",
   "metadata": {},
   "source": [
    "### Building Final Model List with PCA(n_components=100)"
   ]
  },
  {
   "cell_type": "code",
   "execution_count": 57,
   "metadata": {},
   "outputs": [],
   "source": [
    "pca = PCA(n_components=100)\n",
    "pca_X = pca.fit_transform(X)\n",
    "#Model lists\n",
    "models = {\n",
    "    \"LinearRegression\":{\n",
    "        \"name\": LinearRegression(),\n",
    "        \"parameters\":{\n",
    "            \"fit_intercept\": [True],\n",
    "            \"normalize\": [True]\n",
    "        }\n",
    "    },\n",
    "    \"Lasso\":{\n",
    "        \"name\": Lasso(),\n",
    "        \"parameters\":{\n",
    "            \"alpha\": [0.0001,0.001],\n",
    "            \"fit_intercept\": [True],\n",
    "            \"selection\": ['cyclic','random']\n",
    "        }\n",
    "    }\n",
    "}"
   ]
  },
  {
   "cell_type": "code",
   "execution_count": 58,
   "metadata": {},
   "outputs": [
    {
     "name": "stdout",
     "output_type": "stream",
     "text": [
      "Processing LinearRegression...\n",
      "\tCompleted: [in 52.72074889999931s]\n",
      "\n",
      "Processing Lasso...\n",
      "\tCompleted: [in 66.06136200000037s]\n",
      "\n"
     ]
    }
   ],
   "source": [
    "#Building and Testing Final model using PCA\n",
    "final_build = build_model(models,pca_X,Y)"
   ]
  },
  {
   "cell_type": "code",
   "execution_count": 59,
   "metadata": {},
   "outputs": [
    {
     "name": "stdout",
     "output_type": "stream",
     "text": [
      "START: LinearRegression\n",
      "\n",
      "\tBest random_state: 59 with best r2_score: 0.7324243543594329\n",
      "\n",
      "\tBest CV: 18 with best cross_val_score: 0.6770463182088224\n",
      "\n",
      "\tBest Parameters: {'fit_intercept': True, 'normalize': True}\n",
      "\n",
      "\n",
      "----Final Performance----\n",
      "R2 Score: 73.24%\n",
      "\n",
      "MSE: 92541.8853490735\n",
      "\n",
      "RMSE:304.2069778112815\n",
      "\n",
      "MAE: 192.92895593949933\n",
      "\n",
      "BuildTime: 52.72074889999931\n",
      "\n",
      "END: LinearRegression\n",
      "\n",
      "\n",
      "\n",
      "START: Lasso\n",
      "\n",
      "\tBest random_state: 59 with best r2_score: 0.7188173645598405\n",
      "\n",
      "\tBest CV: 18 with best cross_val_score: 0.677050342573987\n",
      "\n",
      "\tBest Parameters: {'alpha': 0.001, 'fit_intercept': True, 'selection': 'random'}\n",
      "\n",
      "\n",
      "----Final Performance----\n",
      "R2 Score: 73.24%\n",
      "\n",
      "MSE: 92542.43636509177\n",
      "\n",
      "RMSE:304.20788346966253\n",
      "\n",
      "MAE: 192.93235261809804\n",
      "\n",
      "BuildTime: 66.06136200000037\n",
      "\n",
      "END: Lasso\n",
      "\n",
      "\n",
      "\n",
      "               Name  r2_score  cross_val_score  build_time(sec)  Difference\n",
      "0  LinearRegression  0.732424         0.677046        52.720749    0.055378\n",
      "1             Lasso  0.732423         0.677050        66.061362    0.055372\n"
     ]
    }
   ],
   "source": [
    "#Displaying model performances\n",
    "model_performance(final_build)"
   ]
  },
  {
   "cell_type": "markdown",
   "metadata": {},
   "source": [
    "### Remarks:\n",
    "**From about tested models, ```Lasso performs better with r2_score: 73.24% and cross_val_score: 67.71%```.**"
   ]
  },
  {
   "cell_type": "markdown",
   "metadata": {},
   "source": [
    "# Model Saving or Serialization"
   ]
  },
  {
   "cell_type": "code",
   "execution_count": 60,
   "metadata": {},
   "outputs": [],
   "source": [
    "import joblib\n",
    "#Saving final model\n",
    "final_model = final_build['Lasso']\n",
    "filename = 'restaurant_food_cost.obj'\n",
    "joblib.dump(final_model['gscv'].best_estimator_,open(filename,'wb'))"
   ]
  },
  {
   "cell_type": "markdown",
   "metadata": {},
   "source": [
    "# Conclusion"
   ]
  },
  {
   "cell_type": "code",
   "execution_count": 61,
   "metadata": {},
   "outputs": [
    {
     "data": {
      "image/png": "[encoded data removed]",
      "text/plain": [
       "<Figure size 432x288 with 1 Axes>"
      ]
     },
     "metadata": {
      "needs_background": "light"
     },
     "output_type": "display_data"
    }
   ],
   "source": [
    "#Ploting Original and Predicted data on scatterplot\n",
    "original = final_model['y_test']\n",
    "predict = final_model['predict_y']\n",
    "sns.scatterplot(original,predict)\n",
    "plt.title(\"Original vs Predicted\")\n",
    "plt.xlabel(\"Original\")\n",
    "plt.ylabel(\"Predicted\")\n",
    "plt.show()"
   ]
  },
  {
   "cell_type": "markdown",
   "metadata": {},
   "source": [
    "### Final Remarks:\n",
    "> Final model, **Lasso performs with r2_score: 73.24% and cross_val_score: 67.71%** and can be improved further by training with more specific data."
   ]
  },
  {
   "cell_type": "markdown",
   "metadata": {},
   "source": [
    "# Model Prediction for Test Data\n",
    "## Preprocessing Pipeline:\n",
    "- Load Test Dataset\n",
    "- Extract Informations from feature:\n",
    "    - ```TITLE, CUISINES, CITY, LOCALITY, RATING, VOTES```\n",
    "- Treat Null Values\n",
    "- Encode Discrete Features (using OrdinalEncoder)\n",
    "- Remove Outliers using zscore\n",
    "- Treat skewness in contineous features using power_transform\n",
    "- Scale contineous feature data using StandardScaler\n",
    "- Apply PCA(n_components=100)\n",
    "- Load Serialized Model and Make Prediction for Test Data"
   ]
  },
  {
   "cell_type": "code",
   "execution_count": 94,
   "metadata": {},
   "outputs": [],
   "source": [
    "#1. Loading Test Data\n",
    "df_test = pd.read_excel('Data_Test.xlsx',sheet_name='Sheet1')\n",
    "df = df_test.copy()\n",
    "\n",
    "#2. A. Extracting Information from TITLE\n",
    "x = 'TITLE'\n",
    "#Seperating unique values into different columns\n",
    "for i in unique_title:\n",
    "    col = \"is \"+i\n",
    "    df[col] = df[x].apply(lambda y: 'Yes' if i in y else 'No')\n",
    "    \n",
    "#2. B. Extracting Information from CUISINES\n",
    "x = 'CUISINES'\n",
    "#Seperating unique values into different columns\n",
    "for i in unique_cuisines:\n",
    "    col = \"is \"+i\n",
    "    df[col] = df[x].apply(lambda y: 'Yes' if i in y else 'No')\n",
    "    \n",
    "#2. C. Extracting Information from CITY\n",
    "x = 'CITY'\n",
    "#Seperating unique values into different columns\n",
    "df[x].replace(np.nan,'Unkown',inplace=True)\n",
    "for i in unique_city:\n",
    "    col = \"in \"+i\n",
    "    df[col] = df[x].apply(lambda y: 'Yes' if i in y.title() else 'No')\n",
    "    \n",
    "#2. D. Extracting Information from LOCALITY\n",
    "x = 'LOCALITY'\n",
    "u_locality = df[x].value_counts()\n",
    "df[x].replace(np.nan,'Other',inplace=True)\n",
    "df[x]=df[x].apply(lambda y: y if y != 'Other' and u_locality[y]>1 else 'Other')\n",
    "\n",
    "#Seperating unique values into different columns with Yes or No values\n",
    "for i in unique_locality.index:\n",
    "    col = \"in \"+i\n",
    "    df[col] = df[x].apply(lambda y: 'Yes' if i in y else 'No')\n",
    "    \n",
    "#2. E. Extracting Information from RATING\n",
    "x = 'RATING'\n",
    "#Extracting rating and storing as float\n",
    "rating=df[x].str.extract(r'([-+]?\\d*\\.\\d+|d+)').astype('float64')\n",
    "#Checking for null values and replacing them with mean value as the rating lies in a specific range.\n",
    "rating[0].replace(np.nan,rating[0].mean(),inplace=True)\n",
    "#Replacing feature RATING with rating[0]\n",
    "df[x] = rating[0]\n",
    "\n",
    "#2. F. Extracting Information from VOTES\n",
    "x = 'VOTES'\n",
    "#Extracting VOTES and storing as float\n",
    "votes=df[x].str.extract(r'(\\d+)').astype('float64')\n",
    "#Checking for null values and replacing them with mean value as the votes lies in a specific range.\n",
    "votes[0].replace(np.nan,votes[0].mean(),inplace=True)\n",
    "#Replacing feature VOTES with votes[0]\n",
    "df[x] = votes[0]\n",
    "\n",
    "#3. Dropping Features\n",
    "df.drop(columns=drop_feature,inplace=True)\n",
    "\n",
    "#4. Encoding Descrete Features\n",
    "#Encoding all categorical features using OrdinalEncoder\n",
    "cat_feature = df.columns[df.dtypes == object]\n",
    "df_enc = df.copy()\n",
    "ec = OrdinalEncoder()\n",
    "for i in cat_feature:\n",
    "    df_enc[i] = ec.fit_transform(np.array(df[i]).reshape(-1,1))\n",
    "    \n"
   ]
  },
  {
   "cell_type": "code",
   "execution_count": 98,
   "metadata": {
    "scrolled": false
   },
   "outputs": [],
   "source": [
    "#5. Removing Outliers\n",
    "z = np.abs(zscore(df_enc))\n",
    "df_wo = df_enc[(z<=3).all(axis=1)]\n",
    "loss = (len(df_enc)-len(df_wo))*100/len(df_enc)\n",
    "if loss <= 5:\n",
    "    df_proceed = df_wo\n",
    "else:\n",
    "    df_proceed = df_enc\n",
    "    \n",
    "#6. Treating skewness in continueous features using power_transform\n",
    "cont_feature = ['RATING','VOTES']\n",
    "df_t = df_proceed.copy()\n",
    "for i in cont_feature:\n",
    "    if np.abs(df_t[i].skew()) > 0.5:\n",
    "        df_t[i] = power_transform(np.array(df_proceed[i]).reshape(-1,1))\n",
    "        \n",
    "#7. Scaling contineous feature data using StandardScaler\n",
    "sc_test = StandardScaler()\n",
    "x_test_scaled = df_t.copy()\n",
    "for i in cont_feature:\n",
    "    x_test_scaled[i] = sc_test.fit_transform(np.array(df_t[i]).reshape(-1,1))"
   ]
  },
  {
   "cell_type": "code",
   "execution_count": 99,
   "metadata": {},
   "outputs": [],
   "source": [
    "#8. Applying PCA with n_components=100\n",
    "pca = PCA(n_components=100)\n",
    "pca_test_x = pca.fit_transform(x_test_scaled)"
   ]
  },
  {
   "cell_type": "markdown",
   "metadata": {},
   "source": [
    "### 9.  Loading Serialized Model and Making Prediction on Test Data"
   ]
  },
  {
   "cell_type": "code",
   "execution_count": 103,
   "metadata": {},
   "outputs": [
    {
     "data": {
      "text/html": [
       "<div>\n",
       "<style scoped>\n",
       "    .dataframe tbody tr th:only-of-type {\n",
       "        vertical-align: middle;\n",
       "    }\n",
       "\n",
       "    .dataframe tbody tr th {\n",
       "        vertical-align: top;\n",
       "    }\n",
       "\n",
       "    .dataframe thead th {\n",
       "        text-align: right;\n",
       "    }\n",
       "</style>\n",
       "<table border=\"1\" class=\"dataframe\">\n",
       "  <thead>\n",
       "    <tr style=\"text-align: right;\">\n",
       "      <th></th>\n",
       "      <th>Predicted_Data</th>\n",
       "    </tr>\n",
       "  </thead>\n",
       "  <tbody>\n",
       "    <tr>\n",
       "      <th>0</th>\n",
       "      <td>1845.873520</td>\n",
       "    </tr>\n",
       "    <tr>\n",
       "      <th>1</th>\n",
       "      <td>920.740575</td>\n",
       "    </tr>\n",
       "    <tr>\n",
       "      <th>2</th>\n",
       "      <td>1135.732267</td>\n",
       "    </tr>\n",
       "    <tr>\n",
       "      <th>3</th>\n",
       "      <td>888.369775</td>\n",
       "    </tr>\n",
       "    <tr>\n",
       "      <th>4</th>\n",
       "      <td>718.267758</td>\n",
       "    </tr>\n",
       "    <tr>\n",
       "      <th>...</th>\n",
       "      <td>...</td>\n",
       "    </tr>\n",
       "    <tr>\n",
       "      <th>4226</th>\n",
       "      <td>884.043557</td>\n",
       "    </tr>\n",
       "    <tr>\n",
       "      <th>4227</th>\n",
       "      <td>810.888944</td>\n",
       "    </tr>\n",
       "    <tr>\n",
       "      <th>4228</th>\n",
       "      <td>9.414347</td>\n",
       "    </tr>\n",
       "    <tr>\n",
       "      <th>4229</th>\n",
       "      <td>269.270468</td>\n",
       "    </tr>\n",
       "    <tr>\n",
       "      <th>4230</th>\n",
       "      <td>143.512416</td>\n",
       "    </tr>\n",
       "  </tbody>\n",
       "</table>\n",
       "<p>4231 rows × 1 columns</p>\n",
       "</div>"
      ],
      "text/plain": [
       "      Predicted_Data\n",
       "0        1845.873520\n",
       "1         920.740575\n",
       "2        1135.732267\n",
       "3         888.369775\n",
       "4         718.267758\n",
       "...              ...\n",
       "4226      884.043557\n",
       "4227      810.888944\n",
       "4228        9.414347\n",
       "4229      269.270468\n",
       "4230      143.512416\n",
       "\n",
       "[4231 rows x 1 columns]"
      ]
     },
     "execution_count": 103,
     "metadata": {},
     "output_type": "execute_result"
    }
   ],
   "source": [
    "model_file_name = 'restaurant_food_cost.obj'\n",
    "loaded_model = joblib.load(model_file_name)\n",
    "\n",
    "#Predicting Test Data\n",
    "predict_test = loaded_model.predict(pca_test_x)\n",
    "\n",
    "#Displaying Predicted Data\n",
    "pred_t = pd.DataFrame({\"Predicted_Data\": predict_test})\n",
    "pred_t"
   ]
  },
  {
   "cell_type": "code",
   "execution_count": 104,
   "metadata": {},
   "outputs": [],
   "source": [
    "## Saving predicted data to .csv file\n",
    "pred_t.to_csv('predicted_test_data.csv')"
   ]
  }
 ],
 "metadata": {
  "kernelspec": {
   "display_name": "Python 3",
   "language": "python",
   "name": "python3"
  },
  "language_info": {
   "codemirror_mode": {
    "name": "ipython",
    "version": 3
   },
   "file_extension": ".py",
   "mimetype": "text/x-python",
   "name": "python",
   "nbconvert_exporter": "python",
   "pygments_lexer": "ipython3",
   "version": "3.8.3"
  }
 },
 "nbformat": 4,
 "nbformat_minor": 4
}
