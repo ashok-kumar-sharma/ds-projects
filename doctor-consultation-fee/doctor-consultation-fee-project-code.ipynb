{
 "cells": [
  {
   "cell_type": "markdown",
   "metadata": {},
   "source": [
    "# About Dataset\n",
    "The dataset is in .xlsx (Microsoft Excel) format and consists of ```5961 rows``` with ```7 features``` as explained below:\n",
    "1. **Qualification:** Qualification and degrees held by the doctor.\n",
    "2. **Experience:** Experience of the doctor in number of years.\n",
    "3. **Rating:** Rating given by patients.\n",
    "4. **Profile:** Type of the doctor.\n",
    "5. **Miscellaeous_Info:** Extra information about the doctor.\n",
    "6. **Fees:** Fees charged by the doctor.\n",
    "7. **Place:** Area and the city where the doctor is located.\n",
    "Since, the target feature ```Fees``` is of **continueous type**, therefore, it is a **Regression Problem**."
   ]
  },
  {
   "cell_type": "markdown",
   "metadata": {},
   "source": [
    "# Loading Dataset"
   ]
  },
  {
   "cell_type": "code",
   "execution_count": 1,
   "metadata": {},
   "outputs": [
    {
     "data": {
      "text/html": [
       "<div>\n",
       "<style scoped>\n",
       "    .dataframe tbody tr th:only-of-type {\n",
       "        vertical-align: middle;\n",
       "    }\n",
       "\n",
       "    .dataframe tbody tr th {\n",
       "        vertical-align: top;\n",
       "    }\n",
       "\n",
       "    .dataframe thead th {\n",
       "        text-align: right;\n",
       "    }\n",
       "</style>\n",
       "<table border=\"1\" class=\"dataframe\">\n",
       "  <thead>\n",
       "    <tr style=\"text-align: right;\">\n",
       "      <th></th>\n",
       "      <th>Qualification</th>\n",
       "      <th>Experience</th>\n",
       "      <th>Rating</th>\n",
       "      <th>Place</th>\n",
       "      <th>Profile</th>\n",
       "      <th>Miscellaneous_Info</th>\n",
       "      <th>Fees</th>\n",
       "    </tr>\n",
       "  </thead>\n",
       "  <tbody>\n",
       "    <tr>\n",
       "      <th>0</th>\n",
       "      <td>BHMS, MD - Homeopathy</td>\n",
       "      <td>24 years experience</td>\n",
       "      <td>100%</td>\n",
       "      <td>Kakkanad, Ernakulam</td>\n",
       "      <td>Homeopath</td>\n",
       "      <td>100% 16 Feedback Kakkanad, Ernakulam</td>\n",
       "      <td>100</td>\n",
       "    </tr>\n",
       "    <tr>\n",
       "      <th>1</th>\n",
       "      <td>BAMS, MD - Ayurveda Medicine</td>\n",
       "      <td>12 years experience</td>\n",
       "      <td>98%</td>\n",
       "      <td>Whitefield, Bangalore</td>\n",
       "      <td>Ayurveda</td>\n",
       "      <td>98% 76 Feedback Whitefield, Bangalore</td>\n",
       "      <td>350</td>\n",
       "    </tr>\n",
       "    <tr>\n",
       "      <th>2</th>\n",
       "      <td>MBBS, MS - Otorhinolaryngology</td>\n",
       "      <td>9 years experience</td>\n",
       "      <td>NaN</td>\n",
       "      <td>Mathikere - BEL, Bangalore</td>\n",
       "      <td>ENT Specialist</td>\n",
       "      <td>NaN</td>\n",
       "      <td>300</td>\n",
       "    </tr>\n",
       "    <tr>\n",
       "      <th>3</th>\n",
       "      <td>BSc - Zoology, BAMS</td>\n",
       "      <td>12 years experience</td>\n",
       "      <td>NaN</td>\n",
       "      <td>Bannerghatta Road, Bangalore</td>\n",
       "      <td>Ayurveda</td>\n",
       "      <td>Bannerghatta Road, Bangalore ₹250 Available on...</td>\n",
       "      <td>250</td>\n",
       "    </tr>\n",
       "    <tr>\n",
       "      <th>4</th>\n",
       "      <td>BAMS</td>\n",
       "      <td>20 years experience</td>\n",
       "      <td>100%</td>\n",
       "      <td>Keelkattalai, Chennai</td>\n",
       "      <td>Ayurveda</td>\n",
       "      <td>100% 4 Feedback Keelkattalai, Chennai</td>\n",
       "      <td>250</td>\n",
       "    </tr>\n",
       "    <tr>\n",
       "      <th>...</th>\n",
       "      <td>...</td>\n",
       "      <td>...</td>\n",
       "      <td>...</td>\n",
       "      <td>...</td>\n",
       "      <td>...</td>\n",
       "      <td>...</td>\n",
       "      <td>...</td>\n",
       "    </tr>\n",
       "    <tr>\n",
       "      <th>5956</th>\n",
       "      <td>MBBS, MS - ENT</td>\n",
       "      <td>19 years experience</td>\n",
       "      <td>98%</td>\n",
       "      <td>Basavanagudi, Bangalore</td>\n",
       "      <td>ENT Specialist</td>\n",
       "      <td>98% 45 Feedback Basavanagudi, Bangalore</td>\n",
       "      <td>300</td>\n",
       "    </tr>\n",
       "    <tr>\n",
       "      <th>5957</th>\n",
       "      <td>MBBS</td>\n",
       "      <td>33 years experience</td>\n",
       "      <td>NaN</td>\n",
       "      <td>Nungambakkam, Chennai</td>\n",
       "      <td>General Medicine</td>\n",
       "      <td>NaN</td>\n",
       "      <td>100</td>\n",
       "    </tr>\n",
       "    <tr>\n",
       "      <th>5958</th>\n",
       "      <td>MBBS</td>\n",
       "      <td>41 years experience</td>\n",
       "      <td>97%</td>\n",
       "      <td>Greater Kailash Part 2, Delhi</td>\n",
       "      <td>General Medicine</td>\n",
       "      <td>97% 11 Feedback Greater Kailash Part 2, Delhi</td>\n",
       "      <td>600</td>\n",
       "    </tr>\n",
       "    <tr>\n",
       "      <th>5959</th>\n",
       "      <td>MBBS, MD - General Medicine</td>\n",
       "      <td>15 years experience</td>\n",
       "      <td>90%</td>\n",
       "      <td>Vileparle West, Mumbai</td>\n",
       "      <td>General Medicine</td>\n",
       "      <td>General Medical Consultation Viral Fever Treat...</td>\n",
       "      <td>100</td>\n",
       "    </tr>\n",
       "    <tr>\n",
       "      <th>5960</th>\n",
       "      <td>BDS, MDS - Orthodontics</td>\n",
       "      <td>17 years experience</td>\n",
       "      <td>100%</td>\n",
       "      <td>Pitampura, Delhi</td>\n",
       "      <td>Dentist</td>\n",
       "      <td>Acrylic Partial Denture Crowns and Bridges Fix...</td>\n",
       "      <td>200</td>\n",
       "    </tr>\n",
       "  </tbody>\n",
       "</table>\n",
       "<p>5961 rows × 7 columns</p>\n",
       "</div>"
      ],
      "text/plain": [
       "                       Qualification           Experience Rating  \\\n",
       "0              BHMS, MD - Homeopathy  24 years experience   100%   \n",
       "1       BAMS, MD - Ayurveda Medicine  12 years experience    98%   \n",
       "2     MBBS, MS - Otorhinolaryngology   9 years experience    NaN   \n",
       "3                BSc - Zoology, BAMS  12 years experience    NaN   \n",
       "4                               BAMS  20 years experience   100%   \n",
       "...                              ...                  ...    ...   \n",
       "5956                  MBBS, MS - ENT  19 years experience    98%   \n",
       "5957                            MBBS  33 years experience    NaN   \n",
       "5958                            MBBS  41 years experience    97%   \n",
       "5959     MBBS, MD - General Medicine  15 years experience    90%   \n",
       "5960         BDS, MDS - Orthodontics  17 years experience   100%   \n",
       "\n",
       "                              Place           Profile  \\\n",
       "0               Kakkanad, Ernakulam         Homeopath   \n",
       "1             Whitefield, Bangalore          Ayurveda   \n",
       "2        Mathikere - BEL, Bangalore    ENT Specialist   \n",
       "3      Bannerghatta Road, Bangalore          Ayurveda   \n",
       "4             Keelkattalai, Chennai          Ayurveda   \n",
       "...                             ...               ...   \n",
       "5956        Basavanagudi, Bangalore    ENT Specialist   \n",
       "5957          Nungambakkam, Chennai  General Medicine   \n",
       "5958  Greater Kailash Part 2, Delhi  General Medicine   \n",
       "5959         Vileparle West, Mumbai  General Medicine   \n",
       "5960               Pitampura, Delhi           Dentist   \n",
       "\n",
       "                                     Miscellaneous_Info  Fees  \n",
       "0                  100% 16 Feedback Kakkanad, Ernakulam   100  \n",
       "1                 98% 76 Feedback Whitefield, Bangalore   350  \n",
       "2                                                   NaN   300  \n",
       "3     Bannerghatta Road, Bangalore ₹250 Available on...   250  \n",
       "4                 100% 4 Feedback Keelkattalai, Chennai   250  \n",
       "...                                                 ...   ...  \n",
       "5956            98% 45 Feedback Basavanagudi, Bangalore   300  \n",
       "5957                                                NaN   100  \n",
       "5958      97% 11 Feedback Greater Kailash Part 2, Delhi   600  \n",
       "5959  General Medical Consultation Viral Fever Treat...   100  \n",
       "5960  Acrylic Partial Denture Crowns and Bridges Fix...   200  \n",
       "\n",
       "[5961 rows x 7 columns]"
      ]
     },
     "execution_count": 1,
     "metadata": {},
     "output_type": "execute_result"
    }
   ],
   "source": [
    "import pandas as pd\n",
    "df_docf = pd.read_excel('Final_Train.xlsx',sheet_name='Sheet1')\n",
    "#Interpreting dataset\n",
    "df_docf"
   ]
  },
  {
   "cell_type": "code",
   "execution_count": 2,
   "metadata": {},
   "outputs": [
    {
     "data": {
      "text/plain": [
       "(5961, 7)"
      ]
     },
     "execution_count": 2,
     "metadata": {},
     "output_type": "execute_result"
    }
   ],
   "source": [
    "#Checking Dimension\n",
    "df_docf.shape"
   ]
  },
  {
   "cell_type": "markdown",
   "metadata": {},
   "source": [
    "### Remarks:\n",
    "- There are **5961 rows and 7 columns**."
   ]
  },
  {
   "cell_type": "code",
   "execution_count": 3,
   "metadata": {},
   "outputs": [
    {
     "name": "stdout",
     "output_type": "stream",
     "text": [
      "<class 'pandas.core.frame.DataFrame'>\n",
      "RangeIndex: 5961 entries, 0 to 5960\n",
      "Data columns (total 7 columns):\n",
      " #   Column              Non-Null Count  Dtype \n",
      "---  ------              --------------  ----- \n",
      " 0   Qualification       5961 non-null   object\n",
      " 1   Experience          5961 non-null   object\n",
      " 2   Rating              2659 non-null   object\n",
      " 3   Place               5936 non-null   object\n",
      " 4   Profile             5961 non-null   object\n",
      " 5   Miscellaneous_Info  3341 non-null   object\n",
      " 6   Fees                5961 non-null   int64 \n",
      "dtypes: int64(1), object(6)\n",
      "memory usage: 326.1+ KB\n"
     ]
    }
   ],
   "source": [
    "#Checking general information\n",
    "df_docf.info()"
   ]
  },
  {
   "cell_type": "markdown",
   "metadata": {},
   "source": [
    "### Remarks:\n",
    "- There are 1 continueous and **6 discrete features which needs to be treated accordingly**.\n",
    "- Feature ```Rating```, ```Place``` and ```Miscellaneous_Info``` contains **null values and needs to be treated accordingly**."
   ]
  },
  {
   "cell_type": "markdown",
   "metadata": {},
   "source": [
    "# Preparing Dataset"
   ]
  },
  {
   "cell_type": "code",
   "execution_count": 4,
   "metadata": {},
   "outputs": [],
   "source": [
    "import re\n",
    "#Copying dataset to new dataframe object\n",
    "df = df_docf.copy()"
   ]
  },
  {
   "cell_type": "markdown",
   "metadata": {},
   "source": [
    "### **Feature ```Qualification```**"
   ]
  },
  {
   "cell_type": "code",
   "execution_count": 5,
   "metadata": {},
   "outputs": [
    {
     "data": {
      "text/plain": [
       "0                                 BHMS, MD - Homeopathy\n",
       "1                          BAMS, MD - Ayurveda Medicine\n",
       "2                        MBBS, MS - Otorhinolaryngology\n",
       "3                                   BSc - Zoology, BAMS\n",
       "4                                                  BAMS\n",
       "5                                                  BAMS\n",
       "6                                                  BHMS\n",
       "7                                                   BDS\n",
       "8                           MBBS, MD - General Medicine\n",
       "9                                              BSc, BDS\n",
       "10                                  MBBS, MS, DNB - ENT\n",
       "11                                                 BAMS\n",
       "12                                             BDS, MDS\n",
       "13              BDS, MDS - Oral & Maxillofacial Surgery\n",
       "14    MBBS, Diploma in Otorhinolaryngology (DLO), DN...\n",
       "15                          MBBS, MD - General Medicine\n",
       "16           MBBS, Diploma in Otorhinolaryngology (DLO)\n",
       "17                                 MBBS, MF- Homeopathy\n",
       "18                                       MBBS, MS - ENT\n",
       "19                                                 MBBS\n",
       "Name: Qualification, dtype: object"
      ]
     },
     "execution_count": 5,
     "metadata": {},
     "output_type": "execute_result"
    }
   ],
   "source": [
    "#Checking feature Qualification for further analysis\n",
    "x = 'Qualification'\n",
    "\n",
    "#Checking values for any patterns in it.\n",
    "df[x].head(20)"
   ]
  },
  {
   "cell_type": "markdown",
   "metadata": {},
   "source": [
    "### Remarks:\n",
    "- Values are stored in form of degree and profile, therefore, seperating them into different columns of their degrees."
   ]
  },
  {
   "cell_type": "code",
   "execution_count": 6,
   "metadata": {
    "scrolled": true
   },
   "outputs": [
    {
     "data": {
      "text/html": [
       "<div>\n",
       "<style scoped>\n",
       "    .dataframe tbody tr th:only-of-type {\n",
       "        vertical-align: middle;\n",
       "    }\n",
       "\n",
       "    .dataframe tbody tr th {\n",
       "        vertical-align: top;\n",
       "    }\n",
       "\n",
       "    .dataframe thead th {\n",
       "        text-align: right;\n",
       "    }\n",
       "</style>\n",
       "<table border=\"1\" class=\"dataframe\">\n",
       "  <thead>\n",
       "    <tr style=\"text-align: right;\">\n",
       "      <th></th>\n",
       "      <th>Qualification</th>\n",
       "      <th>Experience</th>\n",
       "      <th>Rating</th>\n",
       "      <th>Place</th>\n",
       "      <th>Profile</th>\n",
       "      <th>Miscellaneous_Info</th>\n",
       "      <th>Fees</th>\n",
       "      <th>is_MS</th>\n",
       "      <th>is_MD</th>\n",
       "      <th>is_MF</th>\n",
       "      <th>is_MDS</th>\n",
       "      <th>is_MBBS</th>\n",
       "      <th>is_BDS</th>\n",
       "      <th>is_BAMS</th>\n",
       "      <th>is_BHMS</th>\n",
       "      <th>is_DNB</th>\n",
       "      <th>is_Diploma</th>\n",
       "      <th>is_BSc</th>\n",
       "    </tr>\n",
       "  </thead>\n",
       "  <tbody>\n",
       "    <tr>\n",
       "      <th>0</th>\n",
       "      <td>BHMS, MD - Homeopathy</td>\n",
       "      <td>24 years experience</td>\n",
       "      <td>100%</td>\n",
       "      <td>Kakkanad, Ernakulam</td>\n",
       "      <td>Homeopath</td>\n",
       "      <td>100% 16 Feedback Kakkanad, Ernakulam</td>\n",
       "      <td>100</td>\n",
       "      <td>Yes</td>\n",
       "      <td>Yes</td>\n",
       "      <td>No</td>\n",
       "      <td>No</td>\n",
       "      <td>No</td>\n",
       "      <td>No</td>\n",
       "      <td>No</td>\n",
       "      <td>Yes</td>\n",
       "      <td>No</td>\n",
       "      <td>No</td>\n",
       "      <td>No</td>\n",
       "    </tr>\n",
       "    <tr>\n",
       "      <th>1</th>\n",
       "      <td>BAMS, MD - Ayurveda Medicine</td>\n",
       "      <td>12 years experience</td>\n",
       "      <td>98%</td>\n",
       "      <td>Whitefield, Bangalore</td>\n",
       "      <td>Ayurveda</td>\n",
       "      <td>98% 76 Feedback Whitefield, Bangalore</td>\n",
       "      <td>350</td>\n",
       "      <td>Yes</td>\n",
       "      <td>Yes</td>\n",
       "      <td>No</td>\n",
       "      <td>No</td>\n",
       "      <td>No</td>\n",
       "      <td>No</td>\n",
       "      <td>Yes</td>\n",
       "      <td>No</td>\n",
       "      <td>No</td>\n",
       "      <td>No</td>\n",
       "      <td>No</td>\n",
       "    </tr>\n",
       "    <tr>\n",
       "      <th>2</th>\n",
       "      <td>MBBS, MS - Otorhinolaryngology</td>\n",
       "      <td>9 years experience</td>\n",
       "      <td>NaN</td>\n",
       "      <td>Mathikere - BEL, Bangalore</td>\n",
       "      <td>ENT Specialist</td>\n",
       "      <td>NaN</td>\n",
       "      <td>300</td>\n",
       "      <td>Yes</td>\n",
       "      <td>No</td>\n",
       "      <td>No</td>\n",
       "      <td>No</td>\n",
       "      <td>Yes</td>\n",
       "      <td>No</td>\n",
       "      <td>No</td>\n",
       "      <td>No</td>\n",
       "      <td>No</td>\n",
       "      <td>No</td>\n",
       "      <td>No</td>\n",
       "    </tr>\n",
       "    <tr>\n",
       "      <th>3</th>\n",
       "      <td>BSc - Zoology, BAMS</td>\n",
       "      <td>12 years experience</td>\n",
       "      <td>NaN</td>\n",
       "      <td>Bannerghatta Road, Bangalore</td>\n",
       "      <td>Ayurveda</td>\n",
       "      <td>Bannerghatta Road, Bangalore ₹250 Available on...</td>\n",
       "      <td>250</td>\n",
       "      <td>Yes</td>\n",
       "      <td>No</td>\n",
       "      <td>No</td>\n",
       "      <td>No</td>\n",
       "      <td>No</td>\n",
       "      <td>No</td>\n",
       "      <td>Yes</td>\n",
       "      <td>No</td>\n",
       "      <td>No</td>\n",
       "      <td>No</td>\n",
       "      <td>Yes</td>\n",
       "    </tr>\n",
       "    <tr>\n",
       "      <th>4</th>\n",
       "      <td>BAMS</td>\n",
       "      <td>20 years experience</td>\n",
       "      <td>100%</td>\n",
       "      <td>Keelkattalai, Chennai</td>\n",
       "      <td>Ayurveda</td>\n",
       "      <td>100% 4 Feedback Keelkattalai, Chennai</td>\n",
       "      <td>250</td>\n",
       "      <td>Yes</td>\n",
       "      <td>No</td>\n",
       "      <td>No</td>\n",
       "      <td>No</td>\n",
       "      <td>No</td>\n",
       "      <td>No</td>\n",
       "      <td>Yes</td>\n",
       "      <td>No</td>\n",
       "      <td>No</td>\n",
       "      <td>No</td>\n",
       "      <td>No</td>\n",
       "    </tr>\n",
       "  </tbody>\n",
       "</table>\n",
       "</div>"
      ],
      "text/plain": [
       "                    Qualification           Experience Rating  \\\n",
       "0           BHMS, MD - Homeopathy  24 years experience   100%   \n",
       "1    BAMS, MD - Ayurveda Medicine  12 years experience    98%   \n",
       "2  MBBS, MS - Otorhinolaryngology   9 years experience    NaN   \n",
       "3             BSc - Zoology, BAMS  12 years experience    NaN   \n",
       "4                            BAMS  20 years experience   100%   \n",
       "\n",
       "                          Place         Profile  \\\n",
       "0           Kakkanad, Ernakulam       Homeopath   \n",
       "1         Whitefield, Bangalore        Ayurveda   \n",
       "2    Mathikere - BEL, Bangalore  ENT Specialist   \n",
       "3  Bannerghatta Road, Bangalore        Ayurveda   \n",
       "4         Keelkattalai, Chennai        Ayurveda   \n",
       "\n",
       "                                  Miscellaneous_Info  Fees is_MS is_MD is_MF  \\\n",
       "0               100% 16 Feedback Kakkanad, Ernakulam   100   Yes   Yes    No   \n",
       "1              98% 76 Feedback Whitefield, Bangalore   350   Yes   Yes    No   \n",
       "2                                                NaN   300   Yes    No    No   \n",
       "3  Bannerghatta Road, Bangalore ₹250 Available on...   250   Yes    No    No   \n",
       "4              100% 4 Feedback Keelkattalai, Chennai   250   Yes    No    No   \n",
       "\n",
       "  is_MDS is_MBBS is_BDS is_BAMS is_BHMS is_DNB is_Diploma is_BSc  \n",
       "0     No      No     No      No     Yes     No         No     No  \n",
       "1     No      No     No     Yes      No     No         No     No  \n",
       "2     No     Yes     No      No      No     No         No     No  \n",
       "3     No      No     No     Yes      No     No         No    Yes  \n",
       "4     No      No     No     Yes      No     No         No     No  "
      ]
     },
     "execution_count": 6,
     "metadata": {},
     "output_type": "execute_result"
    }
   ],
   "source": [
    "#Preparing list of degrees\n",
    "deg = ['MS','MD','MF','MDS','MBBS','BDS','BAMS','BHMS','DNB']\n",
    "pgd = ['PGD','Post Graduate','Diploma']\n",
    "bsc = ['BSc','B.Sc']\n",
    "\n",
    "#Seperating using deg first\n",
    "for i in deg:\n",
    "    temp = 'is_'+i\n",
    "    df[temp] = df[x].str.contains(i)\n",
    "    df[temp] = df[temp].apply(lambda x: 'Yes' if x==True else 'No')\n",
    "\n",
    "#Seperating using pgd\n",
    "for i in pgd:\n",
    "    df[i] = df[x].str.contains(i)\n",
    "    \n",
    "df['is_Diploma'] = df[pgd].any(axis=1)\n",
    "df.drop(columns=pgd,inplace=True)\n",
    "df['is_Diploma'] = df['is_Diploma'].apply(lambda x: 'Yes' if x==True else 'No')\n",
    "\n",
    "#Seperating using bsc\n",
    "for i in bsc:\n",
    "    df[i] = df[x].str.contains(i)\n",
    "    \n",
    "df['is_BSc'] = df[bsc].any(axis=1)\n",
    "df.drop(columns=bsc,inplace=True)\n",
    "df['is_BSc'] = df['is_BSc'].apply(lambda x: 'Yes' if x==True else 'No')\n",
    "\n",
    "\n",
    "#Interpreting dataset after spliting of feature Qualification\n",
    "df.head()"
   ]
  },
  {
   "cell_type": "markdown",
   "metadata": {},
   "source": [
    "### **Feature ```Experience```**"
   ]
  },
  {
   "cell_type": "code",
   "execution_count": 7,
   "metadata": {},
   "outputs": [
    {
     "data": {
      "text/plain": [
       "0     24 years experience\n",
       "1     12 years experience\n",
       "2      9 years experience\n",
       "3     12 years experience\n",
       "4     20 years experience\n",
       "5      8 years experience\n",
       "6     42 years experience\n",
       "7     10 years experience\n",
       "8     14 years experience\n",
       "9     23 years experience\n",
       "10     5 years experience\n",
       "11     7 years experience\n",
       "12     9 years experience\n",
       "13    21 years experience\n",
       "14    12 years experience\n",
       "15    10 years experience\n",
       "16    24 years experience\n",
       "17     5 years experience\n",
       "18    19 years experience\n",
       "19    19 years experience\n",
       "Name: Experience, dtype: object"
      ]
     },
     "execution_count": 7,
     "metadata": {},
     "output_type": "execute_result"
    }
   ],
   "source": [
    "#Checking feature Experience for further analysis\n",
    "x = 'Experience'\n",
    "\n",
    "df[x].head(20)"
   ]
  },
  {
   "cell_type": "markdown",
   "metadata": {},
   "source": [
    "### Remarks:\n",
    "- Value is in format (xx years experience), therefore, extracting xx and storing it in another column."
   ]
  },
  {
   "cell_type": "code",
   "execution_count": 8,
   "metadata": {},
   "outputs": [
    {
     "data": {
      "text/html": [
       "<div>\n",
       "<style scoped>\n",
       "    .dataframe tbody tr th:only-of-type {\n",
       "        vertical-align: middle;\n",
       "    }\n",
       "\n",
       "    .dataframe tbody tr th {\n",
       "        vertical-align: top;\n",
       "    }\n",
       "\n",
       "    .dataframe thead th {\n",
       "        text-align: right;\n",
       "    }\n",
       "</style>\n",
       "<table border=\"1\" class=\"dataframe\">\n",
       "  <thead>\n",
       "    <tr style=\"text-align: right;\">\n",
       "      <th></th>\n",
       "      <th>Qualification</th>\n",
       "      <th>Experience</th>\n",
       "      <th>Rating</th>\n",
       "      <th>Place</th>\n",
       "      <th>Profile</th>\n",
       "      <th>Miscellaneous_Info</th>\n",
       "      <th>Fees</th>\n",
       "      <th>is_MS</th>\n",
       "      <th>is_MD</th>\n",
       "      <th>is_MF</th>\n",
       "      <th>is_MDS</th>\n",
       "      <th>is_MBBS</th>\n",
       "      <th>is_BDS</th>\n",
       "      <th>is_BAMS</th>\n",
       "      <th>is_BHMS</th>\n",
       "      <th>is_DNB</th>\n",
       "      <th>is_Diploma</th>\n",
       "      <th>is_BSc</th>\n",
       "      <th>n_Experience</th>\n",
       "    </tr>\n",
       "  </thead>\n",
       "  <tbody>\n",
       "    <tr>\n",
       "      <th>0</th>\n",
       "      <td>BHMS, MD - Homeopathy</td>\n",
       "      <td>24 years experience</td>\n",
       "      <td>100%</td>\n",
       "      <td>Kakkanad, Ernakulam</td>\n",
       "      <td>Homeopath</td>\n",
       "      <td>100% 16 Feedback Kakkanad, Ernakulam</td>\n",
       "      <td>100</td>\n",
       "      <td>Yes</td>\n",
       "      <td>Yes</td>\n",
       "      <td>No</td>\n",
       "      <td>No</td>\n",
       "      <td>No</td>\n",
       "      <td>No</td>\n",
       "      <td>No</td>\n",
       "      <td>Yes</td>\n",
       "      <td>No</td>\n",
       "      <td>No</td>\n",
       "      <td>No</td>\n",
       "      <td>24</td>\n",
       "    </tr>\n",
       "    <tr>\n",
       "      <th>1</th>\n",
       "      <td>BAMS, MD - Ayurveda Medicine</td>\n",
       "      <td>12 years experience</td>\n",
       "      <td>98%</td>\n",
       "      <td>Whitefield, Bangalore</td>\n",
       "      <td>Ayurveda</td>\n",
       "      <td>98% 76 Feedback Whitefield, Bangalore</td>\n",
       "      <td>350</td>\n",
       "      <td>Yes</td>\n",
       "      <td>Yes</td>\n",
       "      <td>No</td>\n",
       "      <td>No</td>\n",
       "      <td>No</td>\n",
       "      <td>No</td>\n",
       "      <td>Yes</td>\n",
       "      <td>No</td>\n",
       "      <td>No</td>\n",
       "      <td>No</td>\n",
       "      <td>No</td>\n",
       "      <td>12</td>\n",
       "    </tr>\n",
       "    <tr>\n",
       "      <th>2</th>\n",
       "      <td>MBBS, MS - Otorhinolaryngology</td>\n",
       "      <td>9 years experience</td>\n",
       "      <td>NaN</td>\n",
       "      <td>Mathikere - BEL, Bangalore</td>\n",
       "      <td>ENT Specialist</td>\n",
       "      <td>NaN</td>\n",
       "      <td>300</td>\n",
       "      <td>Yes</td>\n",
       "      <td>No</td>\n",
       "      <td>No</td>\n",
       "      <td>No</td>\n",
       "      <td>Yes</td>\n",
       "      <td>No</td>\n",
       "      <td>No</td>\n",
       "      <td>No</td>\n",
       "      <td>No</td>\n",
       "      <td>No</td>\n",
       "      <td>No</td>\n",
       "      <td>9</td>\n",
       "    </tr>\n",
       "    <tr>\n",
       "      <th>3</th>\n",
       "      <td>BSc - Zoology, BAMS</td>\n",
       "      <td>12 years experience</td>\n",
       "      <td>NaN</td>\n",
       "      <td>Bannerghatta Road, Bangalore</td>\n",
       "      <td>Ayurveda</td>\n",
       "      <td>Bannerghatta Road, Bangalore ₹250 Available on...</td>\n",
       "      <td>250</td>\n",
       "      <td>Yes</td>\n",
       "      <td>No</td>\n",
       "      <td>No</td>\n",
       "      <td>No</td>\n",
       "      <td>No</td>\n",
       "      <td>No</td>\n",
       "      <td>Yes</td>\n",
       "      <td>No</td>\n",
       "      <td>No</td>\n",
       "      <td>No</td>\n",
       "      <td>Yes</td>\n",
       "      <td>12</td>\n",
       "    </tr>\n",
       "    <tr>\n",
       "      <th>4</th>\n",
       "      <td>BAMS</td>\n",
       "      <td>20 years experience</td>\n",
       "      <td>100%</td>\n",
       "      <td>Keelkattalai, Chennai</td>\n",
       "      <td>Ayurveda</td>\n",
       "      <td>100% 4 Feedback Keelkattalai, Chennai</td>\n",
       "      <td>250</td>\n",
       "      <td>Yes</td>\n",
       "      <td>No</td>\n",
       "      <td>No</td>\n",
       "      <td>No</td>\n",
       "      <td>No</td>\n",
       "      <td>No</td>\n",
       "      <td>Yes</td>\n",
       "      <td>No</td>\n",
       "      <td>No</td>\n",
       "      <td>No</td>\n",
       "      <td>No</td>\n",
       "      <td>20</td>\n",
       "    </tr>\n",
       "  </tbody>\n",
       "</table>\n",
       "</div>"
      ],
      "text/plain": [
       "                    Qualification           Experience Rating  \\\n",
       "0           BHMS, MD - Homeopathy  24 years experience   100%   \n",
       "1    BAMS, MD - Ayurveda Medicine  12 years experience    98%   \n",
       "2  MBBS, MS - Otorhinolaryngology   9 years experience    NaN   \n",
       "3             BSc - Zoology, BAMS  12 years experience    NaN   \n",
       "4                            BAMS  20 years experience   100%   \n",
       "\n",
       "                          Place         Profile  \\\n",
       "0           Kakkanad, Ernakulam       Homeopath   \n",
       "1         Whitefield, Bangalore        Ayurveda   \n",
       "2    Mathikere - BEL, Bangalore  ENT Specialist   \n",
       "3  Bannerghatta Road, Bangalore        Ayurveda   \n",
       "4         Keelkattalai, Chennai        Ayurveda   \n",
       "\n",
       "                                  Miscellaneous_Info  Fees is_MS is_MD is_MF  \\\n",
       "0               100% 16 Feedback Kakkanad, Ernakulam   100   Yes   Yes    No   \n",
       "1              98% 76 Feedback Whitefield, Bangalore   350   Yes   Yes    No   \n",
       "2                                                NaN   300   Yes    No    No   \n",
       "3  Bannerghatta Road, Bangalore ₹250 Available on...   250   Yes    No    No   \n",
       "4              100% 4 Feedback Keelkattalai, Chennai   250   Yes    No    No   \n",
       "\n",
       "  is_MDS is_MBBS is_BDS is_BAMS is_BHMS is_DNB is_Diploma is_BSc  n_Experience  \n",
       "0     No      No     No      No     Yes     No         No     No            24  \n",
       "1     No      No     No     Yes      No     No         No     No            12  \n",
       "2     No     Yes     No      No      No     No         No     No             9  \n",
       "3     No      No     No     Yes      No     No         No    Yes            12  \n",
       "4     No      No     No     Yes      No     No         No     No            20  "
      ]
     },
     "execution_count": 8,
     "metadata": {},
     "output_type": "execute_result"
    }
   ],
   "source": [
    "#Extracting numbers from feature Experience and storing it in another column\n",
    "reg = '\\.*(\\d{0,9})\\.*'\n",
    "df['n_Experience']=df[x].str.extract(reg).astype('int64')\n",
    "\n",
    "#Interpreting dataset after spliting of feature Experience\n",
    "df.head()"
   ]
  },
  {
   "cell_type": "markdown",
   "metadata": {},
   "source": [
    "### **Feature ```Ratings```**"
   ]
  },
  {
   "cell_type": "code",
   "execution_count": 9,
   "metadata": {},
   "outputs": [
    {
     "data": {
      "text/plain": [
       "array(['100%', '98%', nan, '99%', '79%', '95%', '97%', '94%', '88%',\n",
       "       '90%', '80%', '93%', '36%', '78%', '87%', '96%', '82%', '89%',\n",
       "       '74%', '86%', '92%', '83%', '76%', '85%', '56%', '91%', '68%',\n",
       "       '60%', '75%', '69%', '73%', '67%', '77%', '33%', '55%', '71%',\n",
       "       '84%', '45%', '63%', '72%', '81%', '62%', '57%', '7%', '48%',\n",
       "       '40%', '70%', '64%', '65%', '47%', '58%', '53%'], dtype=object)"
      ]
     },
     "execution_count": 9,
     "metadata": {},
     "output_type": "execute_result"
    }
   ],
   "source": [
    "#Checking feature Ratings for further analysis\n",
    "x = 'Rating'\n",
    "df[x].unique()"
   ]
  },
  {
   "cell_type": "markdown",
   "metadata": {},
   "source": [
    "### Remarks:\n",
    "- Value is in format (xx%), therefore, extracting xx and storing it in another column."
   ]
  },
  {
   "cell_type": "code",
   "execution_count": 10,
   "metadata": {},
   "outputs": [
    {
     "data": {
      "text/html": [
       "<div>\n",
       "<style scoped>\n",
       "    .dataframe tbody tr th:only-of-type {\n",
       "        vertical-align: middle;\n",
       "    }\n",
       "\n",
       "    .dataframe tbody tr th {\n",
       "        vertical-align: top;\n",
       "    }\n",
       "\n",
       "    .dataframe thead th {\n",
       "        text-align: right;\n",
       "    }\n",
       "</style>\n",
       "<table border=\"1\" class=\"dataframe\">\n",
       "  <thead>\n",
       "    <tr style=\"text-align: right;\">\n",
       "      <th></th>\n",
       "      <th>Qualification</th>\n",
       "      <th>Experience</th>\n",
       "      <th>Rating</th>\n",
       "      <th>Place</th>\n",
       "      <th>Profile</th>\n",
       "      <th>Miscellaneous_Info</th>\n",
       "      <th>Fees</th>\n",
       "      <th>is_MS</th>\n",
       "      <th>is_MD</th>\n",
       "      <th>is_MF</th>\n",
       "      <th>is_MDS</th>\n",
       "      <th>is_MBBS</th>\n",
       "      <th>is_BDS</th>\n",
       "      <th>is_BAMS</th>\n",
       "      <th>is_BHMS</th>\n",
       "      <th>is_DNB</th>\n",
       "      <th>is_Diploma</th>\n",
       "      <th>is_BSc</th>\n",
       "      <th>n_Experience</th>\n",
       "      <th>n_Rating</th>\n",
       "    </tr>\n",
       "  </thead>\n",
       "  <tbody>\n",
       "    <tr>\n",
       "      <th>0</th>\n",
       "      <td>BHMS, MD - Homeopathy</td>\n",
       "      <td>24 years experience</td>\n",
       "      <td>100%</td>\n",
       "      <td>Kakkanad, Ernakulam</td>\n",
       "      <td>Homeopath</td>\n",
       "      <td>100% 16 Feedback Kakkanad, Ernakulam</td>\n",
       "      <td>100</td>\n",
       "      <td>Yes</td>\n",
       "      <td>Yes</td>\n",
       "      <td>No</td>\n",
       "      <td>No</td>\n",
       "      <td>No</td>\n",
       "      <td>No</td>\n",
       "      <td>No</td>\n",
       "      <td>Yes</td>\n",
       "      <td>No</td>\n",
       "      <td>No</td>\n",
       "      <td>No</td>\n",
       "      <td>24</td>\n",
       "      <td>100</td>\n",
       "    </tr>\n",
       "    <tr>\n",
       "      <th>1</th>\n",
       "      <td>BAMS, MD - Ayurveda Medicine</td>\n",
       "      <td>12 years experience</td>\n",
       "      <td>98%</td>\n",
       "      <td>Whitefield, Bangalore</td>\n",
       "      <td>Ayurveda</td>\n",
       "      <td>98% 76 Feedback Whitefield, Bangalore</td>\n",
       "      <td>350</td>\n",
       "      <td>Yes</td>\n",
       "      <td>Yes</td>\n",
       "      <td>No</td>\n",
       "      <td>No</td>\n",
       "      <td>No</td>\n",
       "      <td>No</td>\n",
       "      <td>Yes</td>\n",
       "      <td>No</td>\n",
       "      <td>No</td>\n",
       "      <td>No</td>\n",
       "      <td>No</td>\n",
       "      <td>12</td>\n",
       "      <td>98</td>\n",
       "    </tr>\n",
       "    <tr>\n",
       "      <th>2</th>\n",
       "      <td>MBBS, MS - Otorhinolaryngology</td>\n",
       "      <td>9 years experience</td>\n",
       "      <td>NaN</td>\n",
       "      <td>Mathikere - BEL, Bangalore</td>\n",
       "      <td>ENT Specialist</td>\n",
       "      <td>NaN</td>\n",
       "      <td>300</td>\n",
       "      <td>Yes</td>\n",
       "      <td>No</td>\n",
       "      <td>No</td>\n",
       "      <td>No</td>\n",
       "      <td>Yes</td>\n",
       "      <td>No</td>\n",
       "      <td>No</td>\n",
       "      <td>No</td>\n",
       "      <td>No</td>\n",
       "      <td>No</td>\n",
       "      <td>No</td>\n",
       "      <td>9</td>\n",
       "      <td>NaN</td>\n",
       "    </tr>\n",
       "    <tr>\n",
       "      <th>3</th>\n",
       "      <td>BSc - Zoology, BAMS</td>\n",
       "      <td>12 years experience</td>\n",
       "      <td>NaN</td>\n",
       "      <td>Bannerghatta Road, Bangalore</td>\n",
       "      <td>Ayurveda</td>\n",
       "      <td>Bannerghatta Road, Bangalore ₹250 Available on...</td>\n",
       "      <td>250</td>\n",
       "      <td>Yes</td>\n",
       "      <td>No</td>\n",
       "      <td>No</td>\n",
       "      <td>No</td>\n",
       "      <td>No</td>\n",
       "      <td>No</td>\n",
       "      <td>Yes</td>\n",
       "      <td>No</td>\n",
       "      <td>No</td>\n",
       "      <td>No</td>\n",
       "      <td>Yes</td>\n",
       "      <td>12</td>\n",
       "      <td>NaN</td>\n",
       "    </tr>\n",
       "    <tr>\n",
       "      <th>4</th>\n",
       "      <td>BAMS</td>\n",
       "      <td>20 years experience</td>\n",
       "      <td>100%</td>\n",
       "      <td>Keelkattalai, Chennai</td>\n",
       "      <td>Ayurveda</td>\n",
       "      <td>100% 4 Feedback Keelkattalai, Chennai</td>\n",
       "      <td>250</td>\n",
       "      <td>Yes</td>\n",
       "      <td>No</td>\n",
       "      <td>No</td>\n",
       "      <td>No</td>\n",
       "      <td>No</td>\n",
       "      <td>No</td>\n",
       "      <td>Yes</td>\n",
       "      <td>No</td>\n",
       "      <td>No</td>\n",
       "      <td>No</td>\n",
       "      <td>No</td>\n",
       "      <td>20</td>\n",
       "      <td>100</td>\n",
       "    </tr>\n",
       "  </tbody>\n",
       "</table>\n",
       "</div>"
      ],
      "text/plain": [
       "                    Qualification           Experience Rating  \\\n",
       "0           BHMS, MD - Homeopathy  24 years experience   100%   \n",
       "1    BAMS, MD - Ayurveda Medicine  12 years experience    98%   \n",
       "2  MBBS, MS - Otorhinolaryngology   9 years experience    NaN   \n",
       "3             BSc - Zoology, BAMS  12 years experience    NaN   \n",
       "4                            BAMS  20 years experience   100%   \n",
       "\n",
       "                          Place         Profile  \\\n",
       "0           Kakkanad, Ernakulam       Homeopath   \n",
       "1         Whitefield, Bangalore        Ayurveda   \n",
       "2    Mathikere - BEL, Bangalore  ENT Specialist   \n",
       "3  Bannerghatta Road, Bangalore        Ayurveda   \n",
       "4         Keelkattalai, Chennai        Ayurveda   \n",
       "\n",
       "                                  Miscellaneous_Info  Fees is_MS is_MD is_MF  \\\n",
       "0               100% 16 Feedback Kakkanad, Ernakulam   100   Yes   Yes    No   \n",
       "1              98% 76 Feedback Whitefield, Bangalore   350   Yes   Yes    No   \n",
       "2                                                NaN   300   Yes    No    No   \n",
       "3  Bannerghatta Road, Bangalore ₹250 Available on...   250   Yes    No    No   \n",
       "4              100% 4 Feedback Keelkattalai, Chennai   250   Yes    No    No   \n",
       "\n",
       "  is_MDS is_MBBS is_BDS is_BAMS is_BHMS is_DNB is_Diploma is_BSc  \\\n",
       "0     No      No     No      No     Yes     No         No     No   \n",
       "1     No      No     No     Yes      No     No         No     No   \n",
       "2     No     Yes     No      No      No     No         No     No   \n",
       "3     No      No     No     Yes      No     No         No    Yes   \n",
       "4     No      No     No     Yes      No     No         No     No   \n",
       "\n",
       "   n_Experience n_Rating  \n",
       "0            24      100  \n",
       "1            12       98  \n",
       "2             9      NaN  \n",
       "3            12      NaN  \n",
       "4            20      100  "
      ]
     },
     "execution_count": 10,
     "metadata": {},
     "output_type": "execute_result"
    }
   ],
   "source": [
    "#Extracting numbers from feature Rating and storing it in another column\n",
    "reg = '\\.*(\\d{0,9})\\.*'\n",
    "df['n_Rating']=df[x].str.extract(reg)\n",
    "\n",
    "#Interpreting feature Rating after spliting\n",
    "df.head()"
   ]
  },
  {
   "cell_type": "markdown",
   "metadata": {},
   "source": [
    "### **Feature ```Place```**"
   ]
  },
  {
   "cell_type": "code",
   "execution_count": 11,
   "metadata": {},
   "outputs": [
    {
     "data": {
      "text/plain": [
       "0                   Kakkanad, Ernakulam\n",
       "1                 Whitefield, Bangalore\n",
       "2            Mathikere - BEL, Bangalore\n",
       "3          Bannerghatta Road, Bangalore\n",
       "4                 Keelkattalai, Chennai\n",
       "5                        Porur, Chennai\n",
       "6                     Karol Bagh, Delhi\n",
       "7                    Arekere, Bangalore\n",
       "8                   Old City, Hyderabad\n",
       "9                     Athani, Ernakulam\n",
       "10             Thousand Lights, Chennai\n",
       "11                Somajiguda, Hyderabad\n",
       "12    Coimbatore Racecourse, Coimbatore\n",
       "13             Jubilee Hills, Hyderabad\n",
       "14                        Kondli, Delhi\n",
       "15              Saroor Nagar, Hyderabad\n",
       "16               Tambaram West, Chennai\n",
       "17                Purasawakkam, Chennai\n",
       "18                      KPHB, Hyderabad\n",
       "19                HSR Layout, Bangalore\n",
       "Name: Place, dtype: object"
      ]
     },
     "execution_count": 11,
     "metadata": {},
     "output_type": "execute_result"
    }
   ],
   "source": [
    "#Checking feature Place for further analysis\n",
    "x = 'Place'\n",
    "df[x].head(20)"
   ]
  },
  {
   "cell_type": "markdown",
   "metadata": {},
   "source": [
    "### Remarks:\n",
    "- Values stored are in format (Area, City), therefore, spliting them into two different columns"
   ]
  },
  {
   "cell_type": "code",
   "execution_count": 12,
   "metadata": {},
   "outputs": [
    {
     "name": "stdout",
     "output_type": "stream",
     "text": [
      "Bangalore             1258\n",
      "Mumbai                1219\n",
      "Delhi                 1185\n",
      "Hyderabad              951\n",
      "Chennai                855\n",
      "Coimbatore             228\n",
      "Ernakulam              153\n",
      "Thiruvananthapuram      86\n",
      "Name: city_Place, dtype: int64\n"
     ]
    },
    {
     "name": "stderr",
     "output_type": "stream",
     "text": [
      "<ipython-input-12-353aefb438d1>:8: SettingWithCopyWarning: \n",
      "A value is trying to be set on a copy of a slice from a DataFrame\n",
      "\n",
      "See the caveats in the documentation: https://pandas.pydata.org/pandas-docs/stable/user_guide/indexing.html#returning-a-view-versus-a-copy\n",
      "  df['city_Place'][t.index]=t[2].str.strip()\n"
     ]
    },
    {
     "data": {
      "text/html": [
       "<div>\n",
       "<style scoped>\n",
       "    .dataframe tbody tr th:only-of-type {\n",
       "        vertical-align: middle;\n",
       "    }\n",
       "\n",
       "    .dataframe tbody tr th {\n",
       "        vertical-align: top;\n",
       "    }\n",
       "\n",
       "    .dataframe thead th {\n",
       "        text-align: right;\n",
       "    }\n",
       "</style>\n",
       "<table border=\"1\" class=\"dataframe\">\n",
       "  <thead>\n",
       "    <tr style=\"text-align: right;\">\n",
       "      <th></th>\n",
       "      <th>Qualification</th>\n",
       "      <th>Experience</th>\n",
       "      <th>Rating</th>\n",
       "      <th>Place</th>\n",
       "      <th>Profile</th>\n",
       "      <th>Miscellaneous_Info</th>\n",
       "      <th>Fees</th>\n",
       "      <th>is_MS</th>\n",
       "      <th>is_MD</th>\n",
       "      <th>is_MF</th>\n",
       "      <th>...</th>\n",
       "      <th>is_BDS</th>\n",
       "      <th>is_BAMS</th>\n",
       "      <th>is_BHMS</th>\n",
       "      <th>is_DNB</th>\n",
       "      <th>is_Diploma</th>\n",
       "      <th>is_BSc</th>\n",
       "      <th>n_Experience</th>\n",
       "      <th>n_Rating</th>\n",
       "      <th>area_Place</th>\n",
       "      <th>city_Place</th>\n",
       "    </tr>\n",
       "  </thead>\n",
       "  <tbody>\n",
       "    <tr>\n",
       "      <th>0</th>\n",
       "      <td>BHMS, MD - Homeopathy</td>\n",
       "      <td>24 years experience</td>\n",
       "      <td>100%</td>\n",
       "      <td>Kakkanad, Ernakulam</td>\n",
       "      <td>Homeopath</td>\n",
       "      <td>100% 16 Feedback Kakkanad, Ernakulam</td>\n",
       "      <td>100</td>\n",
       "      <td>Yes</td>\n",
       "      <td>Yes</td>\n",
       "      <td>No</td>\n",
       "      <td>...</td>\n",
       "      <td>No</td>\n",
       "      <td>No</td>\n",
       "      <td>Yes</td>\n",
       "      <td>No</td>\n",
       "      <td>No</td>\n",
       "      <td>No</td>\n",
       "      <td>24</td>\n",
       "      <td>100</td>\n",
       "      <td>Kakkanad</td>\n",
       "      <td>Ernakulam</td>\n",
       "    </tr>\n",
       "    <tr>\n",
       "      <th>1</th>\n",
       "      <td>BAMS, MD - Ayurveda Medicine</td>\n",
       "      <td>12 years experience</td>\n",
       "      <td>98%</td>\n",
       "      <td>Whitefield, Bangalore</td>\n",
       "      <td>Ayurveda</td>\n",
       "      <td>98% 76 Feedback Whitefield, Bangalore</td>\n",
       "      <td>350</td>\n",
       "      <td>Yes</td>\n",
       "      <td>Yes</td>\n",
       "      <td>No</td>\n",
       "      <td>...</td>\n",
       "      <td>No</td>\n",
       "      <td>Yes</td>\n",
       "      <td>No</td>\n",
       "      <td>No</td>\n",
       "      <td>No</td>\n",
       "      <td>No</td>\n",
       "      <td>12</td>\n",
       "      <td>98</td>\n",
       "      <td>Whitefield</td>\n",
       "      <td>Bangalore</td>\n",
       "    </tr>\n",
       "    <tr>\n",
       "      <th>2</th>\n",
       "      <td>MBBS, MS - Otorhinolaryngology</td>\n",
       "      <td>9 years experience</td>\n",
       "      <td>NaN</td>\n",
       "      <td>Mathikere - BEL, Bangalore</td>\n",
       "      <td>ENT Specialist</td>\n",
       "      <td>NaN</td>\n",
       "      <td>300</td>\n",
       "      <td>Yes</td>\n",
       "      <td>No</td>\n",
       "      <td>No</td>\n",
       "      <td>...</td>\n",
       "      <td>No</td>\n",
       "      <td>No</td>\n",
       "      <td>No</td>\n",
       "      <td>No</td>\n",
       "      <td>No</td>\n",
       "      <td>No</td>\n",
       "      <td>9</td>\n",
       "      <td>NaN</td>\n",
       "      <td>Mathikere - BEL</td>\n",
       "      <td>Bangalore</td>\n",
       "    </tr>\n",
       "    <tr>\n",
       "      <th>3</th>\n",
       "      <td>BSc - Zoology, BAMS</td>\n",
       "      <td>12 years experience</td>\n",
       "      <td>NaN</td>\n",
       "      <td>Bannerghatta Road, Bangalore</td>\n",
       "      <td>Ayurveda</td>\n",
       "      <td>Bannerghatta Road, Bangalore ₹250 Available on...</td>\n",
       "      <td>250</td>\n",
       "      <td>Yes</td>\n",
       "      <td>No</td>\n",
       "      <td>No</td>\n",
       "      <td>...</td>\n",
       "      <td>No</td>\n",
       "      <td>Yes</td>\n",
       "      <td>No</td>\n",
       "      <td>No</td>\n",
       "      <td>No</td>\n",
       "      <td>Yes</td>\n",
       "      <td>12</td>\n",
       "      <td>NaN</td>\n",
       "      <td>Bannerghatta Road</td>\n",
       "      <td>Bangalore</td>\n",
       "    </tr>\n",
       "    <tr>\n",
       "      <th>4</th>\n",
       "      <td>BAMS</td>\n",
       "      <td>20 years experience</td>\n",
       "      <td>100%</td>\n",
       "      <td>Keelkattalai, Chennai</td>\n",
       "      <td>Ayurveda</td>\n",
       "      <td>100% 4 Feedback Keelkattalai, Chennai</td>\n",
       "      <td>250</td>\n",
       "      <td>Yes</td>\n",
       "      <td>No</td>\n",
       "      <td>No</td>\n",
       "      <td>...</td>\n",
       "      <td>No</td>\n",
       "      <td>Yes</td>\n",
       "      <td>No</td>\n",
       "      <td>No</td>\n",
       "      <td>No</td>\n",
       "      <td>No</td>\n",
       "      <td>20</td>\n",
       "      <td>100</td>\n",
       "      <td>Keelkattalai</td>\n",
       "      <td>Chennai</td>\n",
       "    </tr>\n",
       "  </tbody>\n",
       "</table>\n",
       "<p>5 rows × 22 columns</p>\n",
       "</div>"
      ],
      "text/plain": [
       "                    Qualification           Experience Rating  \\\n",
       "0           BHMS, MD - Homeopathy  24 years experience   100%   \n",
       "1    BAMS, MD - Ayurveda Medicine  12 years experience    98%   \n",
       "2  MBBS, MS - Otorhinolaryngology   9 years experience    NaN   \n",
       "3             BSc - Zoology, BAMS  12 years experience    NaN   \n",
       "4                            BAMS  20 years experience   100%   \n",
       "\n",
       "                          Place         Profile  \\\n",
       "0           Kakkanad, Ernakulam       Homeopath   \n",
       "1         Whitefield, Bangalore        Ayurveda   \n",
       "2    Mathikere - BEL, Bangalore  ENT Specialist   \n",
       "3  Bannerghatta Road, Bangalore        Ayurveda   \n",
       "4         Keelkattalai, Chennai        Ayurveda   \n",
       "\n",
       "                                  Miscellaneous_Info  Fees is_MS is_MD is_MF  \\\n",
       "0               100% 16 Feedback Kakkanad, Ernakulam   100   Yes   Yes    No   \n",
       "1              98% 76 Feedback Whitefield, Bangalore   350   Yes   Yes    No   \n",
       "2                                                NaN   300   Yes    No    No   \n",
       "3  Bannerghatta Road, Bangalore ₹250 Available on...   250   Yes    No    No   \n",
       "4              100% 4 Feedback Keelkattalai, Chennai   250   Yes    No    No   \n",
       "\n",
       "   ... is_BDS is_BAMS is_BHMS is_DNB is_Diploma is_BSc n_Experience n_Rating  \\\n",
       "0  ...     No      No     Yes     No         No     No           24      100   \n",
       "1  ...     No     Yes      No     No         No     No           12       98   \n",
       "2  ...     No      No      No     No         No     No            9      NaN   \n",
       "3  ...     No     Yes      No     No         No    Yes           12      NaN   \n",
       "4  ...     No     Yes      No     No         No     No           20      100   \n",
       "\n",
       "          area_Place city_Place  \n",
       "0           Kakkanad  Ernakulam  \n",
       "1         Whitefield  Bangalore  \n",
       "2    Mathikere - BEL  Bangalore  \n",
       "3  Bannerghatta Road  Bangalore  \n",
       "4       Keelkattalai    Chennai  \n",
       "\n",
       "[5 rows x 22 columns]"
      ]
     },
     "execution_count": 12,
     "metadata": {},
     "output_type": "execute_result"
    }
   ],
   "source": [
    "#Seperating feature Place into columns area_Place and city_Place\n",
    "temp_df = df[x].str.split(',',expand=True)\n",
    "df['area_Place'] = temp_df[0].str.strip()\n",
    "df['city_Place'] = temp_df[1].str.strip()\n",
    "\n",
    "#Checking values in temp_df[2] and replace city_Place with it.\n",
    "t = temp_df[temp_df[2] == ' Delhi']\n",
    "df['city_Place'][t.index]=t[2].str.strip()\n",
    "print(df['city_Place'].value_counts())\n",
    "#Interpreting dataset after spliting of Place\n",
    "df.head()"
   ]
  },
  {
   "cell_type": "markdown",
   "metadata": {},
   "source": [
    "### **Feature ```Profile```**"
   ]
  },
  {
   "cell_type": "code",
   "execution_count": 13,
   "metadata": {},
   "outputs": [
    {
     "data": {
      "text/plain": [
       "Dentist             1397\n",
       "General Medicine    1173\n",
       "Dermatologists      1034\n",
       "Homeopath            843\n",
       "Ayurveda             786\n",
       "ENT Specialist       728\n",
       "Name: Profile, dtype: int64"
      ]
     },
     "execution_count": 13,
     "metadata": {},
     "output_type": "execute_result"
    }
   ],
   "source": [
    "#Checking feature Profile for further analysis\n",
    "x = 'Profile'\n",
    "df[x].value_counts()"
   ]
  },
  {
   "cell_type": "markdown",
   "metadata": {},
   "source": [
    "### Remarks:\n",
    "- Value stored is in categorical form, therefore, needs to be encoded before model training."
   ]
  },
  {
   "cell_type": "markdown",
   "metadata": {},
   "source": [
    "### **Feature ```Miscellaneous_Info```**"
   ]
  },
  {
   "cell_type": "code",
   "execution_count": 14,
   "metadata": {
    "scrolled": true
   },
   "outputs": [
    {
     "name": "stdout",
     "output_type": "stream",
     "text": [
      "0                  100% 16 Feedback Kakkanad, Ernakulam\n",
      "1                 98% 76 Feedback Whitefield, Bangalore\n",
      "2                                                   NaN\n",
      "3     Bannerghatta Road, Bangalore ₹250 Available on...\n",
      "4                 100% 4 Feedback Keelkattalai, Chennai\n",
      "5                                                   NaN\n",
      "6                                                   NaN\n",
      "7     Dental Fillings Crowns and Bridges Fixing Impa...\n",
      "8                                                   NaN\n",
      "9                                                   NaN\n",
      "10                                                  NaN\n",
      "11                                                  NaN\n",
      "12    98% 14 Feedback Coimbatore Racecourse, Coimbatore\n",
      "13        Dental Crowns Facet Dental Dental prophylaxis\n",
      "14                                                  NaN\n",
      "15                                                  NaN\n",
      "16                                                  NaN\n",
      "17                                                  NaN\n",
      "18                       79% 8 Feedback KPHB, Hyderabad\n",
      "19                100% 4 Feedback HSR Layout, Bangalore\n",
      "20                 100% 7 Feedback Pollachi, Coimbatore\n",
      "21    Adenoid / Tonsil Surgery Rhinoplasty Laryngoscopy\n",
      "22                                                  NaN\n",
      "23                                                  NaN\n",
      "24                                                  NaN\n",
      "25                                                  NaN\n",
      "26               100% 46 Feedback HSR Layout, Bangalore\n",
      "27                 95% 6 Feedback Kukatpally, Hyderabad\n",
      "28                                                  NaN\n",
      "29                97% 60 Feedback Defence Colony, Delhi\n",
      "Name: Miscellaneous_Info, dtype: object\n",
      "5931             99% 29 Feedback Richards Town, Bangalore\n",
      "5932                                                  NaN\n",
      "5933    96% 92 Feedback Banashankari 3rd Stage, Bangalore\n",
      "5934                                                  NaN\n",
      "5935    Crowns and Bridges Fixing Dental Braces Fixing...\n",
      "5936                     100% 20 Feedback Chembur, Mumbai\n",
      "5937    Allergy Treatment Arthritis Management Bronchi...\n",
      "5938                                                  NaN\n",
      "5939                                                  NaN\n",
      "5940                    80% 4 Feedback Malad East, Mumbai\n",
      "5941                                                  NaN\n",
      "5942                90% 48 Feedback HSR Layout, Bangalore\n",
      "5943    Dental Fillings General Dentistry Tooth Extrac...\n",
      "5944                                                  NaN\n",
      "5945    Dental Fillings Ceramic Veneers / Crowns Discl...\n",
      "5946    Cosmetic/ Aesthetic Dentistry Complete/Partial...\n",
      "5947    Medical Vitiligo Treatment Psoriasis Treatment...\n",
      "5948                                                  NaN\n",
      "5949                                                  NaN\n",
      "5950    Skin Peeling Chronic Skin Allergy Skin Pulse T...\n",
      "5951    Dental Restoration Restoration Aesthetics Disc...\n",
      "5952                                                  NaN\n",
      "5953              92% 168 Feedback Malleswaram, Bangalore\n",
      "5954                                                  NaN\n",
      "5955                                                  NaN\n",
      "5956              98% 45 Feedback Basavanagudi, Bangalore\n",
      "5957                                                  NaN\n",
      "5958        97% 11 Feedback Greater Kailash Part 2, Delhi\n",
      "5959    General Medical Consultation Viral Fever Treat...\n",
      "5960    Acrylic Partial Denture Crowns and Bridges Fix...\n",
      "Name: Miscellaneous_Info, dtype: object\n"
     ]
    }
   ],
   "source": [
    "#Checking feature Miscellaneous_Info for further analysis\n",
    "x = 'Miscellaneous_Info'\n",
    "print(df[x].head(30))\n",
    "print(df[x].tail(30))"
   ]
  },
  {
   "cell_type": "markdown",
   "metadata": {},
   "source": [
    "### Remarks:\n",
    "- Most of the values contains Ratings and Feedback while some contains kind of treatment provided as well as area and city, therefore, **extracting feedback** will be useful as others can also be conveyed by feature place and profile."
   ]
  },
  {
   "cell_type": "code",
   "execution_count": 15,
   "metadata": {},
   "outputs": [
    {
     "data": {
      "text/html": [
       "<div>\n",
       "<style scoped>\n",
       "    .dataframe tbody tr th:only-of-type {\n",
       "        vertical-align: middle;\n",
       "    }\n",
       "\n",
       "    .dataframe tbody tr th {\n",
       "        vertical-align: top;\n",
       "    }\n",
       "\n",
       "    .dataframe thead th {\n",
       "        text-align: right;\n",
       "    }\n",
       "</style>\n",
       "<table border=\"1\" class=\"dataframe\">\n",
       "  <thead>\n",
       "    <tr style=\"text-align: right;\">\n",
       "      <th></th>\n",
       "      <th>Qualification</th>\n",
       "      <th>Experience</th>\n",
       "      <th>Rating</th>\n",
       "      <th>Place</th>\n",
       "      <th>Profile</th>\n",
       "      <th>Miscellaneous_Info</th>\n",
       "      <th>Fees</th>\n",
       "      <th>is_MS</th>\n",
       "      <th>is_MD</th>\n",
       "      <th>is_MF</th>\n",
       "      <th>...</th>\n",
       "      <th>is_BAMS</th>\n",
       "      <th>is_BHMS</th>\n",
       "      <th>is_DNB</th>\n",
       "      <th>is_Diploma</th>\n",
       "      <th>is_BSc</th>\n",
       "      <th>n_Experience</th>\n",
       "      <th>n_Rating</th>\n",
       "      <th>area_Place</th>\n",
       "      <th>city_Place</th>\n",
       "      <th>n_Feedback</th>\n",
       "    </tr>\n",
       "  </thead>\n",
       "  <tbody>\n",
       "    <tr>\n",
       "      <th>0</th>\n",
       "      <td>BHMS, MD - Homeopathy</td>\n",
       "      <td>24 years experience</td>\n",
       "      <td>100%</td>\n",
       "      <td>Kakkanad, Ernakulam</td>\n",
       "      <td>Homeopath</td>\n",
       "      <td>100% 16 Feedback Kakkanad, Ernakulam</td>\n",
       "      <td>100</td>\n",
       "      <td>Yes</td>\n",
       "      <td>Yes</td>\n",
       "      <td>No</td>\n",
       "      <td>...</td>\n",
       "      <td>No</td>\n",
       "      <td>Yes</td>\n",
       "      <td>No</td>\n",
       "      <td>No</td>\n",
       "      <td>No</td>\n",
       "      <td>24</td>\n",
       "      <td>100</td>\n",
       "      <td>Kakkanad</td>\n",
       "      <td>Ernakulam</td>\n",
       "      <td>16</td>\n",
       "    </tr>\n",
       "    <tr>\n",
       "      <th>1</th>\n",
       "      <td>BAMS, MD - Ayurveda Medicine</td>\n",
       "      <td>12 years experience</td>\n",
       "      <td>98%</td>\n",
       "      <td>Whitefield, Bangalore</td>\n",
       "      <td>Ayurveda</td>\n",
       "      <td>98% 76 Feedback Whitefield, Bangalore</td>\n",
       "      <td>350</td>\n",
       "      <td>Yes</td>\n",
       "      <td>Yes</td>\n",
       "      <td>No</td>\n",
       "      <td>...</td>\n",
       "      <td>Yes</td>\n",
       "      <td>No</td>\n",
       "      <td>No</td>\n",
       "      <td>No</td>\n",
       "      <td>No</td>\n",
       "      <td>12</td>\n",
       "      <td>98</td>\n",
       "      <td>Whitefield</td>\n",
       "      <td>Bangalore</td>\n",
       "      <td>76</td>\n",
       "    </tr>\n",
       "    <tr>\n",
       "      <th>2</th>\n",
       "      <td>MBBS, MS - Otorhinolaryngology</td>\n",
       "      <td>9 years experience</td>\n",
       "      <td>NaN</td>\n",
       "      <td>Mathikere - BEL, Bangalore</td>\n",
       "      <td>ENT Specialist</td>\n",
       "      <td>NaN</td>\n",
       "      <td>300</td>\n",
       "      <td>Yes</td>\n",
       "      <td>No</td>\n",
       "      <td>No</td>\n",
       "      <td>...</td>\n",
       "      <td>No</td>\n",
       "      <td>No</td>\n",
       "      <td>No</td>\n",
       "      <td>No</td>\n",
       "      <td>No</td>\n",
       "      <td>9</td>\n",
       "      <td>NaN</td>\n",
       "      <td>Mathikere - BEL</td>\n",
       "      <td>Bangalore</td>\n",
       "      <td>NaN</td>\n",
       "    </tr>\n",
       "    <tr>\n",
       "      <th>3</th>\n",
       "      <td>BSc - Zoology, BAMS</td>\n",
       "      <td>12 years experience</td>\n",
       "      <td>NaN</td>\n",
       "      <td>Bannerghatta Road, Bangalore</td>\n",
       "      <td>Ayurveda</td>\n",
       "      <td>Bannerghatta Road, Bangalore ₹250 Available on...</td>\n",
       "      <td>250</td>\n",
       "      <td>Yes</td>\n",
       "      <td>No</td>\n",
       "      <td>No</td>\n",
       "      <td>...</td>\n",
       "      <td>Yes</td>\n",
       "      <td>No</td>\n",
       "      <td>No</td>\n",
       "      <td>No</td>\n",
       "      <td>Yes</td>\n",
       "      <td>12</td>\n",
       "      <td>NaN</td>\n",
       "      <td>Bannerghatta Road</td>\n",
       "      <td>Bangalore</td>\n",
       "      <td>NaN</td>\n",
       "    </tr>\n",
       "    <tr>\n",
       "      <th>4</th>\n",
       "      <td>BAMS</td>\n",
       "      <td>20 years experience</td>\n",
       "      <td>100%</td>\n",
       "      <td>Keelkattalai, Chennai</td>\n",
       "      <td>Ayurveda</td>\n",
       "      <td>100% 4 Feedback Keelkattalai, Chennai</td>\n",
       "      <td>250</td>\n",
       "      <td>Yes</td>\n",
       "      <td>No</td>\n",
       "      <td>No</td>\n",
       "      <td>...</td>\n",
       "      <td>Yes</td>\n",
       "      <td>No</td>\n",
       "      <td>No</td>\n",
       "      <td>No</td>\n",
       "      <td>No</td>\n",
       "      <td>20</td>\n",
       "      <td>100</td>\n",
       "      <td>Keelkattalai</td>\n",
       "      <td>Chennai</td>\n",
       "      <td>4</td>\n",
       "    </tr>\n",
       "  </tbody>\n",
       "</table>\n",
       "<p>5 rows × 23 columns</p>\n",
       "</div>"
      ],
      "text/plain": [
       "                    Qualification           Experience Rating  \\\n",
       "0           BHMS, MD - Homeopathy  24 years experience   100%   \n",
       "1    BAMS, MD - Ayurveda Medicine  12 years experience    98%   \n",
       "2  MBBS, MS - Otorhinolaryngology   9 years experience    NaN   \n",
       "3             BSc - Zoology, BAMS  12 years experience    NaN   \n",
       "4                            BAMS  20 years experience   100%   \n",
       "\n",
       "                          Place         Profile  \\\n",
       "0           Kakkanad, Ernakulam       Homeopath   \n",
       "1         Whitefield, Bangalore        Ayurveda   \n",
       "2    Mathikere - BEL, Bangalore  ENT Specialist   \n",
       "3  Bannerghatta Road, Bangalore        Ayurveda   \n",
       "4         Keelkattalai, Chennai        Ayurveda   \n",
       "\n",
       "                                  Miscellaneous_Info  Fees is_MS is_MD is_MF  \\\n",
       "0               100% 16 Feedback Kakkanad, Ernakulam   100   Yes   Yes    No   \n",
       "1              98% 76 Feedback Whitefield, Bangalore   350   Yes   Yes    No   \n",
       "2                                                NaN   300   Yes    No    No   \n",
       "3  Bannerghatta Road, Bangalore ₹250 Available on...   250   Yes    No    No   \n",
       "4              100% 4 Feedback Keelkattalai, Chennai   250   Yes    No    No   \n",
       "\n",
       "   ... is_BAMS is_BHMS is_DNB is_Diploma is_BSc n_Experience n_Rating  \\\n",
       "0  ...      No     Yes     No         No     No           24      100   \n",
       "1  ...     Yes      No     No         No     No           12       98   \n",
       "2  ...      No      No     No         No     No            9      NaN   \n",
       "3  ...     Yes      No     No         No    Yes           12      NaN   \n",
       "4  ...     Yes      No     No         No     No           20      100   \n",
       "\n",
       "          area_Place  city_Place n_Feedback  \n",
       "0           Kakkanad   Ernakulam         16  \n",
       "1         Whitefield   Bangalore         76  \n",
       "2    Mathikere - BEL   Bangalore        NaN  \n",
       "3  Bannerghatta Road   Bangalore        NaN  \n",
       "4       Keelkattalai     Chennai          4  \n",
       "\n",
       "[5 rows x 23 columns]"
      ]
     },
     "execution_count": 15,
     "metadata": {},
     "output_type": "execute_result"
    }
   ],
   "source": [
    "#Extracting number of feedbacks from feature Miscellaneous_Info and storing it into column n_Feedback\n",
    "x='Miscellaneous_Info'\n",
    "reg = '\\.*(\\d{0,9})\\sFeedback\\.*'\n",
    "temp = df[x].str.extract(reg)\n",
    "df['n_Feedback'] = temp\n",
    "\n",
    "#Interpreting dataset after extraction of Feedback \n",
    "df.head()"
   ]
  },
  {
   "cell_type": "markdown",
   "metadata": {},
   "source": [
    "### Dropping Features ```Qualification```, ```Experience```, ```Rating```, ```Place``` and ```Miscellaneous_Info``` as relevant information has been extracted from them."
   ]
  },
  {
   "cell_type": "code",
   "execution_count": 16,
   "metadata": {},
   "outputs": [
    {
     "data": {
      "text/html": [
       "<div>\n",
       "<style scoped>\n",
       "    .dataframe tbody tr th:only-of-type {\n",
       "        vertical-align: middle;\n",
       "    }\n",
       "\n",
       "    .dataframe tbody tr th {\n",
       "        vertical-align: top;\n",
       "    }\n",
       "\n",
       "    .dataframe thead th {\n",
       "        text-align: right;\n",
       "    }\n",
       "</style>\n",
       "<table border=\"1\" class=\"dataframe\">\n",
       "  <thead>\n",
       "    <tr style=\"text-align: right;\">\n",
       "      <th></th>\n",
       "      <th>Profile</th>\n",
       "      <th>Fees</th>\n",
       "      <th>is_MS</th>\n",
       "      <th>is_MD</th>\n",
       "      <th>is_MF</th>\n",
       "      <th>is_MDS</th>\n",
       "      <th>is_MBBS</th>\n",
       "      <th>is_BDS</th>\n",
       "      <th>is_BAMS</th>\n",
       "      <th>is_BHMS</th>\n",
       "      <th>is_DNB</th>\n",
       "      <th>is_Diploma</th>\n",
       "      <th>is_BSc</th>\n",
       "      <th>n_Experience</th>\n",
       "      <th>n_Rating</th>\n",
       "      <th>area_Place</th>\n",
       "      <th>city_Place</th>\n",
       "      <th>n_Feedback</th>\n",
       "    </tr>\n",
       "  </thead>\n",
       "  <tbody>\n",
       "    <tr>\n",
       "      <th>0</th>\n",
       "      <td>Homeopath</td>\n",
       "      <td>100</td>\n",
       "      <td>Yes</td>\n",
       "      <td>Yes</td>\n",
       "      <td>No</td>\n",
       "      <td>No</td>\n",
       "      <td>No</td>\n",
       "      <td>No</td>\n",
       "      <td>No</td>\n",
       "      <td>Yes</td>\n",
       "      <td>No</td>\n",
       "      <td>No</td>\n",
       "      <td>No</td>\n",
       "      <td>24</td>\n",
       "      <td>100</td>\n",
       "      <td>Kakkanad</td>\n",
       "      <td>Ernakulam</td>\n",
       "      <td>16</td>\n",
       "    </tr>\n",
       "    <tr>\n",
       "      <th>1</th>\n",
       "      <td>Ayurveda</td>\n",
       "      <td>350</td>\n",
       "      <td>Yes</td>\n",
       "      <td>Yes</td>\n",
       "      <td>No</td>\n",
       "      <td>No</td>\n",
       "      <td>No</td>\n",
       "      <td>No</td>\n",
       "      <td>Yes</td>\n",
       "      <td>No</td>\n",
       "      <td>No</td>\n",
       "      <td>No</td>\n",
       "      <td>No</td>\n",
       "      <td>12</td>\n",
       "      <td>98</td>\n",
       "      <td>Whitefield</td>\n",
       "      <td>Bangalore</td>\n",
       "      <td>76</td>\n",
       "    </tr>\n",
       "    <tr>\n",
       "      <th>2</th>\n",
       "      <td>ENT Specialist</td>\n",
       "      <td>300</td>\n",
       "      <td>Yes</td>\n",
       "      <td>No</td>\n",
       "      <td>No</td>\n",
       "      <td>No</td>\n",
       "      <td>Yes</td>\n",
       "      <td>No</td>\n",
       "      <td>No</td>\n",
       "      <td>No</td>\n",
       "      <td>No</td>\n",
       "      <td>No</td>\n",
       "      <td>No</td>\n",
       "      <td>9</td>\n",
       "      <td>NaN</td>\n",
       "      <td>Mathikere - BEL</td>\n",
       "      <td>Bangalore</td>\n",
       "      <td>NaN</td>\n",
       "    </tr>\n",
       "    <tr>\n",
       "      <th>3</th>\n",
       "      <td>Ayurveda</td>\n",
       "      <td>250</td>\n",
       "      <td>Yes</td>\n",
       "      <td>No</td>\n",
       "      <td>No</td>\n",
       "      <td>No</td>\n",
       "      <td>No</td>\n",
       "      <td>No</td>\n",
       "      <td>Yes</td>\n",
       "      <td>No</td>\n",
       "      <td>No</td>\n",
       "      <td>No</td>\n",
       "      <td>Yes</td>\n",
       "      <td>12</td>\n",
       "      <td>NaN</td>\n",
       "      <td>Bannerghatta Road</td>\n",
       "      <td>Bangalore</td>\n",
       "      <td>NaN</td>\n",
       "    </tr>\n",
       "    <tr>\n",
       "      <th>4</th>\n",
       "      <td>Ayurveda</td>\n",
       "      <td>250</td>\n",
       "      <td>Yes</td>\n",
       "      <td>No</td>\n",
       "      <td>No</td>\n",
       "      <td>No</td>\n",
       "      <td>No</td>\n",
       "      <td>No</td>\n",
       "      <td>Yes</td>\n",
       "      <td>No</td>\n",
       "      <td>No</td>\n",
       "      <td>No</td>\n",
       "      <td>No</td>\n",
       "      <td>20</td>\n",
       "      <td>100</td>\n",
       "      <td>Keelkattalai</td>\n",
       "      <td>Chennai</td>\n",
       "      <td>4</td>\n",
       "    </tr>\n",
       "    <tr>\n",
       "      <th>...</th>\n",
       "      <td>...</td>\n",
       "      <td>...</td>\n",
       "      <td>...</td>\n",
       "      <td>...</td>\n",
       "      <td>...</td>\n",
       "      <td>...</td>\n",
       "      <td>...</td>\n",
       "      <td>...</td>\n",
       "      <td>...</td>\n",
       "      <td>...</td>\n",
       "      <td>...</td>\n",
       "      <td>...</td>\n",
       "      <td>...</td>\n",
       "      <td>...</td>\n",
       "      <td>...</td>\n",
       "      <td>...</td>\n",
       "      <td>...</td>\n",
       "      <td>...</td>\n",
       "    </tr>\n",
       "    <tr>\n",
       "      <th>5956</th>\n",
       "      <td>ENT Specialist</td>\n",
       "      <td>300</td>\n",
       "      <td>Yes</td>\n",
       "      <td>No</td>\n",
       "      <td>No</td>\n",
       "      <td>No</td>\n",
       "      <td>Yes</td>\n",
       "      <td>No</td>\n",
       "      <td>No</td>\n",
       "      <td>No</td>\n",
       "      <td>No</td>\n",
       "      <td>No</td>\n",
       "      <td>No</td>\n",
       "      <td>19</td>\n",
       "      <td>98</td>\n",
       "      <td>Basavanagudi</td>\n",
       "      <td>Bangalore</td>\n",
       "      <td>45</td>\n",
       "    </tr>\n",
       "    <tr>\n",
       "      <th>5957</th>\n",
       "      <td>General Medicine</td>\n",
       "      <td>100</td>\n",
       "      <td>No</td>\n",
       "      <td>No</td>\n",
       "      <td>No</td>\n",
       "      <td>No</td>\n",
       "      <td>Yes</td>\n",
       "      <td>No</td>\n",
       "      <td>No</td>\n",
       "      <td>No</td>\n",
       "      <td>No</td>\n",
       "      <td>No</td>\n",
       "      <td>No</td>\n",
       "      <td>33</td>\n",
       "      <td>NaN</td>\n",
       "      <td>Nungambakkam</td>\n",
       "      <td>Chennai</td>\n",
       "      <td>NaN</td>\n",
       "    </tr>\n",
       "    <tr>\n",
       "      <th>5958</th>\n",
       "      <td>General Medicine</td>\n",
       "      <td>600</td>\n",
       "      <td>No</td>\n",
       "      <td>No</td>\n",
       "      <td>No</td>\n",
       "      <td>No</td>\n",
       "      <td>Yes</td>\n",
       "      <td>No</td>\n",
       "      <td>No</td>\n",
       "      <td>No</td>\n",
       "      <td>No</td>\n",
       "      <td>No</td>\n",
       "      <td>No</td>\n",
       "      <td>41</td>\n",
       "      <td>97</td>\n",
       "      <td>Greater Kailash Part 2</td>\n",
       "      <td>Delhi</td>\n",
       "      <td>11</td>\n",
       "    </tr>\n",
       "    <tr>\n",
       "      <th>5959</th>\n",
       "      <td>General Medicine</td>\n",
       "      <td>100</td>\n",
       "      <td>No</td>\n",
       "      <td>Yes</td>\n",
       "      <td>No</td>\n",
       "      <td>No</td>\n",
       "      <td>Yes</td>\n",
       "      <td>No</td>\n",
       "      <td>No</td>\n",
       "      <td>No</td>\n",
       "      <td>No</td>\n",
       "      <td>No</td>\n",
       "      <td>No</td>\n",
       "      <td>15</td>\n",
       "      <td>90</td>\n",
       "      <td>Vileparle West</td>\n",
       "      <td>Mumbai</td>\n",
       "      <td>NaN</td>\n",
       "    </tr>\n",
       "    <tr>\n",
       "      <th>5960</th>\n",
       "      <td>Dentist</td>\n",
       "      <td>200</td>\n",
       "      <td>No</td>\n",
       "      <td>Yes</td>\n",
       "      <td>No</td>\n",
       "      <td>Yes</td>\n",
       "      <td>No</td>\n",
       "      <td>Yes</td>\n",
       "      <td>No</td>\n",
       "      <td>No</td>\n",
       "      <td>No</td>\n",
       "      <td>No</td>\n",
       "      <td>No</td>\n",
       "      <td>17</td>\n",
       "      <td>100</td>\n",
       "      <td>Pitampura</td>\n",
       "      <td>Delhi</td>\n",
       "      <td>NaN</td>\n",
       "    </tr>\n",
       "  </tbody>\n",
       "</table>\n",
       "<p>5961 rows × 18 columns</p>\n",
       "</div>"
      ],
      "text/plain": [
       "               Profile  Fees is_MS is_MD is_MF is_MDS is_MBBS is_BDS is_BAMS  \\\n",
       "0            Homeopath   100   Yes   Yes    No     No      No     No      No   \n",
       "1             Ayurveda   350   Yes   Yes    No     No      No     No     Yes   \n",
       "2       ENT Specialist   300   Yes    No    No     No     Yes     No      No   \n",
       "3             Ayurveda   250   Yes    No    No     No      No     No     Yes   \n",
       "4             Ayurveda   250   Yes    No    No     No      No     No     Yes   \n",
       "...                ...   ...   ...   ...   ...    ...     ...    ...     ...   \n",
       "5956    ENT Specialist   300   Yes    No    No     No     Yes     No      No   \n",
       "5957  General Medicine   100    No    No    No     No     Yes     No      No   \n",
       "5958  General Medicine   600    No    No    No     No     Yes     No      No   \n",
       "5959  General Medicine   100    No   Yes    No     No     Yes     No      No   \n",
       "5960           Dentist   200    No   Yes    No    Yes      No    Yes      No   \n",
       "\n",
       "     is_BHMS is_DNB is_Diploma is_BSc  n_Experience n_Rating  \\\n",
       "0        Yes     No         No     No            24      100   \n",
       "1         No     No         No     No            12       98   \n",
       "2         No     No         No     No             9      NaN   \n",
       "3         No     No         No    Yes            12      NaN   \n",
       "4         No     No         No     No            20      100   \n",
       "...      ...    ...        ...    ...           ...      ...   \n",
       "5956      No     No         No     No            19       98   \n",
       "5957      No     No         No     No            33      NaN   \n",
       "5958      No     No         No     No            41       97   \n",
       "5959      No     No         No     No            15       90   \n",
       "5960      No     No         No     No            17      100   \n",
       "\n",
       "                  area_Place city_Place n_Feedback  \n",
       "0                   Kakkanad  Ernakulam         16  \n",
       "1                 Whitefield  Bangalore         76  \n",
       "2            Mathikere - BEL  Bangalore        NaN  \n",
       "3          Bannerghatta Road  Bangalore        NaN  \n",
       "4               Keelkattalai    Chennai          4  \n",
       "...                      ...        ...        ...  \n",
       "5956            Basavanagudi  Bangalore         45  \n",
       "5957            Nungambakkam    Chennai        NaN  \n",
       "5958  Greater Kailash Part 2      Delhi         11  \n",
       "5959          Vileparle West     Mumbai        NaN  \n",
       "5960               Pitampura      Delhi        NaN  \n",
       "\n",
       "[5961 rows x 18 columns]"
      ]
     },
     "execution_count": 16,
     "metadata": {},
     "output_type": "execute_result"
    }
   ],
   "source": [
    "df_new = df.drop(columns=['Qualification','Experience','Rating','Place','Miscellaneous_Info'])\n",
    "\n",
    "#Interpreting dataset after dropping features\n",
    "df_new"
   ]
  },
  {
   "cell_type": "code",
   "execution_count": 17,
   "metadata": {},
   "outputs": [
    {
     "data": {
      "text/plain": [
       "Profile            0\n",
       "Fees               0\n",
       "is_MS              0\n",
       "is_MD              0\n",
       "is_MF              0\n",
       "is_MDS             0\n",
       "is_MBBS            0\n",
       "is_BDS             0\n",
       "is_BAMS            0\n",
       "is_BHMS            0\n",
       "is_DNB             0\n",
       "is_Diploma         0\n",
       "is_BSc             0\n",
       "n_Experience       0\n",
       "n_Rating        3302\n",
       "area_Place        25\n",
       "city_Place        26\n",
       "n_Feedback      4392\n",
       "dtype: int64"
      ]
     },
     "execution_count": 17,
     "metadata": {},
     "output_type": "execute_result"
    }
   ],
   "source": [
    "#Checking for null values\n",
    "df_new.isnull().sum()"
   ]
  },
  {
   "cell_type": "markdown",
   "metadata": {},
   "source": [
    "### Remarks:\n",
    "- Feature ```n_Rating```, ```area_Place```, ```city_Place```, and ```n_Feedback``` contains null values. Since, these are extracted from other features, therefore, replace these Null values as follows:\n",
    "    - n_Rating with 0 to assume unknown rating.\n",
    "    - area_Place with Not_Known\n",
    "    - city_Place with Not_Known\n",
    "    - n_Feedback with 0 to assume unknown feedback."
   ]
  },
  {
   "cell_type": "code",
   "execution_count": 18,
   "metadata": {},
   "outputs": [
    {
     "data": {
      "text/plain": [
       "Profile         0\n",
       "Fees            0\n",
       "is_MS           0\n",
       "is_MD           0\n",
       "is_MF           0\n",
       "is_MDS          0\n",
       "is_MBBS         0\n",
       "is_BDS          0\n",
       "is_BAMS         0\n",
       "is_BHMS         0\n",
       "is_DNB          0\n",
       "is_Diploma      0\n",
       "is_BSc          0\n",
       "n_Experience    0\n",
       "n_Rating        0\n",
       "area_Place      0\n",
       "city_Place      0\n",
       "n_Feedback      0\n",
       "dtype: int64"
      ]
     },
     "execution_count": 18,
     "metadata": {},
     "output_type": "execute_result"
    }
   ],
   "source": [
    "import numpy as np\n",
    "#Treating null values in n_Rating\n",
    "df_new['n_Rating'].replace(np.nan,0,inplace=True)\n",
    "\n",
    "#Treating null values in area_Place\n",
    "df_new['area_Place'].replace(np.nan,'Not_Known',inplace=True)\n",
    "\n",
    "#Treating null values in city_Place\n",
    "df_new['city_Place'].replace(np.nan,'Not_Known',inplace=True)\n",
    "\n",
    "#Treating null values in n_Feedback\n",
    "df_new['n_Feedback'].replace(np.nan,0,inplace=True)\n",
    "\n",
    "#Rechecking null values after treatment\n",
    "df_new.isnull().sum()"
   ]
  },
  {
   "cell_type": "code",
   "execution_count": 19,
   "metadata": {
    "scrolled": false
   },
   "outputs": [
    {
     "data": {
      "text/plain": [
       "Profile         object\n",
       "Fees             int64\n",
       "is_MS           object\n",
       "is_MD           object\n",
       "is_MF           object\n",
       "is_MDS          object\n",
       "is_MBBS         object\n",
       "is_BDS          object\n",
       "is_BAMS         object\n",
       "is_BHMS         object\n",
       "is_DNB          object\n",
       "is_Diploma      object\n",
       "is_BSc          object\n",
       "n_Experience     int64\n",
       "n_Rating        object\n",
       "area_Place      object\n",
       "city_Place      object\n",
       "n_Feedback      object\n",
       "dtype: object"
      ]
     },
     "execution_count": 19,
     "metadata": {},
     "output_type": "execute_result"
    }
   ],
   "source": [
    "#Checking datatypes\n",
    "df_new.dtypes"
   ]
  },
  {
   "cell_type": "markdown",
   "metadata": {},
   "source": [
    "### Remarks:\n",
    "- Feature ```Fees, n_Experience``` are of contineous type while other are of descrete type. Since, feature ```n_Rating and n_Feedback``` contains numerical values, therefore, it's datatypes needs to converted into *int type*. All other descrete features needs to be encoded before model training."
   ]
  },
  {
   "cell_type": "code",
   "execution_count": 20,
   "metadata": {},
   "outputs": [
    {
     "data": {
      "text/plain": [
       "Profile         object\n",
       "Fees             int64\n",
       "is_MS           object\n",
       "is_MD           object\n",
       "is_MF           object\n",
       "is_MDS          object\n",
       "is_MBBS         object\n",
       "is_BDS          object\n",
       "is_BAMS         object\n",
       "is_BHMS         object\n",
       "is_DNB          object\n",
       "is_Diploma      object\n",
       "is_BSc          object\n",
       "n_Experience     int64\n",
       "n_Rating         int64\n",
       "area_Place      object\n",
       "city_Place      object\n",
       "n_Feedback       int64\n",
       "dtype: object"
      ]
     },
     "execution_count": 20,
     "metadata": {},
     "output_type": "execute_result"
    }
   ],
   "source": [
    "#Converting data type of feature n_Rating and n_Feedback to int type.\n",
    "df_new['n_Rating'] = df_new['n_Rating'].astype('int64')\n",
    "df_new['n_Feedback'] = df_new['n_Feedback'].astype('int64')\n",
    "\n",
    "#Rechecking datatypes after conversion\n",
    "df_new.dtypes"
   ]
  },
  {
   "cell_type": "markdown",
   "metadata": {},
   "source": [
    "# Statistical Summary"
   ]
  },
  {
   "cell_type": "code",
   "execution_count": 21,
   "metadata": {},
   "outputs": [
    {
     "data": {
      "text/html": [
       "<div>\n",
       "<style scoped>\n",
       "    .dataframe tbody tr th:only-of-type {\n",
       "        vertical-align: middle;\n",
       "    }\n",
       "\n",
       "    .dataframe tbody tr th {\n",
       "        vertical-align: top;\n",
       "    }\n",
       "\n",
       "    .dataframe thead th {\n",
       "        text-align: right;\n",
       "    }\n",
       "</style>\n",
       "<table border=\"1\" class=\"dataframe\">\n",
       "  <thead>\n",
       "    <tr style=\"text-align: right;\">\n",
       "      <th></th>\n",
       "      <th>Fees</th>\n",
       "      <th>n_Experience</th>\n",
       "      <th>n_Rating</th>\n",
       "      <th>n_Feedback</th>\n",
       "    </tr>\n",
       "  </thead>\n",
       "  <tbody>\n",
       "    <tr>\n",
       "      <th>count</th>\n",
       "      <td>5961.000000</td>\n",
       "      <td>5961.000000</td>\n",
       "      <td>5961.000000</td>\n",
       "      <td>5961.000000</td>\n",
       "    </tr>\n",
       "    <tr>\n",
       "      <th>mean</th>\n",
       "      <td>307.944640</td>\n",
       "      <td>17.303976</td>\n",
       "      <td>42.217245</td>\n",
       "      <td>10.373427</td>\n",
       "    </tr>\n",
       "    <tr>\n",
       "      <th>std</th>\n",
       "      <td>190.920373</td>\n",
       "      <td>11.142798</td>\n",
       "      <td>47.340934</td>\n",
       "      <td>49.603087</td>\n",
       "    </tr>\n",
       "    <tr>\n",
       "      <th>min</th>\n",
       "      <td>5.000000</td>\n",
       "      <td>0.000000</td>\n",
       "      <td>0.000000</td>\n",
       "      <td>0.000000</td>\n",
       "    </tr>\n",
       "    <tr>\n",
       "      <th>25%</th>\n",
       "      <td>150.000000</td>\n",
       "      <td>9.000000</td>\n",
       "      <td>0.000000</td>\n",
       "      <td>0.000000</td>\n",
       "    </tr>\n",
       "    <tr>\n",
       "      <th>50%</th>\n",
       "      <td>300.000000</td>\n",
       "      <td>14.000000</td>\n",
       "      <td>0.000000</td>\n",
       "      <td>0.000000</td>\n",
       "    </tr>\n",
       "    <tr>\n",
       "      <th>75%</th>\n",
       "      <td>500.000000</td>\n",
       "      <td>23.000000</td>\n",
       "      <td>96.000000</td>\n",
       "      <td>1.000000</td>\n",
       "    </tr>\n",
       "    <tr>\n",
       "      <th>max</th>\n",
       "      <td>950.000000</td>\n",
       "      <td>66.000000</td>\n",
       "      <td>100.000000</td>\n",
       "      <td>1782.000000</td>\n",
       "    </tr>\n",
       "  </tbody>\n",
       "</table>\n",
       "</div>"
      ],
      "text/plain": [
       "              Fees  n_Experience     n_Rating   n_Feedback\n",
       "count  5961.000000   5961.000000  5961.000000  5961.000000\n",
       "mean    307.944640     17.303976    42.217245    10.373427\n",
       "std     190.920373     11.142798    47.340934    49.603087\n",
       "min       5.000000      0.000000     0.000000     0.000000\n",
       "25%     150.000000      9.000000     0.000000     0.000000\n",
       "50%     300.000000     14.000000     0.000000     0.000000\n",
       "75%     500.000000     23.000000    96.000000     1.000000\n",
       "max     950.000000     66.000000   100.000000  1782.000000"
      ]
     },
     "execution_count": 21,
     "metadata": {},
     "output_type": "execute_result"
    }
   ],
   "source": [
    "#Checking statistical summary of dataset\n",
    "df_new.describe()"
   ]
  },
  {
   "cell_type": "markdown",
   "metadata": {},
   "source": [
    "# Remarks:\n",
    "- ```count``` for all the features are same, therefore, no null values are present.\n",
    "- Maximum fees is 950 while minimum is 5.\n",
    "- Maximum experience is 66 years while minimum is 0."
   ]
  },
  {
   "cell_type": "markdown",
   "metadata": {},
   "source": [
    "# Label Encoding"
   ]
  },
  {
   "cell_type": "code",
   "execution_count": 22,
   "metadata": {},
   "outputs": [
    {
     "name": "stdout",
     "output_type": "stream",
     "text": [
      "Profile\n",
      "['Ayurveda' 'Dentist' 'Dermatologists' 'ENT Specialist' 'General Medicine'\n",
      " 'Homeopath']\n",
      "\n",
      "\n",
      "is_MS\n",
      "['No' 'Yes']\n",
      "\n",
      "\n",
      "is_MD\n",
      "['No' 'Yes']\n",
      "\n",
      "\n",
      "is_MF\n",
      "['No' 'Yes']\n",
      "\n",
      "\n",
      "is_MDS\n",
      "['No' 'Yes']\n",
      "\n",
      "\n",
      "is_MBBS\n",
      "['No' 'Yes']\n",
      "\n",
      "\n",
      "is_BDS\n",
      "['No' 'Yes']\n",
      "\n",
      "\n",
      "is_BAMS\n",
      "['No' 'Yes']\n",
      "\n",
      "\n",
      "is_BHMS\n",
      "['No' 'Yes']\n",
      "\n",
      "\n",
      "is_DNB\n",
      "['No' 'Yes']\n",
      "\n",
      "\n",
      "is_Diploma\n",
      "['No' 'Yes']\n",
      "\n",
      "\n",
      "is_BSc\n",
      "['No' 'Yes']\n",
      "\n",
      "\n",
      "area_Place\n",
      "['AECS Layout' 'AS Rao Nagar' 'Abbigere' 'Abhiramapuram' 'Abids'\n",
      " 'Adambakkam' 'Adarsh Nagar' 'Adugodi' 'Adyar' 'Afzalgunj' 'Agaram'\n",
      " 'Akshaya nagar' 'Alaknanda' 'Alandur' 'Aluva' 'Alwal' 'Alwarpet'\n",
      " 'Alwarthirunagar' 'Ambalamukku' 'Ambattur' 'Amberpet' 'Ameerpet'\n",
      " 'Aminjikarai' 'Anand Lok' 'Anand Niketan' 'Anand Vihar' 'Andheri'\n",
      " 'Andheri East' 'Andheri West' 'Angamaly' 'Anna Nagar' 'Anna Nagar East'\n",
      " 'Anna Nagar West' 'Arekere' 'Arumbakkam' 'Ashok Nagar' 'Ashok Vihar'\n",
      " 'Ashok Vihar Phase 1' 'Ashok Vihar Phase 3' 'Athani' 'Attapur'\n",
      " 'August Kranti Marg' 'Austin Town' 'Avadi' 'Aya Nagar' 'Ayanavaram'\n",
      " 'Azadpur' 'BTM Layout' 'BTM Layout 1st Stage' 'BTM Layout 2nd Stage'\n",
      " 'Badarpur' 'Baghlingampally' 'Bakkarwala' 'Balanagar' 'Balapur'\n",
      " 'Balaramapuram' 'Bali Nagar' 'Balkampet' 'Banashankari'\n",
      " 'Banashankari 1st Stage' 'Banashankari 2nd Stage'\n",
      " 'Banashankari 3rd Stage' 'Banaswadi' 'Bandlaguda' 'Bandra East'\n",
      " 'Bandra West' 'Banerji Road' 'Banjara Hills' 'Bannerghatta Road'\n",
      " 'Barkatpura' 'Basavanagudi' 'Basaveshwaranagar' 'Basheerbagh'\n",
      " 'Beeramguda' 'Begum Bazar' 'Begumpet' 'Begur' 'Bellandur' 'Besant Nagar'\n",
      " 'Bhandup East' 'Bhandup West' 'Bhayandar East' 'Bhayandar West'\n",
      " 'Bilekahalli' 'Boduppal' 'Bolarum' 'Bommanahalli' 'Borabanda' 'Borivali'\n",
      " 'Borivali East' 'Borivali West' 'Bowenpally' 'Breach Candy' 'Broadway'\n",
      " 'Byculla' 'CR Park' 'CV Raman Nagar' 'Chaitanyapuri' 'Chamarajpet'\n",
      " 'Champapet' 'Chanakyapuri' 'Chanchalguda' 'Chanda Nagar' 'Chandivali'\n",
      " 'Chandni Chowk' 'Chandra Layout' 'Changampuzha Nagar' 'Charkop'\n",
      " 'Charminar' 'Charni Road' 'Chattarpur' 'Chembur' 'Chembur East' 'Cherai'\n",
      " 'Cherannagar' 'Chetpet' 'Chikkadpally' 'Chinchpokli' 'Chinmaya Nagar'\n",
      " 'Chintadripet' 'Chintal' 'Chintalmet' 'Chitlapakkam' 'Choolaimedu'\n",
      " 'Chromepet' 'Chullickal' 'Chunabhatti' 'Churchgate' 'Civil Lines'\n",
      " 'Coimbatore Aerodrome' 'Coimbatore Central' 'Coimbatore Racecourse'\n",
      " 'Coimbatore Ukkadam' 'Colaba' 'Connaught Place' 'Cotton Hill'\n",
      " 'Cuffe Parade' 'Cumballa Hill' 'Cunningham Road' 'Dadar' 'Dadar East'\n",
      " 'Dadar West' 'Dahisar' 'Dahisar East' 'Dahisar West' 'Darya Ganj'\n",
      " 'Dasarahalli' 'Defence Colony' 'Delhi' 'Delhi Cantt' 'Deoli' 'Deonar'\n",
      " 'Dharavi' 'Dickenson Road' 'Dilshad Garden' 'Dilsukhnagar' 'Doddanekundi'\n",
      " 'Domalguda' 'Domlur' 'Dommasandra' 'Durga Puri' 'Dwarka'\n",
      " 'Dwarka Sector 10' 'Dwarka Sector 13' 'Dwarka Sector 22'\n",
      " 'Dwarka Sector 23' 'Dwarka Sector 3' 'Dwarka Sector 4' 'Dwarka Sector 5'\n",
      " 'Dwarka Sector 6' 'Dwarka Sector 7' 'ECR Road' 'East Marredpally'\n",
      " 'East Of Kailash' 'Ecil' 'Edakochi' 'Edapally' 'Edapally North'\n",
      " 'Edayarpalayam' 'Egmore' 'Elamakkara' 'Electronics City'\n",
      " 'Ernakulam College' 'Ernakulam North' 'Eroor South' 'Erragadda'\n",
      " 'Falaknuma' 'Film Nagar' 'Fort' 'Frazer Town' 'GTB Nagar' 'Gachibowli'\n",
      " 'Ganapathy' 'Gandhi Nagar' 'Gandhinagar' 'Gandhipuram' 'Ganesh Nagar'\n",
      " 'Ganganagar' 'Geeta Colony' 'Ghatkopar East' 'Ghatkopar West' 'Girgaon'\n",
      " 'Goldwins' 'Gopalapuram' 'Gorai' 'Goregaon' 'Goregaon East'\n",
      " 'Goregaon West' 'Gottigerre' 'Govandi' 'Gowrivakkam' 'Grant Road'\n",
      " 'Greams Road' 'Greater Kailash' 'Greater Kailash Part 1'\n",
      " 'Greater Kailash Part 2' 'Green Park' 'Guduvanchery' 'Guindy'\n",
      " 'Gujranwala Town' 'Gulabi Bagh' 'Gulmohar Park' 'HAL' 'HAL 2nd Stage'\n",
      " 'HBR Layout' 'HRBR Layout' 'HSR Layout' 'Habsiguda' 'Hafeezpet'\n",
      " 'Hari Nagar' 'Harlur' 'Hauz Khas' 'Hayathnagar' 'Hazrat Nizamuddin'\n",
      " 'Hebbal' 'Hebbal Kempapura' 'Hegde Nagar' 'Hennur' 'Himayat Nagar'\n",
      " 'Hitech City' 'Hoodi' 'Hope College' 'Horamavu' 'Hulimavu' 'Hyder Nagar'\n",
      " 'Hyderguda' 'IDA Jeedimetla' 'IP Extension' 'Inder Puri' 'Indiranagar'\n",
      " 'Indirapuram' 'J.C Nagar' 'JB Nagar' 'JP Nagar' 'JP Nagar 1 Phase'\n",
      " 'JP Nagar 2 Phase' 'JP Nagar 3 Phase' 'JP Nagar 4 Phase'\n",
      " 'JP Nagar 5 Phase' 'JP Nagar 6 Phase' 'JP Nagar 7 Phase'\n",
      " 'JP Nagar 8 Phase' 'Jacob Circle' 'Jagriti Enclave' 'Jahangirpuri'\n",
      " 'Jakkur' 'Jalahalli' 'Jamia Nagar' 'Janak Puri' 'Jangpura' 'Jasola'\n",
      " 'Jayamahal' 'Jayanagar' 'Jayanagar 1 Block' 'Jayanagar 3 Block'\n",
      " 'Jayanagar 4 Block' 'Jayanagar 5 Block' 'Jayanagar 7 Block'\n",
      " 'Jayanagar 9 Block' 'Jeedimetla' 'Jeevan Park' 'Jeevanbhimanagar'\n",
      " 'Jhilmil Colony' 'Jogeshwari East' 'Jogeshwari West' 'Jubilee Hills'\n",
      " 'Juhu' 'KK Nagar' 'KPHB' 'KR Puram' 'Kachiguda' 'Kadavanthra' 'Kadugodi'\n",
      " 'Kaggadasapura' 'Kaggalipura' 'Kailash Colony' 'Kakkanad' 'Kakkanad West'\n",
      " 'Kala Ghoda' 'Kalady' 'Kalamassery' 'Kalapatti' 'Kalina' 'Kalkaji'\n",
      " 'Kalkere' 'Kallambalam' 'Kaloor' 'Kalyan Nagar' 'Kalyanpuri'\n",
      " 'Kamla Nagar' 'Kammana Halli' 'Kanakpura Road' 'Kanchanbagh'\n",
      " 'Kandanchavadi' 'Kandivali' 'Kandivali East' 'Kandivali West'\n",
      " 'Kanjurmarg' 'Kapashera' 'Karamana' 'Karapakkam' 'Karkardooma' 'Karkhana'\n",
      " 'Karmanghat' 'Karol Bagh' 'Karukappilli' 'Karwan' 'Kasavanahalli'\n",
      " 'Kasturi nagar' 'Kattakada' 'Kattupakkam' 'Katwaria Sarai'\n",
      " 'Kaudiar Square' 'Kavundampalayam' 'Kazhakuttam' 'Keelkattalai'\n",
      " 'Kelambakkam' 'Kemps Corner' 'Kengeri' 'Keshav Puram' 'Khairatabad'\n",
      " 'Khajaguda' 'Khan Market' 'Khanpur' 'Khar West' 'Khetwadi' 'Kilkattalai'\n",
      " 'Kilokri' 'Kilpauk' 'King Koti' 'Kingsway Camp' 'Kirti Nagar'\n",
      " 'Kishanbagh' 'Kochi' 'Kochi M.G.Road' 'Kodambakkam' 'Kodungaiyur'\n",
      " 'Kolathur' 'Kolenchery' 'Kompally' 'Konanakunte' 'Kondapur' 'Kondli'\n",
      " 'Koothattukulam' 'Koovappady' 'Koramangala' 'Koramangala 1 Block'\n",
      " 'Koramangala 2 Block' 'Koramangala 4 Block' 'Koramangala 5 Block'\n",
      " 'Koramangala 6 Block' 'Koramangala 8 Block' 'Korattur' 'Kothaguda'\n",
      " 'Kothamangalam' 'Kothanur' 'Kothapet' 'Kottivakkam' 'Kotturpuram'\n",
      " 'Kovaipudur' 'Kovalam' 'Kovilambakkam' 'Kovilpalayam' 'Kowdiar'\n",
      " 'Krishna Nagar' 'Kukatpally' 'Kumara Park West' 'Kumarapuram'\n",
      " 'Kumaraswamy Layout' 'Kundalahalli' 'Kuniamuthur' 'Kuppakonanpudur'\n",
      " 'Kuravankonam' 'Kurla East' 'Kurla West' 'LB Nagar' 'Lado Sarai'\n",
      " 'Lajpat Nagar' 'Lajpat Nagar 4' 'Lajpat Nagar III' 'Lakdikapul'\n",
      " 'Lal baug' 'Langer House' 'Langford Road' 'Laxmi Nagar' 'Lingampally'\n",
      " 'Lodhi Colony' 'Lokhandwala' 'Lothkunta' 'Lower Parel' 'MG Road'\n",
      " 'MKB Nagar' 'MRC Nagar' 'Madandapuram' 'Madangir' 'Madanpura' 'Madhapur'\n",
      " 'Madhu Vihar' 'Madinaguda' 'Madipakkam' 'Madiwala' 'Maduravoyal'\n",
      " 'Mahadevapura' 'Mahalakshmi Layout' 'Mahalaxmi' 'Mahalingapuram' 'Mahim'\n",
      " 'Malabar Hill' 'Malad' 'Malad East' 'Malad West' 'Malakpet' 'Malkajgiri'\n",
      " 'Mallepally' 'Malleshpalya' 'Malleswaram' 'Malumichampatti'\n",
      " 'Malviya Nagar' 'Manacaud' 'Manali' 'Manapakkam' 'Mandapeshwar'\n",
      " 'Mandaveli' 'Manikonda' 'Manjapra' 'Mankhurd' 'Mansarover Garden'\n",
      " 'Marathahalli' 'Marine Drive' 'Marine Lines' 'Marol' 'Masab Tank'\n",
      " 'Mathikere - BEL' 'Matunga' 'Matunga West' 'Mayur Vihar Ph-I'\n",
      " 'Mayur Vihar Ph-II' 'Mayur Vihar Ph-III' 'Mazgaon' 'Medavakkam'\n",
      " 'Meera Bagh' 'Mehdipatnam' 'Mehrauli' 'Mettupalayam' 'Millers Road'\n",
      " 'Mira Bhayandar' 'Mira Road' 'Mira-Bhayandar Road' 'Miyapur' 'Model Town'\n",
      " 'Model Town 1' 'Model Town 2' 'Model Town 3' 'Mogappair' 'Mogappair East'\n",
      " 'Mogappair West' 'Molarband' 'Moosapet' 'Moosarambagh' 'Moti Bagh'\n",
      " 'Moti Nagar' 'Moula Ali' 'Mount Road' 'Mugalivakkam' 'Mukherjee Nagar'\n",
      " 'Mulanthuruthy' 'Mulund' 'Mulund East' 'Mulund West' 'Mumbai Central'\n",
      " 'Munirka' 'Munnekollal' 'Murugeshpalya' 'Musheerabad' 'Muttada'\n",
      " 'Muvattupuzha' 'Mylapore' 'Nagarbhavi' 'Nagawara' 'Nagole' 'Nagpada'\n",
      " 'Najafgarh' 'Nallagandla' 'Nallakunta' 'Nampally' 'Nand Nagri' 'Nandanam'\n",
      " 'Nanganallur' 'Nangloi' 'Nanjundapuram' 'Naraina Vihar' 'Narayanguda'\n",
      " 'Narela' 'Nariman Point' 'Navalur' 'Nayandahalli' 'Neb Sarai'\n",
      " 'Neelankarai' 'Neeti Bagh' 'Nehru Place' 'Nellimoodu' 'Neredmet'\n",
      " 'Nesapakkam' 'Netaji Nagar' 'Nettoor' 'New Ashok Nagar' 'New BEL Road'\n",
      " 'New Friends Colony' 'New Rajendra Nagar' 'New Seemapuri'\n",
      " 'New Thippasandra' 'Neyyattinkara Town' 'Nirman Vihar' 'Nizampet'\n",
      " 'Nizamuddin East' 'Not_Known' 'Nungambakkam' 'OMR Road' 'Okhla'\n",
      " 'Old Airport Road' 'Old Bowenpally' 'Old City' 'Old Rajendra Nagar'\n",
      " 'Ondipudur' 'Opera House' 'Oshiwara' 'PMG Jn' 'Pachalam'\n",
      " 'Padmanabhanagar' 'Padmarao Nagar' 'Pahar Ganj' 'Palam Colony'\n",
      " 'Palarivattom' 'Palavakkam' 'Palayam' 'Palkulangara' 'Pallavaram'\n",
      " 'Pallikaranai' 'Palluruthy' 'Pammal' 'Panampilly Nagar' 'Panathur'\n",
      " 'Panchsheel Park' 'Pandav Nagar' 'Pappanaickenpalayam'\n",
      " 'Pappanaickenpalayam West' 'Pappanaickenpudur' 'Pappanamcode' 'Paradise'\n",
      " 'Parassala' 'Paravur' 'Parel' 'Park Town' 'Paruthippara' 'Paschim Vihar'\n",
      " 'Pasur-avanashi' 'Patel Nagar' 'Patel Nagar East' 'Patel Nagar West'\n",
      " 'Patparganj' 'Pattimattam' 'Pattom' 'Peddar Road' 'Peelamedu' 'Peenya'\n",
      " 'Peeragarhi' 'Perambur' 'Periyar Nagar' 'Peroor' 'Perumathura'\n",
      " 'Perumbakkam' 'Perumbavoor' 'Perungalathur' 'Perungudi' 'Perurkada'\n",
      " 'Peyad' 'Pezhakkappilly' 'Piravom' 'Pitampura' 'Podanur' 'Pollachi'\n",
      " 'Pondy Bazaar' 'Poojapura' 'Poonamalle' 'Poovachal' 'Porur' 'Pothencode'\n",
      " 'Powai' 'Prabhadevi' 'Pragathi Nagar' 'Prashant Vihar' 'Preet Vihar'\n",
      " 'Punjabi Bagh' 'Punjagutta' 'Purasawakkam' 'Pusa Road' 'Puthenvelikkara'\n",
      " 'Puzhal' 'Qutab Institutional Area' 'R.S. Puram' 'RK Puram'\n",
      " 'RMV 2nd Stage' 'RT Nagar' 'RTC X Road' 'Radhakrishnan Salai'\n",
      " 'Raj Nagar - 2' 'Raja Annamalai Puram' 'Rajajinagar' 'Rajakilpakkam'\n",
      " 'Rajarajeshwarinagar' 'Rajendra Nagar' 'Rajouri Garden' 'Ram Nagar'\n",
      " 'Ramachandrapuram' 'Ramamangalam' 'Ramamurthy Nagar' 'Ramanathapuram'\n",
      " 'Ramanthapur' 'Ramapuram' 'Ramesh Nagar' 'Ramkoti' 'Ramnagar'\n",
      " 'Rana Pratap Bagh' 'Rani Bagh' 'Rani Khera' 'Rathinapuri' 'Red Hills'\n",
      " 'Residency Road' 'Richards Town' 'Richmond Town' 'Rohini'\n",
      " 'Rohini Sector 11' 'Rohini Sector 15' 'Rohini Sector 2'\n",
      " 'Rohini Sector 22' 'Rohini Sector 24' 'Rohini Sector 3' 'Rohini Sector 4'\n",
      " 'Rohini Sector 5' 'Rohini Sector 6' 'Rohini Sector 7' 'Rohini Sector 8'\n",
      " 'Royapettah' 'Royapuram' 'SG Palya (Kormangla)' 'SR Nagar' 'SV Road'\n",
      " 'Sadashivanagar' 'Safdarjung Enclave' 'Sagarpur' 'Sahakaranagar'\n",
      " 'Saibaba Colony' 'Saidabad' 'Saidapet' 'Sainikpuri' 'Saket'\n",
      " 'Saki Vihar Road' 'Sakinaka' 'Saligramam' 'Sampangiramnagar'\n",
      " 'Sanath Nagar' 'Sangam Vihar' 'Sanjay Nagar' 'Santacruz' 'Santacruz East'\n",
      " 'Santacruz West' 'Santosh Nagar' 'Saraswati Vihar' 'Saravanampatti'\n",
      " 'Sarita Vihar' 'Sarjapur Road' 'Sarjapura' 'Saroor Nagar'\n",
      " 'Sasthamangalam' 'Satya Niketan' 'Secunderabad' 'Selaiyur' 'Selvapuram'\n",
      " 'Sembakkam' 'Serilingampally' 'Seshadripuram' 'Shahdara' 'Shaikpet'\n",
      " 'Shakarpur' 'Shakti Nagar' 'Shakurpur' 'Shalimar Bagh' 'Shankar Vihar'\n",
      " 'Shanti Niketan' 'Shantinagar' 'Shastri Nagar' 'Sheikh Sarai'\n",
      " 'Shenoy Nagar' 'Shivaji Nagar' 'Shivalik' 'Shivrampally' 'Sholinganallur'\n",
      " 'Siddapura' 'Siddhapudur' 'Silampur' 'Sindhi Colony' 'Singanallur'\n",
      " 'Singasandra' 'Sion' 'Sion East' 'Sion Koliwada' 'Sion West'\n",
      " 'Sithalapakkam' 'Somajiguda' 'South Extension 1' 'South Extension 2'\n",
      " 'Sowcarpet' 'Sowripalayam' 'Sreekaryam' 'Srinagar Colony' 'Srirampuram'\n",
      " 'St Thomas Mount' 'Subhash Nagar' 'Subzi Mandi' 'Suchitra Circle'\n",
      " 'Sukh Vihar' 'Sukhdev Vihar' 'Sultanpur' 'Sulur' 'Sun city'\n",
      " 'Sundarapuram' 'Surajmal Vihar' 'Surya Niketan' 'Swasthya Vihar'\n",
      " 'T Dasarahalli' 'T Nagar' 'TV Chalai' 'TV Medical College' 'TV Museum'\n",
      " 'TVM Beach' 'TVM Fort' 'TVM Pettah' 'Tagore Garden' 'Tambaram'\n",
      " 'Tambaram East' 'Tambaram West' 'Tardeo' 'Tarnaka' 'Tatabad' 'Teynampet'\n",
      " 'Thammanam' 'Thanisandra' 'Thevara' 'Thirumala' 'Thirumullaivoyal'\n",
      " 'Thiruvallom' 'Thiruvanmiyur' 'Thiruvottiyur' 'Thonnakkal' 'Thoppumpady'\n",
      " 'Thoraipakkam' 'Thousand Lights' 'Thrikkakara' 'Thudiyalur' 'Tilak Nagar'\n",
      " 'Tiruvottiyur' 'Tis Hazari' 'Tolichowki' 'Tondiarpet' 'Tri Nagar'\n",
      " 'Trimulgherry' 'Triplicane' 'Tripunithura' 'Trombay' 'Tuglakabad'\n",
      " 'Uday Park' 'Ullal Upanagara' 'Ulloor' 'Ulsoor' 'Uppal' 'Uppilipalayam'\n",
      " 'Urapakkam' 'Uttam Nagar' 'Uttarahalli' 'VV Puram' 'Vadapalani'\n",
      " 'Vadasserikonam' 'Vadavalli' 'Vaduthala' 'Valasaravakkam' 'Valiathura'\n",
      " 'Vallakkadavoo' 'Vanagaram' 'Vanasthalipuram' 'Vanchiyur' 'Varthur'\n",
      " 'Vasant Enclave' 'Vasant Kunj' 'Vasant Vihar' 'Vasanthnagar'\n",
      " 'Vasundhra Enclave' 'Vazhakulam' 'Veerakeralam' 'Velachery'\n",
      " 'Velandipalayam' 'Vellakinar' 'Vengal Rao Nagar' 'Venjaramoodu'\n",
      " 'Venkitapuram' 'Vennala' 'Versova' 'Vidyanagar' 'Vidyaranyapura'\n",
      " 'Vignan Nagar' 'Vigyan Vihar' 'Vijayanagar' 'Vijaynagar'\n",
      " 'Vijaynagar Colony' 'Vikas Puri' 'Vikhroli' 'Vikhroli East'\n",
      " 'Vikhroli West' 'Vikrampuri Colony' 'Vilankurichi' 'Vileparle'\n",
      " 'Vileparle East' 'Vileparle West' 'Villivakkam' 'Virugambakkam'\n",
      " 'Vishnu Garden' 'Vivek Vihar' 'Viveknagar' 'Vizhinjam' 'Vyasarpadi'\n",
      " 'Vyttila' 'Wadala' 'Walkeshwar' 'Washermenpet' 'West Mambalam'\n",
      " 'West Marredpally' 'West Of Chord Road' 'Whitefield' 'Wilson Garden'\n",
      " 'Worli' 'Yakutpura' 'Yamuna Vihar' 'Yelahanka' 'Yelahanka New Town'\n",
      " 'Yellareddyguda' 'Yeshwanthpur' 'Yousufguda' 'e']\n",
      "\n",
      "\n",
      "city_Place\n",
      "['Bangalore' 'Chennai' 'Coimbatore' 'Delhi' 'Ernakulam' 'Hyderabad'\n",
      " 'Mumbai' 'Not_Known' 'Thiruvananthapuram']\n",
      "\n",
      "\n"
     ]
    }
   ],
   "source": [
    "from sklearn.preprocessing import LabelEncoder\n",
    "#Encoding categorical features\n",
    "cat_feature = df_new.columns[df_new.dtypes == object]\n",
    "le = {}\n",
    "encoded_value = {}\n",
    "for i in cat_feature:\n",
    "    le[i] = LabelEncoder()\n",
    "    encoded_value[i] = le[i].fit_transform(df_new[i])\n",
    "    print(i)\n",
    "    print(le[i].classes_)\n",
    "    print('\\n')"
   ]
  },
  {
   "cell_type": "code",
   "execution_count": 23,
   "metadata": {},
   "outputs": [
    {
     "data": {
      "text/html": [
       "<div>\n",
       "<style scoped>\n",
       "    .dataframe tbody tr th:only-of-type {\n",
       "        vertical-align: middle;\n",
       "    }\n",
       "\n",
       "    .dataframe tbody tr th {\n",
       "        vertical-align: top;\n",
       "    }\n",
       "\n",
       "    .dataframe thead th {\n",
       "        text-align: right;\n",
       "    }\n",
       "</style>\n",
       "<table border=\"1\" class=\"dataframe\">\n",
       "  <thead>\n",
       "    <tr style=\"text-align: right;\">\n",
       "      <th></th>\n",
       "      <th>Profile</th>\n",
       "      <th>Fees</th>\n",
       "      <th>is_MS</th>\n",
       "      <th>is_MD</th>\n",
       "      <th>is_MF</th>\n",
       "      <th>is_MDS</th>\n",
       "      <th>is_MBBS</th>\n",
       "      <th>is_BDS</th>\n",
       "      <th>is_BAMS</th>\n",
       "      <th>is_BHMS</th>\n",
       "      <th>is_DNB</th>\n",
       "      <th>is_Diploma</th>\n",
       "      <th>is_BSc</th>\n",
       "      <th>n_Experience</th>\n",
       "      <th>n_Rating</th>\n",
       "      <th>area_Place</th>\n",
       "      <th>city_Place</th>\n",
       "      <th>n_Feedback</th>\n",
       "    </tr>\n",
       "  </thead>\n",
       "  <tbody>\n",
       "    <tr>\n",
       "      <th>0</th>\n",
       "      <td>5</td>\n",
       "      <td>100</td>\n",
       "      <td>1</td>\n",
       "      <td>1</td>\n",
       "      <td>0</td>\n",
       "      <td>0</td>\n",
       "      <td>0</td>\n",
       "      <td>0</td>\n",
       "      <td>0</td>\n",
       "      <td>1</td>\n",
       "      <td>0</td>\n",
       "      <td>0</td>\n",
       "      <td>0</td>\n",
       "      <td>24</td>\n",
       "      <td>100</td>\n",
       "      <td>296</td>\n",
       "      <td>4</td>\n",
       "      <td>16</td>\n",
       "    </tr>\n",
       "    <tr>\n",
       "      <th>1</th>\n",
       "      <td>0</td>\n",
       "      <td>350</td>\n",
       "      <td>1</td>\n",
       "      <td>1</td>\n",
       "      <td>0</td>\n",
       "      <td>0</td>\n",
       "      <td>0</td>\n",
       "      <td>0</td>\n",
       "      <td>1</td>\n",
       "      <td>0</td>\n",
       "      <td>0</td>\n",
       "      <td>0</td>\n",
       "      <td>0</td>\n",
       "      <td>12</td>\n",
       "      <td>98</td>\n",
       "      <td>856</td>\n",
       "      <td>0</td>\n",
       "      <td>76</td>\n",
       "    </tr>\n",
       "    <tr>\n",
       "      <th>2</th>\n",
       "      <td>3</td>\n",
       "      <td>300</td>\n",
       "      <td>1</td>\n",
       "      <td>0</td>\n",
       "      <td>0</td>\n",
       "      <td>0</td>\n",
       "      <td>1</td>\n",
       "      <td>0</td>\n",
       "      <td>0</td>\n",
       "      <td>0</td>\n",
       "      <td>0</td>\n",
       "      <td>0</td>\n",
       "      <td>0</td>\n",
       "      <td>9</td>\n",
       "      <td>0</td>\n",
       "      <td>452</td>\n",
       "      <td>0</td>\n",
       "      <td>0</td>\n",
       "    </tr>\n",
       "    <tr>\n",
       "      <th>3</th>\n",
       "      <td>0</td>\n",
       "      <td>250</td>\n",
       "      <td>1</td>\n",
       "      <td>0</td>\n",
       "      <td>0</td>\n",
       "      <td>0</td>\n",
       "      <td>0</td>\n",
       "      <td>0</td>\n",
       "      <td>1</td>\n",
       "      <td>0</td>\n",
       "      <td>0</td>\n",
       "      <td>0</td>\n",
       "      <td>1</td>\n",
       "      <td>12</td>\n",
       "      <td>0</td>\n",
       "      <td>68</td>\n",
       "      <td>0</td>\n",
       "      <td>0</td>\n",
       "    </tr>\n",
       "    <tr>\n",
       "      <th>4</th>\n",
       "      <td>0</td>\n",
       "      <td>250</td>\n",
       "      <td>1</td>\n",
       "      <td>0</td>\n",
       "      <td>0</td>\n",
       "      <td>0</td>\n",
       "      <td>0</td>\n",
       "      <td>0</td>\n",
       "      <td>1</td>\n",
       "      <td>0</td>\n",
       "      <td>0</td>\n",
       "      <td>0</td>\n",
       "      <td>0</td>\n",
       "      <td>20</td>\n",
       "      <td>100</td>\n",
       "      <td>335</td>\n",
       "      <td>1</td>\n",
       "      <td>4</td>\n",
       "    </tr>\n",
       "  </tbody>\n",
       "</table>\n",
       "</div>"
      ],
      "text/plain": [
       "   Profile  Fees  is_MS  is_MD  is_MF  is_MDS  is_MBBS  is_BDS  is_BAMS  \\\n",
       "0        5   100      1      1      0       0        0       0        0   \n",
       "1        0   350      1      1      0       0        0       0        1   \n",
       "2        3   300      1      0      0       0        1       0        0   \n",
       "3        0   250      1      0      0       0        0       0        1   \n",
       "4        0   250      1      0      0       0        0       0        1   \n",
       "\n",
       "   is_BHMS  is_DNB  is_Diploma  is_BSc  n_Experience  n_Rating  area_Place  \\\n",
       "0        1       0           0       0            24       100         296   \n",
       "1        0       0           0       0            12        98         856   \n",
       "2        0       0           0       0             9         0         452   \n",
       "3        0       0           0       1            12         0          68   \n",
       "4        0       0           0       0            20       100         335   \n",
       "\n",
       "   city_Place  n_Feedback  \n",
       "0           4          16  \n",
       "1           0          76  \n",
       "2           0           0  \n",
       "3           0           0  \n",
       "4           1           4  "
      ]
     },
     "execution_count": 23,
     "metadata": {},
     "output_type": "execute_result"
    }
   ],
   "source": [
    "#Replacing encoded value with orginal\n",
    "for i in encoded_value:\n",
    "    df_new[i] = encoded_value[i]\n",
    "    \n",
    "#Interpreting dataset with encoded values.\n",
    "df_new.head()"
   ]
  },
  {
   "cell_type": "markdown",
   "metadata": {},
   "source": [
    "# Exploratory Data Analysis (EDA)"
   ]
  },
  {
   "cell_type": "code",
   "execution_count": 24,
   "metadata": {},
   "outputs": [],
   "source": [
    "import matplotlib.pyplot as plt\n",
    "import seaborn as sns"
   ]
  },
  {
   "cell_type": "markdown",
   "metadata": {},
   "source": [
    "## Univariate Analysis"
   ]
  },
  {
   "cell_type": "code",
   "execution_count": 25,
   "metadata": {},
   "outputs": [
    {
     "data": {
      "image/png": "[encoded data removed]",
      "text/plain": [
       "<Figure size 432x288 with 1 Axes>"
      ]
     },
     "metadata": {
      "needs_background": "light"
     },
     "output_type": "display_data"
    }
   ],
   "source": [
    "#Checking data distribution in target feature Fees\n",
    "x = 'Fees'\n",
    "sns.distplot(df_new[x])\n",
    "plt.title(f\"DistPlot for: {x}\")\n",
    "plt.show()"
   ]
  },
  {
   "cell_type": "markdown",
   "metadata": {},
   "source": [
    "### Remarks:\n",
    "- Most of the fees lies between 100 to 500.\n",
    "- Data is not distributed normally."
   ]
  },
  {
   "cell_type": "code",
   "execution_count": 26,
   "metadata": {},
   "outputs": [
    {
     "data": {
      "image/png": "[encoded data removed]",
      "text/plain": [
       "<Figure size 432x288 with 1 Axes>"
      ]
     },
     "metadata": {
      "needs_background": "light"
     },
     "output_type": "display_data"
    }
   ],
   "source": [
    "#Checking data distribution in n_Experience\n",
    "x = 'n_Experience'\n",
    "sns.distplot(df_new[x])\n",
    "plt.title(f\"DistPlot for: {x}\")\n",
    "plt.show()"
   ]
  },
  {
   "cell_type": "markdown",
   "metadata": {},
   "source": [
    "### Remarks:\n",
    "- Most of the experience lies between 5 to 28 years.\n",
    "- Data is somewhat distributed normally but not in well curve."
   ]
  },
  {
   "cell_type": "code",
   "execution_count": 27,
   "metadata": {},
   "outputs": [
    {
     "data": {
      "image/png": "[encoded data removed]",
      "text/plain": [
       "<Figure size 432x288 with 1 Axes>"
      ]
     },
     "metadata": {
      "needs_background": "light"
     },
     "output_type": "display_data"
    }
   ],
   "source": [
    "#Checking data distribution in n_Feedback\n",
    "x = 'n_Feedback'\n",
    "sns.distplot(df_new[x])\n",
    "plt.title(f\"DistPlot for: {x}\")\n",
    "plt.show()"
   ]
  },
  {
   "cell_type": "markdown",
   "metadata": {},
   "source": [
    "### Remarks:\n",
    "- Most of the doctors have 0 or no feedback.\n",
    "- Data is not ditributed normally.\n",
    "- data is right skewed and needs to be treated accordingly."
   ]
  },
  {
   "cell_type": "code",
   "execution_count": 28,
   "metadata": {},
   "outputs": [
    {
     "data": {
      "image/png": "[encoded data removed]",
      "text/plain": [
       "<Figure size 432x288 with 1 Axes>"
      ]
     },
     "metadata": {
      "needs_background": "light"
     },
     "output_type": "display_data"
    }
   ],
   "source": [
    "#Checking data distribution in n_Rating\n",
    "x = 'n_Rating'\n",
    "sns.distplot(df_new[x])\n",
    "plt.title(f\"DistPlot for: {x}\")\n",
    "plt.show()"
   ]
  },
  {
   "cell_type": "markdown",
   "metadata": {},
   "source": [
    "### Remarks:\n",
    "- Most of the doctors have 0 or no rating.\n",
    "- data is not distributed normally and needs to be treated accordingly."
   ]
  },
  {
   "cell_type": "code",
   "execution_count": 29,
   "metadata": {},
   "outputs": [
    {
     "data": {
      "image/png": "[encoded data removed]",
      "text/plain": [
       "<Figure size 432x288 with 1 Axes>"
      ]
     },
     "metadata": {
      "needs_background": "light"
     },
     "output_type": "display_data"
    }
   ],
   "source": [
    "#Checking feature Profile using countplot\n",
    "x = 'Profile'\n",
    "ax = sns.countplot(df_new[x])\n",
    "k=0\n",
    "for i in ax.patches:\n",
    "    plt.text(k,i.get_height()/2,i.get_height(), ha='center', fontweight='bold')\n",
    "    k += 1\n",
    "plt.title(f\"CountPlot for: {x}\")\n",
    "plt.xticks(ticks=range(len(le[x].classes_)),labels=le[x].classes_,rotation=90)\n",
    "plt.show()"
   ]
  },
  {
   "cell_type": "markdown",
   "metadata": {},
   "source": [
    "### Remarks:\n",
    "- Maximum number of obersvations are for Dentist while minimum are for ENT Specialist.\n",
    "- Majority of observations are for Profile Dentist, General Medicine and Dermatologists."
   ]
  },
  {
   "cell_type": "code",
   "execution_count": 30,
   "metadata": {},
   "outputs": [
    {
     "data": {
      "image/png": "[encoded data removed]",
      "text/plain": [
       "<Figure size 432x288 with 1 Axes>"
      ]
     },
     "metadata": {
      "needs_background": "light"
     },
     "output_type": "display_data"
    }
   ],
   "source": [
    "#Checking feature is_MS using countplot\n",
    "x = 'is_MS'\n",
    "ax = sns.countplot(df_new[x])\n",
    "k=0\n",
    "for i in ax.patches:\n",
    "    plt.text(k,i.get_height()/2,i.get_height(), ha='center', fontweight='bold')\n",
    "    k += 1\n",
    "plt.title(f\"CountPlot for: {x}\")\n",
    "plt.xticks(ticks=range(len(le[x].classes_)),labels=le[x].classes_,rotation=90)\n",
    "plt.show()"
   ]
  },
  {
   "cell_type": "markdown",
   "metadata": {},
   "source": [
    "### Remarks:\n",
    "- Most of the doctors have no MS degree while few of them have MS."
   ]
  },
  {
   "cell_type": "code",
   "execution_count": 31,
   "metadata": {},
   "outputs": [
    {
     "data": {
      "image/png": "[encoded data removed]",
      "text/plain": [
       "<Figure size 432x288 with 1 Axes>"
      ]
     },
     "metadata": {
      "needs_background": "light"
     },
     "output_type": "display_data"
    }
   ],
   "source": [
    "#Checking feature is_MD using countplot\n",
    "x = 'is_MD'\n",
    "ax = sns.countplot(df_new[x])\n",
    "k=0\n",
    "for i in ax.patches:\n",
    "    plt.text(k,i.get_height()/2,i.get_height(), ha='center', fontweight='bold')\n",
    "    k += 1\n",
    "plt.title(f\"CountPlot for: {x}\")\n",
    "plt.xticks(ticks=range(len(le[x].classes_)),labels=le[x].classes_,rotation=90)\n",
    "plt.show()"
   ]
  },
  {
   "cell_type": "markdown",
   "metadata": {},
   "source": [
    "### Remarks:\n",
    "- Most of the doctors have no MD degree while few of them have MD."
   ]
  },
  {
   "cell_type": "code",
   "execution_count": 32,
   "metadata": {},
   "outputs": [
    {
     "data": {
      "image/png": "[encoded data removed]",
      "text/plain": [
       "<Figure size 432x288 with 1 Axes>"
      ]
     },
     "metadata": {
      "needs_background": "light"
     },
     "output_type": "display_data"
    }
   ],
   "source": [
    "#Checking feature is_MF using countplot\n",
    "x = 'is_MF'\n",
    "ax = sns.countplot(df_new[x])\n",
    "k=0\n",
    "for i in ax.patches:\n",
    "    plt.text(k,i.get_height()/2,i.get_height(), ha='center', fontweight='bold')\n",
    "    k += 1\n",
    "plt.title(f\"CountPlot for: {x}\")\n",
    "plt.xticks(ticks=range(len(le[x].classes_)),labels=le[x].classes_,rotation=90)\n",
    "plt.show()"
   ]
  },
  {
   "cell_type": "markdown",
   "metadata": {},
   "source": [
    "### Remarks:\n",
    "- Most of the doctors have no MF degree while few of them have MF."
   ]
  },
  {
   "cell_type": "code",
   "execution_count": 33,
   "metadata": {},
   "outputs": [
    {
     "data": {
      "image/png": "[encoded data removed]",
      "text/plain": [
       "<Figure size 432x288 with 1 Axes>"
      ]
     },
     "metadata": {
      "needs_background": "light"
     },
     "output_type": "display_data"
    }
   ],
   "source": [
    "#Checking feature is_MDS using countplot\n",
    "x = 'is_MDS'\n",
    "ax = sns.countplot(df_new[x])\n",
    "k=0\n",
    "for i in ax.patches:\n",
    "    plt.text(k,i.get_height()/2,i.get_height(), ha='center', fontweight='bold')\n",
    "    k += 1\n",
    "plt.title(f\"CountPlot for: {x}\")\n",
    "plt.xticks(ticks=range(len(le[x].classes_)),labels=le[x].classes_,rotation=90)\n",
    "plt.show()"
   ]
  },
  {
   "cell_type": "markdown",
   "metadata": {},
   "source": [
    "### Remarks:\n",
    "- Most of the doctors have no MDS degree while few of them have MDS."
   ]
  },
  {
   "cell_type": "code",
   "execution_count": 34,
   "metadata": {},
   "outputs": [
    {
     "data": {
      "image/png": "[encoded data removed]",
      "text/plain": [
       "<Figure size 432x288 with 1 Axes>"
      ]
     },
     "metadata": {
      "needs_background": "light"
     },
     "output_type": "display_data"
    }
   ],
   "source": [
    "#Checking feature is_MBBS using countplot\n",
    "x = 'is_MBBS'\n",
    "ax = sns.countplot(df_new[x])\n",
    "k=0\n",
    "for i in ax.patches:\n",
    "    plt.text(k,i.get_height()/2,i.get_height(), ha='center', fontweight='bold')\n",
    "    k += 1\n",
    "plt.title(f\"CountPlot for: {x}\")\n",
    "plt.xticks(ticks=range(len(le[x].classes_)),labels=le[x].classes_,rotation=90)\n",
    "plt.show()"
   ]
  },
  {
   "cell_type": "markdown",
   "metadata": {},
   "source": [
    "### Remarks:\n",
    "- Most of the doctors have no MBBS degree while few of them have MBBS."
   ]
  },
  {
   "cell_type": "code",
   "execution_count": 35,
   "metadata": {},
   "outputs": [
    {
     "data": {
      "image/png": "[encoded data removed]",
      "text/plain": [
       "<Figure size 432x288 with 1 Axes>"
      ]
     },
     "metadata": {
      "needs_background": "light"
     },
     "output_type": "display_data"
    }
   ],
   "source": [
    "#Checking feature is_BDS using countplot\n",
    "x = 'is_BDS'\n",
    "ax = sns.countplot(df_new[x])\n",
    "k=0\n",
    "for i in ax.patches:\n",
    "    plt.text(k,i.get_height()/2,i.get_height(), ha='center', fontweight='bold')\n",
    "    k += 1\n",
    "plt.title(f\"CountPlot for: {x}\")\n",
    "plt.xticks(ticks=range(len(le[x].classes_)),labels=le[x].classes_,rotation=90)\n",
    "plt.show()"
   ]
  },
  {
   "cell_type": "markdown",
   "metadata": {},
   "source": [
    "### Remarks:\n",
    "- Most of the doctors have no BDS degree while few of them have BDS."
   ]
  },
  {
   "cell_type": "code",
   "execution_count": 36,
   "metadata": {},
   "outputs": [
    {
     "data": {
      "image/png": "[encoded data removed]",
      "text/plain": [
       "<Figure size 432x288 with 1 Axes>"
      ]
     },
     "metadata": {
      "needs_background": "light"
     },
     "output_type": "display_data"
    }
   ],
   "source": [
    "#Checking feature is_BAMS using countplot\n",
    "x = 'is_BAMS'\n",
    "ax = sns.countplot(df_new[x])\n",
    "k=0\n",
    "for i in ax.patches:\n",
    "    plt.text(k,i.get_height()/2,i.get_height(), ha='center', fontweight='bold')\n",
    "    k += 1\n",
    "plt.title(f\"CountPlot for: {x}\")\n",
    "plt.xticks(ticks=range(len(le[x].classes_)),labels=le[x].classes_,rotation=90)\n",
    "plt.show()"
   ]
  },
  {
   "cell_type": "markdown",
   "metadata": {},
   "source": [
    "### Remarks:\n",
    "- Most of the doctors have no BAMS degree while few of them have BAMS."
   ]
  },
  {
   "cell_type": "code",
   "execution_count": 37,
   "metadata": {},
   "outputs": [
    {
     "data": {
      "image/png": "[encoded data removed]",
      "text/plain": [
       "<Figure size 432x288 with 1 Axes>"
      ]
     },
     "metadata": {
      "needs_background": "light"
     },
     "output_type": "display_data"
    }
   ],
   "source": [
    "#Checking feature is_BHMS using countplot\n",
    "x = 'is_BHMS'\n",
    "ax = sns.countplot(df_new[x])\n",
    "k=0\n",
    "for i in ax.patches:\n",
    "    plt.text(k,i.get_height()/2,i.get_height(), ha='center', fontweight='bold')\n",
    "    k += 1\n",
    "plt.title(f\"CountPlot for: {x}\")\n",
    "plt.xticks(ticks=range(len(le[x].classes_)),labels=le[x].classes_,rotation=90)\n",
    "plt.show()"
   ]
  },
  {
   "cell_type": "markdown",
   "metadata": {},
   "source": [
    "### Remarks:\n",
    "- Most of the doctors have no BHMS degree while few of them have BHMS."
   ]
  },
  {
   "cell_type": "code",
   "execution_count": 38,
   "metadata": {},
   "outputs": [
    {
     "data": {
      "image/png": "[encoded data removed]",
      "text/plain": [
       "<Figure size 432x288 with 1 Axes>"
      ]
     },
     "metadata": {
      "needs_background": "light"
     },
     "output_type": "display_data"
    }
   ],
   "source": [
    "#Checking feature is_DNB using countplot\n",
    "x = 'is_DNB'\n",
    "ax = sns.countplot(df_new[x])\n",
    "k=0\n",
    "for i in ax.patches:\n",
    "    plt.text(k,i.get_height()/2,i.get_height(), ha='center', fontweight='bold')\n",
    "    k += 1\n",
    "plt.title(f\"CountPlot for: {x}\")\n",
    "plt.xticks(ticks=range(len(le[x].classes_)),labels=le[x].classes_,rotation=90)\n",
    "plt.show()"
   ]
  },
  {
   "cell_type": "markdown",
   "metadata": {},
   "source": [
    "### Remarks:\n",
    "- Most of the doctors have no DNB degree while few of them have DNB."
   ]
  },
  {
   "cell_type": "code",
   "execution_count": 39,
   "metadata": {},
   "outputs": [
    {
     "data": {
      "image/png": "[encoded data removed]",
      "text/plain": [
       "<Figure size 432x288 with 1 Axes>"
      ]
     },
     "metadata": {
      "needs_background": "light"
     },
     "output_type": "display_data"
    }
   ],
   "source": [
    "#Checking feature is_Diploma using countplot\n",
    "x = 'is_Diploma'\n",
    "ax = sns.countplot(df_new[x])\n",
    "k=0\n",
    "for i in ax.patches:\n",
    "    plt.text(k,i.get_height()/2,i.get_height(), ha='center', fontweight='bold')\n",
    "    k += 1\n",
    "plt.title(f\"CountPlot for: {x}\")\n",
    "plt.xticks(ticks=range(len(le[x].classes_)),labels=le[x].classes_,rotation=90)\n",
    "plt.show()"
   ]
  },
  {
   "cell_type": "markdown",
   "metadata": {},
   "source": [
    "### Remarks:\n",
    "- Most of the doctors have no Diploma while few of them have Diploma."
   ]
  },
  {
   "cell_type": "code",
   "execution_count": 40,
   "metadata": {},
   "outputs": [
    {
     "data": {
      "image/png": "[encoded data removed]",
      "text/plain": [
       "<Figure size 432x288 with 1 Axes>"
      ]
     },
     "metadata": {
      "needs_background": "light"
     },
     "output_type": "display_data"
    }
   ],
   "source": [
    "#Checking feature is_BSc using countplot\n",
    "x = 'is_BSc'\n",
    "ax = sns.countplot(df_new[x])\n",
    "k=0\n",
    "for i in ax.patches:\n",
    "    plt.text(k,i.get_height()/2,i.get_height(), ha='center', fontweight='bold')\n",
    "    k += 1\n",
    "plt.title(f\"CountPlot for: {x}\")\n",
    "plt.xticks(ticks=range(len(le[x].classes_)),labels=le[x].classes_,rotation=90)\n",
    "plt.show()"
   ]
  },
  {
   "cell_type": "markdown",
   "metadata": {},
   "source": [
    "### Remarks:\n",
    "- Most of the doctors have no BSc while few of them have BSc."
   ]
  },
  {
   "cell_type": "code",
   "execution_count": 41,
   "metadata": {},
   "outputs": [
    {
     "data": {
      "image/png": "[encoded data removed]",
      "text/plain": [
       "<Figure size 432x288 with 1 Axes>"
      ]
     },
     "metadata": {
      "needs_background": "light"
     },
     "output_type": "display_data"
    }
   ],
   "source": [
    "#Checking feature city_Place using countplot\n",
    "x = 'city_Place'\n",
    "ax = sns.countplot(df_new[x])\n",
    "k=0\n",
    "for i in ax.patches:\n",
    "    plt.text(k,i.get_height()/2,i.get_height(), ha='center', fontweight='bold')\n",
    "    k += 1\n",
    "plt.title(f\"CountPlot for: {x}\")\n",
    "plt.xticks(ticks=range(len(le[x].classes_)),labels=le[x].classes_,rotation=90)\n",
    "plt.show()"
   ]
  },
  {
   "cell_type": "markdown",
   "metadata": {},
   "source": [
    "### Remarks:\n",
    "- Maximum number of observations are from city Banglore while mininum is from Not_Known.\n",
    "- Majority of observations are among Banglore, Chennai, Delhi, Hyderabad and Mumbai."
   ]
  },
  {
   "cell_type": "markdown",
   "metadata": {},
   "source": [
    "## Bi-Variate Analysis"
   ]
  },
  {
   "cell_type": "code",
   "execution_count": 42,
   "metadata": {},
   "outputs": [
    {
     "data": {
      "image/png": "[encoded data removed]",
      "text/plain": [
       "<Figure size 432x288 with 1 Axes>"
      ]
     },
     "metadata": {
      "needs_background": "light"
     },
     "output_type": "display_data"
    }
   ],
   "source": [
    "#Checking relationship between Profile and Fees\n",
    "x = 'Profile'\n",
    "y = 'Fees'\n",
    "ax = sns.barplot(x,y,data=df_new)\n",
    "k=0\n",
    "for i in ax.patches:\n",
    "    h = round(i.get_height(),0)\n",
    "    plt.text(k,h/2,h,ha='center',va='center',fontweight='bold',rotation=90)\n",
    "    k += 1\n",
    "plt.title(f\"Relationship between {x} vs {y}\")\n",
    "plt.xticks(ticks=range(len(le[x].classes_)),labels=le[x].classes_,rotation=90)\n",
    "plt.show()"
   ]
  },
  {
   "cell_type": "markdown",
   "metadata": {},
   "source": [
    "### Remarks:\n",
    "- Maximum number of fees is for Dermatologists and minimum is for Dentist.\n",
    "- Most of the fees lies among Homeopath, ENT Specialist, General Medicine and Dermatologists."
   ]
  },
  {
   "cell_type": "code",
   "execution_count": 43,
   "metadata": {},
   "outputs": [
    {
     "data": {
      "image/png": "[encoded data removed]",
      "text/plain": [
       "<Figure size 432x288 with 1 Axes>"
      ]
     },
     "metadata": {
      "needs_background": "light"
     },
     "output_type": "display_data"
    }
   ],
   "source": [
    "#Checking relationship between Profile and Fees\n",
    "x = 'is_MS'\n",
    "y = 'Fees'\n",
    "ax = sns.barplot(x,y,data=df_new)\n",
    "k=0\n",
    "for i in ax.patches:\n",
    "    h = round(i.get_height(),0)\n",
    "    plt.text(k,h/2,h,ha='center',va='center',fontweight='bold',rotation=90)\n",
    "    k += 1\n",
    "plt.title(f\"Relationship between {x} vs {y}\")\n",
    "plt.xticks(ticks=range(len(le[x].classes_)),labels=le[x].classes_,rotation=90)\n",
    "plt.show()"
   ]
  },
  {
   "cell_type": "markdown",
   "metadata": {},
   "source": [
    "### Remarks:\n",
    "- Doctors with MS has highest fees as compared to others with no MS."
   ]
  },
  {
   "cell_type": "code",
   "execution_count": 44,
   "metadata": {},
   "outputs": [
    {
     "data": {
      "image/png": "[encoded data removed]",
      "text/plain": [
       "<Figure size 432x288 with 1 Axes>"
      ]
     },
     "metadata": {
      "needs_background": "light"
     },
     "output_type": "display_data"
    }
   ],
   "source": [
    "#Checking relationship between is_MD and Fees\n",
    "x = 'is_MD'\n",
    "y = 'Fees'\n",
    "ax = sns.barplot(x,y,data=df_new)\n",
    "k=0\n",
    "for i in ax.patches:\n",
    "    h = round(i.get_height(),0)\n",
    "    plt.text(k,h/2,h,ha='center',va='center',fontweight='bold',rotation=90)\n",
    "    k += 1\n",
    "plt.title(f\"Relationship between {x} vs {y}\")\n",
    "plt.xticks(ticks=range(len(le[x].classes_)),labels=le[x].classes_,rotation=90)\n",
    "plt.show()"
   ]
  },
  {
   "cell_type": "markdown",
   "metadata": {},
   "source": [
    "### Remarks:\n",
    "- Doctors with MD has highest fees as compared to others with no MD."
   ]
  },
  {
   "cell_type": "code",
   "execution_count": 45,
   "metadata": {},
   "outputs": [
    {
     "data": {
      "image/png": "[encoded data removed]",
      "text/plain": [
       "<Figure size 432x288 with 1 Axes>"
      ]
     },
     "metadata": {
      "needs_background": "light"
     },
     "output_type": "display_data"
    }
   ],
   "source": [
    "#Checking relationship between is_MF and Fees\n",
    "x = 'is_MF'\n",
    "y = 'Fees'\n",
    "ax = sns.barplot(x,y,data=df_new)\n",
    "k=0\n",
    "for i in ax.patches:\n",
    "    h = round(i.get_height(),0)\n",
    "    plt.text(k,h/2,h,ha='center',va='center',fontweight='bold',rotation=90)\n",
    "    k += 1\n",
    "plt.title(f\"Relationship between {x} vs {y}\")\n",
    "plt.xticks(ticks=range(len(le[x].classes_)),labels=le[x].classes_,rotation=90)\n",
    "plt.show()"
   ]
  },
  {
   "cell_type": "markdown",
   "metadata": {},
   "source": [
    "### Remarks:\n",
    "- Doctors with MF has lowest fees as compared to others with no MF."
   ]
  },
  {
   "cell_type": "code",
   "execution_count": 46,
   "metadata": {},
   "outputs": [
    {
     "data": {
      "image/png": "[encoded data removed]",
      "text/plain": [
       "<Figure size 432x288 with 1 Axes>"
      ]
     },
     "metadata": {
      "needs_background": "light"
     },
     "output_type": "display_data"
    }
   ],
   "source": [
    "#Checking relationship between is_MDS and Fees\n",
    "x = 'is_MDS'\n",
    "y = 'Fees'\n",
    "ax = sns.barplot(x,y,data=df_new)\n",
    "k=0\n",
    "for i in ax.patches:\n",
    "    h = round(i.get_height(),0)\n",
    "    plt.text(k,h/2,h,ha='center',va='center',fontweight='bold',rotation=90)\n",
    "    k += 1\n",
    "plt.title(f\"Relationship between {x} vs {y}\")\n",
    "plt.xticks(ticks=range(len(le[x].classes_)),labels=le[x].classes_,rotation=90)\n",
    "plt.show()"
   ]
  },
  {
   "cell_type": "markdown",
   "metadata": {},
   "source": [
    "### Remarks:\n",
    "- Doctors with MDS has lowest fees as compared to others with no MDS."
   ]
  },
  {
   "cell_type": "code",
   "execution_count": 47,
   "metadata": {},
   "outputs": [
    {
     "data": {
      "image/png": "[encoded data removed]",
      "text/plain": [
       "<Figure size 432x288 with 1 Axes>"
      ]
     },
     "metadata": {
      "needs_background": "light"
     },
     "output_type": "display_data"
    }
   ],
   "source": [
    "#Checking relationship between is_MBBS and Fees\n",
    "x = 'is_MBBS'\n",
    "y = 'Fees'\n",
    "ax = sns.barplot(x,y,data=df_new)\n",
    "k=0\n",
    "for i in ax.patches:\n",
    "    h = round(i.get_height(),0)\n",
    "    plt.text(k,h/2,h,ha='center',va='center',fontweight='bold',rotation=90)\n",
    "    k += 1\n",
    "plt.title(f\"Relationship between {x} vs {y}\")\n",
    "plt.xticks(ticks=range(len(le[x].classes_)),labels=le[x].classes_,rotation=90)\n",
    "plt.show()"
   ]
  },
  {
   "cell_type": "markdown",
   "metadata": {},
   "source": [
    "### Remarks:\n",
    "- Doctors with MBBS has highest fees as compared to others with no MBBS."
   ]
  },
  {
   "cell_type": "code",
   "execution_count": 48,
   "metadata": {},
   "outputs": [
    {
     "data": {
      "image/png": "[encoded data removed]",
      "text/plain": [
       "<Figure size 432x288 with 1 Axes>"
      ]
     },
     "metadata": {
      "needs_background": "light"
     },
     "output_type": "display_data"
    }
   ],
   "source": [
    "#Checking relationship between is_BDS and Fees\n",
    "x = 'is_BDS'\n",
    "y = 'Fees'\n",
    "ax = sns.barplot(x,y,data=df_new)\n",
    "k=0\n",
    "for i in ax.patches:\n",
    "    h = round(i.get_height(),0)\n",
    "    plt.text(k,h/2,h,ha='center',va='center',fontweight='bold',rotation=90)\n",
    "    k += 1\n",
    "plt.title(f\"Relationship between {x} vs {y}\")\n",
    "plt.xticks(ticks=range(len(le[x].classes_)),labels=le[x].classes_,rotation=90)\n",
    "plt.show()"
   ]
  },
  {
   "cell_type": "markdown",
   "metadata": {},
   "source": [
    "### Remarks:\n",
    "- Doctors with BDS has lowest fees as compared to others with no BDS."
   ]
  },
  {
   "cell_type": "code",
   "execution_count": 49,
   "metadata": {},
   "outputs": [
    {
     "data": {
      "image/png": "[encoded data removed]",
      "text/plain": [
       "<Figure size 432x288 with 1 Axes>"
      ]
     },
     "metadata": {
      "needs_background": "light"
     },
     "output_type": "display_data"
    }
   ],
   "source": [
    "#Checking relationship between is_BAMS and Fees\n",
    "x = 'is_BAMS'\n",
    "y = 'Fees'\n",
    "ax = sns.barplot(x,y,data=df_new)\n",
    "k=0\n",
    "for i in ax.patches:\n",
    "    h = round(i.get_height(),0)\n",
    "    plt.text(k,h/2,h,ha='center',va='center',fontweight='bold',rotation=90)\n",
    "    k += 1\n",
    "plt.title(f\"Relationship between {x} vs {y}\")\n",
    "plt.xticks(ticks=range(len(le[x].classes_)),labels=le[x].classes_,rotation=90)\n",
    "plt.show()"
   ]
  },
  {
   "cell_type": "markdown",
   "metadata": {},
   "source": [
    "### Remarks:\n",
    "- Doctors with BAMS has lowest fees as compared to others with no BAMS."
   ]
  },
  {
   "cell_type": "code",
   "execution_count": 50,
   "metadata": {},
   "outputs": [
    {
     "data": {
      "image/png": "[encoded data removed]",
      "text/plain": [
       "<Figure size 432x288 with 1 Axes>"
      ]
     },
     "metadata": {
      "needs_background": "light"
     },
     "output_type": "display_data"
    }
   ],
   "source": [
    "#Checking relationship between is_BHMS and Fees\n",
    "x = 'is_BHMS'\n",
    "y = 'Fees'\n",
    "ax = sns.barplot(x,y,data=df_new)\n",
    "k=0\n",
    "for i in ax.patches:\n",
    "    h = round(i.get_height(),0)\n",
    "    plt.text(k,h/2,h,ha='center',va='center',fontweight='bold',rotation=90)\n",
    "    k += 1\n",
    "plt.title(f\"Relationship between {x} vs {y}\")\n",
    "plt.xticks(ticks=range(len(le[x].classes_)),labels=le[x].classes_,rotation=90)\n",
    "plt.show()"
   ]
  },
  {
   "cell_type": "markdown",
   "metadata": {},
   "source": [
    "### Remarks:\n",
    "- Doctors with BHMS has highest fees as compared to others with no BHMS."
   ]
  },
  {
   "cell_type": "code",
   "execution_count": 51,
   "metadata": {},
   "outputs": [
    {
     "data": {
      "image/png": "[encoded data removed]",
      "text/plain": [
       "<Figure size 432x288 with 1 Axes>"
      ]
     },
     "metadata": {
      "needs_background": "light"
     },
     "output_type": "display_data"
    }
   ],
   "source": [
    "#Checking relationship between is_DNB and Fees\n",
    "x = 'is_DNB'\n",
    "y = 'Fees'\n",
    "ax = sns.barplot(x,y,data=df_new)\n",
    "k=0\n",
    "for i in ax.patches:\n",
    "    h = round(i.get_height(),0)\n",
    "    plt.text(k,h/2,h,ha='center',va='center',fontweight='bold',rotation=90)\n",
    "    k += 1\n",
    "plt.title(f\"Relationship between {x} vs {y}\")\n",
    "plt.xticks(ticks=range(len(le[x].classes_)),labels=le[x].classes_,rotation=90)\n",
    "plt.show()"
   ]
  },
  {
   "cell_type": "markdown",
   "metadata": {},
   "source": [
    "### Remarks:\n",
    "- Doctors with DNB has highest fees as compared to others with no DNB."
   ]
  },
  {
   "cell_type": "code",
   "execution_count": 52,
   "metadata": {},
   "outputs": [
    {
     "data": {
      "image/png": "[encoded data removed]",
      "text/plain": [
       "<Figure size 432x288 with 1 Axes>"
      ]
     },
     "metadata": {
      "needs_background": "light"
     },
     "output_type": "display_data"
    }
   ],
   "source": [
    "#Checking relationship between is_Diploma and Fees\n",
    "x = 'is_Diploma'\n",
    "y = 'Fees'\n",
    "ax = sns.barplot(x,y,data=df_new)\n",
    "k=0\n",
    "for i in ax.patches:\n",
    "    h = round(i.get_height(),0)\n",
    "    plt.text(k,h/2,h,ha='center',va='center',fontweight='bold',rotation=90)\n",
    "    k += 1\n",
    "plt.title(f\"Relationship between {x} vs {y}\")\n",
    "plt.xticks(ticks=range(len(le[x].classes_)),labels=le[x].classes_,rotation=90)\n",
    "plt.show()"
   ]
  },
  {
   "cell_type": "markdown",
   "metadata": {},
   "source": [
    "### Remarks:\n",
    "- Doctors with Diploma has highest fees as compared to others with no Diploma."
   ]
  },
  {
   "cell_type": "code",
   "execution_count": 53,
   "metadata": {},
   "outputs": [
    {
     "data": {
      "image/png": "[encoded data removed]",
      "text/plain": [
       "<Figure size 432x288 with 1 Axes>"
      ]
     },
     "metadata": {
      "needs_background": "light"
     },
     "output_type": "display_data"
    }
   ],
   "source": [
    "#Checking relationship between is_BSc and Fees\n",
    "x = 'is_BSc'\n",
    "y = 'Fees'\n",
    "ax = sns.barplot(x,y,data=df_new)\n",
    "k=0\n",
    "for i in ax.patches:\n",
    "    h = round(i.get_height(),0)\n",
    "    plt.text(k,h/2,h,ha='center',va='center',fontweight='bold',rotation=90)\n",
    "    k += 1\n",
    "plt.title(f\"Relationship between {x} vs {y}\")\n",
    "plt.xticks(ticks=range(len(le[x].classes_)),labels=le[x].classes_,rotation=90)\n",
    "plt.show()"
   ]
  },
  {
   "cell_type": "markdown",
   "metadata": {},
   "source": [
    "### Remarks:\n",
    "- Doctors with BSc has lowest fees as compared to others with no BSc."
   ]
  },
  {
   "cell_type": "code",
   "execution_count": 54,
   "metadata": {},
   "outputs": [
    {
     "data": {
      "image/png": "[encoded data removed]",
      "text/plain": [
       "<Figure size 432x288 with 1 Axes>"
      ]
     },
     "metadata": {
      "needs_background": "light"
     },
     "output_type": "display_data"
    }
   ],
   "source": [
    "#Checking relationship between city_Place and Fees\n",
    "x = 'city_Place'\n",
    "y = 'Fees'\n",
    "ax = sns.barplot(x,y,data=df_new)\n",
    "k=0\n",
    "for i in ax.patches:\n",
    "    h = round(i.get_height(),0)\n",
    "    plt.text(k,h/2,h,ha='center',va='center',fontweight='bold',rotation=90)\n",
    "    k += 1\n",
    "plt.title(f\"Relationship between {x} vs {y}\")\n",
    "plt.xticks(ticks=range(len(le[x].classes_)),labels=le[x].classes_,rotation=90)\n",
    "plt.show()"
   ]
  },
  {
   "cell_type": "markdown",
   "metadata": {},
   "source": [
    "### Remarks:\n",
    "- Doctors in Delhi has higher fees while in Coimbatore has lower fees.\n",
    "- Majority of high fees doctors are among Bangalore, Chennai, Delhi, Hyderabad and Mumbai."
   ]
  },
  {
   "cell_type": "code",
   "execution_count": 55,
   "metadata": {},
   "outputs": [
    {
     "data": {
      "image/png": "[encoded data removed]",
      "text/plain": [
       "<Figure size 432x288 with 1 Axes>"
      ]
     },
     "metadata": {
      "needs_background": "light"
     },
     "output_type": "display_data"
    }
   ],
   "source": [
    "#Checking relationship between n_Experience and Fees\n",
    "x = 'n_Experience'\n",
    "y = 'Fees'\n",
    "\n",
    "sns.lineplot(x,y,data=df_new)\n",
    "plt.title(f\"Relationship between {x} vs {y}\")\n",
    "plt.show()"
   ]
  },
  {
   "cell_type": "markdown",
   "metadata": {},
   "source": [
    "### Remarks:\n",
    "- Fess increases from 0 to 33 years and then decreases from 34 to 60 years."
   ]
  },
  {
   "cell_type": "code",
   "execution_count": 56,
   "metadata": {},
   "outputs": [
    {
     "data": {
      "image/png": "[encoded data removed]",
      "text/plain": [
       "<Figure size 432x288 with 1 Axes>"
      ]
     },
     "metadata": {
      "needs_background": "light"
     },
     "output_type": "display_data"
    }
   ],
   "source": [
    "#Checking relationship between n_Rating and Fees\n",
    "x = 'n_Rating'\n",
    "y = 'Fees'\n",
    "\n",
    "sns.lineplot(x,y,data=df_new)\n",
    "plt.title(f\"Relationship between {x} vs {y}\")\n",
    "plt.show()"
   ]
  },
  {
   "cell_type": "markdown",
   "metadata": {},
   "source": [
    "### Remarks:\n",
    "- Fess increases from 0 to 50 rating and then starts decreasing as rating increases."
   ]
  },
  {
   "cell_type": "code",
   "execution_count": 57,
   "metadata": {},
   "outputs": [
    {
     "data": {
      "image/png": "[encoded data removed]",
      "text/plain": [
       "<Figure size 432x288 with 1 Axes>"
      ]
     },
     "metadata": {
      "needs_background": "light"
     },
     "output_type": "display_data"
    }
   ],
   "source": [
    "#Checking relationship between n_Feedback and Fees\n",
    "x = 'n_Feedback'\n",
    "y = 'Fees'\n",
    "\n",
    "sns.lineplot(x,y,data=df_new)\n",
    "plt.title(f\"Relationship between {x} vs {y}\")\n",
    "plt.show()"
   ]
  },
  {
   "cell_type": "markdown",
   "metadata": {},
   "source": [
    "### Remarks:\n",
    "- As feeback increase, fees tends to remain between 250 to 500."
   ]
  },
  {
   "cell_type": "code",
   "execution_count": 58,
   "metadata": {},
   "outputs": [
    {
     "data": {
      "image/png": "[encoded data removed]",
      "text/plain": [
       "<Figure size 432x288 with 1 Axes>"
      ]
     },
     "metadata": {
      "needs_background": "light"
     },
     "output_type": "display_data"
    }
   ],
   "source": [
    "#Checking relationship between n_Feedback and Fees\n",
    "x = 'area_Place'\n",
    "y = 'Fees'\n",
    "\n",
    "sns.scatterplot(x,y,data=df_new)\n",
    "plt.title(f\"Relationship between {x} vs {y}\")\n",
    "plt.show()"
   ]
  },
  {
   "cell_type": "markdown",
   "metadata": {},
   "source": [
    "### Remarks:\n",
    "- In most of area, fees lies between 100 to 800."
   ]
  },
  {
   "cell_type": "markdown",
   "metadata": {},
   "source": [
    "# Multivariate Analysis"
   ]
  },
  {
   "cell_type": "code",
   "execution_count": 59,
   "metadata": {},
   "outputs": [
    {
     "data": {
      "image/png": "[encoded data removed]",
      "text/plain": [
       "<Figure size 936x648 with 2 Axes>"
      ]
     },
     "metadata": {
      "needs_background": "light"
     },
     "output_type": "display_data"
    }
   ],
   "source": [
    "#Checking correlation of features and interpreting them using heatmap\n",
    "df_corr = df_new.corr()\n",
    "plt.figure(figsize=(13,9))\n",
    "sns.heatmap(df_corr,annot=True,fmt='.2f')\n",
    "plt.title(\"Correlation of Features\")\n",
    "plt.show()"
   ]
  },
  {
   "cell_type": "markdown",
   "metadata": {},
   "source": [
    "### Remarks:\n",
    "- Feature n_Rating, is_DNB, is_MBBS, is_MS and Profile has good correlation with Fees while others have weak correlation."
   ]
  },
  {
   "cell_type": "code",
   "execution_count": 60,
   "metadata": {},
   "outputs": [
    {
     "data": {
      "image/png": "[encoded data removed]",
      "text/plain": [
       "<Figure size 432x288 with 1 Axes>"
      ]
     },
     "metadata": {
      "needs_background": "light"
     },
     "output_type": "display_data"
    }
   ],
   "source": [
    "#Checking correlation of feature w.r.t Fees using barplot\n",
    "df_corr['Fees'].sort_values(ascending=False).drop('Fees').plot.bar()\n",
    "plt.title(\"Correlation of Features w.r.t. Fees\")\n",
    "plt.show()"
   ]
  },
  {
   "cell_type": "markdown",
   "metadata": {},
   "source": [
    "### Remarks:\n",
    "- From feature n_Rating to n_Experience, are positively correlated while from is_BAMS to is_MDS are negatively correlated to Fees."
   ]
  },
  {
   "cell_type": "markdown",
   "metadata": {},
   "source": [
    "# Preparing Data for Model"
   ]
  },
  {
   "cell_type": "code",
   "execution_count": 61,
   "metadata": {},
   "outputs": [],
   "source": [
    "from scipy.stats import zscore\n",
    "from sklearn.preprocessing import StandardScaler, power_transform"
   ]
  },
  {
   "cell_type": "markdown",
   "metadata": {},
   "source": [
    "## 1. Removing Outliers"
   ]
  },
  {
   "cell_type": "code",
   "execution_count": 62,
   "metadata": {},
   "outputs": [
    {
     "data": {
      "text/plain": [
       "(array([   3,    9,   10,   14,   17,   20,   21,   38,   49,   58,  105,\n",
       "         110,  138,  140,  147,  169,  173,  183,  204,  222,  228,  243,\n",
       "         252,  257,  262,  275,  276,  280,  284,  293,  293,  315,  325,\n",
       "         329,  345,  372,  417,  425,  437,  445,  449,  450,  454,  463,\n",
       "         472,  488,  530,  548,  548,  560,  574,  595,  631,  654,  680,\n",
       "         698,  713,  731,  751,  754,  756,  757,  770,  774,  777,  786,\n",
       "         798,  820,  820,  837,  849,  855,  878,  882,  890,  901,  942,\n",
       "         961,  987,  987, 1009, 1017, 1022, 1027, 1034, 1063, 1067, 1092,\n",
       "        1098, 1108, 1111, 1141, 1150, 1152, 1165, 1178, 1186, 1189, 1204,\n",
       "        1250, 1252, 1259, 1263, 1275, 1298, 1300, 1303, 1314, 1323, 1325,\n",
       "        1327, 1335, 1338, 1350, 1358, 1375, 1419, 1423, 1426, 1427, 1469,\n",
       "        1475, 1477, 1479, 1491, 1492, 1534, 1536, 1556, 1566, 1570, 1583,\n",
       "        1587, 1599, 1612, 1620, 1631, 1652, 1656, 1674, 1705, 1708, 1724,\n",
       "        1728, 1755, 1768, 1770, 1777, 1780, 1781, 1796, 1802, 1817, 1820,\n",
       "        1838, 1843, 1860, 1881, 1883, 1884, 1885, 1891, 1931, 1958, 1971,\n",
       "        1979, 1981, 1987, 2018, 2023, 2025, 2044, 2057, 2062, 2073, 2080,\n",
       "        2101, 2110, 2118, 2136, 2138, 2148, 2160, 2165, 2196, 2202, 2208,\n",
       "        2217, 2230, 2231, 2250, 2252, 2262, 2265, 2269, 2279, 2281, 2291,\n",
       "        2301, 2309, 2325, 2329, 2333, 2351, 2366, 2380, 2387, 2393, 2399,\n",
       "        2411, 2425, 2428, 2439, 2444, 2451, 2482, 2488, 2493, 2496, 2504,\n",
       "        2505, 2506, 2509, 2520, 2522, 2529, 2533, 2541, 2545, 2553, 2554,\n",
       "        2567, 2569, 2582, 2583, 2586, 2590, 2609, 2612, 2617, 2623, 2630,\n",
       "        2631, 2649, 2650, 2708, 2716, 2726, 2760, 2778, 2804, 2805, 2809,\n",
       "        2824, 2826, 2841, 2847, 2851, 2859, 2880, 2881, 2884, 2893, 2899,\n",
       "        2910, 2926, 2929, 2930, 2949, 2953, 2956, 2958, 2974, 2986, 2990,\n",
       "        3002, 3023, 3031, 3042, 3058, 3078, 3085, 3090, 3105, 3113, 3167,\n",
       "        3180, 3181, 3185, 3188, 3191, 3191, 3194, 3197, 3202, 3204, 3205,\n",
       "        3219, 3233, 3258, 3270, 3287, 3288, 3304, 3309, 3324, 3332, 3356,\n",
       "        3365, 3381, 3392, 3405, 3425, 3426, 3427, 3431, 3454, 3457, 3459,\n",
       "        3472, 3472, 3473, 3478, 3493, 3512, 3527, 3531, 3542, 3544, 3601,\n",
       "        3605, 3608, 3611, 3620, 3628, 3633, 3635, 3652, 3655, 3658, 3662,\n",
       "        3684, 3685, 3701, 3710, 3712, 3718, 3748, 3753, 3758, 3771, 3791,\n",
       "        3803, 3814, 3817, 3829, 3840, 3869, 3879, 3887, 3905, 3907, 3921,\n",
       "        3932, 3938, 3942, 3950, 3959, 3960, 3966, 3998, 4002, 4010, 4019,\n",
       "        4020, 4040, 4043, 4045, 4148, 4167, 4172, 4174, 4183, 4191, 4199,\n",
       "        4201, 4212, 4214, 4220, 4234, 4251, 4257, 4284, 4296, 4297, 4344,\n",
       "        4357, 4360, 4378, 4379, 4384, 4402, 4419, 4429, 4437, 4440, 4444,\n",
       "        4452, 4454, 4478, 4490, 4496, 4505, 4540, 4549, 4554, 4564, 4568,\n",
       "        4579, 4581, 4603, 4630, 4633, 4637, 4638, 4640, 4650, 4650, 4653,\n",
       "        4667, 4680, 4686, 4688, 4697, 4706, 4709, 4727, 4730, 4730, 4738,\n",
       "        4747, 4763, 4766, 4775, 4777, 4815, 4819, 4831, 4834, 4835, 4835,\n",
       "        4845, 4851, 4861, 4892, 4913, 4916, 4927, 4944, 4954, 4960, 4992,\n",
       "        4995, 4999, 5010, 5027, 5045, 5047, 5071, 5074, 5077, 5094, 5097,\n",
       "        5098, 5113, 5116, 5128, 5152, 5158, 5158, 5160, 5176, 5181, 5189,\n",
       "        5195, 5198, 5202, 5213, 5233, 5234, 5250, 5255, 5255, 5265, 5272,\n",
       "        5277, 5307, 5311, 5339, 5346, 5378, 5379, 5386, 5410, 5417, 5422,\n",
       "        5431, 5435, 5445, 5451, 5459, 5476, 5478, 5484, 5496, 5503, 5503,\n",
       "        5506, 5516, 5520, 5534, 5537, 5544, 5546, 5558, 5579, 5587, 5593,\n",
       "        5621, 5628, 5629, 5630, 5637, 5646, 5651, 5664, 5673, 5684, 5693,\n",
       "        5695, 5706, 5706, 5720, 5733, 5760, 5775, 5781, 5791, 5797, 5807,\n",
       "        5820, 5835, 5857, 5865, 5873, 5878, 5879, 5882, 5886, 5895, 5898,\n",
       "        5901, 5912, 5913, 5914, 5919, 5942, 5953], dtype=int64),\n",
       " array([12, 12, 10, 10,  4, 10, 10, 10,  4, 10, 13, 13, 10, 10, 10, 10, 10,\n",
       "        13, 10, 10, 10, 10, 10, 10, 10,  1, 10,  4, 10,  1, 17, 10, 13, 10,\n",
       "        10, 13, 10, 17, 10, 10, 10, 10, 10, 10, 10,  4, 10, 10, 17, 10, 10,\n",
       "        10, 10, 10, 10, 12, 17, 10, 10, 17, 10, 17, 10, 10, 10, 17, 17, 10,\n",
       "        17, 17, 10, 10, 10, 10, 10, 13, 10, 10,  1, 10, 13, 10, 10, 10, 10,\n",
       "        10, 10,  4, 10, 10, 13, 10, 10, 10, 10, 10, 10, 10, 12, 10, 10, 10,\n",
       "        10, 10, 10, 10, 10,  1, 10, 17, 17, 10, 10, 10, 10, 10, 10, 10, 10,\n",
       "        10, 10, 10, 10, 10, 10, 17, 10, 10, 10, 10, 12, 10, 10, 10, 10, 10,\n",
       "         1, 10, 10, 10, 10, 10, 10, 10, 17, 10, 17, 17, 10, 10, 10, 10, 17,\n",
       "        10, 10, 10, 13, 10, 10, 10, 10, 10, 10, 10, 10, 10, 13, 10, 17, 13,\n",
       "        17, 12, 10, 13, 10, 10, 10, 10, 10, 10, 10, 10, 10,  1, 10, 13, 10,\n",
       "        10, 17, 10, 10,  1, 13, 10, 10, 10, 13, 10, 10, 10, 10, 10, 10,  4,\n",
       "        10, 10, 10,  1, 10, 10, 10,  1, 10, 17, 10, 10, 10, 10, 10, 10, 17,\n",
       "        10, 10, 10,  1, 10, 10, 10, 10, 10, 10, 10, 10, 10, 10, 17, 17, 10,\n",
       "        10, 10,  1, 10, 13, 10, 10,  1, 10, 10, 10, 10, 17, 10, 10, 10, 10,\n",
       "        10, 10, 12, 10, 17, 10, 10, 10, 17, 17, 10, 10, 10, 10, 10, 10, 10,\n",
       "        10, 10, 12, 17, 17, 10, 17, 10, 10, 10, 10, 10, 10,  4, 13, 10, 10,\n",
       "        10, 10, 17, 17, 10, 10, 10, 10, 10, 10,  4, 10, 10, 10, 10, 10, 10,\n",
       "        17, 10,  1, 10, 10, 10, 10, 10, 10, 10, 10, 10, 10, 10, 17, 12, 13,\n",
       "        13, 10, 10, 10, 17, 17, 10, 10, 13, 10, 10, 10, 10, 10, 10, 10, 10,\n",
       "        17, 10, 10, 10, 10, 10, 10, 10, 10, 10, 17, 10, 10, 10, 10, 10, 10,\n",
       "        10, 10, 12, 10, 10, 17, 10, 10, 13, 10, 10, 13, 10, 10, 10, 10, 10,\n",
       "        17,  1, 10, 10, 10, 13, 10, 10, 17, 17, 10, 10, 13, 17, 17, 10, 10,\n",
       "        13, 10, 10, 10, 13, 10, 10, 10, 12, 10, 10, 10, 10, 10, 10, 10, 10,\n",
       "        10, 10, 10, 10, 10, 10, 10, 10, 10, 10, 10,  1, 10, 17, 10, 10, 10,\n",
       "        10,  4, 10, 12, 10, 10, 10, 10, 10, 17, 10, 10,  1, 10, 12, 17, 13,\n",
       "        10, 13, 10, 17, 12, 17, 10,  1, 10, 10, 10, 17, 10, 17, 10, 10, 10,\n",
       "        10, 17, 17, 10, 10, 10, 10, 10, 10, 17, 10, 10, 10, 10, 10, 10, 12,\n",
       "        17, 10, 10, 17, 10, 17, 10, 10,  1, 10, 10, 10, 12, 17,  1, 10, 17,\n",
       "        13, 10, 13, 12,  1, 17, 17, 10, 10, 17, 13, 17, 13, 17, 10, 10, 10,\n",
       "        17, 10, 10, 10, 10, 10, 17, 10, 10, 10, 10, 10, 10, 17, 10, 10, 13,\n",
       "        17, 10, 10, 10, 17, 13, 10,  4, 13, 10, 17, 10, 12, 10, 17, 13, 10,\n",
       "        10, 10, 10, 10, 10, 13, 10, 10, 10, 10, 10, 17, 10, 10, 10, 10, 10,\n",
       "        17, 10, 10, 10, 10, 13, 17], dtype=int64))"
      ]
     },
     "execution_count": 62,
     "metadata": {},
     "output_type": "execute_result"
    }
   ],
   "source": [
    "#Checking outlier using zscore (threshold -3 to +3)\n",
    "z = np.abs(zscore(df_new))\n",
    "\n",
    "#Printing location of outliers\n",
    "np.where(z>3)"
   ]
  },
  {
   "cell_type": "code",
   "execution_count": 63,
   "metadata": {},
   "outputs": [
    {
     "name": "stdout",
     "output_type": "stream",
     "text": [
      "Original Shape: (5961, 18)\n",
      "New Shape: (5406, 18)\n",
      "% Loss: 9.310518369401107%\n"
     ]
    }
   ],
   "source": [
    "#Removing outliers\n",
    "df_wo = df_new[(z<=3).all(axis=1)]\n",
    "\n",
    "print(f\"Original Shape: {df_new.shape}\")\n",
    "print(f\"New Shape: {df_wo.shape}\")\n",
    "print(f\"% Loss: {(len(df_new)-len(df_wo))*100/len(df_new)}%\")"
   ]
  },
  {
   "cell_type": "markdown",
   "metadata": {},
   "source": [
    "### Remarks:\n",
    "- Since, the % Loss of data is more than 5, therefore, discarding the dataset without outliers and proceeding with original data."
   ]
  },
  {
   "cell_type": "markdown",
   "metadata": {},
   "source": [
    "## 2. Skewness"
   ]
  },
  {
   "cell_type": "code",
   "execution_count": 64,
   "metadata": {},
   "outputs": [
    {
     "data": {
      "text/plain": [
       "Fees             0.751870\n",
       "n_Experience     0.991089\n",
       "n_Rating         0.247186\n",
       "n_Feedback      15.552419\n",
       "dtype: float64"
      ]
     },
     "execution_count": 64,
     "metadata": {},
     "output_type": "execute_result"
    }
   ],
   "source": [
    "#Checking skewness in continueous data\n",
    "con_feature = df_new.columns[df_new.dtypes != 'int32']\n",
    "df_new[con_feature].skew()"
   ]
  },
  {
   "cell_type": "markdown",
   "metadata": {},
   "source": [
    "### Remarks:\n",
    "- Feature n_Experience and n_Feedback has skewed data and needs to be treated."
   ]
  },
  {
   "cell_type": "code",
   "execution_count": 65,
   "metadata": {},
   "outputs": [
    {
     "data": {
      "text/plain": [
       "Fees            0.751870\n",
       "n_Experience    0.000692\n",
       "n_Rating        0.247186\n",
       "n_Feedback      1.135436\n",
       "dtype: float64"
      ]
     },
     "execution_count": 65,
     "metadata": {},
     "output_type": "execute_result"
    }
   ],
   "source": [
    "#Removing skewness using power_transform\n",
    "df_t = df_new.copy()\n",
    "for i in con_feature:\n",
    "    if np.abs(df_t[i].skew())>0.8:\n",
    "        df_t[i] = power_transform(np.array(df_new[i]).reshape(-1,1))\n",
    "        \n",
    "#Re-Checking skewness\n",
    "df_t[con_feature].skew()"
   ]
  },
  {
   "cell_type": "markdown",
   "metadata": {},
   "source": [
    "## 3. Seperating Input and Output/Target Variables"
   ]
  },
  {
   "cell_type": "code",
   "execution_count": 66,
   "metadata": {},
   "outputs": [
    {
     "name": "stdout",
     "output_type": "stream",
     "text": [
      "(5961, 17)\n",
      "(5961,)\n"
     ]
    }
   ],
   "source": [
    "x = df_t.drop(columns=['Fees']) #Input Variables\n",
    "y = df_t['Fees'] #Output/Target Variable\n",
    "\n",
    "print(x.shape)\n",
    "print(y.shape)"
   ]
  },
  {
   "cell_type": "markdown",
   "metadata": {},
   "source": [
    "## 4. Scaling Data for Model"
   ]
  },
  {
   "cell_type": "code",
   "execution_count": 67,
   "metadata": {},
   "outputs": [],
   "source": [
    "#Scaling data for model using StandardScaler\n",
    "sc = StandardScaler()\n",
    "scaled_x = x.copy()\n",
    "#scaling contineous data\n",
    "for i in x:\n",
    "    if x[i].dtypes == 'int64':\n",
    "        scaled_x[i] = sc.fit_transform(np.array(x[i]).reshape(-1,1))\n",
    "        "
   ]
  },
  {
   "cell_type": "markdown",
   "metadata": {},
   "source": [
    "# Finding Best Model"
   ]
  },
  {
   "cell_type": "code",
   "execution_count": 68,
   "metadata": {},
   "outputs": [],
   "source": [
    "from sklearn.model_selection import train_test_split, GridSearchCV, cross_val_score\n",
    "from sklearn.metrics import r2_score, mean_squared_error, mean_absolute_error"
   ]
  },
  {
   "cell_type": "code",
   "execution_count": 69,
   "metadata": {},
   "outputs": [],
   "source": [
    "import timeit\n",
    "#Defining function for best random state\n",
    "def get_best_rstate(r,model,x,y,test_size=0.25):\n",
    "    best_rState = 0\n",
    "    best_mScore = 0\n",
    "    for i in r:\n",
    "        x_train,x_test,y_train,y_test = train_test_split(x,y,test_size=test_size,random_state=i)\n",
    "        \n",
    "        model.fit(x_train,y_train)\n",
    "        predict_y = model.predict(x_test)\n",
    "        \n",
    "        temp_r2Score = r2_score(y_test,predict_y)\n",
    "        if temp_r2Score>best_mScore:\n",
    "            best_mScore = temp_r2Score\n",
    "            best_rState = i\n",
    "            \n",
    "    return best_rState,best_mScore\n",
    "\n",
    "\n",
    "#Defining function for best CV\n",
    "def get_best_cv(model,parameters,x_train,y_train,r=range(2,20)):\n",
    "    best_cv = 0\n",
    "    best_cvScore = 0\n",
    "    for i in r:\n",
    "        gscv = GridSearchCV(model,parameters)\n",
    "        gscv.fit(x_train,y_train)\n",
    "        \n",
    "        temp_cvScore = cross_val_score(gscv.best_estimator_,x_train,y_train,cv=i).mean()\n",
    "        \n",
    "        if i == 2:\n",
    "            best_cvScore = temp_cvScore\n",
    "            best_cv = i\n",
    "            \n",
    "        if temp_cvScore>best_cvScore:\n",
    "            best_cvScore = temp_cvScore\n",
    "            best_cv = i\n",
    "          \n",
    "    return best_cv,best_cvScore\n",
    "\n",
    "#Defining function for building models\n",
    "def build_model(models,x,y,r_range=range(100),t_size=0.25,cv_range=range(2,20)):\n",
    "    for i in models:\n",
    "        print(f\"Processing {i}...\")\n",
    "        \n",
    "        #Start time\n",
    "        start_time = timeit.default_timer()\n",
    "        \n",
    "        #Finding the best random_state for train test split\n",
    "        best_rState, best_mScore = get_best_rstate(r_range,models[i][\"name\"],x,y)\n",
    "        \n",
    "        #Splitting train test data with best random_state\n",
    "        x_train,x_test,y_train,y_test = train_test_split(x,y,test_size=t_size,random_state=best_rState)\n",
    "        \n",
    "        #Hypertuning Parameters\n",
    "        #Finding best CV\n",
    "        best_cv, best_cvScore = get_best_cv(models[i][\"name\"],models[i][\"parameters\"],x_train,y_train,cv_range)\n",
    "        \n",
    "        #Building final model with hypertuned parameters\n",
    "        gscv = GridSearchCV(models[i][\"name\"],models[i][\"parameters\"],cv=best_cv)\n",
    "        gscv.fit(x_train,y_train)\n",
    "        \n",
    "        #End time\n",
    "        end_time = timeit.default_timer()\n",
    "        \n",
    "        #Checking Final Performance of the model\n",
    "        predict_y = gscv.best_estimator_.predict(x_test)\n",
    "        \n",
    "        r2Score = r2_score(y_test,predict_y)\n",
    "        mse = mean_squared_error(y_test,predict_y)\n",
    "        mae = mean_absolute_error(y_test,predict_y)\n",
    "        \n",
    "        #Storing metrics\n",
    "        models[i]['initial_r2_score'] = best_mScore\n",
    "        models[i]['r2_score'] = r2Score\n",
    "        models[i]['mse'] = mse\n",
    "        models[i]['mae'] = mae\n",
    "        models[i]['rmse'] = np.sqrt(mse)\n",
    "        \n",
    "        #Storing model specs.\n",
    "        models[i][\"random_state\"] = best_rState\n",
    "        models[i][\"x_train\"] = x_train\n",
    "        models[i][\"x_test\"] = x_test\n",
    "        models[i][\"y_train\"] = y_train\n",
    "        models[i][\"y_test\"] = y_test\n",
    "        models[i][\"cv\"] = best_cv\n",
    "        models[i][\"cross_val_score\"] = best_cvScore\n",
    "        models[i][\"gscv\"] = gscv\n",
    "        models[i][\"predict_y\"] = predict_y\n",
    "        models[i][\"build_time\"] = end_time - start_time\n",
    "        \n",
    "        print(f\"\\tCompleted: [in {end_time-start_time}s]\\n\")\n",
    "    return models;"
   ]
  },
  {
   "cell_type": "markdown",
   "metadata": {},
   "source": [
    "## Preparing Model List and Testing to get Best Model"
   ]
  },
  {
   "cell_type": "code",
   "execution_count": 70,
   "metadata": {},
   "outputs": [],
   "source": [
    "import warnings\n",
    "warnings.simplefilter('ignore')\n",
    "from sklearn.linear_model import LinearRegression, Lasso\n",
    "from sklearn.tree import DecisionTreeRegressor\n",
    "from sklearn.neighbors import KNeighborsRegressor\n",
    "\n",
    "#Preparing List of Models with parameters\n",
    "models = {\n",
    "    \"LinearRegression\":{\n",
    "        \"name\": LinearRegression(),\n",
    "        \"parameters\":{\n",
    "            \"fit_intercept\": [True,False],\n",
    "            \"normalize\": [True,False]\n",
    "        }\n",
    "    },\n",
    "    \"Lasso\":{\n",
    "        \"name\": Lasso(),\n",
    "        \"parameters\":{\n",
    "            \"alpha\": [0.0001,0.001],\n",
    "            \"fit_intercept\": [True,False],\n",
    "            \"selection\": ['cyclic','random']\n",
    "        }\n",
    "    },\n",
    "    \"DecisionTreeRegressor\":{\n",
    "        \"name\": DecisionTreeRegressor(),\n",
    "        \"parameters\":{\n",
    "            \"criterion\": ['mse','friedman_mse'],\n",
    "            \"splitter\": ['best','random']\n",
    "        }\n",
    "    },\n",
    "    \"KNeighborsRegressor\":{\n",
    "        \"name\": KNeighborsRegressor(),\n",
    "        \"parameters\":{\n",
    "            \"weights\": ['uniform','distance'],\n",
    "            \"algorithm\": ['ball_tree','kd_tree','brute']\n",
    "        }\n",
    "    }\n",
    "}"
   ]
  },
  {
   "cell_type": "code",
   "execution_count": 71,
   "metadata": {},
   "outputs": [
    {
     "name": "stdout",
     "output_type": "stream",
     "text": [
      "Processing LinearRegression...\n",
      "\tCompleted: [in 12.527491800000007s]\n",
      "\n",
      "Processing Lasso...\n",
      "\tCompleted: [in 52.950614200000004s]\n",
      "\n",
      "Processing DecisionTreeRegressor...\n",
      "\tCompleted: [in 29.419438999999997s]\n",
      "\n",
      "Processing KNeighborsRegressor...\n",
      "\tCompleted: [in 77.31575179999999s]\n",
      "\n"
     ]
    }
   ],
   "source": [
    "#Building and Testing models\n",
    "build_models = build_model(models,scaled_x,y)"
   ]
  },
  {
   "cell_type": "code",
   "execution_count": 72,
   "metadata": {},
   "outputs": [
    {
     "name": "stdout",
     "output_type": "stream",
     "text": [
      "START: LinearRegression\n",
      "\n",
      "\tBest random_state: 27 with best r2_score: 0.1838401597088426\n",
      "\n",
      "\tBest CV: 4 with best cross_val_score: 0.13019412239861852\n",
      "\n",
      "\tBest Parameters: {'fit_intercept': True, 'normalize': False}\n",
      "\n",
      "\n",
      "----Final Performance----\n",
      "R2 Score: 18.38%\n",
      "\n",
      "MSE: 29660.44502161776\n",
      "\n",
      "RMSE:172.22208052865278\n",
      "\n",
      "MAE: 137.79683551278555\n",
      "\n",
      "BuildTime: 12.527491800000007\n",
      "\n",
      "END: LinearRegression\n",
      "\n",
      "\n",
      "\n",
      "START: Lasso\n",
      "\n",
      "\tBest random_state: 89 with best r2_score: 0.17728381708258223\n",
      "\n",
      "\tBest CV: 6 with best cross_val_score: 0.1316693126079199\n",
      "\n",
      "\tBest Parameters: {'alpha': 0.001, 'fit_intercept': True, 'selection': 'cyclic'}\n",
      "\n",
      "\n",
      "----Final Performance----\n",
      "R2 Score: 18.28%\n",
      "\n",
      "MSE: 28737.388324363015\n",
      "\n",
      "RMSE:169.52105569622617\n",
      "\n",
      "MAE: 136.89791350894578\n",
      "\n",
      "BuildTime: 52.950614200000004\n",
      "\n",
      "END: Lasso\n",
      "\n",
      "\n",
      "\n",
      "START: DecisionTreeRegressor\n",
      "\n",
      "\tBest random_state: 0 with best r2_score: 0\n",
      "\n",
      "\tBest CV: 6 with best cross_val_score: -0.5225453874101459\n",
      "\n",
      "\tBest Parameters: {'criterion': 'mse', 'splitter': 'random'}\n",
      "\n",
      "\n",
      "----Final Performance----\n",
      "R2 Score: -55.82%\n",
      "\n",
      "MSE: 57959.255458677995\n",
      "\n",
      "RMSE:240.7472854648168\n",
      "\n",
      "MAE: 175.68902302705118\n",
      "\n",
      "BuildTime: 29.419438999999997\n",
      "\n",
      "END: DecisionTreeRegressor\n",
      "\n",
      "\n",
      "\n",
      "START: KNeighborsRegressor\n",
      "\n",
      "\tBest random_state: 46 with best r2_score: 0.1676622479060199\n",
      "\n",
      "\tBest CV: 7 with best cross_val_score: 0.07400893529477437\n",
      "\n",
      "\tBest Parameters: {'algorithm': 'kd_tree', 'weights': 'distance'}\n",
      "\n",
      "\n",
      "----Final Performance----\n",
      "R2 Score: 18.75%\n",
      "\n",
      "MSE: 30485.43424321717\n",
      "\n",
      "RMSE:174.60078534536197\n",
      "\n",
      "MAE: 130.24638656154775\n",
      "\n",
      "BuildTime: 77.31575179999999\n",
      "\n",
      "END: KNeighborsRegressor\n",
      "\n",
      "\n",
      "\n"
     ]
    },
    {
     "data": {
      "text/html": [
       "<div>\n",
       "<style scoped>\n",
       "    .dataframe tbody tr th:only-of-type {\n",
       "        vertical-align: middle;\n",
       "    }\n",
       "\n",
       "    .dataframe tbody tr th {\n",
       "        vertical-align: top;\n",
       "    }\n",
       "\n",
       "    .dataframe thead th {\n",
       "        text-align: right;\n",
       "    }\n",
       "</style>\n",
       "<table border=\"1\" class=\"dataframe\">\n",
       "  <thead>\n",
       "    <tr style=\"text-align: right;\">\n",
       "      <th></th>\n",
       "      <th>Name</th>\n",
       "      <th>r2_score</th>\n",
       "      <th>cross_val_score</th>\n",
       "      <th>build_time(sec)</th>\n",
       "      <th>Difference</th>\n",
       "    </tr>\n",
       "  </thead>\n",
       "  <tbody>\n",
       "    <tr>\n",
       "      <th>0</th>\n",
       "      <td>LinearRegression</td>\n",
       "      <td>0.183840</td>\n",
       "      <td>0.130194</td>\n",
       "      <td>12.527492</td>\n",
       "      <td>0.053646</td>\n",
       "    </tr>\n",
       "    <tr>\n",
       "      <th>1</th>\n",
       "      <td>Lasso</td>\n",
       "      <td>0.182848</td>\n",
       "      <td>0.131669</td>\n",
       "      <td>52.950614</td>\n",
       "      <td>0.051179</td>\n",
       "    </tr>\n",
       "    <tr>\n",
       "      <th>2</th>\n",
       "      <td>DecisionTreeRegressor</td>\n",
       "      <td>-0.558217</td>\n",
       "      <td>-0.522545</td>\n",
       "      <td>29.419439</td>\n",
       "      <td>-0.035671</td>\n",
       "    </tr>\n",
       "    <tr>\n",
       "      <th>3</th>\n",
       "      <td>KNeighborsRegressor</td>\n",
       "      <td>0.187478</td>\n",
       "      <td>0.074009</td>\n",
       "      <td>77.315752</td>\n",
       "      <td>0.113469</td>\n",
       "    </tr>\n",
       "  </tbody>\n",
       "</table>\n",
       "</div>"
      ],
      "text/plain": [
       "                    Name  r2_score  cross_val_score  build_time(sec)  \\\n",
       "0       LinearRegression  0.183840         0.130194        12.527492   \n",
       "1                  Lasso  0.182848         0.131669        52.950614   \n",
       "2  DecisionTreeRegressor -0.558217        -0.522545        29.419439   \n",
       "3    KNeighborsRegressor  0.187478         0.074009        77.315752   \n",
       "\n",
       "   Difference  \n",
       "0    0.053646  \n",
       "1    0.051179  \n",
       "2   -0.035671  \n",
       "3    0.113469  "
      ]
     },
     "execution_count": 72,
     "metadata": {},
     "output_type": "execute_result"
    }
   ],
   "source": [
    "#Displaying model performance and comparing it to select the best model.\n",
    "model_names = []\n",
    "model_r2Scores = []\n",
    "model_cvScores = []\n",
    "model_buildTimes = []\n",
    "for i in build_models:\n",
    "    model = build_models[i]\n",
    "    print(f\"START: {i}\\n\")\n",
    "    print(f\"\\tBest random_state: {model['random_state']} with best r2_score: {model['initial_r2_score']}\\n\")\n",
    "    print(f\"\\tBest CV: {model['cv']} with best cross_val_score: {model['cross_val_score']}\\n\")\n",
    "    print(f\"\\tBest Parameters: {model['gscv'].best_params_}\\n\\n\")\n",
    "    print(f\"----Final Performance----\")\n",
    "    print(f\"R2 Score: {round(model['r2_score']*100,2)}%\\n\")\n",
    "    print(f\"MSE: {model['mse']}\\n\")\n",
    "    print(f\"RMSE:{model['rmse']}\\n\")\n",
    "    print(f\"MAE: {model['mae']}\\n\")\n",
    "    print(f\"BuildTime: {model['build_time']}\\n\")\n",
    "    print(f\"END: {i}\\n\\n\\n\")\n",
    "    \n",
    "    model_names.append(i)\n",
    "    model_r2Scores.append(model['r2_score'])\n",
    "    model_cvScores.append(model['cross_val_score'])\n",
    "    model_buildTimes.append(model['build_time'])\n",
    "    \n",
    "d_cmp = pd.DataFrame({\"Name\":model_names,\"r2_score\":model_r2Scores,\"cross_val_score\":model_cvScores,\"build_time(sec)\":model_buildTimes})\n",
    "d_cmp['Difference'] = d_cmp['r2_score']-d_cmp['cross_val_score']\n",
    "d_cmp"
   ]
  },
  {
   "cell_type": "markdown",
   "metadata": {},
   "source": [
    "### Remarks:\n",
    "- From about tested models, KNeighborsRegressor performs better with r2_score: 18.75% and cross_val_score: 0.07%."
   ]
  },
  {
   "cell_type": "markdown",
   "metadata": {},
   "source": [
    "# Model Saving or Serialization"
   ]
  },
  {
   "cell_type": "code",
   "execution_count": 73,
   "metadata": {},
   "outputs": [],
   "source": [
    "import joblib\n",
    "#Saving final model\n",
    "final_model = build_models['KNeighborsRegressor']\n",
    "filename = 'doctor_consultation_fee.obj'\n",
    "joblib.dump(final_model['gscv'].best_estimator_,open(filename,'wb'))"
   ]
  },
  {
   "cell_type": "markdown",
   "metadata": {},
   "source": [
    "# Conclusion"
   ]
  },
  {
   "cell_type": "code",
   "execution_count": 74,
   "metadata": {},
   "outputs": [
    {
     "data": {
      "image/png": "[encoded data removed]",
      "text/plain": [
       "<Figure size 432x288 with 1 Axes>"
      ]
     },
     "metadata": {
      "needs_background": "light"
     },
     "output_type": "display_data"
    }
   ],
   "source": [
    "#Ploting Original and Predicted data on scatterplot\n",
    "original = final_model['y_test']\n",
    "predict = final_model['predict_y']\n",
    "sns.scatterplot(original,predict)\n",
    "plt.title(\"Original vs Predicted\")\n",
    "plt.xlabel(\"Original\")\n",
    "plt.ylabel(\"Predicted\")\n",
    "plt.show()"
   ]
  },
  {
   "cell_type": "markdown",
   "metadata": {},
   "source": [
    "### Final Remarks:\n",
    "> Final model, KNeighborsRegressor performs with r2_score: 18.75% and cross_val_score: 0.07% and can be improved further by training with more specific data."
   ]
  },
  {
   "cell_type": "markdown",
   "metadata": {},
   "source": [
    "# Model Prediction for Test Data"
   ]
  },
  {
   "cell_type": "markdown",
   "metadata": {},
   "source": [
    "## Preprocessing Pipeline:\n",
    "\n",
    "- Load Test Dataset\n",
    "- Extract Informations from feature:\n",
    "    - Qualification (is_MS, is_MD, is_MF, is_MDS, is_MBBS, is_BDS, is_BAMS, is_BHMS, is_DNB, is_Diploma, is_BSc)\n",
    "    - Experience (n_Experience)\n",
    "    - Rating (n_Rating)\n",
    "    - Place (area_Place, city_Place)\n",
    "    - Miscellaneous_Info (n_Feedback)\n",
    "- Treat Null Values\n",
    "- Encode Discrete Features (useing LabelEncoder)\n",
    "- Remove Outliers using zscore\n",
    "- Treat skewness in contineous features using power_transform\n",
    "- Scale contineous feature data using StandardScaler\n",
    "- Load Serialized Model and Make Prediction for Test Data"
   ]
  },
  {
   "cell_type": "code",
   "execution_count": 75,
   "metadata": {},
   "outputs": [
    {
     "name": "stdout",
     "output_type": "stream",
     "text": [
      "Profile\n",
      "['Ayurveda' 'Dentist' 'Dermatologists' 'ENT Specialist' 'General Medicine'\n",
      " 'Homeopath']\n",
      "\n",
      "\n",
      "is_MS\n",
      "['No' 'Yes']\n",
      "\n",
      "\n",
      "is_MD\n",
      "['No' 'Yes']\n",
      "\n",
      "\n",
      "is_MF\n",
      "['No' 'Yes']\n",
      "\n",
      "\n",
      "is_MDS\n",
      "['No' 'Yes']\n",
      "\n",
      "\n",
      "is_MBBS\n",
      "['No' 'Yes']\n",
      "\n",
      "\n",
      "is_BDS\n",
      "['No' 'Yes']\n",
      "\n",
      "\n",
      "is_BAMS\n",
      "['No' 'Yes']\n",
      "\n",
      "\n",
      "is_BHMS\n",
      "['No' 'Yes']\n",
      "\n",
      "\n",
      "is_DNB\n",
      "['No' 'Yes']\n",
      "\n",
      "\n",
      "is_Diploma\n",
      "['No' 'Yes']\n",
      "\n",
      "\n",
      "is_BSc\n",
      "['No' 'Yes']\n",
      "\n",
      "\n",
      "area_Place\n",
      "['AS Rao Nagar' 'Abbigere' 'Abhiramapuram' 'Abids' 'Adambakkam'\n",
      " 'Adarsh Nagar' 'Adyar' 'Agaram' 'Alaknanda' 'Alipur' 'Aluva' 'Alwal'\n",
      " 'Alwarpet' 'Ambalamukku' 'Ambattur' 'Ameerpet' 'Aminjikarai' 'Anand Lok'\n",
      " 'Anand Vihar' 'Andheri' 'Andheri East' 'Andheri West' 'Angamaly'\n",
      " 'Anna Nagar' 'Anna Nagar East' 'Anna Nagar West' 'Arekere' 'Aroor'\n",
      " 'Arumbakkam' 'Ashok Nagar' 'Ashok Vihar' 'Attapur' 'August Kranti Marg'\n",
      " 'Aya Nagar' 'Ayanambakkam' 'Ayanavaram' 'Ayyappankavu' 'BHEL'\n",
      " 'BTM Layout' 'BTM Layout 1st Stage' 'BTM Layout 2nd Stage' 'Bachupally'\n",
      " 'Badarpur' 'Bakkarwala' 'Balanagar' 'Balapur' 'Bali Nagar' 'Balkampet'\n",
      " 'Banashankari' 'Banashankari 1st Stage' 'Banashankari 2nd Stage'\n",
      " 'Banashankari 3rd Stage' 'Banaswadi' 'Bandra East' 'Bandra West'\n",
      " 'Banjara Hills' 'Bannerghatta Road' 'Barkatpura' 'Basavanagudi'\n",
      " 'Basaveshwaranagar' 'Basheerbagh' 'Begum Bazar' 'Begumpet' 'Bellandur'\n",
      " 'Besant Nagar' 'Bhandup' 'Bhandup East' 'Bhandup West' 'Bhayandar East'\n",
      " 'Bhayandar West' 'Bhogal' 'Bilekahalli' 'Boduppal' 'Borivali East'\n",
      " 'Borivali West' 'Broadway' 'Burari' 'Byculla' 'CR Park' 'Chaitanyapuri'\n",
      " 'Chamarajpet' 'Champapet' 'Chanda Nagar' 'Chandni Chowk' 'Chandra Layout'\n",
      " 'Chandrayangutta' 'Charni Road' 'Chattarpur' 'Chembur' 'Chembur East'\n",
      " 'Cheranalloor' 'Chetpet' 'Chickpet' 'Chikkadpally' 'Chintal' 'Chintalmet'\n",
      " 'Choolai' 'Choolaimedu' 'Chromepet' 'Churchgate' 'Coimbatore Racecourse'\n",
      " 'Colaba' 'Cuffe Parade' 'Cunningham Road' 'Dadar' 'Dadar East'\n",
      " 'Dadar West' 'Dahisar East' 'Dahisar West' 'Darya Ganj' 'Defence Colony'\n",
      " 'Delhi' 'Delhi Cantonment' 'Dilshad Garden' 'Dilsukhnagar' 'Dindarpur'\n",
      " 'Domalguda' 'Domlur' 'Dommasandra' 'Dwarka' 'Dwarka Sector 12'\n",
      " 'Dwarka Sector 23' 'Dwarka Sector 3' 'Dwarka Sector 5' 'Dwarka Sector 6'\n",
      " 'ECR Road' 'East Marredpally' 'East Of Kailash' 'Ecil' 'Edapally'\n",
      " 'Edayarpalayam' 'Electronics City' 'Ernakulam' 'Erragadda' 'Frazer Town'\n",
      " 'Gachibowli' 'Gamdevi' 'Ganapathy' 'Gandhinagar' 'Gandhipuram'\n",
      " 'Ganesh Nagar' 'Ganganagar' 'Ghatkopar East' 'Ghatkopar West' 'Girgaon'\n",
      " 'Gopalapuram' 'Goregaon' 'Goregaon East' 'Goregaon West' 'Govandi'\n",
      " 'Grant Road' 'Greams Road' 'Greater Kailash' 'Greater Kailash Part 1'\n",
      " 'Greater Kailash Part 2' 'Green Park' 'Guduvanchery' 'Gujranwala Town'\n",
      " 'Gulabi Bagh' 'Gulmohar Park' 'HAL 2nd Stage' 'HBR Layout' 'HRBR Layout'\n",
      " 'HSR Layout' 'Habsiguda' 'Hari Nagar' 'Hasthinapuram' 'Hastsal'\n",
      " 'Hauz Khas' 'Hazrat Nizamuddin' 'Hebbal' 'Hegde Nagar' 'Hennur'\n",
      " 'Himayat Nagar' 'Hitech City' 'Hongasandra' 'Hope College' 'Horamavu'\n",
      " 'Hosur Road' 'Hyderguda' 'IP Extension' 'Inder Puri' 'Indiranagar'\n",
      " 'Iyyappanthangal' 'JB Nagar' 'JP Nagar' 'JP Nagar 1 Phase'\n",
      " 'JP Nagar 2 Phase' 'JP Nagar 3 Phase' 'JP Nagar 5 Phase'\n",
      " 'JP Nagar 6 Phase' 'JP Nagar 7 Phase' 'JP Nagar 9 Phase' 'Jafferkhanpet'\n",
      " 'Jakkur' 'Jalahalli' 'Janak Puri' 'Jangpura' 'Jayamahal' 'Jayanagar'\n",
      " 'Jayanagar 2 Block' 'Jayanagar 4 Block' 'Jayanagar 5 Block'\n",
      " 'Jayanagar 9 Block' 'Jeedimetla' 'Jeevanbhimanagar' 'Jhilmil Colony'\n",
      " 'Jogeshwari East' 'Jogeshwari West' 'Jubilee Hills' 'Juhu' 'KH Road'\n",
      " 'KK Nagar' 'KPHB' 'KR Puram' 'Kachiguda' 'Kadavanthra' 'Kadubeesanahalli'\n",
      " 'Kadugodi' 'Kaggadasapura' 'Kailash Colony' 'Kakkanad' 'Kalamassery'\n",
      " 'Kalapatti' 'Kalkaji' 'Kalkere' 'Kaloor' 'Kalu Sarai' 'Kalyan Nagar'\n",
      " 'Kamla Nagar' 'Kammana Halli' 'Kanakpura Road' 'Kanchanbagh'\n",
      " 'Kandanchavadi' 'Kandivali East' 'Kandivali West' 'Kanjoor' 'Kanjurmarg'\n",
      " 'Kapashera' 'Kapra' 'Karamana' 'Karapakkam' 'Karkhana' 'Kasturi nagar'\n",
      " 'Kattakada' 'Kattupakkam' 'Kaudiar' 'Kavundampalayam' 'Kazhakuttam'\n",
      " 'Keelkattalai' 'Kemps Corner' 'Kengeri' 'Khairatabad' 'Khanpur'\n",
      " 'Khar East' 'Khar West' 'Kilkattalai' 'Kilpauk' 'Kingsway Camp'\n",
      " 'Kirti Nagar' 'Kishanbagh' 'Kochi M.G.Road' 'Kodambakkam' 'Kodungaiyur'\n",
      " 'Kolathur' 'Kondapur' 'Koramangala' 'Koramangala 1 Block'\n",
      " 'Koramangala 4 Block' 'Koramangala 5 Block' 'Koramangala 7 Block'\n",
      " 'Koramangala 8 Block' 'Kothapet' 'Kottivakkam' 'Kotturpuram'\n",
      " 'Krishna Nagar' 'Kudlu' 'Kukatpally' 'Kumara Park West' 'Kumarapuram'\n",
      " 'Kumaraswamy Layout' 'Kundalahalli' 'Kurla' 'Kurla East' 'Kurla West'\n",
      " 'LB Nagar' 'Lajpat Nagar' 'Lajpat Nagar III' 'Laxmi Nagar' 'Lingampally'\n",
      " 'Lingarajapuram' 'Lower Parel' 'Madambakkam' 'Madandapuram' 'Madhapur'\n",
      " 'Madhavaram' 'Madhu Vihar' 'Madinaguda' 'Madipakkam' 'Mahalakshmi Layout'\n",
      " 'Mahavir Enclave' 'Mahim' 'Mahipalpur' 'Malabar Hill' 'Malad East'\n",
      " 'Malad West' 'Malakpet' 'Malkajgiri' 'Malleshpalya' 'Malleswaram'\n",
      " 'Malviya Nagar' 'Manapakkam' 'Manchavilakom' 'Mandaveli' 'Manikonda'\n",
      " 'Mansarover Garden' 'Marathahalli' 'Marine Drive' 'Marine Lines' 'Marol'\n",
      " 'Mathikere - BEL' 'Matunga' 'Matunga West' 'Mayur Vihar Ph-I'\n",
      " 'Mayur Vihar Ph-III' 'Mazgaon' 'Medavakkam' 'Meerpet' 'Mehdipatnam'\n",
      " 'Mehrauli' 'Millers Road' 'Mira Bhayandar' 'Mira Road' 'Miyapur'\n",
      " 'Model Town' 'Mogappair East' 'Mogappair West' 'Moosapet' 'Moosarambagh'\n",
      " 'Moti Nagar' 'Mugalivakkam' 'Mukherjee Nagar' 'Mulanthuruthy' 'Mulund'\n",
      " 'Mulund East' 'Mulund West' 'Mumbai Central' 'Munirka' 'Muvattupuzha'\n",
      " 'Mylapore' 'Nacharam' 'Nagarbhavi' 'Nagawara' 'Nagole' 'Najafgarh'\n",
      " 'Nallagandla' 'Nallakunta' 'Nandambakkam' 'Nandanam' 'Nanganallur'\n",
      " 'Nangloi' 'Nanjundapuram' 'Naraina Vihar' 'Narayanguda' 'Nariman Point'\n",
      " 'Navalur' 'Neb Sarai' 'Nedumangad' 'Nedumbassery' 'Neelankarai' 'Nemom'\n",
      " 'Neredmet' 'Nesapakkam' 'New Ashok Nagar' 'New BEL Road'\n",
      " 'New Friends Colony' 'New Rajendra Nagar' 'Nirman Vihar' 'Nizampet'\n",
      " 'Not_Known' 'Nungambakkam' 'OMR Road' 'Okhla' 'Old Airport Road'\n",
      " 'Old Rajendra Nagar' 'Oshiwara' 'Outer Ring Road' 'Padi'\n",
      " 'Padmanabhanagar' 'Padmarao Nagar' 'Pahar Ganj' 'Palam Colony'\n",
      " 'Palarivattom' 'Palghar' 'Pallikaranai' 'Palluruthy' 'Pammal'\n",
      " 'Panampilly Nagar' 'Panchsheel Park' 'Pappanaickenpalayam'\n",
      " 'Pappanaickenpudur' 'Paradise' 'Parel' 'Paschim Vihar' 'Patel Nagar'\n",
      " 'Patel Nagar East' 'Patel Nagar West' 'Patparganj' 'Pattabiram' 'Pattom'\n",
      " 'Peddar Road' 'Peelamedu' 'Peenya' 'Peeragarhi' 'Perambur'\n",
      " 'Periyanaickenpalayam' 'Periyar Nagar' 'Perumbakkam' 'Perungalathur'\n",
      " 'Perungudi' 'Perurkada' 'Pitampura' 'Pollachi' 'Poothotta' 'Porur'\n",
      " 'Powai' 'Prabhadevi' 'Pragathi Nagar' 'Prashant Vihar' 'Pratap Nagar'\n",
      " 'Preet Vihar' 'Punjabi Bagh' 'Punjagutta' 'Purasawakkam' 'Pusa Road'\n",
      " 'Qutab Institutional Area' 'R.S. Puram' 'RK Puram' 'RMV 2nd Stage'\n",
      " 'RT Nagar' 'Raja Annamalai Puram' 'Rajajinagar' 'Rajakilpakkam'\n",
      " 'Rajarajeshwarinagar' 'Rajouri Garden' 'Ramakrishna Puram'\n",
      " 'Ramamurthy Nagar' 'Ramanathapuram' 'Ramapuram' 'Ramesh Nagar' 'Ramnagar'\n",
      " 'Rani Bagh' 'Richmond Town' 'Rohini' 'Rohini Sector 20' 'Rohini Sector 3'\n",
      " 'Rohini Sector 7' 'Rohini West' 'SR Nagar' 'Sadashivanagar'\n",
      " 'Safdarjung Enclave' 'Safilguda' 'Sagar Road' 'Sahakaranagar'\n",
      " 'Saibaba Colony' 'Saidabad' 'Saidapet' 'Saket' 'Sakinaka' 'Sanath Nagar'\n",
      " 'Sanjay Nagar' 'Santacruz West' 'Santosh Nagar' 'Saravanampatti'\n",
      " 'Sarita Vihar' 'Sarjapur Road' 'Saroor Nagar' 'Sarvapriya Vihar'\n",
      " 'Sasthamangalam' 'Secunderabad' 'Seeranaickenpalayam' 'Selvapuram'\n",
      " 'Seshadripuram' 'Sewri' 'Shadipur' 'Shahdara' 'Shaikpet' 'Shakti Nagar'\n",
      " 'Shalimar Bagh' 'Shantinagar' 'Shastri Nagar' 'Shenoy Nagar'\n",
      " 'Shivaji Nagar' 'Sholinganallur' 'Siddhapudur' 'Singanallur' 'Sion'\n",
      " 'Sion East' 'Sion West' 'Somajiguda' 'South Extension 1'\n",
      " 'South Extension 2' 'Sreekaryam' 'Srinagar Colony' 'Sriniwaspuri'\n",
      " 'Srirampuram' 'Suchitra Circle' 'Sukhdev Vihar' 'Sultanpur'\n",
      " 'Sundarapuram' 'T Dasarahalli' 'T Nagar' 'Tagore Garden' 'Tambaram'\n",
      " 'Tambaram East' 'Tambaram West' 'Tardeo' 'Tarnaka' 'Tavarekere'\n",
      " 'Teynampet' 'Thanisandra' 'Thiruvanmiyur' 'Thiruvottiyur' 'Thoppumpady'\n",
      " 'Thoraipakkam' 'Thrikkakara' 'Thudiyalur' 'Tilak Nagar' 'Tis Hazari'\n",
      " 'Tolichowki' 'Tondiarpet' 'Trimulgherry' 'Triplicane' 'Tripunithura'\n",
      " 'Tuglakabad' 'Tv Thampanoor' 'Uday Park' 'Ullal Upanagara' 'Ulsoor'\n",
      " 'Uppal' 'Uppilipalayam' 'Uttarahalli' 'Vadapalani' 'Vadavalli'\n",
      " 'Vaduthala' 'Valasaravakkam' 'Vanagaram' 'Vanasthalipuram' 'Vanchiyur'\n",
      " 'Varthur' 'Vasant Kunj' 'Vasant Vihar' 'Vasundhra Enclave' 'Velachery'\n",
      " 'Velandipalayam' 'Vennala' 'Vidyanagar' 'Vidyaranyapura' 'Vijayanagar'\n",
      " 'Vijaynagar' 'Vijaynagar Colony' 'Vikas Nagar' 'Vikas Puri' 'Vikhroli'\n",
      " 'Vikhroli East' 'Vikhroli West' 'Vileparle' 'Vileparle East'\n",
      " 'Vileparle West' 'Villivakkam' 'Virugambakkam' 'Vishwas Nagar'\n",
      " 'Viveknagar' 'Vyasarpadi' 'Vyttila' 'Wadala' 'Warasiguda' 'Washermenpet'\n",
      " 'West Marredpally' 'West Of Chord Road' 'Whitefield' 'Wilson Garden'\n",
      " 'Worli' 'Yamuna Vihar' 'Yelahanka' 'Yelahanka New Town' 'Yellareddyguda'\n",
      " 'Yemalur' 'Yeshwanthpur' 'Yousufguda']\n",
      "\n",
      "\n",
      "city_Place\n",
      "['Bangalore' 'Chennai' 'Coimbatore' 'Delhi' 'Ernakulam' 'Hyderabad'\n",
      " 'Mumbai' 'Not_Known' 'Thiruvananthapuram']\n",
      "\n",
      "\n"
     ]
    }
   ],
   "source": [
    "#1. Loading Test Data\n",
    "df_ft = pd.read_excel('Final_Test.xlsx',sheet_name='Sheet1')\n",
    "\n",
    "#Copying dataset to anothor df object\n",
    "df_test = df_ft.copy()\n",
    "\n",
    "#2. Extracting Information\n",
    "\n",
    "##from Qualification\n",
    "x = 'Qualification'\n",
    "#Preparing list of degrees\n",
    "deg = ['MS','MD','MF','MDS','MBBS','BDS','BAMS','BHMS','DNB']\n",
    "pgd = ['PGD','Post Graduate','Diploma']\n",
    "bsc = ['BSc','B.Sc']\n",
    "\n",
    "#Seperating using deg first\n",
    "for i in deg:\n",
    "    temp = 'is_'+i\n",
    "    df_test[temp] = df_test[x].str.contains(i)\n",
    "    df_test[temp] = df_test[temp].apply(lambda x: 'Yes' if x==True else 'No')\n",
    "\n",
    "#Seperating using pgd\n",
    "for i in pgd:\n",
    "    df_test[i] = df_test[x].str.contains(i)\n",
    "    \n",
    "df_test['is_Diploma'] = df_test[pgd].any(axis=1)\n",
    "df_test.drop(columns=pgd,inplace=True)\n",
    "df_test['is_Diploma'] = df_test['is_Diploma'].apply(lambda x: 'Yes' if x==True else 'No')\n",
    "\n",
    "#Seperating using bsc\n",
    "for i in bsc:\n",
    "    df_test[i] = df_test[x].str.contains(i)\n",
    "    \n",
    "df_test['is_BSc'] = df_test[bsc].any(axis=1)\n",
    "df_test.drop(columns=bsc,inplace=True)\n",
    "df_test['is_BSc'] = df_test['is_BSc'].apply(lambda x: 'Yes' if x==True else 'No')\n",
    "\n",
    "##from Experience\n",
    "x='Experience'\n",
    "reg = '\\.*(\\d{0,9})\\.*'\n",
    "df_test['n_Experience']=df_test[x].str.extract(reg).astype('int64')\n",
    "\n",
    "##from Rating\n",
    "x='Rating'\n",
    "reg = '\\.*(\\d{0,9})\\.*'\n",
    "df_test['n_Rating']=df_test[x].str.extract(reg)\n",
    "\n",
    "##from Place\n",
    "x='Place'\n",
    "#Seperating feature Place into columns area_Place and city_Place\n",
    "temp_df = df_test[x].str.split(',',expand=True)\n",
    "df_test['area_Place'] = temp_df[0].str.strip()\n",
    "df_test['city_Place'] = temp_df[1].str.strip()\n",
    "\n",
    "##from Miscellaneous_Info\n",
    "#Extracting number of feedbacks from feature Miscellaneous_Info and storing it into column n_Feedback\n",
    "x='Miscellaneous_Info'\n",
    "reg = '\\.*(\\d{0,9})\\sFeedback\\.*'\n",
    "temp = df_test[x].str.extract(reg)\n",
    "df_test['n_Feedback'] = temp\n",
    "\n",
    "##Dropping Features\n",
    "df_test_new = df_test.drop(columns=['Qualification','Experience','Rating','Place','Miscellaneous_Info'])\n",
    "\n",
    "#3. Treating Null Values\n",
    "\n",
    "#Treating null values in n_Rating\n",
    "df_test_new['n_Rating'].replace(np.nan,0,inplace=True)\n",
    "\n",
    "#Treating null values in area_Place\n",
    "df_test_new['area_Place'].replace(np.nan,'Not_Known',inplace=True)\n",
    "\n",
    "#Treating null values in city_Place\n",
    "df_test_new['city_Place'].replace(np.nan,'Not_Known',inplace=True)\n",
    "\n",
    "#Treating null values in n_Feedback\n",
    "df_test_new['n_Feedback'].replace(np.nan,0,inplace=True)\n",
    "\n",
    "#Converting data type of feature n_Rating and n_Feedback to int type.\n",
    "df_test_new['n_Rating'] = df_test_new['n_Rating'].astype('int64')\n",
    "df_test_new['n_Feedback'] = df_test_new['n_Feedback'].astype('int64')\n",
    "\n",
    "#4. Encoding Features\n",
    "#Encoding categorical features\n",
    "cat_feature = df_test_new.columns[df_test_new.dtypes == object]\n",
    "le_test = {}\n",
    "encoded_value = {}\n",
    "for i in cat_feature:\n",
    "    le_test[i] = LabelEncoder()\n",
    "    encoded_value[i] = le_test[i].fit_transform(df_test_new[i])\n",
    "    print(i)\n",
    "    print(le_test[i].classes_)\n",
    "    print('\\n')\n",
    "    \n",
    "#Replacing encoded value\n",
    "df_test_enc = df_test_new.copy()\n",
    "for i in encoded_value:\n",
    "    df_test_enc[i]=encoded_value[i]\n",
    "    \n",
    "#5. Removing Outliers\n",
    "z = np.abs(df_test_enc)\n",
    "df_test_wo = df_test_enc[(z<=3).all(axis=1)]\n",
    "loss = (len(df_test)-len(df_test_wo))*100/len(df_test)\n",
    "if loss <= 5:\n",
    "    df_proceed = df_test_wo\n",
    "else:\n",
    "    df_proceed = df_test_enc\n",
    "    \n",
    "#6. Treating skewness in continueous features using power_transform\n",
    "cont_feature = df_proceed.columns[df_proceed.dtypes == 'int64']\n",
    "df_t = df_proceed.copy()\n",
    "for i in cont_feature:\n",
    "    if np.abs(df_t[i].skew()) > 0.5:\n",
    "        df_t[i] = power_transform(np.array(df_proceed[i]).reshape(-1,1))\n",
    "        \n",
    "#7. Scaling contineous feature data using StandardScaler\n",
    "sc_test = StandardScaler()\n",
    "x_test_scaled = df_t.copy()\n",
    "for i in cont_feature:\n",
    "    x_test_scaled[i] = sc_test.fit_transform(np.array(df_t[i]).reshape(-1,1))\n",
    "    \n"
   ]
  },
  {
   "cell_type": "markdown",
   "metadata": {},
   "source": [
    "#### 8. Loading Serialized Model and Making Prediction on Test Data"
   ]
  },
  {
   "cell_type": "code",
   "execution_count": 76,
   "metadata": {},
   "outputs": [
    {
     "data": {
      "text/html": [
       "<div>\n",
       "<style scoped>\n",
       "    .dataframe tbody tr th:only-of-type {\n",
       "        vertical-align: middle;\n",
       "    }\n",
       "\n",
       "    .dataframe tbody tr th {\n",
       "        vertical-align: top;\n",
       "    }\n",
       "\n",
       "    .dataframe thead th {\n",
       "        text-align: right;\n",
       "    }\n",
       "</style>\n",
       "<table border=\"1\" class=\"dataframe\">\n",
       "  <thead>\n",
       "    <tr style=\"text-align: right;\">\n",
       "      <th></th>\n",
       "      <th>Predicted_Data</th>\n",
       "    </tr>\n",
       "  </thead>\n",
       "  <tbody>\n",
       "    <tr>\n",
       "      <th>0</th>\n",
       "      <td>333.099778</td>\n",
       "    </tr>\n",
       "    <tr>\n",
       "      <th>1</th>\n",
       "      <td>422.086518</td>\n",
       "    </tr>\n",
       "    <tr>\n",
       "      <th>2</th>\n",
       "      <td>100.000000</td>\n",
       "    </tr>\n",
       "    <tr>\n",
       "      <th>3</th>\n",
       "      <td>267.794516</td>\n",
       "    </tr>\n",
       "    <tr>\n",
       "      <th>4</th>\n",
       "      <td>463.041456</td>\n",
       "    </tr>\n",
       "    <tr>\n",
       "      <th>...</th>\n",
       "      <td>...</td>\n",
       "    </tr>\n",
       "    <tr>\n",
       "      <th>1982</th>\n",
       "      <td>176.164164</td>\n",
       "    </tr>\n",
       "    <tr>\n",
       "      <th>1983</th>\n",
       "      <td>365.842164</td>\n",
       "    </tr>\n",
       "    <tr>\n",
       "      <th>1984</th>\n",
       "      <td>317.251390</td>\n",
       "    </tr>\n",
       "    <tr>\n",
       "      <th>1985</th>\n",
       "      <td>405.588010</td>\n",
       "    </tr>\n",
       "    <tr>\n",
       "      <th>1986</th>\n",
       "      <td>441.170735</td>\n",
       "    </tr>\n",
       "  </tbody>\n",
       "</table>\n",
       "<p>1987 rows × 1 columns</p>\n",
       "</div>"
      ],
      "text/plain": [
       "      Predicted_Data\n",
       "0         333.099778\n",
       "1         422.086518\n",
       "2         100.000000\n",
       "3         267.794516\n",
       "4         463.041456\n",
       "...              ...\n",
       "1982      176.164164\n",
       "1983      365.842164\n",
       "1984      317.251390\n",
       "1985      405.588010\n",
       "1986      441.170735\n",
       "\n",
       "[1987 rows x 1 columns]"
      ]
     },
     "execution_count": 76,
     "metadata": {},
     "output_type": "execute_result"
    }
   ],
   "source": [
    "model_file_name = 'doctor_consultation_fee.obj'\n",
    "loaded_model = joblib.load(model_file_name)\n",
    "\n",
    "#Predicting Test Data\n",
    "predict_test = loaded_model.predict(x_test_scaled)\n",
    "\n",
    "#Displaying Predicted Data\n",
    "pred_t = pd.DataFrame({\"Predicted_Data\": predict_test})\n",
    "pred_t"
   ]
  },
  {
   "cell_type": "code",
   "execution_count": 77,
   "metadata": {},
   "outputs": [],
   "source": [
    "## Saving predicted data to .csv file\n",
    "pred_t.to_csv('predicted_test_data.csv')"
   ]
  }
 ],
 "metadata": {
  "kernelspec": {
   "display_name": "Python 3",
   "language": "python",
   "name": "python3"
  },
  "language_info": {
   "codemirror_mode": {
    "name": "ipython",
    "version": 3
   },
   "file_extension": ".py",
   "mimetype": "text/x-python",
   "name": "python",
   "nbconvert_exporter": "python",
   "pygments_lexer": "ipython3",
   "version": "3.8.3"
  }
 },
 "nbformat": 4,
 "nbformat_minor": 4
}
